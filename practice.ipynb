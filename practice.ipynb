{
 "cells": [
  {
   "cell_type": "code",
   "execution_count": 1,
   "metadata": {
    "collapsed": false
   },
   "outputs": [
    {
     "name": "stderr",
     "output_type": "stream",
     "text": [
      "  0.00s This is LAF-Fabric 4.5.5\n",
      "API reference: http://laf-fabric.readthedocs.org/en/latest/texts/API-reference.html\n",
      "Feature doc: https://shebanq.ancient-data.org/static/docs/featuredoc/texts/welcome.html\n",
      "\n"
     ]
    }
   ],
   "source": [
    "import sys, os, csv\n",
    "import collections\n",
    "import subprocess\n",
    "\n",
    "from lxml import etree\n",
    "\n",
    "%load_ext autoreload\n",
    "%autoreload 2\n",
    "import laf\n",
    "from laf.fabric import LafFabric\n",
    "from etcbc.preprocess import prepare\n",
    "from etcbc.lib import Transcription, monad_set\n",
    "from etcbc.mql import MQL\n",
    "fabric = LafFabric()"
   ]
  },
  {
   "cell_type": "code",
   "execution_count": 2,
   "metadata": {
    "collapsed": false
   },
   "outputs": [
    {
     "name": "stderr",
     "output_type": "stream",
     "text": [
      "  0.00s LOADING API: please wait ... \n",
      "  0.00s DETAIL: COMPILING m: UP TO DATE\n",
      "  0.00s INFO: USING DATA COMPILED AT: 2015-11-02T15-08-56\n",
      "  0.00s DETAIL: COMPILING a: UP TO DATE\n",
      "  0.01s DETAIL: load main: G.node_anchor_min\n",
      "  0.14s DETAIL: load main: G.node_anchor_max\n",
      "  0.26s DETAIL: load main: G.node_sort\n",
      "  0.37s DETAIL: load main: G.node_sort_inv\n",
      "  0.85s DETAIL: load main: G.edges_from\n",
      "  0.98s DETAIL: load main: G.edges_to\n",
      "  1.12s DETAIL: load main: F.etcbc4_db_otype [node] \n",
      "  2.04s DETAIL: load main: F.etcbc4_ft_function [node] \n",
      "  2.17s DETAIL: load main: F.etcbc4_ft_g_cons [node] \n",
      "  2.38s DETAIL: load main: F.etcbc4_ft_gn [node] \n",
      "  2.54s DETAIL: load main: F.etcbc4_ft_lex [node] \n",
      "  2.75s DETAIL: load main: F.etcbc4_ft_ls [node] \n",
      "  2.96s DETAIL: load main: F.etcbc4_ft_nu [node] \n",
      "  3.17s DETAIL: load main: F.etcbc4_ft_prs [node] \n",
      "  3.50s DETAIL: load main: F.etcbc4_ft_ps [node] \n",
      "  3.77s DETAIL: load main: F.etcbc4_ft_txt [node] \n",
      "  3.85s DETAIL: load main: F.etcbc4_sft_book [node] \n",
      "  3.88s DETAIL: load main: F.etcbc4_sft_chapter [node] \n",
      "  3.90s DETAIL: load main: F.etcbc4_sft_label [node] \n",
      "  3.95s DETAIL: load main: F.etcbc4_ft_functional_parent [e] \n",
      "  4.24s DETAIL: load main: C.etcbc4_ft_functional_parent -> \n",
      "  5.31s DETAIL: load main: C.etcbc4_ft_functional_parent <- \n",
      "  5.81s LOGFILE=/Users/dirk/SURFdrive/laf-fabric-output/etcbc4b/mql/__log__mql.txt\n",
      "  5.81s DETAIL: prep prep: G.node_sort\n",
      "  5.93s DETAIL: prep prep: G.node_sort_inv\n",
      "  6.50s DETAIL: prep prep: L.node_up\n",
      "    10s DETAIL: prep prep: L.node_down\n",
      "    18s ETCBC reference: http://laf-fabric.readthedocs.org/en/latest/texts/ETCBC-reference.html\n",
      "  0.00s LOADING API with EXTRAs: please wait ... \n",
      "  0.00s DETAIL: COMPILING m: UP TO DATE\n",
      "  0.00s INFO: USING DATA COMPILED AT: 2015-11-02T15-08-56\n",
      "  0.00s DETAIL: COMPILING a: UP TO DATE\n",
      "  0.01s DETAIL: keep main: G.node_anchor_min\n",
      "  0.01s DETAIL: keep main: G.node_anchor_max\n",
      "  0.01s DETAIL: keep main: G.node_sort\n",
      "  0.01s DETAIL: keep main: G.node_sort_inv\n",
      "  0.01s DETAIL: keep main: G.edges_from\n",
      "  0.01s DETAIL: keep main: G.edges_to\n",
      "  0.01s DETAIL: keep main: F.etcbc4_db_otype [node] \n",
      "  0.01s DETAIL: keep main: F.etcbc4_sft_book [node] \n",
      "  0.01s DETAIL: keep main: F.etcbc4_sft_chapter [node] \n",
      "  0.01s DETAIL: load main: F.etcbc4_ft_number [node] \n",
      "  0.67s DETAIL: load main: F.etcbc4_sft_verse [node] \n",
      "  0.68s INFO: DATA LOADED FROM SOURCE etcbc4b AND ANNOX -- FOR TASK mql AT 2015-12-17T15-26-27\n",
      "  0.00s INFO: DATA LOADED FROM SOURCE etcbc4b AND ANNOX -- FOR TASK mql AT 2015-12-17T15-26-27\n"
     ]
    },
    {
     "ename": "AttributeError",
     "evalue": "'Bunch' object has no attribute 'oid'",
     "output_type": "error",
     "traceback": [
      "\u001b[0;31m---------------------------------------------------------------------------\u001b[0m",
      "\u001b[0;31mAttributeError\u001b[0m                            Traceback (most recent call last)",
      "\u001b[0;32m<ipython-input-2-bb15db1088df>\u001b[0m in \u001b[0;36m<module>\u001b[0;34m()\u001b[0m\n\u001b[1;32m     11\u001b[0m }, verbose='DETAIL')\n\u001b[1;32m     12\u001b[0m \u001b[0mexec\u001b[0m\u001b[0;34m(\u001b[0m\u001b[0mfabric\u001b[0m\u001b[0;34m.\u001b[0m\u001b[0mlocalnames\u001b[0m\u001b[0;34m.\u001b[0m\u001b[0mformat\u001b[0m\u001b[0;34m(\u001b[0m\u001b[0mvar\u001b[0m\u001b[0;34m=\u001b[0m\u001b[0;34m'fabric'\u001b[0m\u001b[0;34m)\u001b[0m\u001b[0;34m)\u001b[0m\u001b[0;34m\u001b[0m\u001b[0m\n\u001b[0;32m---> 13\u001b[0;31m \u001b[0mQ\u001b[0m \u001b[0;34m=\u001b[0m \u001b[0mMQL\u001b[0m\u001b[0;34m(\u001b[0m\u001b[0mAPI\u001b[0m\u001b[0;34m)\u001b[0m\u001b[0;34m\u001b[0m\u001b[0m\n\u001b[0m",
      "\u001b[0;32m/Users/dirk/anaconda/lib/python3.4/site-packages/etcbc/mql.py\u001b[0m in \u001b[0;36m__init__\u001b[0;34m(self, API)\u001b[0m\n\u001b[1;32m     30\u001b[0m                 \u001b[0;32mfor\u001b[0m \u001b[0mcuro\u001b[0m \u001b[0;32min\u001b[0m \u001b[0mcur_object\u001b[0m\u001b[0;34m.\u001b[0m\u001b[0mvalues\u001b[0m\u001b[0;34m(\u001b[0m\u001b[0;34m)\u001b[0m\u001b[0;34m:\u001b[0m\u001b[0;34m\u001b[0m\u001b[0m\n\u001b[1;32m     31\u001b[0m                     \u001b[0mMQL\u001b[0m\u001b[0;34m.\u001b[0m\u001b[0mobject2words\u001b[0m\u001b[0;34m.\u001b[0m\u001b[0msetdefault\u001b[0m\u001b[0;34m(\u001b[0m\u001b[0mcuro\u001b[0m\u001b[0;34m,\u001b[0m \u001b[0;34m[\u001b[0m\u001b[0;34m]\u001b[0m\u001b[0;34m)\u001b[0m\u001b[0;34m.\u001b[0m\u001b[0mappend\u001b[0m\u001b[0;34m(\u001b[0m\u001b[0mn\u001b[0m\u001b[0;34m)\u001b[0m\u001b[0;34m\u001b[0m\u001b[0m\n\u001b[0;32m---> 32\u001b[0;31m             \u001b[0mMQL\u001b[0m\u001b[0;34m.\u001b[0m\u001b[0mindex2node\u001b[0m\u001b[0;34m[\u001b[0m\u001b[0mF\u001b[0m\u001b[0;34m.\u001b[0m\u001b[0moid\u001b[0m\u001b[0;34m.\u001b[0m\u001b[0mv\u001b[0m\u001b[0;34m(\u001b[0m\u001b[0mn\u001b[0m\u001b[0;34m)\u001b[0m\u001b[0;34m]\u001b[0m \u001b[0;34m=\u001b[0m \u001b[0mn\u001b[0m\u001b[0;34m\u001b[0m\u001b[0m\n\u001b[0m\u001b[1;32m     33\u001b[0m             \u001b[0mMQL\u001b[0m\u001b[0;34m.\u001b[0m\u001b[0mnode2verse\u001b[0m\u001b[0;34m[\u001b[0m\u001b[0mn\u001b[0m\u001b[0;34m]\u001b[0m \u001b[0;34m=\u001b[0m \u001b[0mcur_object\u001b[0m\u001b[0;34m.\u001b[0m\u001b[0mget\u001b[0m\u001b[0;34m(\u001b[0m\u001b[0;34m'verse'\u001b[0m\u001b[0;34m,\u001b[0m \u001b[0;32mNone\u001b[0m\u001b[0;34m)\u001b[0m\u001b[0;34m\u001b[0m\u001b[0m\n\u001b[1;32m     34\u001b[0m             \u001b[0mMQL\u001b[0m\u001b[0;34m.\u001b[0m\u001b[0mnode2sentence\u001b[0m\u001b[0;34m[\u001b[0m\u001b[0mn\u001b[0m\u001b[0;34m]\u001b[0m \u001b[0;34m=\u001b[0m \u001b[0mcur_object\u001b[0m\u001b[0;34m.\u001b[0m\u001b[0mget\u001b[0m\u001b[0;34m(\u001b[0m\u001b[0;34m'sentence'\u001b[0m\u001b[0;34m,\u001b[0m \u001b[0;32mNone\u001b[0m\u001b[0;34m)\u001b[0m\u001b[0;34m\u001b[0m\u001b[0m\n",
      "\u001b[0;31mAttributeError\u001b[0m: 'Bunch' object has no attribute 'oid'"
     ]
    }
   ],
   "source": [
    "API=fabric.load('etcbc4b', '--', 'mql', {\n",
    "    \"xmlids\": {\"node\": False, \"edge\": False},\n",
    "    \"features\": ('''\n",
    "        otype nu ps gn prs ls lex g_cons\n",
    "        function txt\n",
    "        book chapter label\n",
    "    ''',\n",
    "    ''' functional_parent\n",
    "    '''),\n",
    "    \"prepare\": prepare,\n",
    "}, verbose='DETAIL')\n",
    "exec(fabric.localnames.format(var='fabric'))\n",
    "Q = MQL(API)"
   ]
  },
  {
   "cell_type": "code",
   "execution_count": null,
   "metadata": {
    "collapsed": true
   },
   "outputs": [],
   "source": []
  }
 ],
 "metadata": {
  "kernelspec": {
   "display_name": "Python 3",
   "language": "python",
   "name": "python3"
  },
  "language_info": {
   "codemirror_mode": {
    "name": "ipython",
    "version": 3
   },
   "file_extension": ".py",
   "mimetype": "text/x-python",
   "name": "python",
   "nbconvert_exporter": "python",
   "pygments_lexer": "ipython3",
   "version": "3.4.3"
  }
 },
 "nbformat": 4,
 "nbformat_minor": 0
}
