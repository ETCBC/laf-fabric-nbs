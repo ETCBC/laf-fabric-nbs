{
 "cells": [
  {
   "cell_type": "markdown",
   "metadata": {},
   "source": [
    "# Het Viterbi algoritme toegepast op participant wisselingen in de Psalmen"
   ]
  },
  {
   "cell_type": "markdown",
   "metadata": {},
   "source": [
    "### Bronnen die ik gebruikt heb om dit idee uit te werken: \n",
    "\n",
    "http://www.cs.columbia.edu/~mcollins/ - \"Hidden Markov models and tagging (sequence labeling) problems\"\n",
    "\n",
    "http://www.nltk.org/_modules/nltk/parse/viterbi.html#ViterbiParser\n",
    "\n",
    "http://stackoverflow.com/questions/9729968/python-implementation-of-viterbi-algorithm \n",
    "\n",
    "Source of code below: https://en.wikipedia.org/wiki/Viterbi_algorithm"
   ]
  },
  {
   "cell_type": "markdown",
   "metadata": {},
   "source": [
    "### Inleiding\n",
    "Gegeven is de volgende voorbeeld code, geschreven om de kans op een bepaalde reeks van 'hidden states' (gezond of ongezond) te achterhalen. De observaties zijn 'normaal', 'koud', of 'duizelig'. In onderstaande kernels geef ik aan hoe ik het Viterbi algoritme toegepast zou zien op participant wisselingen (PNG) in de Psalmen. Omdat er voorbereidende (kans)berekeningen gedaan dienen te worden, met bijbehorende code, beschrijf ik aan het einde van deze notebook een aantal (methodische) vragen. "
   ]
  },
  {
   "cell_type": "markdown",
   "metadata": {},
   "source": [
    "### Toepassing"
   ]
  },
  {
   "cell_type": "code",
   "execution_count": 2,
   "metadata": {
    "collapsed": true
   },
   "outputs": [],
   "source": [
    "states = ('Healthy', 'Fever') \n",
    "'''Verborgen maar expliciete subjecten, objecten of complementen, dat is een voorgegeven set in de Psalmen.''' \n",
    "\n",
    "observations = ('normal', 'cold', 'dizzy') \n",
    "'''De observaties in een clause/sentence zijn in het geval van de Psalmen:\n",
    "['1Csg']\n",
    "['1Csg']\n",
    "['1Cpl']\n",
    "['2Msg']\n",
    "['2Fsg']\n",
    "['2Mpl']\n",
    "['2Fpl']\n",
    "['3Msg']\n",
    "['3Msg']\n",
    "['3Fsg']\n",
    "['3Mpl']\n",
    "['3Mpl']\n",
    "['3Mpl']           \n",
    "['3Fpl']\n",
    "['3Fpl']\n",
    "['absent']\n",
    "['n/a']\n",
    "Om het model eenvoudiger te maken, kan in eerste instantie uitgegaan worden van bijvoorbeeld 1e, 2e en 3e persoon. \n",
    "Daarna kan eventueel getest worden met ingewikkelder 'observaties', i.e. 1Csg of 3Mpl. \n",
    "Hier kunnen (al dan niet geautomatiseerd) reeksen van PNG wisselingen uit een clause/sentence/tekst ingevoerd worden, \n",
    "om zo de kans op bepaalde verborgen participanten ('states') te bepalen.\n",
    "'''\n",
    "\n",
    "start_probability = {'Healthy': 0.6, 'Fever': 0.4}\n",
    "'''Dit is de start kans op een bepaald expliciet subject of object in een clause/sentence.'''\n",
    "\n",
    "transition_probability = {\n",
    "'Healthy' : {'Healthy': 0.7, 'Fever': 0.3},\n",
    "'Fever' : {'Healthy': 0.4, 'Fever': 0.6}\n",
    "    }\n",
    "'''Dit is de overgangskans van een bepaald subject naar een ander subject in een clause/sentence. \n",
    "Dit geldt ook voor objecten.'''\n",
    "\n",
    "emission_probability = {\n",
    "'Healthy' : {'normal': 0.5, 'cold': 0.4, 'dizzy': 0.1},\n",
    "'Fever' : {'normal': 0.1, 'cold': 0.3, 'dizzy': 0.6}\n",
    "    }\n",
    "'''Dit geeft de kans aan op een bepaalde persoonvorm bij een bepaald subject. \n",
    "Bijvoorbeeld: als de verborgen staat \"YHWH\" is dan is de kans op 1e persoon 0.6.'''"
   ]
  },
  {
   "cell_type": "code",
   "execution_count": 5,
   "metadata": {
    "collapsed": false
   },
   "outputs": [],
   "source": [
    "def viterbi(obs, states, start_p, trans_p, emit_p):\n",
    "    V = [{}]\n",
    "    for i in states:\n",
    "        V[0][i] = start_p[i]*emit_p[i][obs[0]]\n",
    "    # Run Viterbi when t > 0\n",
    "    for t in range(1, len(obs)):\n",
    "        V.append({})\n",
    "        for y in states:\n",
    "            prob = max(V[t - 1][y0]*trans_p[y0][y]*emit_p[y][obs[t]] for y0 in states)\n",
    "            V[t][y] = prob\n",
    "    for i in dptable(V):\n",
    "        print(i)\n",
    "    opt = []\n",
    "    for j in V:\n",
    "        for x, y in j.items():\n",
    "            if j[x] == max(j.values()):\n",
    "                opt.append(x)\n",
    "    # The highest probability\n",
    "    h = max(V[-1].values())\n",
    "    print('The steps of states are ' + ' '.join(opt) + ' with highest probability of %s'%h)\n",
    "\n",
    "def dptable(V):\n",
    "    # Print a table of steps from dictionary\n",
    "    yield \" \".join((\"%10d\" % i) for i in range(len(V)))\n",
    "    for y in V[0]:\n",
    "        yield \"%.7s: \" % y+\" \".join(\"%.7s\" % (\"%f\" % v[y]) for v in V)"
   ]
  },
  {
   "cell_type": "code",
   "execution_count": 6,
   "metadata": {
    "collapsed": false
   },
   "outputs": [
    {
     "name": "stdout",
     "output_type": "stream",
     "text": [
      "         0          1          2\n",
      "Healthy: 0.30000 0.08400 0.00588\n",
      "Fever: 0.04000 0.02700 0.01512\n",
      "The steps of states are Healthy Healthy Fever with highest probability of 0.01512\n"
     ]
    }
   ],
   "source": [
    "viterbi(observations,\n",
    "                   states,\n",
    "                   start_probability,\n",
    "                   transition_probability,\n",
    "                   emission_probability)"
   ]
  },
  {
   "cell_type": "markdown",
   "metadata": {},
   "source": [
    "### Een beetje theorie\n",
    "\n",
    "De analyse van de PNG wisselingen bevindt zich op het snijvlak van syntax en semantiek. Geen van de bestaande grammatica's besteed serieus aandacht aan PNG wisselingen omdat de identificatie van patronen en uiteindelijk participanten het clause niveau ontstijgt. De meeste grammatica's stoppen bij het clause niveau. De analyse van enkele persoon, geslacht, getal kenmerken op clause niveau is snel gedaan, de identificatie vindt plaats op sentence, verse niveau of zelfs pas in alinea's, of teksten in het geheel. Bij die laatse stap, de identificatie, komt 'kennis van de wereld', van de tekst-context kijken. \n",
    "\n",
    "Dat laatste is belangrijk omdat iemand die een tekst probeert te begrijpen de meest waarschijnlijke analyse van participanten probeert waar te nemen, op basis van de frequenties die hij/zij eerder heeft waargenomen in de analyse van eerdere participantwisselingen in andere teksten (vrij naar: Rens Bod, Beyond Grammar, 1998). De lezer maakt een analyse op basis van een 'kansberekening'. De lezer maakt een inschatting van wat de beste identificatie is. \n",
    "\n",
    "Nu wil ik met mijn onderzoek het verstaansproces van een lezer niet nabootsen. De gedachte echter dat een lezer een kansinschatting maakt van wat mogelijkerwijs de beste identificatie van een participant is, op basis van eerder tegengekomen reeksen van participanten (lees: patronen van PNG wisselingen) is waardevol. \n",
    "\n",
    "Wil een lezer een goede kansinschatting maken dan heeft hij de juiste informatie nodig. In de Psalmen is veel informatie reeds gegeven. Er zijn explicitiete subjecten en objecten (zie onder), er zijn een N, Q, en D domeinen, er is taalkundige data zoals persoon, geslacht, getal kenmerken.\n",
    "\n",
    "Met name de combinatie van informatie over expliciete subjecten (en expliciete objecten, voor zover je daar over kunt spreken) kan toegepast worden in het Viterbi algoritme."
   ]
  },
  {
   "cell_type": "markdown",
   "metadata": {
    "collapsed": true
   },
   "source": [
    "Met R > summary(data2$subj). Onderstaande samenvatting geeft de meest voorkomende subjecten weer voor de Psalmen. \n",
    "\n",
    "          _        JHWH         >TH         >NJ       >LHJM        NPCJ          MJ \n",
    "       3589          93          58          36          30          24          22 \n",
    "        HW>         LBJ         HMH       RC<JM       H_>RY        <JNJ       JFR>L \n",
    "         20          19          15          14          12          10          10 \n",
    "      JMJNK          KL          >C        >DNJ        GWJM        HRJM         MJM \n",
    "          9           9           8           8           8           8           8 \n",
    "         PJ         >DM        >WJB         JDK        <MJM         >RY        YDJQ \n",
    "          8           7           7           7           6           6           6 \n",
    "       ZDJM        <YMJ          >L       >WJBJ        RWXJ        XSDK      YDJQJM \n",
    "          6           5           5           5           5           5           5 \n",
    "      <NWJM        >JBJ         >JC       >NXNW        CMJM        FPTJ          JH \n",
    "          4           4           4           4           4           4           4 \n",
    "    KL_GWJM KL_P<LJ_>WN         KXJ       LCWNJ       NHRWT       NPCNW         RC< \n",
    "          4           4           4           4           4           4           4 \n",
    "       RGLJ       TPLTJ        <BDK       <JNJW        BFRJ        BNJW         CMW \n",
    "          4           4           3           3           3           3           3 \n",
    "      H_MLK        J<QB       JCRJM KL_>PSJ_>RY         KLM       LBBKM        LJLH \n",
    "          3           3           3           3           3           3           3 \n",
    "       NPCM        NPCW        XSDW         YRJ         Z>T        ZR<W         <CN \n",
    "          3           3           3           3           3           3           2 \n",
    "      <FJHM       <JNJK         <MJ    <MJM_KLM       <WNTJ     >BWTJNW       >JBJK \n",
    "          2           2           2           2           2           2           2 \n",
    "   >K_>LHJM    >KLJ_<MJ       >MRTK        >NKJ        >NWC     >P_JHWH      >WJBJK \n",
    "          2           2           2           2           2           2           2 \n",
    "    BNJ_NKR        BNJK        BNJM  BNWT_JHWDH        DBRW        FRJM       GXLJM \n",
    "          2           2           2           2           2           2           2 \n",
    "      H_CMC      H_CMJM      H_GWJM        H_JM H_JM_W_ML>W         JDJ      JDJDJK \n",
    "          2           2           2           2           2           2           2 \n",
    "      JR>JK     (Other) \n",
    "          2         581 \n",
    "          "
   ]
  },
  {
   "cell_type": "markdown",
   "metadata": {},
   "source": [
    "Met R > summary(data2$obj). Onderstaande samenvatting geeft de meest voorkomende objecten weer voor de Psalmen. \n",
    "\n",
    "                        _                      NPCJ                        JH \n",
    "                     3212                        39                        30 \n",
    "                  >T_JHWH                      JHWH                      PNJK \n",
    "                       24                        18                        18 \n",
    "                      CMK                       >RY                     TWRTK \n",
    "                       17                        13                        13 \n",
    "                     XQJK                     TPLTJ                       VWB \n",
    "                       12                        10                        10 \n",
    "                     <MJM                      >ZNK                        MH \n",
    "                        8                         8                         8 \n",
    "                   PQWDJK                      XSDK                       <MW \n",
    "                        8                         8                         7 \n",
    "                    >LHJM                       YDQ                     <DTJK \n",
    "                        7                         7                         6 \n",
    "                       <Z                     >MRTK                   CJR_XDC \n",
    "                        6                         6                         6 \n",
    "                    H_>RY                        KL                       LBJ \n",
    "                        6                         6                         6 \n",
    "                   MYWTJK                      PNJW                      QWLJ \n",
    "                        6                         6                         6 \n",
    "                       R<                       RC<                     YDQTK \n",
    "                        6                         6                         6 \n",
    "                      Z>T                       <MK                        >L \n",
    "                        6                         5                         5 \n",
    "               >T_CM_JHWH                     BRJTW                       CMW \n",
    "                        5                         5                         5 \n",
    "                      CW>                      DRKJ                      DRKK \n",
    "                        5                         5                         5 \n",
    "                     GWJM                       KPJ                      MCPV \n",
    "                        5                         5                         5 \n",
    "                     NDRJ                      RGLJ                       TBL \n",
    "                        5                         5                         5 \n",
    "                      XJL                        ZH                      <BDK \n",
    "                        5                         5                         4 \n",
    "                     <JNJ                       <ZK                       >LH \n",
    "                        4                         4                         4 \n",
    "                      >WN                      CLWM                     LCWNM \n",
    "                        4                         4                         4 \n",
    "                   MCPVJK                       MJM                     PQDJK \n",
    "                        4                         4                         4 \n",
    "               QWL_TXNWNJ                       R<H                       R>C \n",
    "                        4                         4                         4 \n",
    "XSDW_W_NPL>WTJW_L_BNJ_>DM                      YJWN                       <JR \n",
    "                        4                         4                         3 \n",
    "                      <NJ                     <NWJM                       <WN \n",
    "                        3                         3                         3 \n",
    "                    >BJWN                       >TW                      >WTM \n",
    "                        3                         3                         3 \n",
    "                      >XT                       CKM                      CMJM \n",
    "                        3                         3                         3 \n",
    "                      CQR                       DBR                      DBRK \n",
    "                        3                         3                         3 \n",
    "                     DBRW                       JDJ                       JDK \n",
    "                        3                         3                         3 \n",
    "                       JM                  KBWD_CMW                      KS>W \n",
    "                        3                         3                         3 \n",
    "                     LBBJ                       LBM                       LXM \n",
    "                        3                         3                         3 \n",
    "                   MJCRJM                     MLKJM                      NPCM \n",
    "                        3                         3                         3 \n",
    "                     NPCW                        PJ                      PJHM \n",
    "                        3                         3                         3 \n",
    "                       PX                       QRN                     THLTK \n",
    "                        3                         3                         3 \n",
    "                      XCK                      XRPH                      YDJQ \n",
    "                        3                         3                         3 \n",
    "                  (Other) \n",
    "                     1049 "
   ]
  },
  {
   "cell_type": "markdown",
   "metadata": {},
   "source": [
    "Met R > summary(data2$cmpl). Onderstaande samenvatting geeft de meest voorkomende complementen weer voor de Psalmen. \n",
    "\n",
    "           _           LJ       L_JHWH          <LJ           LK         >LJK           LW \n",
    "        3256           65           51           45           41           31           30 \n",
    "        MMNJ           BW           BK          LHM      >L_JHWH           BJ       B_JHWH \n",
    "          24           22           21           20           18           18           16 \n",
    "         LNW          >LJ          LMW      L_>LHJM       L_PNJK       L_PNJW        <LJHM \n",
    "          16           14           14           12           10            9            8 \n",
    "        MMNW         <LJK        <LJNW         <LJW         >LJW      B__GWJM      B_>LHJM \n",
    "           8            7            7            7            7            7            7 \n",
    "         BHM       M_CMJM       L__>RY       L_C>WL        B_CMK        B_LBW           BM \n",
    "           7            7            6            6            5            5            5 \n",
    "       L_<MW      L_<ZRTJ        L_CMK        L_DWD          MMK          <MW           BH \n",
    "           5            5            5            5            5            4            4 \n",
    "    L_CKNJNW       L_NPCJ           LH        M_>RY        M_MWT      <L_JHWH        <LJMW \n",
    "           4            4            4            4            4            3            3 \n",
    "     B__<MJM        B__>C       B__>RY      B__MDBR       B_>HLK       B_>MTK     B_JCW<TK \n",
    "           3            3            3            3            3            3            3 \n",
    "       B_LBJ        B_LBM       B_XQJK      B_YDQTK   B_YL_KNPJK       L__<PR       L_<BDK \n",
    "           3            3            3            3            3            3            3 \n",
    "      L_DBRK        L_MCH   L_PNJ_JHWH       M_<WNJ         M_R<      M_TWRTK          MNJ \n",
    "           3            3            3            3            3            3            3 \n",
    "     <D_>DWM      <L_<BDK      <L_>DWM      <L_CMJM     <L_H_>RY    <L_H_CMJM     <L_JR>JW \n",
    "           2            2            2            2            2            2            2 \n",
    "    <L_NPCNW         <LJH     >L_>LHJM >L_HJKL_QDCK      >T_PNJK        >XRJK         >XWR \n",
    "           2            2            2            2            2            2            2 \n",
    "      B__>DM      B__CMJM      B__HRJM      B_>MRTK   B_BJT_JHWH    B_CM_QDCW        B_DRK \n",
    "           2            2            2            2            2            2            2 \n",
    "    B_JCW<TW        B_JDK      B_JFR>L     B_JM_SWP    B_KL_P<LK  B_M<FJ_JDJK     B_MYWTJK \n",
    "           2            2            2            2            2            2            2 \n",
    "    B_NDJBJM      (Other) \n",
    "           2          840 "
   ]
  },
  {
   "cell_type": "markdown",
   "metadata": {},
   "source": [
    "### Vragen \n",
    "\n",
    "Ik heb jammer genoeg niet zo veel verstand van statistiek, en voor de toepassing van het Viterbi algoritme moeten er eerst drie zaken berekend worden: \n",
    "\n",
    "1. start_probability\n",
    "2. transition_probability\n",
    "3. emission_probability\n",
    "\n",
    "Ik heb daarom een aantal vragen: \n",
    "\n",
    "1. Is het mogelijk deze kansen te berekenen op basis van expliciete object/subject informatie in de Psalmen, of misschien zelfs de hele HB? \n",
    "2. Zo ja, hoe?\n",
    "3. Hoe kan ik dit Viterbi-participanten model uitwerken en toepassen? \n",
    "4. Heb jij, Dirk, interesse om met mij hier aan te werken, wellicht voor een samenwerkings paper? "
   ]
  }
 ],
 "metadata": {
  "kernelspec": {
   "display_name": "Python 3",
   "language": "python",
   "name": "python3"
  },
  "language_info": {
   "codemirror_mode": {
    "name": "ipython",
    "version": 3
   },
   "file_extension": ".py",
   "mimetype": "text/x-python",
   "name": "python",
   "nbconvert_exporter": "python",
   "pygments_lexer": "ipython3",
   "version": "3.5.1"
  }
 },
 "nbformat": 4,
 "nbformat_minor": 0
}
