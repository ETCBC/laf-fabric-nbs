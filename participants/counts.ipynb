{
 "metadata": {
  "name": "",
<<<<<<< HEAD
  "signature": "sha256:3bbd72834054292086fc26d12538942e84759dca2593afc28a8c59008cdf3650"
=======
  "signature": "sha256:ed467c8418cd713c9c41cfd29824a1b98953899f45266439222de5219086ec1d"
>>>>>>> 77a802b953e6ea354bd6890f7e61de0c629ccb87
 },
 "nbformat": 3,
 "nbformat_minor": 0,
 "worksheets": [
  {
   "cells": [
    {
     "cell_type": "code",
     "collapsed": false,
     "input": [
      "import sys\n",
      "import collections\n",
      "%load_ext autoreload\n",
      "%autoreload 2\n",
      "import laf\n",
      "from laf.fabric import LafFabric\n",
      "from etcbc.preprocess import prepare\n",
      "from etcbc.lib import Transcription, monad_set\n",
      "from etcbc.trees import Tree\n",
      "fabric = LafFabric()"
     ],
     "language": "python",
     "metadata": {},
     "outputs": [
      {
       "output_type": "stream",
       "stream": "stderr",
       "text": [
<<<<<<< HEAD
        "  0.00s This is LAF-Fabric 4.3.1\n",
=======
        "  0.00s This is LAF-Fabric 4.3.3\n",
>>>>>>> 77a802b953e6ea354bd6890f7e61de0c629ccb87
        "http://laf-fabric.readthedocs.org/en/latest/texts/API-reference.html\n"
       ]
      }
     ],
     "prompt_number": 1
    },
    {
     "cell_type": "code",
     "collapsed": false,
     "input": [
      "API = fabric.load('etcbc4', 'px', 'participants_in_psalms', {\n",
      "    \"xmlids\": {\"node\": False, \"edge\": False},\n",
      "    \"features\": ('''\n",
      "        otype number label\n",
      "        ps nu gn prs lex_utf8\n",
      "        book chapter txt pargr\n",
      "\n",
      "    ''',\n",
      "    '''\n",
      "    '''),\n",
      "    \"prepare\": prepare,\n",
      "}, verbose='DETAIL')\n",
      "exec(fabric.localnames.format(var='fabric'))"
     ],
     "language": "python",
     "metadata": {},
     "outputs": [
      {
       "output_type": "stream",
       "stream": "stderr",
       "text": [
        "  0.00s LOADING API: please wait ... \n"
       ]
      },
      {
       "output_type": "stream",
       "stream": "stderr",
       "text": [
<<<<<<< HEAD
        "  0.04s DETAIL: COMPILING m: UP TO DATE\n"
=======
        "  0.00s DETAIL: COMPILING m: UP TO DATE\n"
>>>>>>> 77a802b953e6ea354bd6890f7e61de0c629ccb87
       ]
      },
      {
       "output_type": "stream",
       "stream": "stderr",
       "text": [
<<<<<<< HEAD
        "  0.11s INFO: USING DATA COMPILED AT: 2014-06-30T05-57-52\n"
=======
        "  0.01s INFO: USING DATA COMPILED AT: 2014-07-14T16-45-08\n"
>>>>>>> 77a802b953e6ea354bd6890f7e61de0c629ccb87
       ]
      },
      {
       "output_type": "stream",
       "stream": "stderr",
       "text": [
        "  0.12s DETAIL: COMPILING a: UP TO DATE\n"
       ]
      },
      {
       "output_type": "stream",
       "stream": "stderr",
       "text": [
<<<<<<< HEAD
        "  0.15s INFO: USING DATA COMPILED AT: 2014-07-04T14-31-13\n"
=======
        "  0.01s INFO: USING DATA COMPILED AT: 2014-07-15T08-55-31\n"
>>>>>>> 77a802b953e6ea354bd6890f7e61de0c629ccb87
       ]
      },
      {
       "output_type": "stream",
       "stream": "stderr",
       "text": [
<<<<<<< HEAD
        "  0.17s DETAIL: load main: G.node_anchor_min\n"
=======
        "  0.01s DETAIL: load main: G.node_anchor_min\n"
>>>>>>> 77a802b953e6ea354bd6890f7e61de0c629ccb87
       ]
      },
      {
       "output_type": "stream",
       "stream": "stderr",
       "text": [
<<<<<<< HEAD
        "  0.38s DETAIL: load main: G.node_anchor_max\n"
=======
        "  0.10s DETAIL: load main: G.node_anchor_max\n"
>>>>>>> 77a802b953e6ea354bd6890f7e61de0c629ccb87
       ]
      },
      {
       "output_type": "stream",
       "stream": "stderr",
       "text": [
<<<<<<< HEAD
        "  0.54s DETAIL: load main: G.node_sort\n"
=======
        "  0.17s DETAIL: load main: G.node_sort\n"
>>>>>>> 77a802b953e6ea354bd6890f7e61de0c629ccb87
       ]
      },
      {
       "output_type": "stream",
       "stream": "stderr",
       "text": [
<<<<<<< HEAD
        "  0.67s DETAIL: load main: G.node_sort_inv\n"
=======
        "  0.22s DETAIL: load main: G.node_sort_inv\n"
>>>>>>> 77a802b953e6ea354bd6890f7e61de0c629ccb87
       ]
      },
      {
       "output_type": "stream",
       "stream": "stderr",
       "text": [
<<<<<<< HEAD
        "  2.02s DETAIL: load main: G.edges_from\n"
=======
        "  0.64s DETAIL: load main: G.edges_from\n"
>>>>>>> 77a802b953e6ea354bd6890f7e61de0c629ccb87
       ]
      },
      {
       "output_type": "stream",
       "stream": "stderr",
       "text": [
<<<<<<< HEAD
        "  2.63s DETAIL: load main: G.edges_to\n"
=======
        "  0.70s DETAIL: load main: G.edges_to\n"
>>>>>>> 77a802b953e6ea354bd6890f7e61de0c629ccb87
       ]
      },
      {
       "output_type": "stream",
       "stream": "stderr",
       "text": [
<<<<<<< HEAD
        "  2.93s DETAIL: load main: F.shebanq_db_otype [node] \n"
=======
        "  0.78s DETAIL: load main: F.etcbc4_db_otype [node] \n"
>>>>>>> 77a802b953e6ea354bd6890f7e61de0c629ccb87
       ]
      },
      {
       "output_type": "stream",
       "stream": "stderr",
       "text": [
<<<<<<< HEAD
        "  4.12s DETAIL: load main: F.shebanq_ft_gn [node] \n"
=======
        "  1.45s DETAIL: load main: F.etcbc4_ft_gn [node] \n"
>>>>>>> 77a802b953e6ea354bd6890f7e61de0c629ccb87
       ]
      },
      {
       "output_type": "stream",
       "stream": "stderr",
       "text": [
<<<<<<< HEAD
        "  4.37s DETAIL: load main: F.shebanq_ft_lex_utf8 [node] \n"
=======
        "  1.59s DETAIL: load main: F.etcbc4_ft_lex_utf8 [node] \n"
>>>>>>> 77a802b953e6ea354bd6890f7e61de0c629ccb87
       ]
      },
      {
       "output_type": "stream",
       "stream": "stderr",
       "text": [
<<<<<<< HEAD
        "  4.94s DETAIL: load main: F.shebanq_ft_nu [node] \n"
=======
        "  1.85s DETAIL: load main: F.etcbc4_ft_nu [node] \n"
>>>>>>> 77a802b953e6ea354bd6890f7e61de0c629ccb87
       ]
      },
      {
       "output_type": "stream",
       "stream": "stderr",
       "text": [
<<<<<<< HEAD
        "  5.30s DETAIL: load main: F.shebanq_ft_number [node] \n"
=======
        "  2.04s DETAIL: load main: F.etcbc4_ft_number [node] \n"
>>>>>>> 77a802b953e6ea354bd6890f7e61de0c629ccb87
       ]
      },
      {
       "output_type": "stream",
       "stream": "stderr",
       "text": [
<<<<<<< HEAD
        "  6.15s DETAIL: load main: F.shebanq_ft_prs [node] \n"
=======
        "  2.51s DETAIL: load main: F.etcbc4_ft_prs [node] \n"
>>>>>>> 77a802b953e6ea354bd6890f7e61de0c629ccb87
       ]
      },
      {
       "output_type": "stream",
       "stream": "stderr",
       "text": [
<<<<<<< HEAD
        "  6.49s DETAIL: load main: F.shebanq_ft_ps [node] \n"
=======
        "  2.71s DETAIL: load main: F.etcbc4_ft_ps [node] \n"
>>>>>>> 77a802b953e6ea354bd6890f7e61de0c629ccb87
       ]
      },
      {
       "output_type": "stream",
       "stream": "stderr",
       "text": [
<<<<<<< HEAD
        "  6.79s DETAIL: load main: F.shebanq_ft_txt [node] \n"
=======
        "  2.90s DETAIL: load main: F.etcbc4_ft_txt [node] \n"
>>>>>>> 77a802b953e6ea354bd6890f7e61de0c629ccb87
       ]
      },
      {
       "output_type": "stream",
       "stream": "stderr",
       "text": [
<<<<<<< HEAD
        "  6.85s DETAIL: load main: F.shebanq_px_pargr [node] \n"
=======
        "  2.94s DETAIL: load main: F.etcbc4_px_pargr [node] \n"
>>>>>>> 77a802b953e6ea354bd6890f7e61de0c629ccb87
       ]
      },
      {
       "output_type": "stream",
       "stream": "stderr",
       "text": [
<<<<<<< HEAD
        "  6.85s DETAIL: load main: F.shebanq_sft_book [node] \n"
=======
        "  2.95s DETAIL: load main: F.etcbc4_sft_book [node] \n"
>>>>>>> 77a802b953e6ea354bd6890f7e61de0c629ccb87
       ]
      },
      {
       "output_type": "stream",
       "stream": "stderr",
       "text": [
<<<<<<< HEAD
        "  6.91s DETAIL: load main: F.shebanq_sft_chapter [node] \n"
=======
        "  2.96s DETAIL: load main: F.etcbc4_sft_chapter [node] \n"
>>>>>>> 77a802b953e6ea354bd6890f7e61de0c629ccb87
       ]
      },
      {
       "output_type": "stream",
       "stream": "stderr",
       "text": [
<<<<<<< HEAD
        "  6.94s DETAIL: load main: F.shebanq_sft_label [node] \n"
=======
        "  2.98s DETAIL: load main: F.etcbc4_sft_label [node] \n"
>>>>>>> 77a802b953e6ea354bd6890f7e61de0c629ccb87
       ]
      },
      {
       "output_type": "stream",
       "stream": "stderr",
       "text": [
<<<<<<< HEAD
        "  7.02s DETAIL: load annox: F.shebanq_db_otype [node] \n"
=======
        "  3.00s DETAIL: load annox: F.etcbc4_db_otype [node] \n"
>>>>>>> 77a802b953e6ea354bd6890f7e61de0c629ccb87
       ]
      },
      {
       "output_type": "stream",
       "stream": "stderr",
       "text": [
<<<<<<< HEAD
        "  7.02s DETAIL: load annox: F.shebanq_ft_gn [node] \n"
=======
        "  3.01s DETAIL: load annox: F.etcbc4_ft_gn [node] \n"
>>>>>>> 77a802b953e6ea354bd6890f7e61de0c629ccb87
       ]
      },
      {
       "output_type": "stream",
       "stream": "stderr",
       "text": [
<<<<<<< HEAD
        "  7.02s DETAIL: load annox: F.shebanq_ft_lex_utf8 [node] \n"
=======
        "  3.01s DETAIL: load annox: F.etcbc4_ft_lex_utf8 [node] \n"
>>>>>>> 77a802b953e6ea354bd6890f7e61de0c629ccb87
       ]
      },
      {
       "output_type": "stream",
       "stream": "stderr",
       "text": [
<<<<<<< HEAD
        "  7.02s DETAIL: load annox: F.shebanq_ft_nu [node] \n"
=======
        "  3.01s DETAIL: load annox: F.etcbc4_ft_nu [node] \n"
>>>>>>> 77a802b953e6ea354bd6890f7e61de0c629ccb87
       ]
      },
      {
       "output_type": "stream",
       "stream": "stderr",
       "text": [
<<<<<<< HEAD
        "  7.02s DETAIL: load annox: F.shebanq_ft_number [node] \n"
=======
        "  3.01s DETAIL: load annox: F.etcbc4_ft_number [node] \n"
>>>>>>> 77a802b953e6ea354bd6890f7e61de0c629ccb87
       ]
      },
      {
       "output_type": "stream",
       "stream": "stderr",
       "text": [
<<<<<<< HEAD
        "  7.02s DETAIL: load annox: F.shebanq_ft_prs [node] \n"
=======
        "  3.01s DETAIL: load annox: F.etcbc4_ft_prs [node] \n"
>>>>>>> 77a802b953e6ea354bd6890f7e61de0c629ccb87
       ]
      },
      {
       "output_type": "stream",
       "stream": "stderr",
       "text": [
<<<<<<< HEAD
        "  7.02s DETAIL: load annox: F.shebanq_ft_ps [node] \n"
=======
        "  3.01s DETAIL: load annox: F.etcbc4_ft_ps [node] \n"
>>>>>>> 77a802b953e6ea354bd6890f7e61de0c629ccb87
       ]
      },
      {
       "output_type": "stream",
       "stream": "stderr",
       "text": [
<<<<<<< HEAD
        "  7.03s DETAIL: load annox: F.shebanq_ft_txt [node] \n"
=======
        "  3.01s DETAIL: load annox: F.etcbc4_ft_txt [node] \n"
>>>>>>> 77a802b953e6ea354bd6890f7e61de0c629ccb87
       ]
      },
      {
       "output_type": "stream",
       "stream": "stderr",
       "text": [
<<<<<<< HEAD
        "  7.03s DETAIL: load annox: F.shebanq_px_pargr [node] \n"
=======
        "  3.01s DETAIL: load annox: F.etcbc4_px_pargr [node] \n"
>>>>>>> 77a802b953e6ea354bd6890f7e61de0c629ccb87
       ]
      },
      {
       "output_type": "stream",
       "stream": "stderr",
       "text": [
<<<<<<< HEAD
        "  7.30s DETAIL: load annox: F.shebanq_sft_book [node] \n"
=======
        "  3.08s DETAIL: load annox: F.etcbc4_sft_book [node] \n"
>>>>>>> 77a802b953e6ea354bd6890f7e61de0c629ccb87
       ]
      },
      {
       "output_type": "stream",
       "stream": "stderr",
       "text": [
<<<<<<< HEAD
        "  7.30s DETAIL: load annox: F.shebanq_sft_chapter [node] \n"
=======
        "  3.08s DETAIL: load annox: F.etcbc4_sft_chapter [node] \n"
>>>>>>> 77a802b953e6ea354bd6890f7e61de0c629ccb87
       ]
      },
      {
       "output_type": "stream",
       "stream": "stderr",
       "text": [
<<<<<<< HEAD
        "  7.30s DETAIL: load annox: F.shebanq_sft_label [node] \n"
=======
        "  3.08s DETAIL: load annox: F.etcbc4_sft_label [node] \n"
>>>>>>> 77a802b953e6ea354bd6890f7e61de0c629ccb87
       ]
      },
      {
       "output_type": "stream",
       "stream": "stderr",
       "text": [
<<<<<<< HEAD
        "  7.30s LOGFILE=C:\\Users\\Gino/laf-fabric-output/bhs4/participants_in_psalms/__log__participants_in_psalms.txt\n"
=======
        "  3.08s LOGFILE=/Users/dirk/laf-fabric-output/etcbc4/participants_in_psalms/__log__participants_in_psalms.txt\n"
>>>>>>> 77a802b953e6ea354bd6890f7e61de0c629ccb87
       ]
      },
      {
       "output_type": "stream",
       "stream": "stderr",
       "text": [
<<<<<<< HEAD
        "  7.31s DETAIL: prep prep: G.node_sort\n"
=======
        "  3.08s DETAIL: prep prep: G.node_sort\n"
>>>>>>> 77a802b953e6ea354bd6890f7e61de0c629ccb87
       ]
      },
      {
       "output_type": "stream",
       "stream": "stderr",
       "text": [
<<<<<<< HEAD
        "  7.81s DETAIL: prep prep: G.node_sort_inv\n"
=======
        "  3.16s DETAIL: prep prep: G.node_sort_inv\n"
>>>>>>> 77a802b953e6ea354bd6890f7e61de0c629ccb87
       ]
      },
      {
       "output_type": "stream",
       "stream": "stderr",
       "text": [
<<<<<<< HEAD
        "  9.71s INFO: DATA LOADED FROM SOURCE bhs4 AND ANNOX px FOR TASK participants_in_psalms AT 2014-08-25T09-44-15\n"
=======
        "  3.65s INFO: DATA LOADED FROM SOURCE etcbc4 AND ANNOX px FOR TASK participants_in_psalms AT 2014-07-15T18-24-34\n"
>>>>>>> 77a802b953e6ea354bd6890f7e61de0c629ccb87
       ]
      }
     ],
     "prompt_number": 2
    },
    {
     "cell_type": "code",
     "collapsed": false,
     "input": [
      "def analyze_psalms():\n",
      "    f = outfile('countings.csv')\n",
      "    inPsalms = False\n",
      "    count_1sg = count_1pl = count_2Msg = count_2Fsg = count_2Mpl = count_2Fpl = count_3Msg = count_3Fsg = count_3Mpl = count_3Fpl =0\n",
      "    \n",
      "    for node in NN():\n",
      "        otype = F.otype.v(node)\n",
      "        if otype == 'book':\n",
      "            if F.book.v(node) == \"Psalmi\":\n",
      "                inPsalms = True\n",
      "            else:\n",
      "                inPsalms = False\n",
      "        elif inPsalms:\n",
      "            if otype == \"word\":\n",
      "                if F.ps.v(node) == \"p1\":\n",
      "                    if F.nu.v(node) == \"sg\":\n",
      "                        count_1sg += 1\n",
      "                    else:\n",
      "                        count_1pl += 1\n",
      "                elif F.ps.v(node) == \"p2\":\n",
      "                    if F.nu.v(node) == \"sg\":\n",
      "                        if F.gn.v(node) == \"f\":\n",
      "                            count_2Fsg += 1\n",
      "                        else:\n",
      "                            count_2Msg += 1\n",
      "                    else:\n",
      "                        if F.gn.v(node) == \"f\":\n",
      "                            count_2Fpl += 1\n",
      "                        else:\n",
      "                            count_2Mpl += 1\n",
      "                elif F.ps.v(node) == \"p3\":\n",
      "                    if F.nu.v(node) == \"sg\":\n",
      "                        if F.gn.v(node) == \"f\":\n",
      "                            count_3Fsg += 1\n",
      "                        else:\n",
      "                            count_3Msg += 1\n",
      "                    else:\n",
      "                        if F.gn.v(node) == \"f\":\n",
      "                            count_3Fpl += 1\n",
      "                        else:\n",
      "                            count_3Mpl += 1\n",
      "                suffix = F.prs.v(node)\n",
      "                if suffix == \"NJ\" or suffix == \"J\":\n",
      "                    count_1sg += 1\n",
      "                elif suffix == \"NW\":\n",
      "                    count_1pl += 1\n",
      "                elif suffix == \"K\":\n",
      "                    count_2Fsg += 1\n",
      "                elif suffix == \"K=\":\n",
      "                    count_2Msg += 1\n",
      "                elif suffix == \"W\" or suffix == \"HW\":\n",
      "                    count_3Msg += 1\n",
      "                elif suffix == \"H\":\n",
      "                    count_3Fsg += 1\n",
      "                elif suffix == \"KM\":\n",
      "                    count_2Mpl += 1\n",
      "                elif suffix == \"KN\":\n",
      "                    count_2Fpl += 1\n",
      "                elif suffix == \"HM\" or suffix == \"M\" or suffix == \"MW\":\n",
      "                    count_3Mpl += 1\n",
      "                elif suffix == \"HN\" or suffix == \"N\":\n",
      "                    count_3Fpl += 1\n",
      "                \n",
      "    count_total = count_1sg + count_1pl + count_2Msg + count_2Fsg + count_2Mpl + count_2Fpl + count_3Msg + count_3Fsg + count_3Mpl + count_3Fpl\n",
      "    \n",
      "    f.write(\"{};{};{};{};{};{};{};{};{};{};{}\\n\".format('1sg', '1pl', '2Msg', '2Fsg', '2Mpl', '2Fpl', '3Msg', '3Fsg', '3Mpl', '3Fpl', 'TOTAAL'))\n",
      "    f.write(\"{};{};{};{};{};{};{};{};{};{};{}\\n\".format(count_1sg, count_1pl, count_2Msg, count_2Fsg, count_2Mpl, count_2Fpl, count_3Msg, count_3Fsg, count_3Mpl, count_3Fpl, count_total))\n",
      "    f.write(\"{};{};{};{};{};{};{};{};{};{};{}\\n\".format(round(count_1sg / count_total * 100, 2), round(count_1pl / count_total * 100, 2), round(count_2Msg / count_total * 100, 2), round(count_2Fsg / count_total * 100, 2), round(count_2Mpl / count_total * 100, 2), round(count_2Fpl / count_total * 100, 2), round(count_3Msg / count_total * 100, 2), round(count_3Fsg / count_total * 100, 2), round(count_3Mpl / count_total * 100, 2), round(count_3Fpl / count_total * 100, 2), round(count_total / count_total * 100, 2)))\n",
      "    f.close()"
     ],
     "language": "python",
     "metadata": {},
     "outputs": [],
     "prompt_number": 3
    },
    {
     "cell_type": "code",
     "collapsed": false,
     "input": [
      "analyze_psalms()"
     ],
     "language": "python",
     "metadata": {},
     "outputs": [],
     "prompt_number": 4
    },
    {
     "cell_type": "code",
     "collapsed": false,
     "input": [],
     "language": "python",
     "metadata": {},
     "outputs": []
    }
   ],
   "metadata": {}
  }
 ]
}