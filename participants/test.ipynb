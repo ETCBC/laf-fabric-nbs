{
 "metadata": {
  "name": "",
  "signature": "sha256:9020a465ddaf0c8db6e05670d1dfaee7c4d80974a25c992e764b1463f3c27c26"
 },
 "nbformat": 3,
 "nbformat_minor": 0,
 "worksheets": [
  {
   "cells": [
    {
     "cell_type": "code",
     "collapsed": false,
     "input": [
      "import sys\n",
      "import collections\n",
      "\n",
      "import laf\n",
      "from laf.fabric import LafFabric\n",
      "from etcbc.preprocess import prepare\n",
      "\n",
      "fabric = LafFabric()"
     ],
     "language": "python",
     "metadata": {},
     "outputs": [
      {
       "output_type": "stream",
       "stream": "stderr",
       "text": [
        "  0.00s This is LAF-Fabric 4.4.1\n",
        "http://laf-fabric.readthedocs.org/en/latest/texts/API-reference.html\n"
       ]
      }
     ],
     "prompt_number": 1
    },
    {
     "cell_type": "code",
     "collapsed": false,
     "input": [
      "API = fabric.load('etcbc4', '--', 'clausecomplements', {\n",
      "    \"xmlids\": {\"node\": False, \"edge\": False},\n",
      "    \"features\": ('''\n",
      "        otype\n",
      "        dist\n",
      "    ''','''\n",
      "    '''),\n",
      "    \"prepare\": prepare,\n",
      "}, verbose='NORMAL')\n",
      "exec(fabric.localnames.format(var='fabric'))"
     ],
     "language": "python",
     "metadata": {},
     "outputs": [
      {
       "output_type": "stream",
       "stream": "stderr",
       "text": [
        "  0.00s LOADING API: please wait ... \n"
       ]
      },
      {
       "output_type": "stream",
       "stream": "stderr",
       "text": [
        "  0.00s INFO: USING DATA COMPILED AT: 2014-07-23T09-31-37\n"
       ]
      },
      {
       "output_type": "stream",
       "stream": "stderr",
       "text": [
        "  1.59s LOGFILE=/Users/dirk/laf-fabric-output/etcbc4/clausecomplements/__log__clausecomplements.txt\n"
       ]
      },
      {
       "output_type": "stream",
       "stream": "stderr",
       "text": [
        "  2.17s INFO: DATA LOADED FROM SOURCE etcbc4 AND ANNOX -- FOR TASK clausecomplements AT 2014-09-17T08-21-52\n"
       ]
      }
     ],
     "prompt_number": 2
    },
    {
     "cell_type": "code",
     "collapsed": false,
     "input": [
      "dists = collections.defaultdict(lambda: 0)\n",
      "for n in NN():\n",
      "    otype = F.otype.v(n)\n",
      "    if otype != 'clause_atom': next\n",
      "    val = F.dist.v(n)\n",
      "    if val == None: val = '!None!'\n",
      "    dists[val] += 1\n",
      "for val in sorted(dists):\n",
      "    print(\"{} clause_atoms have dist = {}\".format(dists[val], val))"
     ],
     "language": "python",
     "metadata": {},
     "outputs": [
      {
       "output_type": "stream",
       "stream": "stdout",
       "text": [
        "830537 clause_atoms have dist = !None!\n",
        "19806 clause_atoms have dist = -1\n",
        "40 clause_atoms have dist = -10\n",
        "17 clause_atoms have dist = -11\n",
        "17 clause_atoms have dist = -12\n",
        "1 clause_atoms have dist = -120\n",
        "5 clause_atoms have dist = -13\n",
        "9 clause_atoms have dist = -14\n",
        "3 clause_atoms have dist = -15\n",
        "3 clause_atoms have dist = -16\n",
        "5 clause_atoms have dist = -17\n",
        "3 clause_atoms have dist = -18\n",
        "3 clause_atoms have dist = -19\n",
        "5130 clause_atoms have dist = -2\n",
        "1 clause_atoms have dist = -20\n",
        "2 clause_atoms have dist = -21\n",
        "1 clause_atoms have dist = -22\n",
        "1 clause_atoms have dist = -23\n",
        "1 clause_atoms have dist = -24\n",
        "3386 clause_atoms have dist = -3\n",
        "1 clause_atoms have dist = -31\n",
        "2 clause_atoms have dist = -34\n",
        "1602 clause_atoms have dist = -4\n",
        "1 clause_atoms have dist = -44\n",
        "706 clause_atoms have dist = -5\n",
        "1 clause_atoms have dist = -51\n",
        "311 clause_atoms have dist = -6\n",
        "182 clause_atoms have dist = -7\n",
        "94 clause_atoms have dist = -8\n",
        "57 clause_atoms have dist = -9\n",
        "578519 clause_atoms have dist = 0\n",
        "563 clause_atoms have dist = 1\n",
        "75 clause_atoms have dist = 2\n",
        "31 clause_atoms have dist = 3\n",
        "11 clause_atoms have dist = 4\n",
        "10 clause_atoms have dist = 5\n",
        "3 clause_atoms have dist = 6\n",
        "2 clause_atoms have dist = 7\n",
        "2 clause_atoms have dist = 8\n"
       ]
      }
     ],
     "prompt_number": 6
    },
    {
     "cell_type": "code",
     "collapsed": false,
     "input": [],
     "language": "python",
     "metadata": {},
     "outputs": []
    }
   ],
   "metadata": {}
  }
 ]
}