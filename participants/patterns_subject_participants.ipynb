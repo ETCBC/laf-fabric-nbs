{
 "metadata": {
  "name": "",
  "signature": "sha256:0a6daa39457e6a82195e4e474d21f31ae7a63afba4094e19fcc110c2e06f1994"
 },
 "nbformat": 3,
 "nbformat_minor": 0,
 "worksheets": [
  {
   "cells": [
    {
     "cell_type": "code",
     "collapsed": false,
     "input": [
      "import sys\n",
      "import collections\n",
      "%load_ext autoreload\n",
      "%autoreload 2\n",
      "import laf\n",
      "from laf.fabric import LafFabric\n",
      "from etcbc.preprocess import prepare\n",
      "from etcbc.lib import Transcription, monad_set\n",
      "from etcbc.trees import Tree\n",
      "fabric = LafFabric()"
     ],
     "language": "python",
     "metadata": {},
     "outputs": [
      {
       "output_type": "stream",
       "stream": "stderr",
       "text": [
        "  0.00s This is LAF-Fabric 4.3.1\n",
        "http://laf-fabric.readthedocs.org/en/latest/texts/API-reference.html\n"
       ]
      }
     ],
     "prompt_number": 1
    },
    {
     "cell_type": "code",
     "collapsed": false,
     "input": [
      "API=fabric.load('bhs4', '--', 'participants_in_psalms', {\n",
      "    \"xmlids\": {\"node\": False, \"edge\": False},\n",
      "    \"features\": ('''\n",
      "        otype nu ps gn prs function\n",
      "        book chapter\n",
      "    ''',\n",
      "    '''\n",
      "    '''),\n",
      "    \"prepare\": prepare,\n",
      "}, verbose='DETAIL')\n",
      "exec(fabric.localnames.format(var='fabric'))"
     ],
     "language": "python",
     "metadata": {},
     "outputs": [
      {
       "output_type": "stream",
       "stream": "stderr",
       "text": [
        "  0.00s LOADING API: please wait ... \n"
       ]
      },
      {
       "output_type": "stream",
       "stream": "stderr",
       "text": [
        "  0.00s DETAIL: COMPILING m: UP TO DATE\n"
       ]
      },
      {
       "output_type": "stream",
       "stream": "stderr",
       "text": [
        "  0.00s INFO: USING DATA COMPILED AT: 2014-06-30T05-57-52\n"
       ]
      },
      {
       "output_type": "stream",
       "stream": "stderr",
       "text": [
        "  0.01s DETAIL: COMPILING a: UP TO DATE\n"
       ]
      },
      {
       "output_type": "stream",
       "stream": "stderr",
       "text": [
        "  0.02s DETAIL: load main: G.node_anchor_min\n"
       ]
      },
      {
       "output_type": "stream",
       "stream": "stderr",
       "text": [
        "  0.13s DETAIL: load main: G.node_anchor_max\n"
       ]
      },
      {
       "output_type": "stream",
       "stream": "stderr",
       "text": [
        "  0.24s DETAIL: load main: G.node_sort\n"
       ]
      },
      {
       "output_type": "stream",
       "stream": "stderr",
       "text": [
        "  0.35s DETAIL: load main: G.node_sort_inv\n"
       ]
      },
      {
       "output_type": "stream",
       "stream": "stderr",
       "text": [
        "  0.98s DETAIL: load main: G.edges_from\n"
       ]
      },
      {
       "output_type": "stream",
       "stream": "stderr",
       "text": [
        "  1.12s DETAIL: load main: G.edges_to\n"
       ]
      },
      {
       "output_type": "stream",
       "stream": "stderr",
       "text": [
        "  1.27s DETAIL: load main: F.shebanq_db_otype [node] \n"
       ]
      },
      {
       "output_type": "stream",
       "stream": "stderr",
       "text": [
        "  2.27s DETAIL: load main: F.shebanq_ft_function [node] \n"
       ]
      },
      {
       "output_type": "stream",
       "stream": "stderr",
       "text": [
        "  2.62s DETAIL: load main: F.shebanq_ft_gn [node] \n"
       ]
      },
      {
       "output_type": "stream",
       "stream": "stderr",
       "text": [
        "  2.84s DETAIL: load main: F.shebanq_ft_nu [node] \n"
       ]
      },
      {
       "output_type": "stream",
       "stream": "stderr",
       "text": [
        "  3.12s DETAIL: load main: F.shebanq_ft_prs [node] \n"
       ]
      },
      {
       "output_type": "stream",
       "stream": "stderr",
       "text": [
        "  3.40s DETAIL: load main: F.shebanq_ft_ps [node] \n"
       ]
      },
      {
       "output_type": "stream",
       "stream": "stderr",
       "text": [
        "  3.67s DETAIL: load main: F.shebanq_sft_book [node] \n"
       ]
      },
      {
       "output_type": "stream",
       "stream": "stderr",
       "text": [
        "  3.70s DETAIL: load main: F.shebanq_sft_chapter [node] \n"
       ]
      },
      {
       "output_type": "stream",
       "stream": "stderr",
       "text": [
        "  3.72s LOGFILE=C:\\Users\\Gino/laf-fabric-output/bhs4/participants_in_psalms/__log__participants_in_psalms.txt\n"
       ]
      },
      {
       "output_type": "stream",
       "stream": "stderr",
       "text": [
        "  3.73s DETAIL: prep prep: G.node_sort\n"
       ]
      },
      {
       "output_type": "stream",
       "stream": "stderr",
       "text": [
        "  3.85s DETAIL: prep prep: G.node_sort_inv\n"
       ]
      },
      {
       "output_type": "stream",
       "stream": "stderr",
       "text": [
        "  4.54s INFO: DATA LOADED FROM SOURCE bhs4 AND ANNOX -- FOR TASK participants_in_psalms AT 2014-09-02T10-39-32\n"
       ]
      }
     ],
     "prompt_number": 2
    },
    {
     "cell_type": "code",
     "collapsed": false,
     "input": [
      "def analyze_psalms():\n",
      "    f = outfile('subject_participant_patterns.csv')\n",
      "    inPsalms = False\n",
      "    inSubj = False\n",
      "    inVerb = False\n",
      "    patterns = collections.defaultdict(list)\n",
      "    pattern_per_psalm = collections.defaultdict(str)\n",
      "    \n",
      "    suffix = \"\"\n",
      "    pattern = \"\"\n",
      "    current_setting = 'xx'\n",
      "    ch = \"\"\n",
      "    \n",
      "    pnverb = \"\"\n",
      "    pnsubj = \"\"\n",
      "    \n",
      "    for node in NN():\n",
      "        otype = F.otype.v(node)\n",
      "        if otype == 'book':\n",
      "            if F.book.v(node) == \"Psalmi\":\n",
      "                inPsalms = True\n",
      "            else:\n",
      "                inPsalms = False\n",
      "        elif otype == \"chapter\" and ch == '150' and pattern != \"\":\n",
      "            patterns[pattern].append(ch)\n",
      "            pattern_per_psalm[ch] = pattern\n",
      "            pattern = \"\"\n",
      "        elif inPsalms and otype == \"chapter\":\n",
      "            if pnverb != \"\" and pnverb != current_setting:\n",
      "                pattern += current_setting + '|'\n",
      "            elif pnsubj != \"\" and pnsubj != current_setting:\n",
      "                pattern += current_setting + '|'\n",
      "                \n",
      "            if pattern != \"\":\n",
      "                patterns[pattern].append(ch)\n",
      "                pattern_per_psalm[ch] = pattern\n",
      "            ch = F.chapter.v(node)\n",
      "            current_setting = 'x'\n",
      "            pattern = \"\"\n",
      "        elif inPsalms and otype == \"clause_atom\":\n",
      "            if pnverb != \"\" and pnverb != current_setting:\n",
      "                current_setting = pnverb\n",
      "                pattern += current_setting + '|'\n",
      "            elif pnsubj != \"\" and pnsubj != current_setting:\n",
      "                current_setting = pnsubj\n",
      "                pattern += current_setting + '|'\n",
      "\n",
      "            pnsubj = \"\"\n",
      "            pnverb = \"\"\n",
      "        elif inPsalms and otype == \"phrase\":\n",
      "            inVerb = False\n",
      "            inSubj = False\n",
      "            if F.function.v(node) == \"Pred\" or F.function.v(node) == \"PreO\":\n",
      "                inVerb = True\n",
      "            elif F.function.v(node) == \"Subj\":\n",
      "                inSubj = True\n",
      "        elif inPsalms and otype == \"word\":\n",
      "            if inVerb and pnverb == \"\":\n",
      "                if F.ps.v(node) == \"p1\":\n",
      "                    if F.nu.v(node) == \"sg\":\n",
      "                        pnverb = '1s'\n",
      "                    else:\n",
      "                        pnverb = '1p'\n",
      "                elif F.ps.v(node) == \"p2\":\n",
      "                    if F.nu.v(node) == \"sg\":\n",
      "                        pnverb = '2s'\n",
      "                    else:\n",
      "                        pnverb = '2p'\n",
      "                elif F.ps.v(node) == \"p3\":\n",
      "                    if F.nu.v(node) == \"sg\":\n",
      "                        pnverb = '3s'\n",
      "                    else:\n",
      "                        pnverb = '3p'\n",
      "            elif inSubj and pnsubj == \"\":\n",
      "                if F.ps.v(node) == \"p1\":\n",
      "                    if F.nu.v(node) == \"sg\":\n",
      "                        pnsubj = '1s'\n",
      "                    else:\n",
      "                        pnsubj = '1p'\n",
      "                elif F.ps.v(node) == \"p2\":\n",
      "                    if F.nu.v(node) == \"sg\":\n",
      "                        pnsubj = '2s'\n",
      "                    else:\n",
      "                        pnsubj = '2p'\n",
      "                else:\n",
      "                    if F.nu.v(node) == \"sg\":\n",
      "                        pnsubj = '3s'\n",
      "                    else:\n",
      "                        pnsubj = '3p'\n",
      "      \n",
      "    f.write(\"Patterns of subject references in the Psalms that occur more than once:\\n\")\n",
      "    for p in patterns:\n",
      "        if len(patterns[p]) > 1:\n",
      "            f.write(\"{}: {}\\n\".format(p, patterns[p]))\n",
      "    \n",
      "    f.write(\"\\n\\nPattern of subject references per Psalm:\\n\")\n",
      "    keylist = pattern_per_psalm.keys()\n",
      "    keylist = sorted(keylist, key=int)\n",
      "    for key in keylist:\n",
      "        f.write(\"{}: {}\\n\".format(key, pattern_per_psalm[key]))\n",
      "    \n",
      "    f.close()"
     ],
     "language": "python",
     "metadata": {},
     "outputs": [],
     "prompt_number": 51
    },
    {
     "cell_type": "code",
     "collapsed": false,
     "input": [
      "analyze_psalms()"
     ],
     "language": "python",
     "metadata": {},
     "outputs": [],
     "prompt_number": 52
    },
    {
     "cell_type": "code",
     "collapsed": false,
     "input": [],
     "language": "python",
     "metadata": {},
     "outputs": []
    }
   ],
   "metadata": {}
  }
 ]
}