{
 "metadata": {
  "name": "",
  "signature": "sha256:9dfd43796db2be467f999524a1a5a1f8248b52d76ba1e1f5017801cda6c67c9b"
 },
 "nbformat": 3,
 "nbformat_minor": 0,
 "worksheets": [
  {
   "cells": [
    {
     "cell_type": "code",
     "collapsed": false,
     "input": [
      "import sys\n",
      "import collections\n",
      "%load_ext autoreload\n",
      "%autoreload 2\n",
      "import laf\n",
      "from laf.fabric import LafFabric\n",
      "from etcbc.preprocess import prepare\n",
      "from etcbc.lib import Transcription, monad_set\n",
      "from etcbc.trees import Tree\n",
      "fabric = LafFabric()\n",
      "tr = Transcription()"
     ],
     "language": "python",
     "metadata": {},
     "outputs": [
      {
       "output_type": "stream",
       "stream": "stderr",
       "text": [
        "  0.00s This is LAF-Fabric 4.2.8\n",
        "http://laf-fabric.readthedocs.org/en/latest/texts/API-reference.html\n"
       ]
      }
     ],
     "prompt_number": 1
    },
    {
     "cell_type": "code",
     "collapsed": false,
     "input": [
      "API=fabric.load('bhs3', '--', 'psalms', {\n",
      "    \"xmlids\": {\"node\": False, \"edge\": False},\n",
      "    \"features\": ('''\n",
      "        oid otype monads minmonad maxmonad\n",
      "        surface_consonants text text_plain suffix\n",
      "        gender number person suffix_gender suffix_number suffix_person\n",
      "        part_of_speech phrase_dependent_part_of_speech lexeme_utf8 verse_label\n",
      "        book chapter verse\n",
      "    ''',\n",
      "    '''mother.\n",
      "    '''),\n",
      "    \"prepare\": prepare,\n",
      "}, verbose='DETAIL')\n",
      "exec(fabric.localnames.format(var='fabric'))"
     ],
     "language": "python",
     "metadata": {},
     "outputs": [
      {
       "output_type": "stream",
       "stream": "stderr",
       "text": [
        "  0.00s LOADING API: please wait ... \n"
       ]
      },
      {
       "output_type": "stream",
       "stream": "stderr",
       "text": [
        "  0.00s DETAIL: COMPILING m: UP TO DATE\n"
       ]
      },
      {
       "output_type": "stream",
       "stream": "stderr",
       "text": [
        "  0.00s INFO: DATA COMPILED AT: 2014-04-18T18-24-37\n"
       ]
      },
      {
       "output_type": "stream",
       "stream": "stderr",
       "text": [
        "  0.00s DETAIL: COMPILING a: UP TO DATE\n"
       ]
      },
      {
       "output_type": "stream",
       "stream": "stderr",
       "text": [
        "  0.01s DETAIL: load main: G.node_anchor_min\n"
       ]
      },
      {
       "output_type": "stream",
       "stream": "stderr",
       "text": [
        "  0.08s DETAIL: load main: G.node_anchor_max\n"
       ]
      },
      {
       "output_type": "stream",
       "stream": "stderr",
       "text": [
        "  0.16s DETAIL: load main: G.node_sort\n"
       ]
      },
      {
       "output_type": "stream",
       "stream": "stderr",
       "text": [
        "  0.22s DETAIL: load main: G.node_sort_inv\n"
       ]
      },
      {
       "output_type": "stream",
       "stream": "stderr",
       "text": [
        "  0.63s DETAIL: load main: G.edges_from\n"
       ]
      },
      {
       "output_type": "stream",
       "stream": "stderr",
       "text": [
        "  0.67s DETAIL: load main: G.edges_to\n"
       ]
      },
      {
       "output_type": "stream",
       "stream": "stderr",
       "text": [
        "  0.72s DETAIL: load main: F.shebanq_db_maxmonad [node] \n"
       ]
      },
      {
       "output_type": "stream",
       "stream": "stderr",
       "text": [
        "  1.40s DETAIL: load main: F.shebanq_db_minmonad [node] \n"
       ]
      },
      {
       "output_type": "stream",
       "stream": "stderr",
       "text": [
        "  2.09s DETAIL: load main: F.shebanq_db_monads [node] \n"
       ]
      },
      {
       "output_type": "stream",
       "stream": "stderr",
       "text": [
        "  2.81s DETAIL: load main: F.shebanq_db_oid [node] \n"
       ]
      },
      {
       "output_type": "stream",
       "stream": "stderr",
       "text": [
        "  3.49s DETAIL: load main: F.shebanq_db_otype [node] \n"
       ]
      },
      {
       "output_type": "stream",
       "stream": "stderr",
       "text": [
        "  4.14s DETAIL: load main: F.shebanq_ft_gender [node] \n"
       ]
      },
      {
       "output_type": "stream",
       "stream": "stderr",
       "text": [
        "  4.35s DETAIL: load main: F.shebanq_ft_lexeme_utf8 [node] \n"
       ]
      },
      {
       "output_type": "stream",
       "stream": "stderr",
       "text": [
        "  4.62s DETAIL: load main: F.shebanq_ft_number [node] \n"
       ]
      },
      {
       "output_type": "stream",
       "stream": "stderr",
       "text": [
        "  4.83s DETAIL: load main: F.shebanq_ft_part_of_speech [node] \n"
       ]
      },
      {
       "output_type": "stream",
       "stream": "stderr",
       "text": [
        "  5.04s DETAIL: load main: F.shebanq_ft_person [node] \n"
       ]
      },
      {
       "output_type": "stream",
       "stream": "stderr",
       "text": [
        "  5.24s DETAIL: load main: F.shebanq_ft_phrase_dependent_part_of_speech [node] \n"
       ]
      },
      {
       "output_type": "stream",
       "stream": "stderr",
       "text": [
        "  5.45s DETAIL: load main: F.shebanq_ft_suffix [node] \n"
       ]
      },
      {
       "output_type": "stream",
       "stream": "stderr",
       "text": [
        "  5.58s DETAIL: load main: F.shebanq_ft_suffix_gender [node] \n"
       ]
      },
      {
       "output_type": "stream",
       "stream": "stderr",
       "text": [
        "  5.78s DETAIL: load main: F.shebanq_ft_suffix_number [node] \n"
       ]
      },
      {
       "output_type": "stream",
       "stream": "stderr",
       "text": [
        "  5.99s DETAIL: load main: F.shebanq_ft_suffix_person [node] \n"
       ]
      },
      {
       "output_type": "stream",
       "stream": "stderr",
       "text": [
        "  6.19s DETAIL: load main: F.shebanq_ft_surface_consonants [node] \n"
       ]
      },
      {
       "output_type": "stream",
       "stream": "stderr",
       "text": [
        "  6.38s DETAIL: load main: F.shebanq_ft_text [node] \n"
       ]
      },
      {
       "output_type": "stream",
       "stream": "stderr",
       "text": [
        "  6.72s DETAIL: load main: F.shebanq_ft_text_plain [node] \n"
       ]
      },
      {
       "output_type": "stream",
       "stream": "stderr",
       "text": [
        "  7.12s DETAIL: load main: F.shebanq_sft_book [node] \n"
       ]
      },
      {
       "output_type": "stream",
       "stream": "stderr",
       "text": [
        "  7.15s DETAIL: load main: F.shebanq_sft_chapter [node] \n"
       ]
      },
      {
       "output_type": "stream",
       "stream": "stderr",
       "text": [
        "  7.17s DETAIL: load main: F.shebanq_sft_verse [node] \n"
       ]
      },
      {
       "output_type": "stream",
       "stream": "stderr",
       "text": [
        "  7.19s DETAIL: load main: F.shebanq_sft_verse_label [node] \n"
       ]
      },
      {
       "output_type": "stream",
       "stream": "stderr",
       "text": [
        "  7.21s DETAIL: load main: F.shebanq_mother_ [e] \n"
       ]
      },
      {
       "output_type": "stream",
       "stream": "stderr",
       "text": [
        "  7.27s DETAIL: load main: C.shebanq_mother_ -> \n"
       ]
      },
      {
       "output_type": "stream",
       "stream": "stderr",
       "text": [
        "  7.46s DETAIL: load main: C.shebanq_mother_ <- \n"
       ]
      },
      {
       "output_type": "stream",
       "stream": "stderr",
       "text": [
        "  7.58s LOGFILE=/Users/dirk/laf-fabric-data/bhs3/tasks/psalms/__log__psalms.txt\n"
       ]
      },
      {
       "output_type": "stream",
       "stream": "stderr",
       "text": [
        "  7.59s DETAIL: prep prep: G.node_sort\n"
       ]
      },
      {
       "output_type": "stream",
       "stream": "stderr",
       "text": [
        "  7.65s DETAIL: prep prep: G.node_sort_inv\n"
       ]
      },
      {
       "output_type": "stream",
       "stream": "stderr",
       "text": [
        "  8.29s INFO: DATA LOADED FROM SOURCE bhs3 AND ANNOX -- FOR TASK psalms\n"
       ]
      }
     ],
     "prompt_number": 2
    },
    {
     "cell_type": "code",
     "collapsed": false,
     "input": [
      "def two_dec_perc(n, total):\n",
      "    return round(n / total * 100, 2)\n",
      "\n",
      "def write_to_file(f, label, verses, total):\n",
      "    f.write(\";{};{};{}%;{}\\n\".format(label, len(verses), two_dec_perc(len(verses), total), ', '.join(verses)))\n",
      "    \n",
      "def write_totals(f, label, number, totals):\n",
      "    f.write(\"{};{};{}%\\n\".format(label, number, two_dec_perc(number, totals)))\n",
      "    \n",
      "def analyze_psalms():\n",
      "    verb_lemmas = []\n",
      "    verse = \"\"\n",
      "    pngFile = outfile('PNGOfVerbsInPsalmsNew.csv')\n",
      "    inPsalms = False\n",
      "    firstSgVerbs = collections.defaultdict(list)\n",
      "    firstPlVerbs = collections.defaultdict(list)\n",
      "    secondSgMscVerbs = collections.defaultdict(list)\n",
      "    secondSgFemVerbs = collections.defaultdict(list)\n",
      "    secondPlMscVerbs = collections.defaultdict(list)\n",
      "    secondPlFemVerbs = collections.defaultdict(list)\n",
      "    thirdSgMscVerbs = collections.defaultdict(list)\n",
      "    thirdSgFemVerbs = collections.defaultdict(list)\n",
      "    thirdPlMscVerbs = collections.defaultdict(list)\n",
      "    thirdPlFemVerbs = collections.defaultdict(list)\n",
      "    otherFormType = collections.defaultdict(list)\n",
      "    \n",
      "    totalFirstSg = totalFirstPl = totalSecondSgMsc = totalSecondSgFem = totalSecondPlMsc = totalSecondPlFem = totalThirdSgMsc = totalThirdSgFem = totalThirdPlMsc = totalThirdPlFem = totalOtherFormType = totals = 0\n",
      "    \n",
      "    for node in NN():\n",
      "        otype = F.otype.v(node)\n",
      "        if otype == 'book':\n",
      "            if F.book.v(node) == \"Psalms\":\n",
      "                inPsalms = True\n",
      "            else:\n",
      "                inPsalms = False\n",
      "        elif otype == 'verse':\n",
      "            verse = F.verse_label.v(node)\n",
      "        elif inPsalms and otype == \"word\":\n",
      "            if F.phrase_dependent_part_of_speech.v(node) == \"verb\":\n",
      "                lemma = F.lexeme_utf8.v(node)\n",
      "                if lemma not in verb_lemmas:\n",
      "                    verb_lemmas.append(lemma)\n",
      "                    \n",
      "                person = F.person.v(node)\n",
      "                number = F.number.v(node)\n",
      "                gender = F.gender.v(node)\n",
      "                if person == \"first_person\":\n",
      "                    if number == \"singular\":\n",
      "                        firstSgVerbs[lemma].append(verse)\n",
      "                        totalFirstSg += 1\n",
      "                    else:\n",
      "                        firstPlVerbs[lemma].append(verse)\n",
      "                        totalFirstPl += 1\n",
      "                elif person == \"second_person\":\n",
      "                    if number == \"singular\":\n",
      "                        if gender == \"feminine\":\n",
      "                            secondSgFemVerbs[lemma].append(verse)\n",
      "                            totalSecondSgFem += 1\n",
      "                        else:\n",
      "                            secondSgMscVerbs[lemma].append(verse)\n",
      "                            totalSecondSgMsc += 1\n",
      "                    else:\n",
      "                        if gender == \"feminine\":\n",
      "                            secondPlFemVerbs[lemma].append(verse)\n",
      "                            totalSecondPlFem += 1\n",
      "                        else:\n",
      "                            secondPlMscVerbs[lemma].append(verse)\n",
      "                            totalSecondPlMsc += 1\n",
      "                elif person == \"third_person\":\n",
      "                    if number == \"singular\":\n",
      "                        if gender == \"feminine\":\n",
      "                            thirdSgFemVerbs[lemma].append(verse)\n",
      "                            totalThirdSgFem += 1\n",
      "                        else:\n",
      "                            thirdSgMscVerbs[lemma].append(verse)\n",
      "                            totalThirdSgMsc += 1\n",
      "                    else:\n",
      "                        if gender == \"feminine\":\n",
      "                            thirdPlFemVerbs[lemma].append(verse)\n",
      "                            totalThirdPlFem += 1\n",
      "                        else:\n",
      "                            thirdPlMscVerbs[lemma].append(verse)\n",
      "                            totalThirdPlMsc += 1\n",
      "                else:\n",
      "                    otherFormType[lemma].append(verse)\n",
      "                    totalOtherFormType += 1\n",
      "                totals += 1\n",
      "            \n",
      "    for v in verb_lemmas:\n",
      "        totalOccurrences = len(firstSgVerbs[v]) + len(firstPlVerbs[v]) + len(secondSgMscVerbs[v]) + len(secondSgFemVerbs[v]) + len(secondPlMscVerbs[v]) + len(secondPlFemVerbs[v]) + len(thirdSgMscVerbs[v]) + len(thirdSgFemVerbs[v]) + len(thirdPlMscVerbs[v]) + len(thirdPlFemVerbs[v]) + len(otherFormType[v])\n",
      "        pngFile.write(\"{}\".format(v))\n",
      "        write_to_file(pngFile, \"1sg\", firstSgVerbs[v], totalOccurrences)\n",
      "        write_to_file(pngFile, \"1pl\", firstPlVerbs[v], totalOccurrences)\n",
      "        write_to_file(pngFile, \"2Msg\", secondSgMscVerbs[v], totalOccurrences)\n",
      "        write_to_file(pngFile, \"2Fsg\", secondSgFemVerbs[v], totalOccurrences)\n",
      "        write_to_file(pngFile, \"2Mpl\", secondPlMscVerbs[v], totalOccurrences)\n",
      "        write_to_file(pngFile, \"2Fpl\", secondPlFemVerbs[v], totalOccurrences)\n",
      "        write_to_file(pngFile, \"3Msg\", thirdSgMscVerbs[v], totalOccurrences)\n",
      "        write_to_file(pngFile, \"3Fsg\", thirdSgFemVerbs[v], totalOccurrences)\n",
      "        write_to_file(pngFile, \"3Mpl\", thirdPlMscVerbs[v], totalOccurrences)\n",
      "        write_to_file(pngFile, \"3Fpl\", thirdPlFemVerbs[v], totalOccurrences)\n",
      "        write_to_file(pngFile, \"Other\", otherFormType[v], totalOccurrences)\n",
      "        pngFile.write(\";{};{};{}\\n\\n\".format(\"Total\", totalOccurrences, totalOccurrences/totals * 100))\n",
      "        \n",
      "    write_totals(pngFile, \"Total 1sg\", totalFirstSg, totals)\n",
      "    write_totals(pngFile, \"Total 1pl\", totalFirstPl, totals)\n",
      "    write_totals(pngFile, \"Total 2Msg\", totalSecondSgMsc, totals)\n",
      "    write_totals(pngFile, \"Total 2Fsg\", totalSecondSgFem, totals)\n",
      "    write_totals(pngFile, \"Total 2Mpl\", totalSecondPlMsc, totals)\n",
      "    write_totals(pngFile, \"Total 2Fpl\", totalSecondPlFem, totals)\n",
      "    write_totals(pngFile, \"Total 3Msg\", totalThirdSgMsc, totals)\n",
      "    write_totals(pngFile, \"Total 3Fsg\", totalThirdSgFem, totals)\n",
      "    write_totals(pngFile, \"Total 3Mpl\", totalThirdPlMsc, totals)\n",
      "    write_totals(pngFile, \"Total 3Fpl\", totalThirdPlFem, totals)\n",
      "    write_totals(pngFile, \"Total non-finite forms\", totalOtherFormType, totals)\n",
      "    write_totals(pngFile, \"Totals\", totals, totals)\n",
      "                                                                  \n",
      "    pngFile.close()"
     ],
     "language": "python",
     "metadata": {},
     "outputs": [],
     "prompt_number": 3
    },
    {
     "cell_type": "code",
     "collapsed": false,
     "input": [
      "analyze_psalms()"
     ],
     "language": "python",
     "metadata": {},
     "outputs": [],
     "prompt_number": 4
    },
    {
     "cell_type": "code",
     "collapsed": false,
     "input": [
      "close()"
     ],
     "language": "python",
     "metadata": {},
     "outputs": [
      {
       "output_type": "stream",
       "stream": "stderr",
       "text": [
        "    15s Results directory:\n",
        "/Users/dirk/laf-fabric-data/bhs3/tasks/psalms\n"
       ]
      },
      {
       "output_type": "stream",
       "stream": "stderr",
       "text": [
        "\n",
        ".DS_Store                              6148 Wed Jun 11 11:06:39 2014\n",
        "PNGOfVerbsInPsalmsNew.csv            195725 Thu Jun 12 15:48:46 2014\n",
        "__log__psalms.txt                       264 Thu Jun 12 15:48:54 2014\n",
        "psalm   1.html                         1275 Wed Jun 11 11:06:41 2014\n",
        "psalm   1.json                       146082 Wed Jun 11 11:06:41 2014\n",
        "psalm   2.html                         3233 Wed Jun 11 11:06:41 2014\n",
        "psalm   2.json                       203283 Wed Jun 11 11:06:41 2014\n",
        "psalm   3.html                         1902 Wed Jun 11 11:06:41 2014\n",
        "psalm   3.json                       158675 Wed Jun 11 11:06:41 2014\n",
        "psalm   4.html                         2635 Wed Jun 11 11:06:41 2014\n",
        "psalm   4.json                       182816 Wed Jun 11 11:06:41 2014\n",
        "psalm   5.html                         3718 Wed Jun 11 11:06:42 2014\n",
        "psalm   5.json                       241579 Wed Jun 11 11:06:42 2014\n",
        "psalm   6.html                         2659 Wed Jun 11 11:06:42 2014\n",
        "psalm   6.json                       193964 Wed Jun 11 11:06:42 2014\n",
        "psalm   7.html                         3837 Wed Jun 11 11:06:42 2014\n",
        "psalm   7.json                       339872 Wed Jun 11 11:06:42 2014\n",
        "psalm   8.html                         1753 Wed Jun 11 11:06:42 2014\n",
        "psalm   8.json                       162853 Wed Jun 11 11:06:42 2014\n",
        "psalm   9.html                         4729 Wed Jun 11 11:06:42 2014\n",
        "psalm   9.json                       373659 Wed Jun 11 11:06:42 2014\n",
        "psalm  10.html                         4214 Wed Jun 11 11:06:42 2014\n",
        "psalm  10.json                       363173 Wed Jun 11 11:06:42 2014\n",
        "psalm  11.html                         1826 Wed Jun 11 11:06:42 2014\n",
        "psalm  11.json                       145627 Wed Jun 11 11:06:42 2014\n",
        "psalm  12.html                         1957 Wed Jun 11 11:06:42 2014\n",
        "psalm  12.json                       168192 Wed Jun 11 11:06:42 2014\n",
        "psalm  13.html                         1685 Wed Jun 11 11:06:42 2014\n",
        "psalm  13.json                       119948 Wed Jun 11 11:06:42 2014\n",
        "psalm  14.html                         1537 Wed Jun 11 11:06:42 2014\n",
        "psalm  14.json                       154305 Wed Jun 11 11:06:42 2014\n",
        "psalm  15.html                         1134 Wed Jun 11 11:06:42 2014\n",
        "psalm  15.json                       122980 Wed Jun 11 11:06:42 2014\n",
        "psalm  16.html                         2939 Wed Jun 11 11:06:43 2014\n",
        "psalm  16.json                       205140 Wed Jun 11 11:06:43 2014\n",
        "psalm  17.html                         4679 Wed Jun 11 11:06:43 2014\n",
        "psalm  17.json                       297827 Wed Jun 11 11:06:43 2014\n",
        "psalm  18.html                        12681 Wed Jun 11 11:06:43 2014\n",
        "psalm  18.json                       916554 Wed Jun 11 11:06:43 2014\n",
        "psalm  19.html                         2772 Wed Jun 11 11:06:43 2014\n",
        "psalm  19.json                       284845 Wed Jun 11 11:06:43 2014\n",
        "psalm  20.html                         2655 Wed Jun 11 11:06:43 2014\n",
        "psalm  20.json                       170593 Wed Jun 11 11:06:43 2014\n",
        "psalm  21.html                         3355 Wed Jun 11 11:06:43 2014\n",
        "psalm  21.json                       229845 Wed Jun 11 11:06:43 2014\n",
        "psalm  22.html                         8534 Wed Jun 11 11:06:44 2014\n",
        "psalm  22.json                       569705 Wed Jun 11 11:06:44 2014\n",
        "psalm  23.html                         1658 Wed Jun 11 11:06:44 2014\n",
        "psalm  23.json                       115108 Wed Jun 11 11:06:44 2014\n",
        "psalm  24.html                         1980 Wed Jun 11 11:06:44 2014\n",
        "psalm  24.json                       200657 Wed Jun 11 11:06:44 2014\n",
        "psalm  25.html                         5137 Wed Jun 11 11:06:44 2014\n",
        "psalm  25.json                       353619 Wed Jun 11 11:06:44 2014\n",
        "psalm  26.html                         2466 Wed Jun 11 11:06:44 2014\n",
        "psalm  26.json                       193114 Wed Jun 11 11:06:44 2014\n",
        "psalm  27.html                         4619 Wed Jun 11 11:06:44 2014\n",
        "psalm  27.json                       333043 Wed Jun 11 11:06:44 2014\n",
        "psalm  28.html                         3369 Wed Jun 11 11:06:44 2014\n",
        "psalm  28.json                       204789 Wed Jun 11 11:06:44 2014\n",
        "psalm  29.html                         1736 Wed Jun 11 11:06:44 2014\n",
        "psalm  29.json                       190818 Wed Jun 11 11:06:44 2014\n",
        "psalm  30.html                         3050 Wed Jun 11 11:06:44 2014\n",
        "psalm  30.json                       239558 Wed Jun 11 11:06:44 2014\n",
        "psalm  31.html                         6925 Wed Jun 11 11:06:48 2014\n",
        "psalm  31.json                       512404 Wed Jun 11 11:06:48 2014\n",
        "psalm  32.html                         2883 Wed Jun 11 11:06:48 2014\n",
        "psalm  32.json                       247089 Wed Jun 11 11:06:48 2014\n",
        "psalm  33.html                         4076 Wed Jun 11 11:06:48 2014\n",
        "psalm  33.json                       356717 Wed Jun 11 11:06:48 2014\n",
        "psalm  34.html                         5161 Wed Jun 11 11:06:48 2014\n",
        "psalm  34.json                       386091 Wed Jun 11 11:06:48 2014\n",
        "psalm  35.html                         8097 Wed Jun 11 11:06:49 2014\n",
        "psalm  35.json                       536069 Wed Jun 11 11:06:49 2014\n",
        "psalm  36.html                         2509 Wed Jun 11 11:06:49 2014\n",
        "psalm  36.json                       219188 Wed Jun 11 11:06:49 2014\n",
        "psalm  37.html                         8419 Wed Jun 11 11:06:49 2014\n",
        "psalm  37.json                       730153 Wed Jun 11 11:06:49 2014\n",
        "psalm  38.html                         5472 Wed Jun 11 11:06:49 2014\n",
        "psalm  38.json                       381971 Wed Jun 11 11:06:49 2014\n",
        "psalm  39.html                         3703 Wed Jun 11 11:06:49 2014\n",
        "psalm  39.json                       302647 Wed Jun 11 11:06:49 2014\n",
        "psalm  40.html                         5954 Wed Jun 11 11:06:49 2014\n",
        "psalm  40.json                       418713 Wed Jun 11 11:06:49 2014\n",
        "psalm  41.html                         3649 Wed Jun 11 11:06:50 2014\n",
        "psalm  41.json                       275087 Wed Jun 11 11:06:50 2014\n",
        "psalm  42.html                         3580 Wed Jun 11 11:06:50 2014\n",
        "psalm  42.json                       275579 Wed Jun 11 11:06:50 2014\n",
        "psalm  43.html                         1882 Wed Jun 11 11:06:50 2014\n",
        "psalm  43.json                       118571 Wed Jun 11 11:06:50 2014\n",
        "psalm  44.html                         7664 Wed Jun 11 11:06:50 2014\n",
        "psalm  44.json                       452612 Wed Jun 11 11:06:50 2014\n",
        "psalm  45.html                         4174 Wed Jun 11 11:06:50 2014\n",
        "psalm  45.json                       333506 Wed Jun 11 11:06:50 2014\n",
        "psalm  46.html                         2573 Wed Jun 11 11:06:50 2014\n",
        "psalm  46.json                       222740 Wed Jun 11 11:06:50 2014\n",
        "psalm  47.html                         1833 Wed Jun 11 11:06:50 2014\n",
        "psalm  47.json                       152309 Wed Jun 11 11:06:50 2014\n",
        "psalm  48.html                         3322 Wed Jun 11 11:06:50 2014\n",
        "psalm  48.json                       223458 Wed Jun 11 11:06:50 2014\n",
        "psalm  49.html                         5012 Wed Jun 11 11:06:50 2014\n",
        "psalm  49.json                       376431 Wed Jun 11 11:06:50 2014\n",
        "psalm  50.html                         4992 Wed Jun 11 11:06:51 2014\n",
        "psalm  50.json                       406185 Wed Jun 11 11:06:51 2014\n",
        "psalm  51.html                         4695 Wed Jun 11 11:06:51 2014\n",
        "psalm  51.json                       354440 Wed Jun 11 11:06:51 2014\n",
        "psalm  52.html                         2186 Wed Jun 11 11:06:51 2014\n",
        "psalm  52.json                       213896 Wed Jun 11 11:06:51 2014\n",
        "psalm  53.html                         1744 Wed Jun 11 11:06:51 2014\n",
        "psalm  53.json                       166565 Wed Jun 11 11:06:51 2014\n",
        "psalm  54.html                         2031 Wed Jun 11 11:06:51 2014\n",
        "psalm  54.json                       154918 Wed Jun 11 11:06:51 2014\n",
        "psalm  55.html                         6094 Wed Jun 11 11:06:51 2014\n",
        "psalm  55.json                       465573 Wed Jun 11 11:06:51 2014\n",
        "psalm  56.html                         3373 Wed Jun 11 11:06:51 2014\n",
        "psalm  56.json                       269447 Wed Jun 11 11:06:51 2014\n",
        "psalm  57.html                         2935 Wed Jun 11 11:06:51 2014\n",
        "psalm  57.json                       250105 Wed Jun 11 11:06:51 2014\n",
        "psalm  58.html                         2608 Wed Jun 11 11:06:51 2014\n",
        "psalm  58.json                       212664 Wed Jun 11 11:06:51 2014\n",
        "psalm  59.html                         5565 Wed Jun 11 11:06:52 2014\n",
        "psalm  59.json                       385374 Wed Jun 11 11:06:52 2014\n",
        "psalm  60.html                         3352 Wed Jun 11 11:06:52 2014\n",
        "psalm  60.json                       250487 Wed Jun 11 11:06:52 2014\n",
        "psalm  61.html                         1730 Wed Jun 11 11:06:52 2014\n",
        "psalm  61.json                       146044 Wed Jun 11 11:06:52 2014\n",
        "psalm  62.html                         3243 Wed Jun 11 11:06:52 2014\n",
        "psalm  62.json                       260505 Wed Jun 11 11:06:52 2014\n",
        "psalm  63.html                         2959 Wed Jun 11 11:06:52 2014\n",
        "psalm  63.json                       201157 Wed Jun 11 11:06:52 2014\n",
        "psalm  64.html                         2968 Wed Jun 11 11:06:52 2014\n",
        "psalm  64.json                       190612 Wed Jun 11 11:06:52 2014\n",
        "psalm  65.html                         3436 Wed Jun 11 11:06:52 2014\n",
        "psalm  65.json                       234032 Wed Jun 11 11:06:52 2014\n",
        "psalm  66.html                         5125 Wed Jun 11 11:06:52 2014\n",
        "psalm  66.json                       350857 Wed Jun 11 11:06:52 2014\n",
        "psalm  67.html                         2172 Wed Jun 11 11:06:52 2014\n",
        "psalm  67.json                       123914 Wed Jun 11 11:06:52 2014\n",
        "psalm  68.html                         7516 Wed Jun 11 11:06:53 2014\n",
        "psalm  68.json                       695357 Wed Jun 11 11:06:53 2014\n",
        "psalm  69.html                         9793 Wed Jun 11 11:06:53 2014\n",
        "psalm  69.json                       679313 Wed Jun 11 11:06:53 2014\n",
        "psalm  70.html                         1658 Wed Jun 11 11:06:53 2014\n",
        "psalm  70.json                       116939 Wed Jun 11 11:06:53 2014\n",
        "psalm  71.html                         6534 Wed Jun 11 11:06:53 2014\n",
        "psalm  71.json                       458780 Wed Jun 11 11:06:53 2014\n",
        "psalm  72.html                         4068 Wed Jun 11 11:06:53 2014\n",
        "psalm  72.json                       357385 Wed Jun 11 11:06:53 2014\n",
        "psalm  73.html                         5881 Wed Jun 11 11:06:53 2014\n",
        "psalm  73.json                       446082 Wed Jun 11 11:06:53 2014\n",
        "psalm  74.html                         5262 Wed Jun 11 11:06:54 2014\n",
        "psalm  74.json                       405192 Wed Jun 11 11:06:54 2014\n",
        "psalm  75.html                         2297 Wed Jun 11 11:06:54 2014\n",
        "psalm  75.json                       201849 Wed Jun 11 11:06:54 2014\n",
        "psalm  76.html                         2217 Wed Jun 11 11:06:54 2014\n",
        "psalm  76.json                       208261 Wed Jun 11 11:06:54 2014\n",
        "psalm  77.html                         4256 Wed Jun 11 11:06:54 2014\n",
        "psalm  77.json                       370909 Wed Jun 11 11:06:54 2014\n",
        "psalm  78.html                        18608 Wed Jun 11 11:06:54 2014\n",
        "psalm  78.json                      1327051 Wed Jun 11 11:06:54 2014\n",
        "psalm  79.html                         4330 Wed Jun 11 11:06:54 2014\n",
        "psalm  79.json                       275124 Wed Jun 11 11:06:54 2014\n",
        "psalm  80.html                         4659 Wed Jun 11 11:06:55 2014\n",
        "psalm  80.json                       333816 Wed Jun 11 11:06:55 2014\n",
        "psalm  81.html                         3994 Wed Jun 11 11:06:55 2014\n",
        "psalm  81.json                       287263 Wed Jun 11 11:06:55 2014\n",
        "psalm  82.html                         1769 Wed Jun 11 11:06:55 2014\n",
        "psalm  82.json                       136016 Wed Jun 11 11:06:55 2014\n",
        "psalm  83.html                         4183 Wed Jun 11 11:06:55 2014\n",
        "psalm  83.json                       296174 Wed Jun 11 11:06:55 2014\n",
        "psalm  84.html                         2601 Wed Jun 11 11:06:55 2014\n",
        "psalm  84.json                       249033 Wed Jun 11 11:06:55 2014\n",
        "psalm  85.html                         3238 Wed Jun 11 11:06:55 2014\n",
        "psalm  85.json                       221950 Wed Jun 11 11:06:55 2014\n",
        "psalm  86.html                         4776 Wed Jun 11 11:06:55 2014\n",
        "psalm  86.json                       354427 Wed Jun 11 11:06:55 2014\n",
        "psalm  87.html                         1048 Wed Jun 11 11:06:55 2014\n",
        "psalm  87.json                       116768 Wed Jun 11 11:06:55 2014\n",
        "psalm  88.html                         4458 Wed Jun 11 11:06:56 2014\n",
        "psalm  88.json                       334650 Wed Jun 11 11:06:56 2014\n",
        "psalm  89.html                        11441 Wed Jun 11 11:06:56 2014\n",
        "psalm  89.json                       860328 Wed Jun 11 11:06:56 2014\n",
        "psalm  90.html                         4793 Wed Jun 11 11:06:56 2014\n",
        "psalm  90.json                       330395 Wed Jun 11 11:06:56 2014\n",
        "psalm  91.html                         3496 Wed Jun 11 11:06:56 2014\n",
        "psalm  91.json                       260098 Wed Jun 11 11:06:56 2014\n",
        "psalm  92.html                         2813 Wed Jun 11 11:06:56 2014\n",
        "psalm  92.json                       263881 Wed Jun 11 11:06:56 2014\n",
        "psalm  93.html                         1220 Wed Jun 11 11:06:56 2014\n",
        "psalm  93.json                        95104 Wed Jun 11 11:06:56 2014\n",
        "psalm  94.html                         4644 Wed Jun 11 11:06:56 2014\n",
        "psalm  94.json                       371142 Wed Jun 11 11:06:56 2014\n",
        "psalm  95.html                         3236 Wed Jun 11 11:06:56 2014\n",
        "psalm  95.json                       197915 Wed Jun 11 11:06:56 2014\n",
        "psalm  96.html                         2935 Wed Jun 11 11:06:57 2014\n",
        "psalm  96.json                       258175 Wed Jun 11 11:06:57 2014\n",
        "psalm  97.html                         2494 Wed Jun 11 11:06:57 2014\n",
        "psalm  97.json                       211596 Wed Jun 11 11:06:57 2014\n",
        "psalm  98.html                         2048 Wed Jun 11 11:06:57 2014\n",
        "psalm  98.json                       164308 Wed Jun 11 11:06:57 2014\n",
        "psalm  99.html                         2778 Wed Jun 11 11:06:57 2014\n",
        "psalm  99.json                       178304 Wed Jun 11 11:06:57 2014\n",
        "psalm 100.html                         1449 Wed Jun 11 11:06:57 2014\n",
        "psalm 100.json                        98488 Wed Jun 11 11:06:57 2014\n",
        "psalm 101.html                         1858 Wed Jun 11 11:06:57 2014\n",
        "psalm 101.json                       172300 Wed Jun 11 11:06:57 2014\n",
        "psalm 102.html                         6410 Wed Jun 11 11:06:57 2014\n",
        "psalm 102.json                       497918 Wed Jun 11 11:06:57 2014\n",
        "psalm 103.html                         4360 Wed Jun 11 11:06:57 2014\n",
        "psalm 103.json                       381471 Wed Jun 11 11:06:57 2014\n",
        "psalm 104.html                         7721 Wed Jun 11 11:06:58 2014\n",
        "psalm 104.json                       618204 Wed Jun 11 11:06:58 2014\n",
        "psalm 105.html                         9631 Wed Jun 11 11:06:58 2014\n",
        "psalm 105.json                       672062 Wed Jun 11 11:06:58 2014\n",
        "psalm 106.html                        12333 Wed Jun 11 11:06:58 2014\n",
        "psalm 106.json                       808142 Wed Jun 11 11:06:58 2014\n",
        "psalm 107.html                         9605 Wed Jun 11 11:06:59 2014\n",
        "psalm 107.json                       667990 Wed Jun 11 11:06:59 2014\n",
        "psalm 108.html                         2754 Wed Jun 11 11:06:59 2014\n",
        "psalm 108.json                       224923 Wed Jun 11 11:06:59 2014\n",
        "psalm 109.html                         7638 Wed Jun 11 11:06:59 2014\n",
        "psalm 109.json                       540496 Wed Jun 11 11:06:59 2014\n",
        "psalm 110.html                         1456 Wed Jun 11 11:06:59 2014\n",
        "psalm 110.json                       132522 Wed Jun 11 11:06:59 2014\n",
        "psalm 111.html                         1698 Wed Jun 11 11:06:59 2014\n",
        "psalm 111.json                       156950 Wed Jun 11 11:06:59 2014\n",
        "psalm 112.html                         1815 Wed Jun 11 11:06:59 2014\n",
        "psalm 112.json                       180027 Wed Jun 11 11:06:59 2014\n",
        "psalm 113.html                         1095 Wed Jun 11 11:06:59 2014\n",
        "psalm 113.json                       127848 Wed Jun 11 11:06:59 2014\n",
        "psalm 114.html                         1007 Wed Jun 11 11:06:59 2014\n",
        "psalm 114.json                       127449 Wed Jun 11 11:06:59 2014\n",
        "psalm 115.html                         4555 Wed Jun 11 11:06:59 2014\n",
        "psalm 115.json                       302849 Wed Jun 11 11:06:59 2014\n",
        "psalm 116.html                         3512 Wed Jun 11 11:06:59 2014\n",
        "psalm 116.json                       280661 Wed Jun 11 11:06:59 2014\n",
        "psalm 117.html                          515 Wed Jun 11 11:06:59 2014\n",
        "psalm 117.json                        36148 Wed Jun 11 11:06:59 2014\n",
        "psalm 118.html                         5558 Wed Jun 11 11:07:00 2014\n",
        "psalm 118.json                       452915 Wed Jun 11 11:07:00 2014\n",
        "psalm 119.html                        36805 Wed Jun 11 11:07:01 2014\n",
        "psalm 119.json                      2422742 Wed Jun 11 11:07:01 2014\n",
        "psalm 120.html                         1171 Wed Jun 11 11:07:01 2014\n",
        "psalm 120.json                       107059 Wed Jun 11 11:07:01 2014\n",
        "psalm 121.html                         1304 Wed Jun 11 11:07:01 2014\n",
        "psalm 121.json                       122888 Wed Jun 11 11:07:01 2014\n",
        "psalm 122.html                         1697 Wed Jun 11 11:07:01 2014\n",
        "psalm 122.json                       133171 Wed Jun 11 11:07:01 2014\n",
        "psalm 123.html                         1213 Wed Jun 11 11:07:01 2014\n",
        "psalm 123.json                        87272 Wed Jun 11 11:07:01 2014\n",
        "psalm 124.html                         1911 Wed Jun 11 11:07:01 2014\n",
        "psalm 124.json                       126623 Wed Jun 11 11:07:01 2014\n",
        "psalm 125.html                         1085 Wed Jun 11 11:07:01 2014\n",
        "psalm 125.json                       115035 Wed Jun 11 11:07:01 2014\n",
        "psalm 126.html                         1270 Wed Jun 11 11:07:01 2014\n",
        "psalm 126.json                       120078 Wed Jun 11 11:07:01 2014\n",
        "psalm 127.html                         1200 Wed Jun 11 11:07:01 2014\n",
        "psalm 127.json                       123102 Wed Jun 11 11:07:01 2014\n",
        "psalm 128.html                         1040 Wed Jun 11 11:07:01 2014\n",
        "psalm 128.json                       101183 Wed Jun 11 11:07:01 2014\n",
        "psalm 129.html                         1822 Wed Jun 11 11:07:01 2014\n",
        "psalm 129.json                       119394 Wed Jun 11 11:07:01 2014\n",
        "psalm 130.html                         1342 Wed Jun 11 11:07:01 2014\n",
        "psalm 130.json                       125545 Wed Jun 11 11:07:01 2014\n",
        "psalm 131.html                          786 Wed Jun 11 11:07:01 2014\n",
        "psalm 131.json                        77581 Wed Jun 11 11:07:01 2014\n",
        "psalm 132.html                         3960 Wed Jun 11 11:07:01 2014\n",
        "psalm 132.json                       278931 Wed Jun 11 11:07:01 2014\n",
        "psalm 133.html                          429 Wed Jun 11 11:07:01 2014\n",
        "psalm 133.json                        85784 Wed Jun 11 11:07:01 2014\n",
        "psalm 134.html                          575 Wed Jun 11 11:07:01 2014\n",
        "psalm 134.json                        54355 Wed Jun 11 11:07:01 2014\n",
        "psalm 135.html                         3977 Wed Jun 11 11:07:02 2014\n",
        "psalm 135.json                       372102 Wed Jun 11 11:07:02 2014\n",
        "psalm 136.html                         3645 Wed Jun 11 11:07:02 2014\n",
        "psalm 136.json                       392776 Wed Jun 11 11:07:02 2014\n",
        "psalm 137.html                         2484 Wed Jun 11 11:07:02 2014\n",
        "psalm 137.json                       173828 Wed Jun 11 11:07:02 2014\n",
        "psalm 138.html                         2170 Wed Jun 11 11:07:02 2014\n",
        "psalm 138.json                       159364 Wed Jun 11 11:07:02 2014\n",
        "psalm 139.html                         5850 Wed Jun 11 11:07:02 2014\n",
        "psalm 139.json                       433182 Wed Jun 11 11:07:02 2014\n",
        "psalm 140.html                         3409 Wed Jun 11 11:07:02 2014\n",
        "psalm 140.json                       243048 Wed Jun 11 11:07:02 2014\n",
        "psalm 141.html                         2887 Wed Jun 11 11:07:02 2014\n",
        "psalm 141.json                       205913 Wed Jun 11 11:07:02 2014\n",
        "psalm 142.html                         2361 Wed Jun 11 11:07:02 2014\n",
        "psalm 142.json                       167804 Wed Jun 11 11:07:02 2014\n",
        "psalm 143.html                         3839 Wed Jun 11 11:07:02 2014\n",
        "psalm 143.json                       255164 Wed Jun 11 11:07:02 2014\n",
        "psalm 144.html                         3870 Wed Jun 11 11:07:02 2014\n",
        "psalm 144.json                       311416 Wed Jun 11 11:07:02 2014\n",
        "psalm 145.html                         4258 Wed Jun 11 11:07:03 2014\n",
        "psalm 145.json                       341921 Wed Jun 11 11:07:03 2014\n",
        "psalm 146.html                         1895 Wed Jun 11 11:07:03 2014\n",
        "psalm 146.json                       190201 Wed Jun 11 11:07:03 2014\n",
        "psalm 147.html                         3540 Wed Jun 11 11:07:03 2014\n",
        "psalm 147.json                       321490 Wed Jun 11 11:07:03 2014\n",
        "psalm 148.html                         2689 Wed Jun 11 11:07:03 2014\n",
        "psalm 148.json                       228766 Wed Jun 11 11:07:03 2014\n",
        "psalm 149.html                         1979 Wed Jun 11 11:07:03 2014\n",
        "psalm 149.json                       140944 Wed Jun 11 11:07:03 2014\n",
        "psalm 150.html                         1630 Wed Jun 11 11:07:03 2014\n",
        "psalm 150.json                        82591 Wed Jun 11 11:07:03 2014\n"
       ]
      }
     ],
     "prompt_number": 5
    },
    {
     "cell_type": "code",
     "collapsed": false,
     "input": [],
     "language": "python",
     "metadata": {},
     "outputs": []
    }
   ],
   "metadata": {}
  }
 ]
}