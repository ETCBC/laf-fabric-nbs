{
 "metadata": {
  "name": "",
  "signature": "sha256:e4f4a49cd0ec5cb34a30d219c24993cea64744d2e8b15e283ad8fbaf327f2101"
 },
 "nbformat": 3,
 "nbformat_minor": 0,
 "worksheets": [
  {
   "cells": [
    {
     "cell_type": "code",
     "collapsed": false,
     "input": [
      "import sys\n",
      "import collections\n",
      "\n",
      "import matplotlib.pyplot as plt\n",
      "%matplotlib inline\n",
      "\n",
      "from laf.fabric import LafFabric\n",
      "fabric = LafFabric()"
     ],
     "language": "python",
     "metadata": {},
     "outputs": [
      {
       "output_type": "stream",
       "stream": "stderr",
       "text": [
        "  0.00s This is LAF-Fabric 4.2.8\n",
        "http://laf-fabric.readthedocs.org/en/latest/texts/API-reference.html\n"
       ]
      }
     ],
     "prompt_number": 1
    },
    {
     "cell_type": "code",
     "collapsed": false,
     "input": [
      "fabric.load('bhs3', '--', 'psalms', {\n",
      "    \"xmlids\": {\"node\": False, \"edge\": False},\n",
      "    \"features\": ('''\n",
      "        otype monads maxmonad minmonad\n",
      "        noun_type gender number person part_of_speech clause_atom_relation\n",
      "        verse_label verse chapter book\n",
      "    ''',''),\n",
      "    \"primary\": False,\n",
      "}, verbose='DETAIL')\n",
      "exec(fabric.localnames.format(var='fabric'))"
     ],
     "language": "python",
     "metadata": {},
     "outputs": [
      {
       "output_type": "stream",
       "stream": "stderr",
       "text": [
        "  0.00s LOADING API: please wait ... \n"
       ]
      },
      {
       "output_type": "stream",
       "stream": "stderr",
       "text": [
        "  0.00s DETAIL: COMPILING m: UP TO DATE\n"
       ]
      },
      {
       "output_type": "stream",
       "stream": "stderr",
       "text": [
        "  0.00s INFO: DATA COMPILED AT: 2014-04-18T18-24-37\n"
       ]
      },
      {
       "output_type": "stream",
       "stream": "stderr",
       "text": [
        "  0.00s DETAIL: COMPILING a: UP TO DATE\n"
       ]
      },
      {
       "output_type": "stream",
       "stream": "stderr",
       "text": [
        "  0.01s DETAIL: keep main: G.node_anchor_min\n"
       ]
      },
      {
       "output_type": "stream",
       "stream": "stderr",
       "text": [
        "  0.01s DETAIL: keep main: G.node_anchor_max\n"
       ]
      },
      {
       "output_type": "stream",
       "stream": "stderr",
       "text": [
        "  0.01s DETAIL: keep main: G.node_sort\n"
       ]
      },
      {
       "output_type": "stream",
       "stream": "stderr",
       "text": [
        "  0.01s DETAIL: keep main: G.node_sort_inv\n"
       ]
      },
      {
       "output_type": "stream",
       "stream": "stderr",
       "text": [
        "  0.01s DETAIL: keep main: G.edges_from\n"
       ]
      },
      {
       "output_type": "stream",
       "stream": "stderr",
       "text": [
        "  0.01s DETAIL: keep main: G.edges_to\n"
       ]
      },
      {
       "output_type": "stream",
       "stream": "stderr",
       "text": [
        "  0.01s DETAIL: keep main: F.shebanq_db_maxmonad [node] \n"
       ]
      },
      {
       "output_type": "stream",
       "stream": "stderr",
       "text": [
        "  0.01s DETAIL: keep main: F.shebanq_db_minmonad [node] \n"
       ]
      },
      {
       "output_type": "stream",
       "stream": "stderr",
       "text": [
        "  0.01s DETAIL: keep main: F.shebanq_db_monads [node] \n"
       ]
      },
      {
       "output_type": "stream",
       "stream": "stderr",
       "text": [
        "  0.01s DETAIL: keep main: F.shebanq_db_otype [node] \n"
       ]
      },
      {
       "output_type": "stream",
       "stream": "stderr",
       "text": [
        "  0.01s DETAIL: keep main: F.shebanq_ft_gender [node] \n"
       ]
      },
      {
       "output_type": "stream",
       "stream": "stderr",
       "text": [
        "  0.01s DETAIL: keep main: F.shebanq_ft_noun_type [node] \n"
       ]
      },
      {
       "output_type": "stream",
       "stream": "stderr",
       "text": [
        "  0.01s DETAIL: keep main: F.shebanq_ft_number [node] \n"
       ]
      },
      {
       "output_type": "stream",
       "stream": "stderr",
       "text": [
        "  0.02s DETAIL: keep main: F.shebanq_ft_part_of_speech [node] \n"
       ]
      },
      {
       "output_type": "stream",
       "stream": "stderr",
       "text": [
        "  0.02s DETAIL: keep main: F.shebanq_ft_person [node] \n"
       ]
      },
      {
       "output_type": "stream",
       "stream": "stderr",
       "text": [
        "  0.02s DETAIL: keep main: F.shebanq_sft_book [node] \n"
       ]
      },
      {
       "output_type": "stream",
       "stream": "stderr",
       "text": [
        "  0.02s DETAIL: keep main: F.shebanq_sft_chapter [node] \n"
       ]
      },
      {
       "output_type": "stream",
       "stream": "stderr",
       "text": [
        "  0.02s DETAIL: keep main: F.shebanq_sft_verse [node] \n"
       ]
      },
      {
       "output_type": "stream",
       "stream": "stderr",
       "text": [
        "  0.02s DETAIL: keep main: F.shebanq_sft_verse_label [node] \n"
       ]
      },
      {
       "output_type": "stream",
       "stream": "stderr",
       "text": [
        "  0.02s DETAIL: clear main: F.shebanq_ft_text_type [node] \n"
       ]
      },
      {
       "output_type": "stream",
       "stream": "stderr",
       "text": [
        "  0.02s DETAIL: load main: F.shebanq_ft_clause_atom_relation [node] \n"
       ]
      },
      {
       "output_type": "stream",
       "stream": "stderr",
       "text": [
        "  0.07s LOGFILE=/Users/dirk/laf-fabric-data/bhs3/tasks/psalms/__log__psalms.txt\n"
       ]
      },
      {
       "output_type": "stream",
       "stream": "stderr",
       "text": [
        "  0.08s INFO: DATA LOADED FROM SOURCE bhs3 AND ANNOX -- FOR TASK psalms\n"
       ]
      }
     ],
     "prompt_number": 21
    },
    {
     "cell_type": "code",
     "collapsed": false,
     "input": [
      "psalm_nodes = collections.defaultdict(lambda: [])\n",
      "type_table = {'sentence', 'clause', 'clause_atom', 'phrase', 'word'}\n",
      "\n",
      "def get_psalms():\n",
      "    psalm_nodes.clear()\n",
      "    doit = False\n",
      "    doing = False\n",
      "    psfh = None\n",
      "    Fotypev = F.otype.v\n",
      "    chapter = None\n",
      "    for node in NN():\n",
      "        otype = Fotypev(node)\n",
      "        if otype == 'book':\n",
      "            doit = F.book.v(node) == \"Psalms\"\n",
      "            if doit:\n",
      "                doing = True\n",
      "            else:\n",
      "                if doing: break\n",
      "        else:\n",
      "            if not doit: continue\n",
      "            if otype == 'chapter':\n",
      "                chapter = int(F.chapter.v(node))\n",
      "            elif otype in type_table or otype == 'verse': \n",
      "                psalm_nodes[chapter].append(node)"
     ],
     "language": "python",
     "metadata": {},
     "outputs": [],
     "prompt_number": 22
    },
    {
     "cell_type": "code",
     "collapsed": false,
     "input": [
      "number = {\n",
      "    'singular': 's',\n",
      "    'plural': 'p',\n",
      "    'dual': 'd',\n",
      "    'unknown': '?',\n",
      "    'none': 'x',\n",
      "}\n",
      "person = {\n",
      "    'first_person': '1',\n",
      "    'second_person': '2',\n",
      "    'third_person': '3',\n",
      "    'unknown': '?',\n",
      "    'none': 'x',\n",
      "}"
     ],
     "language": "python",
     "metadata": {},
     "outputs": [],
     "prompt_number": 23
    },
    {
     "cell_type": "code",
     "collapsed": false,
     "input": [
      "out = outfile(\"psalm12viz.txt\")\n",
      "\n",
      "type_map = collections.defaultdict(lambda: None, [\n",
      "    (\"chapter\", 'Ch'),\n",
      "    (\"verse\", 'V'),\n",
      "    (\"sentence\", 'S'),\n",
      "    (\"clause\", 'C'),\n",
      "    (\"clause_atom\", 'c'),\n",
      "    (\"phrase\", 'P'),\n",
      "    (\"word\", 'w'),\n",
      "])\n",
      "otypes = ['Ch', 'V', 'S', 'C', 'c', 'P', 'w']\n",
      "lastmin = None\n",
      "lastmax = None\n",
      "watch = collections.defaultdict(lambda: {})\n",
      "start = {}\n",
      "cur_verse_label = ['','']\n",
      "Fotypev = F.otype.v\n",
      "Fmonadsv = F.monads.v\n",
      "Fminmonadv = F.minmonad.v\n",
      "Fmaxmonadv = F.maxmonad.v\n",
      "Fverselabelv = F.verse_label.v\n",
      "Fversev = F.verse.v\n",
      "Fbookv = F.book.v\n",
      "Fchapterv = F.chapter.v\n",
      "n = F.number.v\n",
      "p = F.person.v\n",
      "pos = F.part_of_speech.v\n",
      "\n",
      "def print_node(ob, obdata):\n",
      "    (node, minm, maxm, monads) = obdata\n",
      "    if ob == \"w\":\n",
      "        if not watch:\n",
      "            out.write(\"~\")\n",
      "        else:\n",
      "            outchar = \"\u2500\"\n",
      "            p_o_s = pos(node)\n",
      "            if p_o_s == \"verb\":\n",
      "                if person[p(node)] == \"1\":\n",
      "                    nn = number[n(node)]\n",
      "                    outchar = '\u25cb' if nn == 's' else '\u25ce' if nn == 'd' else '\u25cf'\n",
      "            out.write(outchar)\n",
      "        if monads in watch:\n",
      "            tofinish = watch[monads]\n",
      "            for o in reversed(otypes):\n",
      "                if o in tofinish:\n",
      "                    if o == 'C':\n",
      "                        out.write(\"\u2524\")\n",
      "                    elif o == 'P':\n",
      "                        if 'C' not in tofinish:\n",
      "                            out.write(\"\u253c\")\n",
      "                    elif o != 'S':\n",
      "                        out.write(\"{}\u00bb\".format(o))\n",
      "            del watch[monads]\n",
      "    elif ob == \"Ch\":\n",
      "        this_chapter_label = \"{} {}\".format(Fbookv(node), Fchapterv(node))\n",
      "    elif ob == \"V\":\n",
      "        this_verse_label = Fverselabelv(node).strip(\" \")\n",
      "        cur_verse_label[0] = this_verse_label\n",
      "        cur_verse_label[1] = this_verse_label\n",
      "    elif ob == \"S\":\n",
      "        out.write(\"\\n{:<11} \".format(cur_verse_label[1]))\n",
      "        cur_verse_label[1] = ''\n",
      "        watch[maxm][ob] = None\n",
      "    elif ob == \"c\":\n",
      "        out.write(\"{}\".format(F.clause_atom_relation.v(node)))\n",
      "    elif ob == \"C\":\n",
      "        out.write(\"\u251c\")\n",
      "        watch[maxm][ob] = None\n",
      "    elif ob == \"P\":\n",
      "        watch[maxm][ob] = None\n",
      "    else:\n",
      "        out.write(\"\u00ab{}\".format(ob))\n",
      "        watch[maxm][ob] = None\n",
      "\n",
      "def do_psalm(nr):\n",
      "    lastmin = None\n",
      "    lastmax = None\n",
      "    data = []    \n",
      "    cur_verse = None\n",
      "    cur_sentence = None\n",
      "    for node in psalm_nodes[nr]:\n",
      "        otype = Fotypev(node)\n",
      "        ob = type_map[otype]\n",
      "        if ob == None:\n",
      "            continue\n",
      "        monads = Fmonadsv(node)\n",
      "        minm = Fminmonadv(node)\n",
      "        maxm = Fmaxmonadv(node)\n",
      "        if lastmin == minm and lastmax == maxm:\n",
      "            start[ob] = (node, minm, maxm, monads)\n",
      "        else:\n",
      "            for o in otypes:\n",
      "                if o in start:\n",
      "                    print_node(o, start[o])\n",
      "            start.clear()\n",
      "            start[ob] = (node, minm, maxm, monads)\n",
      "            lastmin = minm\n",
      "            lastmax = maxm\n",
      "    for ob in otypes:\n",
      "        if ob in start:\n",
      "            print_node(ob, start[ob])"
     ],
     "language": "python",
     "metadata": {},
     "outputs": [],
     "prompt_number": 28
    },
    {
     "cell_type": "code",
     "collapsed": false,
     "input": [
      "msg(\"Collecting nodes of the psalms\")\n",
      "get_psalms()\n",
      "msg(\"Psalms collected\")"
     ],
     "language": "python",
     "metadata": {},
     "outputs": [
      {
       "output_type": "stream",
       "stream": "stderr",
       "text": [
        "    19s Collecting nodes of the psalms\n"
       ]
      },
      {
       "output_type": "stream",
       "stream": "stderr",
       "text": [
        "    20s Psalms collected\n"
       ]
      }
     ],
     "prompt_number": 25
    },
    {
     "cell_type": "code",
     "collapsed": false,
     "input": [
      "for ps in sorted(psalm_nodes):\n",
      "    msg(\" {} \".format(ps), withtime=False, newline=False)\n",
      "    do_psalm(ps)\n",
      "msg('', withtime=False)\n",
      "msg(\"Psalms processed\")\n",
      "out.close()"
     ],
     "language": "python",
     "metadata": {},
     "outputs": [
      {
       "output_type": "stream",
       "stream": "stderr",
       "text": [
        " 1 "
       ]
      },
      {
       "output_type": "stream",
       "stream": "stderr",
       "text": [
        " 2 "
       ]
      },
      {
       "output_type": "stream",
       "stream": "stderr",
       "text": [
        " 3 "
       ]
      },
      {
       "output_type": "stream",
       "stream": "stderr",
       "text": [
        " 4 "
       ]
      },
      {
       "output_type": "stream",
       "stream": "stderr",
       "text": [
        " 5 "
       ]
      },
      {
       "output_type": "stream",
       "stream": "stderr",
       "text": [
        " 6 "
       ]
      },
      {
       "output_type": "stream",
       "stream": "stderr",
       "text": [
        " 7 "
       ]
      },
      {
       "output_type": "stream",
       "stream": "stderr",
       "text": [
        " 8 "
       ]
      },
      {
       "output_type": "stream",
       "stream": "stderr",
       "text": [
        " 9 "
       ]
      },
      {
       "output_type": "stream",
       "stream": "stderr",
       "text": [
        " 10 "
       ]
      },
      {
       "output_type": "stream",
       "stream": "stderr",
       "text": [
        " 11 "
       ]
      },
      {
       "output_type": "stream",
       "stream": "stderr",
       "text": [
        " 12 "
       ]
      },
      {
       "output_type": "stream",
       "stream": "stderr",
       "text": [
        " 13 "
       ]
      },
      {
       "output_type": "stream",
       "stream": "stderr",
       "text": [
        " 14 "
       ]
      },
      {
       "output_type": "stream",
       "stream": "stderr",
       "text": [
        " 15 "
       ]
      },
      {
       "output_type": "stream",
       "stream": "stderr",
       "text": [
        " 16 "
       ]
      },
      {
       "output_type": "stream",
       "stream": "stderr",
       "text": [
        " 17 "
       ]
      },
      {
       "output_type": "stream",
       "stream": "stderr",
       "text": [
        " 18 "
       ]
      },
      {
       "output_type": "stream",
       "stream": "stderr",
       "text": [
        " 19 "
       ]
      },
      {
       "output_type": "stream",
       "stream": "stderr",
       "text": [
        " 20 "
       ]
      },
      {
       "output_type": "stream",
       "stream": "stderr",
       "text": [
        " 21 "
       ]
      },
      {
       "output_type": "stream",
       "stream": "stderr",
       "text": [
        " 22 "
       ]
      },
      {
       "output_type": "stream",
       "stream": "stderr",
       "text": [
        " 23 "
       ]
      },
      {
       "output_type": "stream",
       "stream": "stderr",
       "text": [
        " 24 "
       ]
      },
      {
       "output_type": "stream",
       "stream": "stderr",
       "text": [
        " 25 "
       ]
      },
      {
       "output_type": "stream",
       "stream": "stderr",
       "text": [
        " 26 "
       ]
      },
      {
       "output_type": "stream",
       "stream": "stderr",
       "text": [
        " 27 "
       ]
      },
      {
       "output_type": "stream",
       "stream": "stderr",
       "text": [
        " 28 "
       ]
      },
      {
       "output_type": "stream",
       "stream": "stderr",
       "text": [
        " 29 "
       ]
      },
      {
       "output_type": "stream",
       "stream": "stderr",
       "text": [
        " 30 "
       ]
      },
      {
       "output_type": "stream",
       "stream": "stderr",
       "text": [
        " 31 "
       ]
      },
      {
       "output_type": "stream",
       "stream": "stderr",
       "text": [
        " 32 "
       ]
      },
      {
       "output_type": "stream",
       "stream": "stderr",
       "text": [
        " 33 "
       ]
      },
      {
       "output_type": "stream",
       "stream": "stderr",
       "text": [
        " 34 "
       ]
      },
      {
       "output_type": "stream",
       "stream": "stderr",
       "text": [
        " 35 "
       ]
      },
      {
       "output_type": "stream",
       "stream": "stderr",
       "text": [
        " 36 "
       ]
      },
      {
       "output_type": "stream",
       "stream": "stderr",
       "text": [
        " 37 "
       ]
      },
      {
       "output_type": "stream",
       "stream": "stderr",
       "text": [
        " 38 "
       ]
      },
      {
       "output_type": "stream",
       "stream": "stderr",
       "text": [
        " 39 "
       ]
      },
      {
       "output_type": "stream",
       "stream": "stderr",
       "text": [
        " 40 "
       ]
      },
      {
       "output_type": "stream",
       "stream": "stderr",
       "text": [
        " 41 "
       ]
      },
      {
       "output_type": "stream",
       "stream": "stderr",
       "text": [
        " 42 "
       ]
      },
      {
       "output_type": "stream",
       "stream": "stderr",
       "text": [
        " 43 "
       ]
      },
      {
       "output_type": "stream",
       "stream": "stderr",
       "text": [
        " 44 "
       ]
      },
      {
       "output_type": "stream",
       "stream": "stderr",
       "text": [
        " 45 "
       ]
      },
      {
       "output_type": "stream",
       "stream": "stderr",
       "text": [
        " 46 "
       ]
      },
      {
       "output_type": "stream",
       "stream": "stderr",
       "text": [
        " 47 "
       ]
      },
      {
       "output_type": "stream",
       "stream": "stderr",
       "text": [
        " 48 "
       ]
      },
      {
       "output_type": "stream",
       "stream": "stderr",
       "text": [
        " 49 "
       ]
      },
      {
       "output_type": "stream",
       "stream": "stderr",
       "text": [
        " 50 "
       ]
      },
      {
       "output_type": "stream",
       "stream": "stderr",
       "text": [
        " 51 "
       ]
      },
      {
       "output_type": "stream",
       "stream": "stderr",
       "text": [
        " 52 "
       ]
      },
      {
       "output_type": "stream",
       "stream": "stderr",
       "text": [
        " 53 "
       ]
      },
      {
       "output_type": "stream",
       "stream": "stderr",
       "text": [
        " 54 "
       ]
      },
      {
       "output_type": "stream",
       "stream": "stderr",
       "text": [
        " 55 "
       ]
      },
      {
       "output_type": "stream",
       "stream": "stderr",
       "text": [
        " 56 "
       ]
      },
      {
       "output_type": "stream",
       "stream": "stderr",
       "text": [
        " 57 "
       ]
      },
      {
       "output_type": "stream",
       "stream": "stderr",
       "text": [
        " 58 "
       ]
      },
      {
       "output_type": "stream",
       "stream": "stderr",
       "text": [
        " 59 "
       ]
      },
      {
       "output_type": "stream",
       "stream": "stderr",
       "text": [
        " 60 "
       ]
      },
      {
       "output_type": "stream",
       "stream": "stderr",
       "text": [
        " 61 "
       ]
      },
      {
       "output_type": "stream",
       "stream": "stderr",
       "text": [
        " 62 "
       ]
      },
      {
       "output_type": "stream",
       "stream": "stderr",
       "text": [
        " 63 "
       ]
      },
      {
       "output_type": "stream",
       "stream": "stderr",
       "text": [
        " 64 "
       ]
      },
      {
       "output_type": "stream",
       "stream": "stderr",
       "text": [
        " 65 "
       ]
      },
      {
       "output_type": "stream",
       "stream": "stderr",
       "text": [
        " 66 "
       ]
      },
      {
       "output_type": "stream",
       "stream": "stderr",
       "text": [
        " 67 "
       ]
      },
      {
       "output_type": "stream",
       "stream": "stderr",
       "text": [
        " 68 "
       ]
      },
      {
       "output_type": "stream",
       "stream": "stderr",
       "text": [
        " 69 "
       ]
      },
      {
       "output_type": "stream",
       "stream": "stderr",
       "text": [
        " 70 "
       ]
      },
      {
       "output_type": "stream",
       "stream": "stderr",
       "text": [
        " 71 "
       ]
      },
      {
       "output_type": "stream",
       "stream": "stderr",
       "text": [
        " 72 "
       ]
      },
      {
       "output_type": "stream",
       "stream": "stderr",
       "text": [
        " 73 "
       ]
      },
      {
       "output_type": "stream",
       "stream": "stderr",
       "text": [
        " 74 "
       ]
      },
      {
       "output_type": "stream",
       "stream": "stderr",
       "text": [
        " 75 "
       ]
      },
      {
       "output_type": "stream",
       "stream": "stderr",
       "text": [
        " 76 "
       ]
      },
      {
       "output_type": "stream",
       "stream": "stderr",
       "text": [
        " 77 "
       ]
      },
      {
       "output_type": "stream",
       "stream": "stderr",
       "text": [
        " 78 "
       ]
      },
      {
       "output_type": "stream",
       "stream": "stderr",
       "text": [
        " 79 "
       ]
      },
      {
       "output_type": "stream",
       "stream": "stderr",
       "text": [
        " 80 "
       ]
      },
      {
       "output_type": "stream",
       "stream": "stderr",
       "text": [
        " 81 "
       ]
      },
      {
       "output_type": "stream",
       "stream": "stderr",
       "text": [
        " 82 "
       ]
      },
      {
       "output_type": "stream",
       "stream": "stderr",
       "text": [
        " 83 "
       ]
      },
      {
       "output_type": "stream",
       "stream": "stderr",
       "text": [
        " 84 "
       ]
      },
      {
       "output_type": "stream",
       "stream": "stderr",
       "text": [
        " 85 "
       ]
      },
      {
       "output_type": "stream",
       "stream": "stderr",
       "text": [
        " 86 "
       ]
      },
      {
       "output_type": "stream",
       "stream": "stderr",
       "text": [
        " 87 "
       ]
      },
      {
       "output_type": "stream",
       "stream": "stderr",
       "text": [
        " 88 "
       ]
      },
      {
       "output_type": "stream",
       "stream": "stderr",
       "text": [
        " 89 "
       ]
      },
      {
       "output_type": "stream",
       "stream": "stderr",
       "text": [
        " 90 "
       ]
      },
      {
       "output_type": "stream",
       "stream": "stderr",
       "text": [
        " 91 "
       ]
      },
      {
       "output_type": "stream",
       "stream": "stderr",
       "text": [
        " 92 "
       ]
      },
      {
       "output_type": "stream",
       "stream": "stderr",
       "text": [
        " 93 "
       ]
      },
      {
       "output_type": "stream",
       "stream": "stderr",
       "text": [
        " 94 "
       ]
      },
      {
       "output_type": "stream",
       "stream": "stderr",
       "text": [
        " 95 "
       ]
      },
      {
       "output_type": "stream",
       "stream": "stderr",
       "text": [
        " 96 "
       ]
      },
      {
       "output_type": "stream",
       "stream": "stderr",
       "text": [
        " 97 "
       ]
      },
      {
       "output_type": "stream",
       "stream": "stderr",
       "text": [
        " 98 "
       ]
      },
      {
       "output_type": "stream",
       "stream": "stderr",
       "text": [
        " 99 "
       ]
      },
      {
       "output_type": "stream",
       "stream": "stderr",
       "text": [
        " 100 "
       ]
      },
      {
       "output_type": "stream",
       "stream": "stderr",
       "text": [
        " 101 "
       ]
      },
      {
       "output_type": "stream",
       "stream": "stderr",
       "text": [
        " 102 "
       ]
      },
      {
       "output_type": "stream",
       "stream": "stderr",
       "text": [
        " 103 "
       ]
      },
      {
       "output_type": "stream",
       "stream": "stderr",
       "text": [
        " 104 "
       ]
      },
      {
       "output_type": "stream",
       "stream": "stderr",
       "text": [
        " 105 "
       ]
      },
      {
       "output_type": "stream",
       "stream": "stderr",
       "text": [
        " 106 "
       ]
      },
      {
       "output_type": "stream",
       "stream": "stderr",
       "text": [
        " 107 "
       ]
      },
      {
       "output_type": "stream",
       "stream": "stderr",
       "text": [
        " 108 "
       ]
      },
      {
       "output_type": "stream",
       "stream": "stderr",
       "text": [
        " 109 "
       ]
      },
      {
       "output_type": "stream",
       "stream": "stderr",
       "text": [
        " 110 "
       ]
      },
      {
       "output_type": "stream",
       "stream": "stderr",
       "text": [
        " 111 "
       ]
      },
      {
       "output_type": "stream",
       "stream": "stderr",
       "text": [
        " 112 "
       ]
      },
      {
       "output_type": "stream",
       "stream": "stderr",
       "text": [
        " 113 "
       ]
      },
      {
       "output_type": "stream",
       "stream": "stderr",
       "text": [
        " 114 "
       ]
      },
      {
       "output_type": "stream",
       "stream": "stderr",
       "text": [
        " 115 "
       ]
      },
      {
       "output_type": "stream",
       "stream": "stderr",
       "text": [
        " 116 "
       ]
      },
      {
       "output_type": "stream",
       "stream": "stderr",
       "text": [
        " 117 "
       ]
      },
      {
       "output_type": "stream",
       "stream": "stderr",
       "text": [
        " 118 "
       ]
      },
      {
       "output_type": "stream",
       "stream": "stderr",
       "text": [
        " 119 "
       ]
      },
      {
       "output_type": "stream",
       "stream": "stderr",
       "text": [
        " 120 "
       ]
      },
      {
       "output_type": "stream",
       "stream": "stderr",
       "text": [
        " 121 "
       ]
      },
      {
       "output_type": "stream",
       "stream": "stderr",
       "text": [
        " 122 "
       ]
      },
      {
       "output_type": "stream",
       "stream": "stderr",
       "text": [
        " 123 "
       ]
      },
      {
       "output_type": "stream",
       "stream": "stderr",
       "text": [
        " 124 "
       ]
      },
      {
       "output_type": "stream",
       "stream": "stderr",
       "text": [
        " 125 "
       ]
      },
      {
       "output_type": "stream",
       "stream": "stderr",
       "text": [
        " 126 "
       ]
      },
      {
       "output_type": "stream",
       "stream": "stderr",
       "text": [
        " 127 "
       ]
      },
      {
       "output_type": "stream",
       "stream": "stderr",
       "text": [
        " 128 "
       ]
      },
      {
       "output_type": "stream",
       "stream": "stderr",
       "text": [
        " 129 "
       ]
      },
      {
       "output_type": "stream",
       "stream": "stderr",
       "text": [
        " 130 "
       ]
      },
      {
       "output_type": "stream",
       "stream": "stderr",
       "text": [
        " 131 "
       ]
      },
      {
       "output_type": "stream",
       "stream": "stderr",
       "text": [
        " 132 "
       ]
      },
      {
       "output_type": "stream",
       "stream": "stderr",
       "text": [
        " 133 "
       ]
      },
      {
       "output_type": "stream",
       "stream": "stderr",
       "text": [
        " 134 "
       ]
      },
      {
       "output_type": "stream",
       "stream": "stderr",
       "text": [
        " 135 "
       ]
      },
      {
       "output_type": "stream",
       "stream": "stderr",
       "text": [
        " 136 "
       ]
      },
      {
       "output_type": "stream",
       "stream": "stderr",
       "text": [
        " 137 "
       ]
      },
      {
       "output_type": "stream",
       "stream": "stderr",
       "text": [
        " 138 "
       ]
      },
      {
       "output_type": "stream",
       "stream": "stderr",
       "text": [
        " 139 "
       ]
      },
      {
       "output_type": "stream",
       "stream": "stderr",
       "text": [
        " 140 "
       ]
      },
      {
       "output_type": "stream",
       "stream": "stderr",
       "text": [
        " 141 "
       ]
      },
      {
       "output_type": "stream",
       "stream": "stderr",
       "text": [
        " 142 "
       ]
      },
      {
       "output_type": "stream",
       "stream": "stderr",
       "text": [
        " 143 "
       ]
      },
      {
       "output_type": "stream",
       "stream": "stderr",
       "text": [
        " 144 "
       ]
      },
      {
       "output_type": "stream",
       "stream": "stderr",
       "text": [
        " 145 "
       ]
      },
      {
       "output_type": "stream",
       "stream": "stderr",
       "text": [
        " 146 "
       ]
      },
      {
       "output_type": "stream",
       "stream": "stderr",
       "text": [
        " 147 "
       ]
      },
      {
       "output_type": "stream",
       "stream": "stderr",
       "text": [
        " 148 "
       ]
      },
      {
       "output_type": "stream",
       "stream": "stderr",
       "text": [
        " 149 "
       ]
      },
      {
       "output_type": "stream",
       "stream": "stderr",
       "text": [
        " 150 "
       ]
      },
      {
       "output_type": "stream",
       "stream": "stderr",
       "text": [
        "\n"
       ]
      },
      {
       "output_type": "stream",
       "stream": "stderr",
       "text": [
        "    58s Psalms processed\n"
       ]
      }
     ],
     "prompt_number": 29
    },
    {
     "cell_type": "code",
     "collapsed": false,
     "input": [
      "viz = infile('psalm12viz.txt')\n",
      "lines = viz.readlines()\n",
      "print(''.join(lines[0:100]))"
     ],
     "language": "python",
     "metadata": {},
     "outputs": [
      {
       "output_type": "stream",
       "stream": "stdout",
       "text": [
        "\n",
        "PS001,001   \u251c0\u2500\u2500\u2500\u2524\u251c12\u2500\u253c\u2500\u253c\u2500\u253c\u2500\u2500\u2500\u2524\u251c322\u2500\u253c\u2500\u2500\u2500\u253c\u2500\u253c\u2500\u2524\u251c200\u2500\u253c\u2500\u2500\u2500\u253c\u2500\u253c\u2500\u2524\n",
        "PS001,002   \u251c502\u2500\u2500\u253c\u2500\u2500\u2500\u253c\u2500\u2524\n",
        "            \u251c310\u2500\u253c\u2500\u2500\u253c\u2500\u253c\u2500\u2500\u2500\u2524\n",
        "PS001,003   \u251c320\u2500\u253c\u2500\u253c\u2500\u2500\u2524\u251c162\u2500\u253c\u2500\u2500\u2500\u2524\u251c12\u2500\u253c\u2500\u253c\u2500\u253c\u2500\u2500\u2524\u251c311\u2500\u253c\u2500\u253c\u2500\u253c\u2500\u2524\n",
        "            \u251c312\u2500\u253c\u2500\u253c\u251c11\u2500\u253c\u2500\u2524222\u2500\u2524\n",
        "PS001,004   \u251c100\u2500\u253c\u2500\u253c\u2500\u2500\u2524\u251c500\u2500\u2500\u253c\u2500\u2500\u2524\u2500\u251c11\u2500\u253c\u2500\u253c\u2500\u2524\n",
        "PS001,005   \u251c110\u2500\u2500\u253c\u2500\u253c\u2500\u253c\u2500\u253c\u2500\u2500\u2524\u2500\u251c301\u2500\u253c\u2500\u253c\u2500\u2500\u2500\u2524\n",
        "PS001,006   \u251c561\u2500\u253c\u2500\u253c\u2500\u253c\u2500\u2500\u2524\n",
        "            \u251c316\u2500\u253c\u2500\u2500\u253c\u2500\u2524\u2500\u253c\n",
        "PS002,001   \u251c0\u2500\u253c\u2500\u253c\u2500\u2524\n",
        "            \u251c0\u2500\u253c\u2500\u253c\u2500\u253c\u2500\u2524\n",
        "PS002,002   \u251c0\u2500\u253c\u2500\u2500\u2524\n",
        "            \u251c0\u2500\u253c\u2500\u253c\u2500\u253c\u2500\u253c\u2500\u2500\u2500\u2500\u2500\u2524\n",
        "PS002,003   \u251c0\u25cf\u253c\u2500\u2500\u2524\n",
        "            \u251c0\u2500\u253c\u25cf\u253c\u2500\u253c\u2500\u2524\n",
        "PS002,004   \u251c0\u2500\u253c\u2500\u2500\u2524~\n",
        "            \u251c0\u2500\u2524\n",
        "            \u251c0\u2500\u253c\u2500\u253c\u2500\u2524\n",
        "PS002,005   \u251c0\u2500\u253c\u2500\u253c\u2500\u253c\u2500\u2500\u2524\n",
        "            \u251c0\u2500\u253c\u2500\u2500\u253c\u2500\u2524\n",
        "PS002,006   \u251c0\u2500\u253c\u2500\u253c\u25cb\u253c\u2500\u253c\u2500\u2500\u2500\u2500\u2524\n",
        "PS002,007   \u251c0\u25cb\u253c\u2500\u2500\u2524\n",
        "            \u251c0\u2500\u253c\u2500\u253c\u2500\u2524\n",
        "            \u251c0\u2500\u253c\u2500\u2524\n",
        "            \u251c0\u2500\u253c\u2500\u2500\u253c\u25cb\u2524\n",
        "PS002,008   \u251c0\u2500\u253c\u2500\u2524\n",
        "            \u251c0\u2500\u253c\u25cb\u253c\u2500\u253c\u2500\u2524\n",
        "            \u251c0\u2500\u253c\u2500\u253c\u2500\u2500\u2524\n",
        "PS002,009   \u251c0\u2500\u253c\u2500\u2500\u2500\u2524\n",
        "            \u251c0\u2500\u2500\u2500\u253c\u2500\u2524\n",
        "PS002,010   \u251c0\u2500\u253c\u2500\u2524\n",
        "            \u251c0\u2500\u2524\n",
        "            \u251c0\u2500\u2524\n",
        "            \u251c0\u2500\u2524\n",
        "            \u251c0\u2500\u2500\u2524\n",
        "PS002,011   \u251c0\u2500\u253c\u2500\u2500\u253c\u2500\u2500\u2524\n",
        "            \u251c0\u2500\u253c\u2500\u253c\u2500\u2500\u2524\n",
        "PS002,012   \u251c0\u2500\u253c\u2500\u2524\n",
        "            \u251c0\u2500\u253c\u2500\u2524\n",
        "            \u251c0\u2500\u253c\u2500\u253c\u2500\u2524\n",
        "            \u251c0\u2500\u253c\u2500\u253c\u2500\u2500\u253c\u2500\u2524\n",
        "            \u251c0\u2500\u2500\u2524\n",
        "            \u251c0\u2500\u253c\u2500\u2524\u2500\u253c\n",
        "PS003,001   \u251c0\u2500\u253c\u2500\u2500\u2524\n",
        "            \u251c0\u2500\u2500\u253c\u2500\u2500\u2500\u2500\u2524\n",
        "PS003,002   \u251c0\u2500\u2524\n",
        "            \u251c0\u2500\u253c\u2500\u253c\u2500\u2524\n",
        "            \u251c0\u2500\u253c\u2500\u253c\u2500\u2524\n",
        "PS003,003   \u251c0\u2500\u253c\u2500\u253c\u2500\u2500\u2524\n",
        "            \u251c0\u2500\u253c\u2500\u253c\u2500\u253c\u2500\u2500\u2524\n",
        "            \u251c0\u2500\u2524\n",
        "PS003,004   \u251c0\u2500\u253c\u2500\u2524\n",
        "            \u251c0\u2500\u2524\n",
        "            \u251c0\u2500\u253c\u2500\u2524\n",
        "            \u251c0\u2500\u2524\n",
        "            \u251c0\u2500\u253c\u2500\u253c\u2500\u2524\n",
        "PS003,005   \u251c0\u2500\u2524\n",
        "            \u251c0\u2500\u2500\u253c\u25cb\u2524\n",
        "            \u251c0\u2500\u253c\u2500\u253c\u2500\u2500\u2500\u2524\n",
        "            \u251c0\u2500\u2524\n",
        "PS003,006   \u251c0\u2500\u253c\u25cb\u2524\n",
        "            \u251c0\u2500\u253c\u25cb\u2524\n",
        "            \u251c0\u25cb\u2524\n",
        "            \u251c0\u2500\u253c\u2500\u253c\u2500\u2524\n",
        "PS003,007   \u251c0\u2500\u253c\u25cb\u253c\u2500\u2500\u2500\u2524\n",
        "            \u251c0\u2500\u253c\u2500\u253c\u2500\u253c\u2500\u2524\n",
        "PS003,008   \u251c0\u2500\u2524\n",
        "            \u251c0\u2500\u2524\n",
        "            \u251c0\u2500\u2524\n",
        "            \u251c0\u2500\u2524\n",
        "            \u251c0\u2500\u253c\u2500\u253c\u2500\u2500\u2500\u253c\u2500\u2524\n",
        "            \u251c0\u2500\u2500\u253c\u2500\u2524\n",
        "PS003,009   \u251c0\u2500\u2500\u253c\u2500\u2500\u2524\n",
        "            \u251c0\u2500\u2500\u253c\u2500\u2524\n",
        "            \u251c0\u2500\u2524\n",
        "            \u251c0\u2500\u2524\n",
        "PS004,001   \u251c0\u2500\u2500\u2524~\n",
        "            \u251c0\u2500\u2500\u2524\n",
        "            \u251c0\u2500\u253c\u2500\u2500\u2524\n",
        "PS004,002   \u251c0\u2500\u2500\u2524\n",
        "            \u251c0\u2500\u2524\n",
        "            \u251c0\u2500\u2500\u2524\n",
        "            \u251c0\u2500\u2500\u253c\u2500\u2500\u253c\u2500\u2524\n",
        "            \u251c0\u2500\u2524\n",
        "            \u251c0\u2500\u253c\u2500\u253c\u2500\u2524\n",
        "PS004,003   \u251c0\u2500\u2500\u2524\n",
        "            \u251c0\u2500\u2500\u253c\u2500\u253c\u2500\u2500\u2524\n",
        "            \u251c0\u2500\u253c\u2500\u2524\n",
        "            \u251c0\u2500\u253c\u2500\u2524\n",
        "            \u251c0\u2500\u2524\n",
        "PS004,004   \u251c0\u2500\u253c\u2500\u2524\n",
        "            \u251c0\u2500\u253c\u2500\u253c\u2500\u253c\u2500\u253c\u2500\u2524\n",
        "            \u251c0\u2500\u253c\u2500\u2524\n",
        "            \u251c0\u2500\u2500\u253c\u2500\u2524\n",
        "PS004,005   \u251c0\u2500\u2524\n",
        "            \u251c0\u2500\u253c\u2500\u253c\u2500\u2524\n",
        "            \u251c0\u2500\u253c\u2500\u2500\u253c\u2500\u2500\u2524\n",
        "            \u251c0\u2500\u253c\u2500\u2524\n",
        "            \u251c0\u2500\u2524\n",
        "\n"
       ]
      }
     ],
     "prompt_number": 30
    },
    {
     "cell_type": "code",
     "collapsed": false,
     "input": [],
     "language": "python",
     "metadata": {},
     "outputs": []
    }
   ],
   "metadata": {}
  }
 ]
}