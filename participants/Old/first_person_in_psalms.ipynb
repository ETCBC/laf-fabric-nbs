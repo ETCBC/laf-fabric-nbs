{
 "metadata": {
  "name": "",
  "signature": "sha256:bf24ca9af2d9733594af85edfe5f22d195f70c58500522ceea47f9ebc2213ee2"
 },
 "nbformat": 3,
 "nbformat_minor": 0,
 "worksheets": [
  {
   "cells": [
    {
     "cell_type": "code",
     "collapsed": false,
     "input": [
      "import sys\n",
      "import collections\n",
      "%load_ext autoreload\n",
      "%autoreload 2\n",
      "import laf\n",
      "from laf.fabric import LafFabric\n",
      "from etcbc.preprocess import prepare\n",
      "from etcbc.lib import Transcription, monad_set\n",
      "from etcbc.trees import Tree\n",
      "fabric = LafFabric()\n",
      "tr = Transcription()"
     ],
     "language": "python",
     "metadata": {},
     "outputs": [
      {
       "output_type": "stream",
       "stream": "stderr",
       "text": [
        "  0.00s This is LAF-Fabric 4.2.8\n",
        "http://laf-fabric.readthedocs.org/en/latest/texts/API-reference.html\n"
       ]
      }
     ],
     "prompt_number": 1
    },
    {
     "cell_type": "code",
     "collapsed": false,
     "input": [
      "API=fabric.load('bhs3', '--', 'psalms', {\n",
      "    \"xmlids\": {\"node\": False, \"edge\": False},\n",
      "    \"features\": ('''\n",
      "        oid otype monads minmonad maxmonad\n",
      "        surface_consonants text text_plain suffix\n",
      "        gender number person suffix_gender suffix_number suffix_person\n",
      "        part_of_speech phrase_dependent_part_of_speech lexeme_utf8 verse_label\n",
      "        book chapter verse\n",
      "    ''',\n",
      "    '''mother.\n",
      "    '''),\n",
      "    \"prepare\": prepare,\n",
      "}, verbose='DETAIL')\n",
      "exec(fabric.localnames.format(var='fabric'))"
     ],
     "language": "python",
     "metadata": {},
     "outputs": [
      {
       "output_type": "stream",
       "stream": "stderr",
       "text": [
        "  0.00s LOADING API: please wait ... \n"
       ]
      },
      {
       "output_type": "stream",
       "stream": "stderr",
       "text": [
        "  0.00s DETAIL: COMPILING m: UP TO DATE\n"
       ]
      },
      {
       "output_type": "stream",
       "stream": "stderr",
       "text": [
        "  0.00s INFO: DATA COMPILED AT: 2014-04-18T18-24-37\n"
       ]
      },
      {
       "output_type": "stream",
       "stream": "stderr",
       "text": [
        "  0.01s DETAIL: COMPILING a: UP TO DATE\n"
       ]
      },
      {
       "output_type": "stream",
       "stream": "stderr",
       "text": [
        "  0.04s DETAIL: load main: G.node_anchor_min\n"
       ]
      },
      {
       "output_type": "stream",
       "stream": "stderr",
       "text": [
        "  0.16s DETAIL: load main: G.node_anchor_max\n"
       ]
      },
      {
       "output_type": "stream",
       "stream": "stderr",
       "text": [
        "  0.27s DETAIL: load main: G.node_sort\n"
       ]
      },
      {
       "output_type": "stream",
       "stream": "stderr",
       "text": [
        "  0.38s DETAIL: load main: G.node_sort_inv\n"
       ]
      },
      {
       "output_type": "stream",
       "stream": "stderr",
       "text": [
        "  1.17s DETAIL: load main: G.edges_from\n"
       ]
      },
      {
       "output_type": "stream",
       "stream": "stderr",
       "text": [
        "  1.30s DETAIL: load main: G.edges_to\n"
       ]
      },
      {
       "output_type": "stream",
       "stream": "stderr",
       "text": [
        "  1.42s DETAIL: load main: F.shebanq_db_maxmonad [node] \n"
       ]
      },
      {
       "output_type": "stream",
       "stream": "stderr",
       "text": [
        "  2.73s DETAIL: load main: F.shebanq_db_minmonad [node] \n"
       ]
      },
      {
       "output_type": "stream",
       "stream": "stderr",
       "text": [
        "  4.01s DETAIL: load main: F.shebanq_db_monads [node] \n"
       ]
      },
      {
       "output_type": "stream",
       "stream": "stderr",
       "text": [
        "  5.49s DETAIL: load main: F.shebanq_db_oid [node] \n"
       ]
      },
      {
       "output_type": "stream",
       "stream": "stderr",
       "text": [
        "  8.96s DETAIL: load main: F.shebanq_db_otype [node] \n"
       ]
      },
      {
       "output_type": "stream",
       "stream": "stderr",
       "text": [
        "    10s DETAIL: load main: F.shebanq_ft_gender [node] \n"
       ]
      },
      {
       "output_type": "stream",
       "stream": "stderr",
       "text": [
        "    11s DETAIL: load main: F.shebanq_ft_lexeme_utf8 [node] \n"
       ]
      },
      {
       "output_type": "stream",
       "stream": "stderr",
       "text": [
        "    11s DETAIL: load main: F.shebanq_ft_number [node] \n"
       ]
      },
      {
       "output_type": "stream",
       "stream": "stderr",
       "text": [
        "    12s DETAIL: load main: F.shebanq_ft_part_of_speech [node] \n"
       ]
      },
      {
       "output_type": "stream",
       "stream": "stderr",
       "text": [
        "    12s DETAIL: load main: F.shebanq_ft_person [node] \n"
       ]
      },
      {
       "output_type": "stream",
       "stream": "stderr",
       "text": [
        "    13s DETAIL: load main: F.shebanq_ft_phrase_dependent_part_of_speech [node] \n"
       ]
      },
      {
       "output_type": "stream",
       "stream": "stderr",
       "text": [
        "    13s DETAIL: load main: F.shebanq_ft_suffix [node] \n"
       ]
      },
      {
       "output_type": "stream",
       "stream": "stderr",
       "text": [
        "    13s DETAIL: load main: F.shebanq_ft_suffix_gender [node] \n"
       ]
      },
      {
       "output_type": "stream",
       "stream": "stderr",
       "text": [
        "    14s DETAIL: load main: F.shebanq_ft_suffix_number [node] \n"
       ]
      },
      {
       "output_type": "stream",
       "stream": "stderr",
       "text": [
        "    15s DETAIL: load main: F.shebanq_ft_suffix_person [node] \n"
       ]
      },
      {
       "output_type": "stream",
       "stream": "stderr",
       "text": [
        "    17s DETAIL: load main: F.shebanq_ft_surface_consonants [node] \n"
       ]
      },
      {
       "output_type": "stream",
       "stream": "stderr",
       "text": [
        "    18s DETAIL: load main: F.shebanq_ft_text [node] \n"
       ]
      },
      {
       "output_type": "stream",
       "stream": "stderr",
       "text": [
        "    19s DETAIL: load main: F.shebanq_ft_text_plain [node] \n"
       ]
      },
      {
       "output_type": "stream",
       "stream": "stderr",
       "text": [
        "    19s DETAIL: load main: F.shebanq_sft_book [node] \n"
       ]
      },
      {
       "output_type": "stream",
       "stream": "stderr",
       "text": [
        "    19s DETAIL: load main: F.shebanq_sft_chapter [node] \n"
       ]
      },
      {
       "output_type": "stream",
       "stream": "stderr",
       "text": [
        "    19s DETAIL: load main: F.shebanq_sft_verse [node] \n"
       ]
      },
      {
       "output_type": "stream",
       "stream": "stderr",
       "text": [
        "    19s DETAIL: load main: F.shebanq_sft_verse_label [node] \n"
       ]
      },
      {
       "output_type": "stream",
       "stream": "stderr",
       "text": [
        "    19s DETAIL: load main: F.shebanq_mother_ [e] \n"
       ]
      },
      {
       "output_type": "stream",
       "stream": "stderr",
       "text": [
        "    19s DETAIL: load main: C.shebanq_mother_ -> \n"
       ]
      },
      {
       "output_type": "stream",
       "stream": "stderr",
       "text": [
        "    20s DETAIL: load main: C.shebanq_mother_ <- \n"
       ]
      },
      {
       "output_type": "stream",
       "stream": "stderr",
       "text": [
        "    20s LOGFILE=C:\\Users\\Gino/laf-fabric-data/bhs3/tasks/psalms/__log__psalms.txt\n"
       ]
      },
      {
       "output_type": "stream",
       "stream": "stderr",
       "text": [
        "    20s DETAIL: prep prep: G.node_sort\n"
       ]
      },
      {
       "output_type": "stream",
       "stream": "stderr",
       "text": [
        "    21s DETAIL: prep prep: G.node_sort_inv\n"
       ]
      },
      {
       "output_type": "stream",
       "stream": "stderr",
       "text": [
        "    24s INFO: DATA LOADED FROM SOURCE bhs3 AND ANNOX -- FOR TASK psalms\n"
       ]
      }
     ],
     "prompt_number": 2
    },
    {
     "cell_type": "code",
     "collapsed": false,
     "input": [
      "def analyze_psalms():\n",
      "    firstPersonFile = outfile('firstPersonInPsalms.csv')\n",
      "    chapter = verse = \"\"\n",
      "    inPsalms = False\n",
      "    containsSingular = False\n",
      "    containsPlural = False\n",
      "    versesSingular = []\n",
      "    versesPlural = []\n",
      "    psalmsWithFirstPersonSingularAndPlural = collections.defaultdict(dict)\n",
      "    \n",
      "    for node in NN():\n",
      "        otype = F.otype.v(node)\n",
      "        if otype == 'book':\n",
      "            if F.book.v(node) == \"Psalms\":\n",
      "                inPsalms = True\n",
      "            else:\n",
      "                inPsalms = False\n",
      "        elif inPsalms:\n",
      "            if otype == 'chapter':\n",
      "                if containsSingular and containsPlural:\n",
      "                    psalmsWithFirstPersonSingularAndPlural[chapter][\"singular\"] = versesSingular\n",
      "                    psalmsWithFirstPersonSingularAndPlural[chapter][\"plural\"] = versesPlural\n",
      "                chapter = F.chapter.v(node)\n",
      "                containsSingular = False\n",
      "                containsPlural = False\n",
      "                versesSingular = []\n",
      "                versesPlural = []\n",
      "            elif otype == 'verse':\n",
      "                verse = F.verse_label.v(node)\n",
      "            elif otype == \"word\":\n",
      "                if F.person.v(node) == 'first_person':\n",
      "                    if F.number.v(node) == 'singular':\n",
      "                        containsSingular = True\n",
      "                        versesSingular.append(verse)\n",
      "                    else:\n",
      "                        containsPlural = True\n",
      "                        versesPlural.append(verse)\n",
      "                elif F.suffix_person.v(node) == 'first_person':\n",
      "                    if F.suffix_number.v(node) == 'singular':\n",
      "                        containsSingular = True\n",
      "                        versesSingular.append(verse)\n",
      "                    else:\n",
      "                        containsPlural = True\n",
      "                        versesPlural.append(verse)\n",
      "    \n",
      "    for k in psalmsWithFirstPersonSingularAndPlural:\n",
      "        firstPersonFile.write(\"{}\".format(k))\n",
      "        for j in psalmsWithFirstPersonSingularAndPlural[k]:\n",
      "            firstPersonFile.write(\";{};{}\\n\".format(j, ', '.join(psalmsWithFirstPersonSingularAndPlural[k][j])))"
     ],
     "language": "python",
     "metadata": {},
     "outputs": [],
     "prompt_number": 17
    },
    {
     "cell_type": "code",
     "collapsed": false,
     "input": [
      "analyze_psalms()"
     ],
     "language": "python",
     "metadata": {},
     "outputs": [],
     "prompt_number": 18
    },
    {
     "cell_type": "code",
     "collapsed": false,
     "input": [],
     "language": "python",
     "metadata": {},
     "outputs": []
    }
   ],
   "metadata": {}
  }
 ]
}