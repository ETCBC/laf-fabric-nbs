{
 "metadata": {
  "name": "",
  "signature": "sha256:b3140e439987ea240a31406d7e826f41eeec8305abed3e86b4ec8481d6708605"
 },
 "nbformat": 3,
 "nbformat_minor": 0,
 "worksheets": [
  {
   "cells": [
    {
     "cell_type": "code",
     "collapsed": false,
     "input": [
      "import sys\n",
      "import collections\n",
      "%load_ext autoreload\n",
      "%autoreload 2\n",
      "import laf\n",
      "from laf.fabric import LafFabric\n",
      "from etcbc.preprocess import prepare\n",
      "from etcbc.lib import Transcription, monad_set\n",
      "from etcbc.trees import Tree\n",
      "fabric = LafFabric()\n",
      "tr = Transcription()"
     ],
     "language": "python",
     "metadata": {},
     "outputs": [],
     "prompt_number": 1
    },
    {
     "cell_type": "code",
     "collapsed": false,
     "input": [
      "API=fabric.load('bhs3', '--', 'psalms', {\n",
      "    \"xmlids\": {\"node\": False, \"edge\": False},\n",
      "    \"features\": ('''\n",
      "        oid otype monads minmonad maxmonad\n",
      "        surface_consonants text text_plain suffix\n",
      "        gender number person suffix_gender suffix_number suffix_person\n",
      "        locative tense\n",
      "        noun_type pronoun_type\n",
      "        part_of_speech phrase_dependent_part_of_speech\n",
      "        phrase_type phrase_function\n",
      "        clause_constituent_relation clause_atom_type\n",
      "        domain text_type embedding_domain\n",
      "        book chapter verse\n",
      "    ''',\n",
      "    '''mother.\n",
      "    '''),\n",
      "    \"prepare\": prepare,\n",
      "}, verbose='DETAIL')\n",
      "exec(fabric.localnames.format(var='fabric'))"
     ],
     "language": "python",
     "metadata": {},
     "outputs": [
      {
       "output_type": "stream",
       "stream": "stderr",
       "text": [
        "  0.00s LOADING API: please wait ... \n"
       ]
      },
      {
       "output_type": "stream",
       "stream": "stderr",
       "text": [
        "  0.00s DETAIL: COMPILING m: UP TO DATE\n"
       ]
      },
      {
       "output_type": "stream",
       "stream": "stderr",
       "text": [
        "  0.00s INFO: DATA COMPILED AT: 2014-04-18T18-24-37\n"
       ]
      },
      {
       "output_type": "stream",
       "stream": "stderr",
       "text": [
        "  0.00s DETAIL: COMPILING a: UP TO DATE\n"
       ]
      },
      {
       "output_type": "stream",
       "stream": "stderr",
       "text": [
        "  0.01s DETAIL: keep main: G.node_anchor_min\n"
       ]
      },
      {
       "output_type": "stream",
       "stream": "stderr",
       "text": [
        "  0.01s DETAIL: keep main: G.node_anchor_max\n"
       ]
      },
      {
       "output_type": "stream",
       "stream": "stderr",
       "text": [
        "  0.01s DETAIL: keep main: G.node_sort\n"
       ]
      },
      {
       "output_type": "stream",
       "stream": "stderr",
       "text": [
        "  0.01s DETAIL: keep main: G.node_sort_inv\n"
       ]
      },
      {
       "output_type": "stream",
       "stream": "stderr",
       "text": [
        "  0.01s DETAIL: keep main: G.edges_from\n"
       ]
      },
      {
       "output_type": "stream",
       "stream": "stderr",
       "text": [
        "  0.01s DETAIL: keep main: G.edges_to\n"
       ]
      },
      {
       "output_type": "stream",
       "stream": "stderr",
       "text": [
        "  0.01s DETAIL: keep main: F.shebanq_db_maxmonad [node] \n"
       ]
      },
      {
       "output_type": "stream",
       "stream": "stderr",
       "text": [
        "  0.01s DETAIL: keep main: F.shebanq_db_minmonad [node] \n"
       ]
      },
      {
       "output_type": "stream",
       "stream": "stderr",
       "text": [
        "  0.01s DETAIL: keep main: F.shebanq_db_monads [node] \n"
       ]
      },
      {
       "output_type": "stream",
       "stream": "stderr",
       "text": [
        "  0.01s DETAIL: keep main: F.shebanq_db_oid [node] \n"
       ]
      },
      {
       "output_type": "stream",
       "stream": "stderr",
       "text": [
        "  0.01s DETAIL: keep main: F.shebanq_db_otype [node] \n"
       ]
      },
      {
       "output_type": "stream",
       "stream": "stderr",
       "text": [
        "  0.01s DETAIL: keep main: F.shebanq_ft_clause_atom_type [node] \n"
       ]
      },
      {
       "output_type": "stream",
       "stream": "stderr",
       "text": [
        "  0.01s DETAIL: keep main: F.shebanq_ft_clause_constituent_relation [node] \n"
       ]
      },
      {
       "output_type": "stream",
       "stream": "stderr",
       "text": [
        "  0.01s DETAIL: keep main: F.shebanq_ft_domain [node] \n"
       ]
      },
      {
       "output_type": "stream",
       "stream": "stderr",
       "text": [
        "  0.01s DETAIL: keep main: F.shebanq_ft_embedding_domain [node] \n"
       ]
      },
      {
       "output_type": "stream",
       "stream": "stderr",
       "text": [
        "  0.01s DETAIL: keep main: F.shebanq_ft_gender [node] \n"
       ]
      },
      {
       "output_type": "stream",
       "stream": "stderr",
       "text": [
        "  0.02s DETAIL: keep main: F.shebanq_ft_locative [node] \n"
       ]
      },
      {
       "output_type": "stream",
       "stream": "stderr",
       "text": [
        "  0.02s DETAIL: keep main: F.shebanq_ft_noun_type [node] \n"
       ]
      },
      {
       "output_type": "stream",
       "stream": "stderr",
       "text": [
        "  0.02s DETAIL: keep main: F.shebanq_ft_number [node] \n"
       ]
      },
      {
       "output_type": "stream",
       "stream": "stderr",
       "text": [
        "  0.02s DETAIL: keep main: F.shebanq_ft_part_of_speech [node] \n"
       ]
      },
      {
       "output_type": "stream",
       "stream": "stderr",
       "text": [
        "  0.02s DETAIL: keep main: F.shebanq_ft_person [node] \n"
       ]
      },
      {
       "output_type": "stream",
       "stream": "stderr",
       "text": [
        "  0.02s DETAIL: keep main: F.shebanq_ft_phrase_dependent_part_of_speech [node] \n"
       ]
      },
      {
       "output_type": "stream",
       "stream": "stderr",
       "text": [
        "  0.02s DETAIL: keep main: F.shebanq_ft_phrase_function [node] \n"
       ]
      },
      {
       "output_type": "stream",
       "stream": "stderr",
       "text": [
        "  0.02s DETAIL: keep main: F.shebanq_ft_phrase_type [node] \n"
       ]
      },
      {
       "output_type": "stream",
       "stream": "stderr",
       "text": [
        "  0.02s DETAIL: keep main: F.shebanq_ft_pronoun_type [node] \n"
       ]
      },
      {
       "output_type": "stream",
       "stream": "stderr",
       "text": [
        "  0.02s DETAIL: keep main: F.shebanq_ft_suffix [node] \n"
       ]
      },
      {
       "output_type": "stream",
       "stream": "stderr",
       "text": [
        "  0.02s DETAIL: keep main: F.shebanq_ft_suffix_gender [node] \n"
       ]
      },
      {
       "output_type": "stream",
       "stream": "stderr",
       "text": [
        "  0.02s DETAIL: keep main: F.shebanq_ft_suffix_number [node] \n"
       ]
      },
      {
       "output_type": "stream",
       "stream": "stderr",
       "text": [
        "  0.02s DETAIL: keep main: F.shebanq_ft_suffix_person [node] \n"
       ]
      },
      {
       "output_type": "stream",
       "stream": "stderr",
       "text": [
        "  0.02s DETAIL: keep main: F.shebanq_ft_surface_consonants [node] \n"
       ]
      },
      {
       "output_type": "stream",
       "stream": "stderr",
       "text": [
        "  0.02s DETAIL: keep main: F.shebanq_ft_tense [node] \n"
       ]
      },
      {
       "output_type": "stream",
       "stream": "stderr",
       "text": [
        "  0.02s DETAIL: keep main: F.shebanq_ft_text [node] \n"
       ]
      },
      {
       "output_type": "stream",
       "stream": "stderr",
       "text": [
        "  0.03s DETAIL: keep main: F.shebanq_ft_text_plain [node] \n"
       ]
      },
      {
       "output_type": "stream",
       "stream": "stderr",
       "text": [
        "  0.03s DETAIL: keep main: F.shebanq_ft_text_type [node] \n"
       ]
      },
      {
       "output_type": "stream",
       "stream": "stderr",
       "text": [
        "  0.03s DETAIL: keep main: F.shebanq_sft_book [node] \n"
       ]
      },
      {
       "output_type": "stream",
       "stream": "stderr",
       "text": [
        "  0.03s DETAIL: keep main: F.shebanq_sft_chapter [node] \n"
       ]
      },
      {
       "output_type": "stream",
       "stream": "stderr",
       "text": [
        "  0.03s DETAIL: keep main: F.shebanq_sft_verse [node] \n"
       ]
      },
      {
       "output_type": "stream",
       "stream": "stderr",
       "text": [
        "  0.03s DETAIL: keep main: F.shebanq_mother_ [e] \n"
       ]
      },
      {
       "output_type": "stream",
       "stream": "stderr",
       "text": [
        "  0.03s DETAIL: keep main: C.shebanq_mother_ -> \n"
       ]
      },
      {
       "output_type": "stream",
       "stream": "stderr",
       "text": [
        "  0.03s DETAIL: keep main: C.shebanq_mother_ <- \n"
       ]
      },
      {
       "output_type": "stream",
       "stream": "stderr",
       "text": [
        "  0.03s DETAIL: clear main: F.shebanq_ft_graphical_pron_suffix [node] \n"
       ]
      },
      {
       "output_type": "stream",
       "stream": "stderr",
       "text": [
        "  0.03s LOGFILE=/Users/dirk/laf-fabric-data/bhs3/tasks/psalms/__log__psalms.txt\n"
       ]
      },
      {
       "output_type": "stream",
       "stream": "stderr",
       "text": [
        "  0.03s DETAIL: prep prep: G.node_sort\n"
       ]
      },
      {
       "output_type": "stream",
       "stream": "stderr",
       "text": [
        "  0.11s DETAIL: prep prep: G.node_sort_inv\n"
       ]
      },
      {
       "output_type": "stream",
       "stream": "stderr",
       "text": [
        "  0.80s INFO: DATA LOADED FROM SOURCE bhs3 AND ANNOX -- FOR TASK psalms\n"
       ]
      }
     ],
     "prompt_number": 69
    },
    {
     "cell_type": "code",
     "collapsed": false,
     "input": [
      "psalm_nodes = collections.defaultdict(lambda: [])\n",
      "type_table = {'sentence', 'clause', 'clause_atom', 'phrase', 'word'}\n",
      "\n",
      "def get_psalms():\n",
      "    psalm_nodes.clear()\n",
      "    doit = False\n",
      "    doing = False\n",
      "    psfh = None\n",
      "    Fotypev = F.otype.v\n",
      "    chapter = None\n",
      "    for node in NN():\n",
      "        otype = Fotypev(node)\n",
      "        if otype == 'book':\n",
      "            doit = F.book.v(node) == \"Psalms\"\n",
      "            if doit:\n",
      "                doing = True\n",
      "            else:\n",
      "                if doing: break\n",
      "        else:\n",
      "            if not doit: continue\n",
      "            if otype == 'chapter':\n",
      "                chapter = int(F.chapter.v(node))\n",
      "            elif otype in type_table or otype == 'verse': \n",
      "                psalm_nodes[chapter].append(node)"
     ],
     "language": "python",
     "metadata": {},
     "outputs": [],
     "prompt_number": 71
    },
    {
     "cell_type": "code",
     "collapsed": false,
     "input": [
      "number = {\n",
      "    'singular': 's',\n",
      "    'plural': 'p',\n",
      "    'dual': 'd',\n",
      "    'unknown': '?',\n",
      "    'none': 'x',\n",
      "}\n",
      "person = {\n",
      "    'first_person': '1',\n",
      "    'second_person': '2',\n",
      "    'third_person': '3',\n",
      "    'unknown': '?',\n",
      "    'none': 'x',\n",
      "}\n",
      "\n",
      "psalms = {}\n",
      "\n",
      "def do_psalm(nr):\n",
      "    Fotypev = F.otype.v\n",
      "    t = F.text_plain.v\n",
      "    Fversev = F.verse.v\n",
      "    n = F.number.v\n",
      "    p = F.person.v\n",
      "    sn = F.suffix_number.v\n",
      "    sp = F.suffix_person.v\n",
      "    pos = F.part_of_speech.v\n",
      "    data = []\n",
      "    \n",
      "    cur_verse = None\n",
      "    cur_sentence = None\n",
      "    for node in psalm_nodes[nr]:\n",
      "        otype = Fotypev(node)\n",
      "        if otype == 'word': \n",
      "            text = t(node)\n",
      "            nn = number[n(node)]\n",
      "            pn = person[p(node)]\n",
      "            snn = number[sn(node)]\n",
      "            spn = person[sp(node)]\n",
      "            posn = pos(node)\n",
      "            cur_sentence[1].append((text, posn, pn, nn, spn, snn) if pn == '1' or spn == '1' else (text,))\n",
      "        elif otype == 'sentence':\n",
      "            if cur_sentence != None:\n",
      "                data.append(cur_sentence)\n",
      "            cur_sentence = (cur_verse, [])\n",
      "        elif otype == 'verse':\n",
      "            cur_verse = Fversev(node)\n",
      "    data.append(cur_sentence)\n",
      "    psalms[nr] = tuple(data)"
     ],
     "language": "python",
     "metadata": {},
     "outputs": [],
     "prompt_number": 81
    },
    {
     "cell_type": "code",
     "collapsed": false,
     "input": [
      "msg(\"Collecting nodes of the psalms\")\n",
      "get_psalms()\n",
      "msg(\"Psalms collected\")\n",
      "\n",
      "\n",
      "for p in sorted(psalm_nodes):\n",
      "    msg(\" {} \".format(p), withtime=False, newline=False)\n",
      "    do_psalm(p)\n",
      "msg('', withtime=False)\n",
      "msg(\"Psalms processed\")\n",
      "\n"
     ],
     "language": "python",
     "metadata": {},
     "outputs": [
      {
       "output_type": "stream",
       "stream": "stderr",
       "text": [
        " 4m 50s Collecting nodes of the psalms\n"
       ]
      },
      {
       "output_type": "stream",
       "stream": "stderr",
       "text": [
        " 4m 51s Psalms collected\n"
       ]
      },
      {
       "output_type": "stream",
       "stream": "stderr",
       "text": [
        " 1 "
       ]
      },
      {
       "output_type": "stream",
       "stream": "stderr",
       "text": [
        " 2 "
       ]
      },
      {
       "output_type": "stream",
       "stream": "stderr",
       "text": [
        " 3 "
       ]
      },
      {
       "output_type": "stream",
       "stream": "stderr",
       "text": [
        " 4 "
       ]
      },
      {
       "output_type": "stream",
       "stream": "stderr",
       "text": [
        " 5 "
       ]
      },
      {
       "output_type": "stream",
       "stream": "stderr",
       "text": [
        " 6 "
       ]
      },
      {
       "output_type": "stream",
       "stream": "stderr",
       "text": [
        " 7 "
       ]
      },
      {
       "output_type": "stream",
       "stream": "stderr",
       "text": [
        " 8 "
       ]
      },
      {
       "output_type": "stream",
       "stream": "stderr",
       "text": [
        " 9 "
       ]
      },
      {
       "output_type": "stream",
       "stream": "stderr",
       "text": [
        " 10 "
       ]
      },
      {
       "output_type": "stream",
       "stream": "stderr",
       "text": [
        " 11 "
       ]
      },
      {
       "output_type": "stream",
       "stream": "stderr",
       "text": [
        " 12 "
       ]
      },
      {
       "output_type": "stream",
       "stream": "stderr",
       "text": [
        " 13 "
       ]
      },
      {
       "output_type": "stream",
       "stream": "stderr",
       "text": [
        " 14 "
       ]
      },
      {
       "output_type": "stream",
       "stream": "stderr",
       "text": [
        " 15 "
       ]
      },
      {
       "output_type": "stream",
       "stream": "stderr",
       "text": [
        " 16 "
       ]
      },
      {
       "output_type": "stream",
       "stream": "stderr",
       "text": [
        " 17 "
       ]
      },
      {
       "output_type": "stream",
       "stream": "stderr",
       "text": [
        " 18 "
       ]
      },
      {
       "output_type": "stream",
       "stream": "stderr",
       "text": [
        " 19 "
       ]
      },
      {
       "output_type": "stream",
       "stream": "stderr",
       "text": [
        " 20 "
       ]
      },
      {
       "output_type": "stream",
       "stream": "stderr",
       "text": [
        " 21 "
       ]
      },
      {
       "output_type": "stream",
       "stream": "stderr",
       "text": [
        " 22 "
       ]
      },
      {
       "output_type": "stream",
       "stream": "stderr",
       "text": [
        " 23 "
       ]
      },
      {
       "output_type": "stream",
       "stream": "stderr",
       "text": [
        " 24 "
       ]
      },
      {
       "output_type": "stream",
       "stream": "stderr",
       "text": [
        " 25 "
       ]
      },
      {
       "output_type": "stream",
       "stream": "stderr",
       "text": [
        " 26 "
       ]
      },
      {
       "output_type": "stream",
       "stream": "stderr",
       "text": [
        " 27 "
       ]
      },
      {
       "output_type": "stream",
       "stream": "stderr",
       "text": [
        " 28 "
       ]
      },
      {
       "output_type": "stream",
       "stream": "stderr",
       "text": [
        " 29 "
       ]
      },
      {
       "output_type": "stream",
       "stream": "stderr",
       "text": [
        " 30 "
       ]
      },
      {
       "output_type": "stream",
       "stream": "stderr",
       "text": [
        " 31 "
       ]
      },
      {
       "output_type": "stream",
       "stream": "stderr",
       "text": [
        " 32 "
       ]
      },
      {
       "output_type": "stream",
       "stream": "stderr",
       "text": [
        " 33 "
       ]
      },
      {
       "output_type": "stream",
       "stream": "stderr",
       "text": [
        " 34 "
       ]
      },
      {
       "output_type": "stream",
       "stream": "stderr",
       "text": [
        " 35 "
       ]
      },
      {
       "output_type": "stream",
       "stream": "stderr",
       "text": [
        " 36 "
       ]
      },
      {
       "output_type": "stream",
       "stream": "stderr",
       "text": [
        " 37 "
       ]
      },
      {
       "output_type": "stream",
       "stream": "stderr",
       "text": [
        " 38 "
       ]
      },
      {
       "output_type": "stream",
       "stream": "stderr",
       "text": [
        " 39 "
       ]
      },
      {
       "output_type": "stream",
       "stream": "stderr",
       "text": [
        " 40 "
       ]
      },
      {
       "output_type": "stream",
       "stream": "stderr",
       "text": [
        " 41 "
       ]
      },
      {
       "output_type": "stream",
       "stream": "stderr",
       "text": [
        " 42 "
       ]
      },
      {
       "output_type": "stream",
       "stream": "stderr",
       "text": [
        " 43 "
       ]
      },
      {
       "output_type": "stream",
       "stream": "stderr",
       "text": [
        " 44 "
       ]
      },
      {
       "output_type": "stream",
       "stream": "stderr",
       "text": [
        " 45 "
       ]
      },
      {
       "output_type": "stream",
       "stream": "stderr",
       "text": [
        " 46 "
       ]
      },
      {
       "output_type": "stream",
       "stream": "stderr",
       "text": [
        " 47 "
       ]
      },
      {
       "output_type": "stream",
       "stream": "stderr",
       "text": [
        " 48 "
       ]
      },
      {
       "output_type": "stream",
       "stream": "stderr",
       "text": [
        " 49 "
       ]
      },
      {
       "output_type": "stream",
       "stream": "stderr",
       "text": [
        " 50 "
       ]
      },
      {
       "output_type": "stream",
       "stream": "stderr",
       "text": [
        " 51 "
       ]
      },
      {
       "output_type": "stream",
       "stream": "stderr",
       "text": [
        " 52 "
       ]
      },
      {
       "output_type": "stream",
       "stream": "stderr",
       "text": [
        " 53 "
       ]
      },
      {
       "output_type": "stream",
       "stream": "stderr",
       "text": [
        " 54 "
       ]
      },
      {
       "output_type": "stream",
       "stream": "stderr",
       "text": [
        " 55 "
       ]
      },
      {
       "output_type": "stream",
       "stream": "stderr",
       "text": [
        " 56 "
       ]
      },
      {
       "output_type": "stream",
       "stream": "stderr",
       "text": [
        " 57 "
       ]
      },
      {
       "output_type": "stream",
       "stream": "stderr",
       "text": [
        " 58 "
       ]
      },
      {
       "output_type": "stream",
       "stream": "stderr",
       "text": [
        " 59 "
       ]
      },
      {
       "output_type": "stream",
       "stream": "stderr",
       "text": [
        " 60 "
       ]
      },
      {
       "output_type": "stream",
       "stream": "stderr",
       "text": [
        " 61 "
       ]
      },
      {
       "output_type": "stream",
       "stream": "stderr",
       "text": [
        " 62 "
       ]
      },
      {
       "output_type": "stream",
       "stream": "stderr",
       "text": [
        " 63 "
       ]
      },
      {
       "output_type": "stream",
       "stream": "stderr",
       "text": [
        " 64 "
       ]
      },
      {
       "output_type": "stream",
       "stream": "stderr",
       "text": [
        " 65 "
       ]
      },
      {
       "output_type": "stream",
       "stream": "stderr",
       "text": [
        " 66 "
       ]
      },
      {
       "output_type": "stream",
       "stream": "stderr",
       "text": [
        " 67 "
       ]
      },
      {
       "output_type": "stream",
       "stream": "stderr",
       "text": [
        " 68 "
       ]
      },
      {
       "output_type": "stream",
       "stream": "stderr",
       "text": [
        " 69 "
       ]
      },
      {
       "output_type": "stream",
       "stream": "stderr",
       "text": [
        " 70 "
       ]
      },
      {
       "output_type": "stream",
       "stream": "stderr",
       "text": [
        " 71 "
       ]
      },
      {
       "output_type": "stream",
       "stream": "stderr",
       "text": [
        " 72 "
       ]
      },
      {
       "output_type": "stream",
       "stream": "stderr",
       "text": [
        " 73 "
       ]
      },
      {
       "output_type": "stream",
       "stream": "stderr",
       "text": [
        " 74 "
       ]
      },
      {
       "output_type": "stream",
       "stream": "stderr",
       "text": [
        " 75 "
       ]
      },
      {
       "output_type": "stream",
       "stream": "stderr",
       "text": [
        " 76 "
       ]
      },
      {
       "output_type": "stream",
       "stream": "stderr",
       "text": [
        " 77 "
       ]
      },
      {
       "output_type": "stream",
       "stream": "stderr",
       "text": [
        " 78 "
       ]
      },
      {
       "output_type": "stream",
       "stream": "stderr",
       "text": [
        " 79 "
       ]
      },
      {
       "output_type": "stream",
       "stream": "stderr",
       "text": [
        " 80 "
       ]
      },
      {
       "output_type": "stream",
       "stream": "stderr",
       "text": [
        " 81 "
       ]
      },
      {
       "output_type": "stream",
       "stream": "stderr",
       "text": [
        " 82 "
       ]
      },
      {
       "output_type": "stream",
       "stream": "stderr",
       "text": [
        " 83 "
       ]
      },
      {
       "output_type": "stream",
       "stream": "stderr",
       "text": [
        " 84 "
       ]
      },
      {
       "output_type": "stream",
       "stream": "stderr",
       "text": [
        " 85 "
       ]
      },
      {
       "output_type": "stream",
       "stream": "stderr",
       "text": [
        " 86 "
       ]
      },
      {
       "output_type": "stream",
       "stream": "stderr",
       "text": [
        " 87 "
       ]
      },
      {
       "output_type": "stream",
       "stream": "stderr",
       "text": [
        " 88 "
       ]
      },
      {
       "output_type": "stream",
       "stream": "stderr",
       "text": [
        " 89 "
       ]
      },
      {
       "output_type": "stream",
       "stream": "stderr",
       "text": [
        " 90 "
       ]
      },
      {
       "output_type": "stream",
       "stream": "stderr",
       "text": [
        " 91 "
       ]
      },
      {
       "output_type": "stream",
       "stream": "stderr",
       "text": [
        " 92 "
       ]
      },
      {
       "output_type": "stream",
       "stream": "stderr",
       "text": [
        " 93 "
       ]
      },
      {
       "output_type": "stream",
       "stream": "stderr",
       "text": [
        " 94 "
       ]
      },
      {
       "output_type": "stream",
       "stream": "stderr",
       "text": [
        " 95 "
       ]
      },
      {
       "output_type": "stream",
       "stream": "stderr",
       "text": [
        " 96 "
       ]
      },
      {
       "output_type": "stream",
       "stream": "stderr",
       "text": [
        " 97 "
       ]
      },
      {
       "output_type": "stream",
       "stream": "stderr",
       "text": [
        " 98 "
       ]
      },
      {
       "output_type": "stream",
       "stream": "stderr",
       "text": [
        " 99 "
       ]
      },
      {
       "output_type": "stream",
       "stream": "stderr",
       "text": [
        " 100 "
       ]
      },
      {
       "output_type": "stream",
       "stream": "stderr",
       "text": [
        " 101 "
       ]
      },
      {
       "output_type": "stream",
       "stream": "stderr",
       "text": [
        " 102 "
       ]
      },
      {
       "output_type": "stream",
       "stream": "stderr",
       "text": [
        " 103 "
       ]
      },
      {
       "output_type": "stream",
       "stream": "stderr",
       "text": [
        " 104 "
       ]
      },
      {
       "output_type": "stream",
       "stream": "stderr",
       "text": [
        " 105 "
       ]
      },
      {
       "output_type": "stream",
       "stream": "stderr",
       "text": [
        " 106 "
       ]
      },
      {
       "output_type": "stream",
       "stream": "stderr",
       "text": [
        " 107 "
       ]
      },
      {
       "output_type": "stream",
       "stream": "stderr",
       "text": [
        " 108 "
       ]
      },
      {
       "output_type": "stream",
       "stream": "stderr",
       "text": [
        " 109 "
       ]
      },
      {
       "output_type": "stream",
       "stream": "stderr",
       "text": [
        " 110 "
       ]
      },
      {
       "output_type": "stream",
       "stream": "stderr",
       "text": [
        " 111 "
       ]
      },
      {
       "output_type": "stream",
       "stream": "stderr",
       "text": [
        " 112 "
       ]
      },
      {
       "output_type": "stream",
       "stream": "stderr",
       "text": [
        " 113 "
       ]
      },
      {
       "output_type": "stream",
       "stream": "stderr",
       "text": [
        " 114 "
       ]
      },
      {
       "output_type": "stream",
       "stream": "stderr",
       "text": [
        " 115 "
       ]
      },
      {
       "output_type": "stream",
       "stream": "stderr",
       "text": [
        " 116 "
       ]
      },
      {
       "output_type": "stream",
       "stream": "stderr",
       "text": [
        " 117 "
       ]
      },
      {
       "output_type": "stream",
       "stream": "stderr",
       "text": [
        " 118 "
       ]
      },
      {
       "output_type": "stream",
       "stream": "stderr",
       "text": [
        " 119 "
       ]
      },
      {
       "output_type": "stream",
       "stream": "stderr",
       "text": [
        " 120 "
       ]
      },
      {
       "output_type": "stream",
       "stream": "stderr",
       "text": [
        " 121 "
       ]
      },
      {
       "output_type": "stream",
       "stream": "stderr",
       "text": [
        " 122 "
       ]
      },
      {
       "output_type": "stream",
       "stream": "stderr",
       "text": [
        " 123 "
       ]
      },
      {
       "output_type": "stream",
       "stream": "stderr",
       "text": [
        " 124 "
       ]
      },
      {
       "output_type": "stream",
       "stream": "stderr",
       "text": [
        " 125 "
       ]
      },
      {
       "output_type": "stream",
       "stream": "stderr",
       "text": [
        " 126 "
       ]
      },
      {
       "output_type": "stream",
       "stream": "stderr",
       "text": [
        " 127 "
       ]
      },
      {
       "output_type": "stream",
       "stream": "stderr",
       "text": [
        " 128 "
       ]
      },
      {
       "output_type": "stream",
       "stream": "stderr",
       "text": [
        " 129 "
       ]
      },
      {
       "output_type": "stream",
       "stream": "stderr",
       "text": [
        " 130 "
       ]
      },
      {
       "output_type": "stream",
       "stream": "stderr",
       "text": [
        " 131 "
       ]
      },
      {
       "output_type": "stream",
       "stream": "stderr",
       "text": [
        " 132 "
       ]
      },
      {
       "output_type": "stream",
       "stream": "stderr",
       "text": [
        " 133 "
       ]
      },
      {
       "output_type": "stream",
       "stream": "stderr",
       "text": [
        " 134 "
       ]
      },
      {
       "output_type": "stream",
       "stream": "stderr",
       "text": [
        " 135 "
       ]
      },
      {
       "output_type": "stream",
       "stream": "stderr",
       "text": [
        " 136 "
       ]
      },
      {
       "output_type": "stream",
       "stream": "stderr",
       "text": [
        " 137 "
       ]
      },
      {
       "output_type": "stream",
       "stream": "stderr",
       "text": [
        " 138 "
       ]
      },
      {
       "output_type": "stream",
       "stream": "stderr",
       "text": [
        " 139 "
       ]
      },
      {
       "output_type": "stream",
       "stream": "stderr",
       "text": [
        " 140 "
       ]
      },
      {
       "output_type": "stream",
       "stream": "stderr",
       "text": [
        " 141 "
       ]
      },
      {
       "output_type": "stream",
       "stream": "stderr",
       "text": [
        " 142 "
       ]
      },
      {
       "output_type": "stream",
       "stream": "stderr",
       "text": [
        " 143 "
       ]
      },
      {
       "output_type": "stream",
       "stream": "stderr",
       "text": [
        " 144 "
       ]
      },
      {
       "output_type": "stream",
       "stream": "stderr",
       "text": [
        " 145 "
       ]
      },
      {
       "output_type": "stream",
       "stream": "stderr",
       "text": [
        " 146 "
       ]
      },
      {
       "output_type": "stream",
       "stream": "stderr",
       "text": [
        " 147 "
       ]
      },
      {
       "output_type": "stream",
       "stream": "stderr",
       "text": [
        " 148 "
       ]
      },
      {
       "output_type": "stream",
       "stream": "stderr",
       "text": [
        " 149 "
       ]
      },
      {
       "output_type": "stream",
       "stream": "stderr",
       "text": [
        " 150 "
       ]
      },
      {
       "output_type": "stream",
       "stream": "stderr",
       "text": [
        "\n"
       ]
      },
      {
       "output_type": "stream",
       "stream": "stderr",
       "text": [
        " 4m 52s Psalms processed\n"
       ]
      }
     ],
     "prompt_number": 82
    },
    {
     "cell_type": "code",
     "collapsed": false,
     "input": [
      "psfh = outfile('psalms1-sg-pl.txt')\n",
      "def write_psalm(nr, psalm):\n",
      "    psfh.write(\"Psalm {}\\n\".format(nr))\n",
      "    for (verse_num, words) in psalm:\n",
      "        psfh.write(\"{:>3}\\t\".format(verse_num))\n",
      "        word_string = \"  \".join(\"{}{}{}{}\".format(\n",
      "                word[0][::-1],\n",
      "                '~' if len(word) > 2 else '',\n",
      "                \"({})\".format(word[1]) if len(word) > 2 else '',\n",
      "                \"{}{},{}{}\".format(*word[2:6]) if len(word) > 2 else '',\n",
      "            ) for word in reversed(words))\n",
      "        psfh.write(\"{}\\n\".format(word_string))\n",
      "    \n",
      "for nr in sorted(psalms):\n",
      "    write_psalm(nr, psalms[nr])\n",
      "psfh.close()"
     ],
     "language": "python",
     "metadata": {},
     "outputs": [],
     "prompt_number": 88
    },
    {
     "cell_type": "code",
     "collapsed": true,
     "input": [
      "psalms[75]"
     ],
     "language": "python",
     "metadata": {},
     "outputs": [
      {
       "metadata": {},
       "output_type": "pyout",
       "prompt_number": 89,
       "text": [
        "(('1', [('\u05dc',), ('',), ('\u05de\u05e0\u05e6\u05d7',)]),\n",
        " ('1', [('\u05d0\u05dc',), ('\u05ea\u05e9\u05c1\u05d7\u05ea',)]),\n",
        " ('1', [('\u05de\u05d6\u05de\u05d5\u05e8',), ('\u05dc',), ('\u05d0\u05e1\u05e3',)]),\n",
        " ('1', [('\u05e9\u05c1\u05d9\u05e8',)]),\n",
        " ('2', [('\u05d4\u05d5\u05d3\u05d9\u05e0\u05d5', 'verb', '1', 'p', 'x', 'x'), ('\u05dc\u05da',)]),\n",
        " ('2', [('\u05d0\u05dc\u05d4\u05d9\u05dd',)]),\n",
        " ('2', [('\u05d4\u05d5\u05d3\u05d9\u05e0\u05d5', 'verb', '1', 'p', 'x', 'x')]),\n",
        " ('2', [('\u05d5',), ('\u05e7\u05e8\u05d5\u05d1',), ('\u05e9\u05c1\u05de\u05da',)]),\n",
        " ('2', [('\u05e1\u05e4\u05e8\u05d5',), ('\u05e0\u05e4\u05dc\u05d0\u05d5\u05ea\u05d9\u05da',)]),\n",
        " ('3', [('\u05db\u05d9',), ('\u05d0\u05e7\u05d7', 'verb', '1', 's', 'x', 'x'), ('\u05de\u05d5\u05e2\u05d3',)]),\n",
        " ('3',\n",
        "  [('\u05d0\u05e0\u05d9', 'pronoun', '1', 's', 'x', 'x'),\n",
        "   ('\u05de\u05d9\u05e9\u05c1\u05e8\u05d9\u05dd',),\n",
        "   ('\u05d0\u05e9\u05c1\u05e4\u05d8', 'verb', '1', 's', 'x', 'x')]),\n",
        " ('4', [('\u05e0\u05de\u05d2\u05d9\u05dd',), ('\u05d0\u05e8\u05e5',), ('\u05d5',), ('\u05db\u05dc',), ('\u05d9\u05e9\u05c1\u05d1\u05d9\u05d4',)]),\n",
        " ('4',\n",
        "  [('\u05d0\u05e0\u05db\u05d9', 'pronoun', '1', 's', 'x', 'x'),\n",
        "   ('\u05ea\u05db\u05e0\u05ea\u05d9', 'verb', '1', 's', 'x', 'x'),\n",
        "   ('\u05e2\u05de\u05d5\u05d3\u05d9\u05d4',)]),\n",
        " ('4', [('\u05e1\u05dc\u05d4',)]),\n",
        " ('5', [('\u05d0\u05de\u05e8\u05ea\u05d9', 'verb', '1', 's', 'x', 'x'), ('\u05dc',), ('',), ('\u05d4\u05d5\u05dc\u05dc\u05d9\u05dd',)]),\n",
        " ('5', [('\u05d0\u05dc',), ('\u05ea\u05d4\u05dc\u05d5',)]),\n",
        " ('5', [('\u05d5',), ('\u05dc',), ('',), ('\u05e8\u05e9\u05c1\u05e2\u05d9\u05dd',)]),\n",
        " ('5', [('\u05d0\u05dc',), ('\u05ea\u05e8\u05d9\u05de\u05d5',), ('\u05e7\u05e8\u05df',)]),\n",
        " ('6', [('\u05d0\u05dc',), ('\u05ea\u05e8\u05d9\u05de\u05d5',), ('\u05dc',), ('',), ('\u05de\u05e8\u05d5\u05dd',), ('\u05e7\u05e8\u05e0\u05db\u05dd',)]),\n",
        " ('6', [('\u05ea\u05d3\u05d1\u05e8\u05d5',), ('\u05d1',), ('\u05e6\u05d5\u05d0\u05e8',), ('\u05e2\u05ea\u05e7',)]),\n",
        " ('7',\n",
        "  [('\u05db\u05d9',),\n",
        "   ('\u05dc\u05d0',),\n",
        "   ('\u05de',),\n",
        "   ('\u05de\u05d5\u05e6\u05d0',),\n",
        "   ('\u05d5',),\n",
        "   ('\u05de',),\n",
        "   ('\u05de\u05e2\u05e8\u05d1',),\n",
        "   ('\u05d5',),\n",
        "   ('\u05dc\u05d0',),\n",
        "   ('\u05de',),\n",
        "   ('\u05de\u05d3\u05d1\u05e8',),\n",
        "   ('\u05d4\u05e8\u05d9\u05dd',)]),\n",
        " ('8', [('\u05db\u05d9',), ('\u05d0\u05dc\u05d4\u05d9\u05dd',), ('\u05e9\u05c1\u05e4\u05d8',)]),\n",
        " ('8', [('\u05d6\u05d4',), ('\u05d9\u05e9\u05c1\u05e4\u05d9\u05dc',)]),\n",
        " ('8', [('\u05d5',), ('\u05d6\u05d4',), ('\u05d9\u05e8\u05d9\u05dd',)]),\n",
        " ('9', [('\u05db\u05d9',), ('\u05db\u05d5\u05e1',), ('\u05d1',), ('\u05d9\u05d3',), ('\u05d9\u05d4\u05d5\u05d4',)]),\n",
        " ('9', [('\u05d5',), ('\u05d9\u05d9\u05df',), ('\u05d7\u05de\u05e8',)]),\n",
        " ('9', [('\u05de\u05dc\u05d0',), ('\u05de\u05e1\u05da',)]),\n",
        " ('9', [('\u05d5',), ('\u05d9\u05d2\u05e8',), ('\u05de',), ('\u05d6\u05d4',)]),\n",
        " ('9', [('\u05d0\u05da',), ('\u05e9\u05c1\u05de\u05e8\u05d9\u05d4',), ('\u05d9\u05de\u05e6\u05d5',)]),\n",
        " ('9', [('\u05d9\u05e9\u05c1\u05ea\u05d5',), ('\u05db\u05dc',), ('\u05e8\u05e9\u05c1\u05e2\u05d9',), ('\u05d0\u05e8\u05e5',)]),\n",
        " ('10',\n",
        "  [('\u05d5',),\n",
        "   ('\u05d0\u05e0\u05d9', 'pronoun', '1', 's', 'x', 'x'),\n",
        "   ('\u05d0\u05d2\u05d9\u05d3', 'verb', '1', 's', 'x', 'x'),\n",
        "   ('\u05dc',),\n",
        "   ('\u05e2\u05dc\u05dd',)]),\n",
        " ('10', [('\u05d0\u05d6\u05de\u05e8\u05d4', 'verb', '1', 's', 'x', 'x'), ('\u05dc',), ('\u05d0\u05dc\u05d4\u05d9',), ('\u05d9\u05e2\u05e7\u05d1',)]),\n",
        " ('11',\n",
        "  [('\u05d5',),\n",
        "   ('\u05db\u05dc',),\n",
        "   ('\u05e7\u05e8\u05e0\u05d9',),\n",
        "   ('\u05e8\u05e9\u05c1\u05e2\u05d9\u05dd',),\n",
        "   ('\u05d0\u05d2\u05d3\u05e2', 'verb', '1', 's', 'x', 'x')]),\n",
        " ('11', [('\u05ea\u05e8\u05d5\u05de\u05de\u05e0\u05d4',), ('\u05e7\u05e8\u05e0\u05d5\u05ea',), ('\u05e6\u05d3\u05d9\u05e7',)]))"
       ]
      }
     ],
     "prompt_number": 89
    },
    {
     "cell_type": "code",
     "collapsed": false,
     "input": [],
     "language": "python",
     "metadata": {},
     "outputs": []
    }
   ],
   "metadata": {}
  }
 ]
}