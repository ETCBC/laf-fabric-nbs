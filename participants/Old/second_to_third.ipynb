{
 "metadata": {
  "name": "",
  "signature": "sha256:a4628691b94164f0affdadc79592ce60309c0d4458f1ac8b2f1caa0a78b87bc3"
 },
 "nbformat": 3,
 "nbformat_minor": 0,
 "worksheets": [
  {
   "cells": [
    {
     "cell_type": "code",
     "collapsed": false,
     "input": [
      "import sys\n",
      "import collections\n",
      "%load_ext autoreload\n",
      "%autoreload 2\n",
      "import laf\n",
      "from laf.fabric import LafFabric\n",
      "from etcbc.preprocess import prepare\n",
      "from etcbc.lib import Transcription, monad_set\n",
      "from etcbc.trees import Tree\n",
      "fabric = LafFabric()\n",
      "tr = Transcription()"
     ],
     "language": "python",
     "metadata": {},
     "outputs": [
      {
       "output_type": "stream",
       "stream": "stderr",
       "text": [
        "  0.00s This is LAF-Fabric 4.2.8\n",
        "http://laf-fabric.readthedocs.org/en/latest/texts/API-reference.html\n"
       ]
      }
     ],
     "prompt_number": 1
    },
    {
     "cell_type": "code",
     "collapsed": false,
     "input": [
      "API=fabric.load('bhs3', '--', 'psalms', {\n",
      "    \"xmlids\": {\"node\": False, \"edge\": False},\n",
      "    \"features\": ('''\n",
      "        oid otype monads minmonad maxmonad\n",
      "        surface_consonants text text_plain suffix\n",
      "        gender number person suffix_gender suffix_number suffix_person\n",
      "        part_of_speech lexical_set phrase_dependent_part_of_speech phrase_function lexeme_utf8 verse_label\n",
      "        book chapter verse\n",
      "    ''',\n",
      "    '''mother.\n",
      "    '''),\n",
      "    \"prepare\": prepare,\n",
      "}, verbose='DETAIL')\n",
      "exec(fabric.localnames.format(var='fabric'))"
     ],
     "language": "python",
     "metadata": {},
     "outputs": [
      {
       "output_type": "stream",
       "stream": "stderr",
       "text": [
        "  0.00s LOADING API: please wait ... \n"
       ]
      },
      {
       "output_type": "stream",
       "stream": "stderr",
       "text": [
        "  0.00s DETAIL: COMPILING m: UP TO DATE\n"
       ]
      },
      {
       "output_type": "stream",
       "stream": "stderr",
       "text": [
        "  0.01s INFO: DATA COMPILED AT: 2014-04-18T18-24-37\n"
       ]
      },
      {
       "output_type": "stream",
       "stream": "stderr",
       "text": [
        "  0.01s DETAIL: COMPILING a: UP TO DATE\n"
       ]
      },
      {
       "output_type": "stream",
       "stream": "stderr",
       "text": [
        "  0.04s DETAIL: keep main: G.node_anchor_min\n"
       ]
      },
      {
       "output_type": "stream",
       "stream": "stderr",
       "text": [
        "  0.04s DETAIL: keep main: G.node_anchor_max\n"
       ]
      },
      {
       "output_type": "stream",
       "stream": "stderr",
       "text": [
        "  0.05s DETAIL: keep main: G.node_sort\n"
       ]
      },
      {
       "output_type": "stream",
       "stream": "stderr",
       "text": [
        "  0.05s DETAIL: keep main: G.node_sort_inv\n"
       ]
      },
      {
       "output_type": "stream",
       "stream": "stderr",
       "text": [
        "  0.06s DETAIL: keep main: G.edges_from\n"
       ]
      },
      {
       "output_type": "stream",
       "stream": "stderr",
       "text": [
        "  0.06s DETAIL: keep main: G.edges_to\n"
       ]
      },
      {
       "output_type": "stream",
       "stream": "stderr",
       "text": [
        "  0.07s DETAIL: keep main: F.shebanq_db_maxmonad [node] \n"
       ]
      },
      {
       "output_type": "stream",
       "stream": "stderr",
       "text": [
        "  0.07s DETAIL: keep main: F.shebanq_db_minmonad [node] \n"
       ]
      },
      {
       "output_type": "stream",
       "stream": "stderr",
       "text": [
        "  0.08s DETAIL: keep main: F.shebanq_db_monads [node] \n"
       ]
      },
      {
       "output_type": "stream",
       "stream": "stderr",
       "text": [
        "  0.08s DETAIL: keep main: F.shebanq_db_oid [node] \n"
       ]
      },
      {
       "output_type": "stream",
       "stream": "stderr",
       "text": [
        "  0.09s DETAIL: keep main: F.shebanq_db_otype [node] \n"
       ]
      },
      {
       "output_type": "stream",
       "stream": "stderr",
       "text": [
        "  0.09s DETAIL: keep main: F.shebanq_ft_gender [node] \n"
       ]
      },
      {
       "output_type": "stream",
       "stream": "stderr",
       "text": [
        "  0.10s DETAIL: keep main: F.shebanq_ft_lexeme_utf8 [node] \n"
       ]
      },
      {
       "output_type": "stream",
       "stream": "stderr",
       "text": [
        "  0.10s DETAIL: keep main: F.shebanq_ft_number [node] \n"
       ]
      },
      {
       "output_type": "stream",
       "stream": "stderr",
       "text": [
        "  0.11s DETAIL: keep main: F.shebanq_ft_part_of_speech [node] \n"
       ]
      },
      {
       "output_type": "stream",
       "stream": "stderr",
       "text": [
        "  0.11s DETAIL: keep main: F.shebanq_ft_person [node] \n"
       ]
      },
      {
       "output_type": "stream",
       "stream": "stderr",
       "text": [
        "  0.12s DETAIL: keep main: F.shebanq_ft_phrase_dependent_part_of_speech [node] \n"
       ]
      },
      {
       "output_type": "stream",
       "stream": "stderr",
       "text": [
        "  0.12s DETAIL: keep main: F.shebanq_ft_phrase_function [node] \n"
       ]
      },
      {
       "output_type": "stream",
       "stream": "stderr",
       "text": [
        "  0.13s DETAIL: keep main: F.shebanq_ft_suffix [node] \n"
       ]
      },
      {
       "output_type": "stream",
       "stream": "stderr",
       "text": [
        "  0.13s DETAIL: keep main: F.shebanq_ft_suffix_gender [node] \n"
       ]
      },
      {
       "output_type": "stream",
       "stream": "stderr",
       "text": [
        "  0.13s DETAIL: keep main: F.shebanq_ft_suffix_number [node] \n"
       ]
      },
      {
       "output_type": "stream",
       "stream": "stderr",
       "text": [
        "  0.14s DETAIL: keep main: F.shebanq_ft_suffix_person [node] \n"
       ]
      },
      {
       "output_type": "stream",
       "stream": "stderr",
       "text": [
        "  0.14s DETAIL: keep main: F.shebanq_ft_surface_consonants [node] \n"
       ]
      },
      {
       "output_type": "stream",
       "stream": "stderr",
       "text": [
        "  0.15s DETAIL: keep main: F.shebanq_ft_text [node] \n"
       ]
      },
      {
       "output_type": "stream",
       "stream": "stderr",
       "text": [
        "  0.15s DETAIL: keep main: F.shebanq_ft_text_plain [node] \n"
       ]
      },
      {
       "output_type": "stream",
       "stream": "stderr",
       "text": [
        "  0.16s DETAIL: keep main: F.shebanq_sft_book [node] \n"
       ]
      },
      {
       "output_type": "stream",
       "stream": "stderr",
       "text": [
        "  0.16s DETAIL: keep main: F.shebanq_sft_chapter [node] \n"
       ]
      },
      {
       "output_type": "stream",
       "stream": "stderr",
       "text": [
        "  0.16s DETAIL: keep main: F.shebanq_sft_verse [node] \n"
       ]
      },
      {
       "output_type": "stream",
       "stream": "stderr",
       "text": [
        "  0.17s DETAIL: keep main: F.shebanq_sft_verse_label [node] \n"
       ]
      },
      {
       "output_type": "stream",
       "stream": "stderr",
       "text": [
        "  0.17s DETAIL: keep main: F.shebanq_mother_ [e] \n"
       ]
      },
      {
       "output_type": "stream",
       "stream": "stderr",
       "text": [
        "  0.18s DETAIL: keep main: C.shebanq_mother_ -> \n"
       ]
      },
      {
       "output_type": "stream",
       "stream": "stderr",
       "text": [
        "  0.18s DETAIL: keep main: C.shebanq_mother_ <- \n"
       ]
      },
      {
       "output_type": "stream",
       "stream": "stderr",
       "text": [
        "  0.19s DETAIL: load main: F.shebanq_ft_lexical_set [node] \n"
       ]
      },
      {
       "output_type": "stream",
       "stream": "stderr",
       "text": [
        "  0.69s LOGFILE=C:\\Users\\Gino/laf-fabric-data/bhs3/tasks/psalms/__log__psalms.txt\n"
       ]
      },
      {
       "output_type": "stream",
       "stream": "stderr",
       "text": [
        "  0.69s DETAIL: prep prep: G.node_sort\n"
       ]
      },
      {
       "output_type": "stream",
       "stream": "stderr",
       "text": [
        "  0.79s DETAIL: prep prep: G.node_sort_inv\n"
       ]
      },
      {
       "output_type": "stream",
       "stream": "stderr",
       "text": [
        "  1.62s INFO: DATA LOADED FROM SOURCE bhs3 AND ANNOX -- FOR TASK psalms\n"
       ]
      }
     ],
     "prompt_number": 11
    },
    {
     "cell_type": "code",
     "collapsed": false,
     "input": [
      "def analyze_psalms():\n",
      "    f = outfile('secondThirdInPsalms.csv')\n",
      "    chapter = verse = \"\"\n",
      "    mother_person = mother_number = mother_gender = \"\"\n",
      "    person = number = gender = \"\"\n",
      "    in_subject = False\n",
      "    pngSet= False\n",
      "    mother_subject = subject = \"\"\n",
      "    third_to_second = collections.defaultdict(lambda: [])\n",
      "    second_to_third = collections.defaultdict(lambda: [])\n",
      "    \n",
      "    for node in NN():\n",
      "        otype = F.otype.v(node)\n",
      "        if otype == 'book':\n",
      "            if F.book.v(node) == \"Psalms\":\n",
      "                inPsalms = True\n",
      "            else:\n",
      "                inPsalms = False\n",
      "        elif inPsalms:\n",
      "            if otype == 'chapter':\n",
      "                mother_person = mother_number = mother_gender = \"\" # do not compare clauses belonging to different chapters\n",
      "                mother_subject = \"\"\n",
      "            elif otype == 'verse':\n",
      "                verse = F.verse_label.v(node)\n",
      "            elif otype == \"clause\":\n",
      "                if person == \"second_person\":\n",
      "                    if mother_person == \"third_person\" and mother_number == number:\n",
      "                        third_to_second[verse].append(mother_subject)\n",
      "                        third_to_second[verse].append(subject)\n",
      "                elif person == \"third_person\":\n",
      "                    if mother_person == \"second_person\" and mother_number == number:\n",
      "                        second_to_third[verse].append(mother_subject)\n",
      "                        second_to_third[verse].append(subject)\n",
      "                mother_person = person\n",
      "                mother_number = number\n",
      "                mother_gender = gender\n",
      "                mother_subject = subject\n",
      "                person = number = gender = \"\"\n",
      "                subject = \"\"\n",
      "                pngSet = False\n",
      "            elif otype == 'phrase':\n",
      "                if F.phrase_function.v(node) == 'Subj':\n",
      "                    in_subject = True\n",
      "                else:\n",
      "                    in_subject = False\n",
      "            elif otype == 'word':\n",
      "                pdpos = F.phrase_dependent_part_of_speech.v(node)\n",
      "                if pdpos == 'verb' and not pngSet:\n",
      "                    person = F.person.v(node)\n",
      "                    number = F.number.v(node)\n",
      "                    gender = F.gender.v(node)\n",
      "                elif in_subject:\n",
      "                    subject += F.lexeme_utf8.v(node)\n",
      "                    if pdpos == 'pronoun':\n",
      "                        person = F.person.v(node)\n",
      "                        number = F.number.v(node)\n",
      "                        gender = F.gender.v(node)\n",
      "                        pngSet = True\n",
      "                    elif pdpos == 'noun' and not pngSet:\n",
      "                        lexset = F.lexical_set.v(node)\n",
      "                        if lexset == 'Cardinal' or lexset == 'Distributive_noun':\n",
      "                            continue\n",
      "                        else:\n",
      "                            person = \"third_person\"\n",
      "                            number = F.number.v(node)\n",
      "                            gender = F.gender.v(node)\n",
      "                            pngSet = True\n",
      "    \n",
      "    f.write(\"Transitions from third-person subject to second-person subject in the Psalms:\\n\")\n",
      "    for k in third_to_second:\n",
      "        f.write(\"{};{};{};{};{}\\n\".format(k, \"3rd-person SU\", third_to_second[k][0], \"2nd-person SU\", third_to_second[k][1]))\n",
      "\n",
      "    f.write(\"Transitions from second-person subject to third-person subject in the Psalms:\\n\")\n",
      "    for l in second_to_third:\n",
      "        f.write(\"{};{};{};{};{}\\n\".format(l, \"2nd-person SU\", second_to_third[l][0], \"3rd-person SU\", second_to_third[l][1]))\n",
      "        \n",
      "    f.close()"
     ],
     "language": "python",
     "metadata": {},
     "outputs": [],
     "prompt_number": 44
    },
    {
     "cell_type": "code",
     "collapsed": false,
     "input": [
      "analyze_psalms()"
     ],
     "language": "python",
     "metadata": {},
     "outputs": [],
     "prompt_number": 45
    },
    {
     "cell_type": "code",
     "collapsed": false,
     "input": [],
     "language": "python",
     "metadata": {},
     "outputs": []
    }
   ],
   "metadata": {}
  }
 ]
}