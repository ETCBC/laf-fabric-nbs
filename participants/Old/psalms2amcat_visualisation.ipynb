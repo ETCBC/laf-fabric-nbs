{
 "metadata": {
  "name": "",
  "signature": "sha256:5f04990c61c570e28f7a92c2d61fe1a898e3465d03dcbaa21e3350c960ef0653"
 },
 "nbformat": 3,
 "nbformat_minor": 0,
 "worksheets": [
  {
   "cells": [
    {
     "cell_type": "markdown",
     "metadata": {},
     "source": [
      "<a href=\"http://laf-fabric.readthedocs.org/en/latest/\" target=\"_blank\"><img align=\"left\" src=\"images/laf-fabric-xsmall.png\"/></a>\n",
      "<a href=\"http://www.godgeleerdheid.vu.nl/etcbc\" target=\"_blank\"><img align=\"left\" src=\"images/VU-ETCBC-xsmall.png\"/></a>\n",
      "<a href=\"http://amcat.vu.nl/navigator/\" target=\"_blank\"><img align=\"left\" src=\"images/AmCAT.png\"/></a>\n",
      "<a href=\"http://tla.mpi.nl\" target=\"_blank\"><img align=\"right\" src=\"images/TLA-xsmall.png\"/></a>\n",
      "<a href=\"http://www.dans.knaw.nl\" target=\"_blank\"><img align=\"right\"src=\"images/DANS-xsmall.png\"/></a>"
     ]
    },
    {
     "cell_type": "heading",
     "level": 1,
     "metadata": {},
     "source": [
      "Psalms to AmCAT"
     ]
    },
    {
     "cell_type": "markdown",
     "metadata": {},
     "source": [
      "Christiaan Erwich @ ETCBC wants to study *participants* in the texts of the psalms. He wants to use Wouter van Atteveldt's [AmCAT](http://amcat.vu.nl/navigator/projects/) system for that.\n",
      "\n",
      "*Participants* are the agents that the texts refer to, especially the speakers and listeners. In many cases it is not at all clear how to resolve implicit references in the texts to a set of distinct participants.\n",
      "\n",
      "So, attempts are undertaken to shed more light on participants, with the ETCBC database of linguistic information on the bible text as a starting point."
     ]
    },
    {
     "cell_type": "code",
     "collapsed": false,
     "input": [
      "import sys\n",
      "import collections\n",
      "import json\n",
      "from IPython.display import display, HTML, FileLinks\n",
      "%load_ext autoreload\n",
      "%autoreload 2\n",
      "import laf\n",
      "from laf.fabric import LafFabric\n",
      "from etcbc.preprocess import prepare\n",
      "from etcbc.lib import Transcription, monad_set\n",
      "from etcbc.trees import Tree\n",
      "fabric = LafFabric()\n",
      "tr = Transcription()"
     ],
     "language": "python",
     "metadata": {},
     "outputs": [
      {
       "output_type": "stream",
       "stream": "stderr",
       "text": [
        "  0.00s This is LAF-Fabric 4.2.12\n",
        "http://laf-fabric.readthedocs.org/en/latest/texts/API-reference.html\n"
       ]
      }
     ],
     "prompt_number": 1
    },
    {
     "cell_type": "code",
     "collapsed": false,
     "input": [
      "API=fabric.load('bhs3', '--', 'psalms', {\n",
      "    \"xmlids\": {\"node\": False, \"edge\": False},\n",
      "    \"features\": ('''\n",
      "        oid otype monads minmonad maxmonad\n",
      "        surface_consonants text text_plain graphical_pron_suffix_plain suffix\n",
      "        gender number person suffix_gender suffix_number suffix_person\n",
      "        locative tense\n",
      "        noun_type pronoun_type\n",
      "        part_of_speech phrase_dependent_part_of_speech\n",
      "        phrase_type phrase_function\n",
      "        clause_constituent_relation clause_atom_type\n",
      "        domain text_type embedding_domain\n",
      "        book chapter verse\n",
      "    ''',\n",
      "    '''mother.\n",
      "    '''),\n",
      "    \"prepare\": prepare,\n",
      "}, verbose='DETAIL')\n",
      "exec(fabric.localnames.format(var='fabric'))"
     ],
     "language": "python",
     "metadata": {},
     "outputs": [
      {
       "output_type": "stream",
       "stream": "stderr",
       "text": [
        "  0.00s LOADING API: please wait ... \n"
       ]
      },
      {
       "output_type": "stream",
       "stream": "stderr",
       "text": [
        "  0.00s DETAIL: COMPILING m: UP TO DATE\n"
       ]
      },
      {
       "output_type": "stream",
       "stream": "stderr",
       "text": [
        "  0.00s INFO: USING DATA COMPILED AT: 2014-04-18T18-24-37\n"
       ]
      },
      {
       "output_type": "stream",
       "stream": "stderr",
       "text": [
        "  0.00s DETAIL: COMPILING a: UP TO DATE\n"
       ]
      },
      {
       "output_type": "stream",
       "stream": "stderr",
       "text": [
        "  0.01s DETAIL: load main: G.node_anchor_min\n"
       ]
      },
      {
       "output_type": "stream",
       "stream": "stderr",
       "text": [
        "  0.09s DETAIL: load main: G.node_anchor_max\n"
       ]
      },
      {
       "output_type": "stream",
       "stream": "stderr",
       "text": [
        "  0.16s DETAIL: load main: G.node_sort\n"
       ]
      },
      {
       "output_type": "stream",
       "stream": "stderr",
       "text": [
        "  0.22s DETAIL: load main: G.node_sort_inv\n"
       ]
      },
      {
       "output_type": "stream",
       "stream": "stderr",
       "text": [
        "  0.97s DETAIL: load main: G.edges_from\n"
       ]
      },
      {
       "output_type": "stream",
       "stream": "stderr",
       "text": [
        "  1.02s DETAIL: load main: G.edges_to\n"
       ]
      },
      {
       "output_type": "stream",
       "stream": "stderr",
       "text": [
        "  1.08s DETAIL: load main: F.shebanq_db_maxmonad [node] \n"
       ]
      },
      {
       "output_type": "stream",
       "stream": "stderr",
       "text": [
        "  1.96s DETAIL: load main: F.shebanq_db_minmonad [node] \n"
       ]
      },
      {
       "output_type": "stream",
       "stream": "stderr",
       "text": [
        "  2.79s DETAIL: load main: F.shebanq_db_monads [node] \n"
       ]
      },
      {
       "output_type": "stream",
       "stream": "stderr",
       "text": [
        "  3.84s DETAIL: load main: F.shebanq_db_oid [node] \n"
       ]
      },
      {
       "output_type": "stream",
       "stream": "stderr",
       "text": [
        "  4.88s DETAIL: load main: F.shebanq_db_otype [node] \n"
       ]
      },
      {
       "output_type": "stream",
       "stream": "stderr",
       "text": [
        "  5.94s DETAIL: load main: F.shebanq_ft_clause_atom_type [node] \n"
       ]
      },
      {
       "output_type": "stream",
       "stream": "stderr",
       "text": [
        "  5.99s DETAIL: load main: F.shebanq_ft_clause_constituent_relation [node] \n"
       ]
      },
      {
       "output_type": "stream",
       "stream": "stderr",
       "text": [
        "  6.05s DETAIL: load main: F.shebanq_ft_domain [node] \n"
       ]
      },
      {
       "output_type": "stream",
       "stream": "stderr",
       "text": [
        "  6.10s DETAIL: load main: F.shebanq_ft_embedding_domain [node] \n"
       ]
      },
      {
       "output_type": "stream",
       "stream": "stderr",
       "text": [
        "  6.16s DETAIL: load main: F.shebanq_ft_gender [node] \n"
       ]
      },
      {
       "output_type": "stream",
       "stream": "stderr",
       "text": [
        "  6.41s DETAIL: load main: F.shebanq_ft_graphical_pron_suffix_plain [node] \n"
       ]
      },
      {
       "output_type": "stream",
       "stream": "stderr",
       "text": [
        "  6.55s DETAIL: load main: F.shebanq_ft_locative [node] \n"
       ]
      },
      {
       "output_type": "stream",
       "stream": "stderr",
       "text": [
        "  6.83s DETAIL: load main: F.shebanq_ft_noun_type [node] \n"
       ]
      },
      {
       "output_type": "stream",
       "stream": "stderr",
       "text": [
        "  7.11s DETAIL: load main: F.shebanq_ft_number [node] \n"
       ]
      },
      {
       "output_type": "stream",
       "stream": "stderr",
       "text": [
        "  7.37s DETAIL: load main: F.shebanq_ft_part_of_speech [node] \n"
       ]
      },
      {
       "output_type": "stream",
       "stream": "stderr",
       "text": [
        "  7.63s DETAIL: load main: F.shebanq_ft_person [node] \n"
       ]
      },
      {
       "output_type": "stream",
       "stream": "stderr",
       "text": [
        "  7.87s DETAIL: load main: F.shebanq_ft_phrase_dependent_part_of_speech [node] \n"
       ]
      },
      {
       "output_type": "stream",
       "stream": "stderr",
       "text": [
        "  8.15s DETAIL: load main: F.shebanq_ft_phrase_function [node] \n"
       ]
      },
      {
       "output_type": "stream",
       "stream": "stderr",
       "text": [
        "  8.29s DETAIL: load main: F.shebanq_ft_phrase_type [node] \n"
       ]
      },
      {
       "output_type": "stream",
       "stream": "stderr",
       "text": [
        "  8.44s DETAIL: load main: F.shebanq_ft_pronoun_type [node] \n"
       ]
      },
      {
       "output_type": "stream",
       "stream": "stderr",
       "text": [
        "  8.70s DETAIL: load main: F.shebanq_ft_suffix [node] \n"
       ]
      },
      {
       "output_type": "stream",
       "stream": "stderr",
       "text": [
        "  8.85s DETAIL: load main: F.shebanq_ft_suffix_gender [node] \n"
       ]
      },
      {
       "output_type": "stream",
       "stream": "stderr",
       "text": [
        "  9.09s DETAIL: load main: F.shebanq_ft_suffix_number [node] \n"
       ]
      },
      {
       "output_type": "stream",
       "stream": "stderr",
       "text": [
        "  9.40s DETAIL: load main: F.shebanq_ft_suffix_person [node] \n"
       ]
      },
      {
       "output_type": "stream",
       "stream": "stderr",
       "text": [
        "  9.65s DETAIL: load main: F.shebanq_ft_surface_consonants [node] \n"
       ]
      },
      {
       "output_type": "stream",
       "stream": "stderr",
       "text": [
        "  9.89s DETAIL: load main: F.shebanq_ft_tense [node] \n"
       ]
      },
      {
       "output_type": "stream",
       "stream": "stderr",
       "text": [
        "    10s DETAIL: load main: F.shebanq_ft_text [node] \n"
       ]
      },
      {
       "output_type": "stream",
       "stream": "stderr",
       "text": [
        "    11s DETAIL: load main: F.shebanq_ft_text_plain [node] \n"
       ]
      },
      {
       "output_type": "stream",
       "stream": "stderr",
       "text": [
        "    11s DETAIL: load main: F.shebanq_ft_text_type [node] \n"
       ]
      },
      {
       "output_type": "stream",
       "stream": "stderr",
       "text": [
        "    11s DETAIL: load main: F.shebanq_sft_book [node] \n"
       ]
      },
      {
       "output_type": "stream",
       "stream": "stderr",
       "text": [
        "    11s DETAIL: load main: F.shebanq_sft_chapter [node] \n"
       ]
      },
      {
       "output_type": "stream",
       "stream": "stderr",
       "text": [
        "    11s DETAIL: load main: F.shebanq_sft_verse [node] \n"
       ]
      },
      {
       "output_type": "stream",
       "stream": "stderr",
       "text": [
        "    11s DETAIL: load main: F.shebanq_mother_ [e] \n"
       ]
      },
      {
       "output_type": "stream",
       "stream": "stderr",
       "text": [
        "    11s DETAIL: load main: C.shebanq_mother_ -> \n"
       ]
      },
      {
       "output_type": "stream",
       "stream": "stderr",
       "text": [
        "    11s DETAIL: load main: C.shebanq_mother_ <- \n"
       ]
      },
      {
       "output_type": "stream",
       "stream": "stderr",
       "text": [
        "    11s LOGFILE=/Users/dirk/laf-fabric-output/bhs3/psalms/__log__psalms.txt\n"
       ]
      },
      {
       "output_type": "stream",
       "stream": "stderr",
       "text": [
        "    11s DETAIL: prep prep: G.node_sort\n"
       ]
      },
      {
       "output_type": "stream",
       "stream": "stderr",
       "text": [
        "    11s DETAIL: prep prep: G.node_sort_inv\n"
       ]
      },
      {
       "output_type": "stream",
       "stream": "stderr",
       "text": [
        "    12s INFO: DATA LOADED FROM SOURCE bhs3 AND ANNOX -- FOR TASK psalms AT 2014-06-25T10-38-17\n"
       ]
      }
     ],
     "prompt_number": 2
    },
    {
     "cell_type": "code",
     "collapsed": false,
     "input": [
      "%%html\n",
      "\n",
      "<style>\n",
      "\n",
      "span.thsgm {\n",
      "    color:Red;\n",
      "}\n",
      "\n",
      "</style>"
     ],
     "language": "python",
     "metadata": {},
     "outputs": [
      {
       "html": [
        "\n",
        "<style>\n",
        "\n",
        "span.thsgm {\n",
        "    color:Red;\n",
        "}\n",
        "\n",
        "</style>"
       ],
       "metadata": {},
       "output_type": "display_data",
       "text": [
        "<IPython.core.display.HTML at 0x103b6ef98>"
       ]
      }
     ],
     "prompt_number": 3
    },
    {
     "cell_type": "code",
     "collapsed": false,
     "input": [
      "psalm_nodes = collections.defaultdict(lambda: [])\n",
      "type_table = {'sentence', 'clause', 'clause_atom', 'phrase', 'word'}\n",
      "info_spec = {\n",
      "    'clause'     : '''clause_constituent_relation(ccr)\n",
      "                      domain text_type(ttype) embedding_domain(edomain)\n",
      "                   ''',\n",
      "    'clause_atom': '''clause_atom_type(catype)''',\n",
      "    'phrase'     : '''phrase_type(ptype) phrase_function(pfunc)''',\n",
      "    'word'       : '''gender(g) number(n) person(p) suffix_gender(sg) suffix_number(sn) suffix_person(sp)\n",
      "                      locative(loc) tense\n",
      "                      noun_type(ntype) pronoun_type(pntype)\n",
      "                      part_of_speech(pos) phrase_dependent_part_of_speech(pdpos)\n",
      "                   ''',\n",
      "}\n",
      "info_spec_compiled = {}\n",
      "for otype in info_spec:\n",
      "    fieldspecs = info_spec[otype].strip().split()\n",
      "    fields = []\n",
      "    for fieldspec in fieldspecs:\n",
      "        prefield = fieldspec.split('(')\n",
      "        if len(prefield) == 1:\n",
      "            fields.append((fieldspec, fieldspec))\n",
      "        else:\n",
      "            fields.append((prefield[0], prefield[1].rstrip(')')))\n",
      "    info_spec_compiled[otype] = fields\n",
      "\n",
      "def set_marking(is_Pronoun, text, person, number, gender):\n",
      "    if person == \"third_person\":\n",
      "        if number == \"singular\":\n",
      "            if gender != \"feminine\":\n",
      "                if is_Pronoun:\n",
      "                    return ('<span style=\"background-color:Blue;\">' + text + '</span>')\n",
      "                else:\n",
      "                    return ('<span style=\"color:Blue;\">' + text + '</span>')\n",
      "            else:\n",
      "                if is_Pronoun:\n",
      "                    return ('<span style=\"background-color:Aqua;\">' + text + '</span>')\n",
      "                else:\n",
      "                    return ('<span style=\"color:Aqua;\">' + text + '</span>')\n",
      "        else:\n",
      "            if gender != \"feminine\":\n",
      "                if is_Pronoun:\n",
      "                    return ('<span style=\"background-color:LimeGreen; text-decoration:underline;\">' + text + '</span>')\n",
      "                else:\n",
      "                    return ('<span style=\"color:LawnGreen; text-decoration:underline;\">' + text + '</span>')\n",
      "            else:\n",
      "                if is_Pronoun:\n",
      "                    return ('<span style=\"background-color:LawnGreen; text-decoration:underline;\">' + text + '</span>')\n",
      "                else:\n",
      "                    return ('<span style=\"color:LawnGreen; text-decoration:underline;\">' + text + '</span>')\n",
      "    elif person == \"second_person\":\n",
      "        if number == \"singular\":\n",
      "            if gender != \"feminine\":\n",
      "                if is_Pronoun:\n",
      "                    return ('<span style=\"background-color:Gold;\">' + text + '</span>')\n",
      "                else:\n",
      "                    return ('<span style=\"color:Gold;\">' + text + '</span>')\n",
      "            else:\n",
      "                if is_Pronoun:\n",
      "                    return ('<span style=\"background-color:Yellow;\">' + text + '</span>')\n",
      "                else:\n",
      "                    return ('<span style=\"color:Yellow;\">' + text + '</span>')\n",
      "        else:\n",
      "            if gender != \"feminine\":\n",
      "                if is_Pronoun:\n",
      "                    return ('<span style=\"background-color:Orange; text-decoration:underline;\">' + text + '</span>')\n",
      "                else:\n",
      "                    return ('<span style=\"color:Orange; text-decoration:underline;\">' + text + '</span>')\n",
      "            else:\n",
      "                if is_Pronoun:\n",
      "                    return ('<span style=\"background-color:OrangeRed; text-decoration:underline;\">' + text + '</span>')\n",
      "                else:\n",
      "                    return ('<span style=\"color:OrangeRed; text-decoration:underline;\">' + text + '</span>')\n",
      "    elif person == \"first_person\":\n",
      "        if number == \"singular\":\n",
      "            if is_Pronoun:\n",
      "                return ('<span style=\"background-color:Red;\">' + text + '</span>')\n",
      "            else:\n",
      "                return ('<span style=\"color:Red;\">' + text + '</span>')\n",
      "        else:\n",
      "            if is_Pronoun:\n",
      "                return ('<span style=\"background-color:Purple; text-decoration:underline;\">' + text + '</span>')\n",
      "            else:\n",
      "                return ('<span style=\"color:Purple; text-decoration:underline;\">' + text + '</span>')        \n",
      "    return text\n",
      "    \n",
      "def do_psalm(nr):\n",
      "    psfh = outfile('psalm {:>3}.json'.format(nr))\n",
      "    text_file = outfile('psalm {:>3}.html'.format(nr))\n",
      "    text_file.write(\"<p>\")\n",
      "    Foidv = F.oid.v\n",
      "    Fotypev = F.otype.v\n",
      "    Fminmonadv = F.minmonad.v\n",
      "    Fmaxmonadv = F.maxmonad.v\n",
      "    data = {\n",
      "        'tokens': [],\n",
      "        'dependencies': [],\n",
      "    }\n",
      "    sentence_id = None\n",
      "    chapter = None\n",
      "    tokens = data['tokens']\n",
      "    deps = data['dependencies']\n",
      "    cur_object_id = {}\n",
      "    bsentence = None\n",
      "    for node in psalm_nodes[nr]:\n",
      "        otype = Fotypev(node)\n",
      "        if otype == 'sentence':\n",
      "            bsentence = int(Fminmonadv(node))\n",
      "        oid = int(Foidv(node))\n",
      "        minm = int(Fminmonadv(node)) - bsentence\n",
      "        maxm = int(Fmaxmonadv(node)) - bsentence\n",
      "        cur_token = {\n",
      "                'id': oid,\n",
      "                'otype': otype,\n",
      "                'start': minm,\n",
      "                'length': maxm - minm + 1,\n",
      "        }\n",
      "        if otype != 'word': cur_object_id[otype] = oid\n",
      "        else:\n",
      "            wtext = F.text_plain.v(node)\n",
      "            cur_token.update({'text': wtext, 'trans': tr.from_hebrew(wtext)})\n",
      "        if otype != 'sentence':\n",
      "            for ptype in cur_object_id:\n",
      "                if ptype == otype: continue\n",
      "                deps.append({\n",
      "                    'parent': cur_object_id[ptype],\n",
      "                    'child': oid,\n",
      "                    'relation': 'in_{}'.format(ptype),\n",
      "                })\n",
      "        if otype in info_spec_compiled:\n",
      "            for (field, abb) in info_spec_compiled[otype]:\n",
      "                cur_token.update(dict((f[1], F.item[f[0]].v(node)) for f in info_spec_compiled[otype]))\n",
      "        if otype == 'word':\n",
      "            pdpos = F.phrase_dependent_part_of_speech.v(node)\n",
      "            text_word_lexeme = F.text_plain.v(node)\n",
      "            if pdpos == \"pronoun\":\n",
      "                text_word_lexeme = set_marking(True, F.text_plain.v(node), F.person.v(node), F.number.v(node), F.gender.v(node))\n",
      "            text_suffix = F.graphical_pron_suffix_plain.v(node)\n",
      "            final_index_word = len(text_word_lexeme) - len(text_suffix)\n",
      "            sign = F.suffix.v(node)\n",
      "            if '\u05c3' in sign:\n",
      "                text_newline = \"<br>\"  \n",
      "            else:\n",
      "                text_newline = \"\"\n",
      "            if (text_suffix != \"\"):\n",
      "                if pdpos == \"verb\":\n",
      "                    text_file.write(set_marking(False, text_word_lexeme[0:final_index_word], F.person.v(node), F.number.v(node), F.gender.v(node)) + set_marking(False, text_suffix, F.suffix_person.v(node), F.suffix_number.v(node), F.suffix_gender.v(node)) + sign + text_newline)\n",
      "                else:\n",
      "                    text_file.write(text_word_lexeme[0:final_index_word] + set_marking(False, text_suffix, F.suffix_person.v(node), F.suffix_number.v(node), F.suffix_gender.v(node)) + sign + text_newline)  \n",
      "            else:\n",
      "                if pdpos == \"verb\":\n",
      "                    text_file.write(set_marking(False, text_word_lexeme[0:final_index_word], F.person.v(node), F.number.v(node), F.gender.v(node)) + sign + text_newline)\n",
      "                else:\n",
      "                    text_file.write(text_word_lexeme + sign + text_newline)\n",
      "        tokens.append(cur_token)            \n",
      "    psfh.write(json.dumps(data, sort_keys=True, indent=4, ensure_ascii=False))\n",
      "    text_file.write(\"</p>\")\n",
      "    psfh.close()\n",
      "    text_file.close()\n",
      "\n",
      "def get_psalms():\n",
      "    doit = False\n",
      "    doing = False\n",
      "    psfh = None\n",
      "    Fotypev = F.otype.v\n",
      "    chapter = None\n",
      "    \n",
      "    for node in NN():\n",
      "        otype = Fotypev(node)\n",
      "        if otype == 'book':\n",
      "            doit = F.book.v(node) == \"Psalms\"\n",
      "            if doit:\n",
      "                doing = True\n",
      "            else:\n",
      "                if doing: break\n",
      "        else:\n",
      "            if not doit: continue\n",
      "            if otype == 'chapter':\n",
      "                chapter = int(F.chapter.v(node))\n",
      "            elif otype in type_table: \n",
      "                psalm_nodes[chapter].append(node)"
     ],
     "language": "python",
     "metadata": {},
     "outputs": [],
     "prompt_number": 4
    },
    {
     "cell_type": "code",
     "collapsed": false,
     "input": [
      "msg(\"Collecting nodes of the psalms\")\n",
      "get_psalms()\n",
      "msg(\"Psalms collected\")\n",
      "\n",
      "msg(\"Processing psalms ...\")\n",
      "for p in sorted(psalm_nodes):\n",
      "    msg(\" {} \".format(p), withtime=False, newline=False)\n",
      "    do_psalm(p)\n",
      "msg('', withtime=False)\n",
      "msg(\"Psalms processed\")"
     ],
     "language": "python",
     "metadata": {},
     "outputs": [
      {
       "output_type": "stream",
       "stream": "stderr",
       "text": [
        "  8.84s Collecting nodes of the psalms\n"
       ]
      },
      {
       "output_type": "stream",
       "stream": "stderr",
       "text": [
        "  9.84s Psalms collected\n"
       ]
      },
      {
       "output_type": "stream",
       "stream": "stderr",
       "text": [
        "  9.84s Processing psalms ...\n"
       ]
      },
      {
       "output_type": "stream",
       "stream": "stderr",
       "text": [
        " 1 "
       ]
      },
      {
       "output_type": "stream",
       "stream": "stderr",
       "text": [
        " 2 "
       ]
      },
      {
       "output_type": "stream",
       "stream": "stderr",
       "text": [
        " 3 "
       ]
      },
      {
       "output_type": "stream",
       "stream": "stderr",
       "text": [
        " 4 "
       ]
      },
      {
       "output_type": "stream",
       "stream": "stderr",
       "text": [
        " 5 "
       ]
      },
      {
       "output_type": "stream",
       "stream": "stderr",
       "text": [
        " 6 "
       ]
      },
      {
       "output_type": "stream",
       "stream": "stderr",
       "text": [
        " 7 "
       ]
      },
      {
       "output_type": "stream",
       "stream": "stderr",
       "text": [
        " 8 "
       ]
      },
      {
       "output_type": "stream",
       "stream": "stderr",
       "text": [
        " 9 "
       ]
      },
      {
       "output_type": "stream",
       "stream": "stderr",
       "text": [
        " 10 "
       ]
      },
      {
       "output_type": "stream",
       "stream": "stderr",
       "text": [
        " 11 "
       ]
      },
      {
       "output_type": "stream",
       "stream": "stderr",
       "text": [
        " 12 "
       ]
      },
      {
       "output_type": "stream",
       "stream": "stderr",
       "text": [
        " 13 "
       ]
      },
      {
       "output_type": "stream",
       "stream": "stderr",
       "text": [
        " 14 "
       ]
      },
      {
       "output_type": "stream",
       "stream": "stderr",
       "text": [
        " 15 "
       ]
      },
      {
       "output_type": "stream",
       "stream": "stderr",
       "text": [
        " 16 "
       ]
      },
      {
       "output_type": "stream",
       "stream": "stderr",
       "text": [
        " 17 "
       ]
      },
      {
       "output_type": "stream",
       "stream": "stderr",
       "text": [
        " 18 "
       ]
      },
      {
       "output_type": "stream",
       "stream": "stderr",
       "text": [
        " 19 "
       ]
      },
      {
       "output_type": "stream",
       "stream": "stderr",
       "text": [
        " 20 "
       ]
      },
      {
       "output_type": "stream",
       "stream": "stderr",
       "text": [
        " 21 "
       ]
      },
      {
       "output_type": "stream",
       "stream": "stderr",
       "text": [
        " 22 "
       ]
      },
      {
       "output_type": "stream",
       "stream": "stderr",
       "text": [
        " 23 "
       ]
      },
      {
       "output_type": "stream",
       "stream": "stderr",
       "text": [
        " 24 "
       ]
      },
      {
       "output_type": "stream",
       "stream": "stderr",
       "text": [
        " 25 "
       ]
      },
      {
       "output_type": "stream",
       "stream": "stderr",
       "text": [
        " 26 "
       ]
      },
      {
       "output_type": "stream",
       "stream": "stderr",
       "text": [
        " 27 "
       ]
      },
      {
       "output_type": "stream",
       "stream": "stderr",
       "text": [
        " 28 "
       ]
      },
      {
       "output_type": "stream",
       "stream": "stderr",
       "text": [
        " 29 "
       ]
      },
      {
       "output_type": "stream",
       "stream": "stderr",
       "text": [
        " 30 "
       ]
      },
      {
       "output_type": "stream",
       "stream": "stderr",
       "text": [
        " 31 "
       ]
      },
      {
       "output_type": "stream",
       "stream": "stderr",
       "text": [
        " 32 "
       ]
      },
      {
       "output_type": "stream",
       "stream": "stderr",
       "text": [
        " 33 "
       ]
      },
      {
       "output_type": "stream",
       "stream": "stderr",
       "text": [
        " 34 "
       ]
      },
      {
       "output_type": "stream",
       "stream": "stderr",
       "text": [
        " 35 "
       ]
      },
      {
       "output_type": "stream",
       "stream": "stderr",
       "text": [
        " 36 "
       ]
      },
      {
       "output_type": "stream",
       "stream": "stderr",
       "text": [
        " 37 "
       ]
      },
      {
       "output_type": "stream",
       "stream": "stderr",
       "text": [
        " 38 "
       ]
      },
      {
       "output_type": "stream",
       "stream": "stderr",
       "text": [
        " 39 "
       ]
      },
      {
       "output_type": "stream",
       "stream": "stderr",
       "text": [
        " 40 "
       ]
      },
      {
       "output_type": "stream",
       "stream": "stderr",
       "text": [
        " 41 "
       ]
      },
      {
       "output_type": "stream",
       "stream": "stderr",
       "text": [
        " 42 "
       ]
      },
      {
       "output_type": "stream",
       "stream": "stderr",
       "text": [
        " 43 "
       ]
      },
      {
       "output_type": "stream",
       "stream": "stderr",
       "text": [
        " 44 "
       ]
      },
      {
       "output_type": "stream",
       "stream": "stderr",
       "text": [
        " 45 "
       ]
      },
      {
       "output_type": "stream",
       "stream": "stderr",
       "text": [
        " 46 "
       ]
      },
      {
       "output_type": "stream",
       "stream": "stderr",
       "text": [
        " 47 "
       ]
      },
      {
       "output_type": "stream",
       "stream": "stderr",
       "text": [
        " 48 "
       ]
      },
      {
       "output_type": "stream",
       "stream": "stderr",
       "text": [
        " 49 "
       ]
      },
      {
       "output_type": "stream",
       "stream": "stderr",
       "text": [
        " 50 "
       ]
      },
      {
       "output_type": "stream",
       "stream": "stderr",
       "text": [
        " 51 "
       ]
      },
      {
       "output_type": "stream",
       "stream": "stderr",
       "text": [
        " 52 "
       ]
      },
      {
       "output_type": "stream",
       "stream": "stderr",
       "text": [
        " 53 "
       ]
      },
      {
       "output_type": "stream",
       "stream": "stderr",
       "text": [
        " 54 "
       ]
      },
      {
       "output_type": "stream",
       "stream": "stderr",
       "text": [
        " 55 "
       ]
      },
      {
       "output_type": "stream",
       "stream": "stderr",
       "text": [
        " 56 "
       ]
      },
      {
       "output_type": "stream",
       "stream": "stderr",
       "text": [
        " 57 "
       ]
      },
      {
       "output_type": "stream",
       "stream": "stderr",
       "text": [
        " 58 "
       ]
      },
      {
       "output_type": "stream",
       "stream": "stderr",
       "text": [
        " 59 "
       ]
      },
      {
       "output_type": "stream",
       "stream": "stderr",
       "text": [
        " 60 "
       ]
      },
      {
       "output_type": "stream",
       "stream": "stderr",
       "text": [
        " 61 "
       ]
      },
      {
       "output_type": "stream",
       "stream": "stderr",
       "text": [
        " 62 "
       ]
      },
      {
       "output_type": "stream",
       "stream": "stderr",
       "text": [
        " 63 "
       ]
      },
      {
       "output_type": "stream",
       "stream": "stderr",
       "text": [
        " 64 "
       ]
      },
      {
       "output_type": "stream",
       "stream": "stderr",
       "text": [
        " 65 "
       ]
      },
      {
       "output_type": "stream",
       "stream": "stderr",
       "text": [
        " 66 "
       ]
      },
      {
       "output_type": "stream",
       "stream": "stderr",
       "text": [
        " 67 "
       ]
      },
      {
       "output_type": "stream",
       "stream": "stderr",
       "text": [
        " 68 "
       ]
      },
      {
       "output_type": "stream",
       "stream": "stderr",
       "text": [
        " 69 "
       ]
      },
      {
       "output_type": "stream",
       "stream": "stderr",
       "text": [
        " 70 "
       ]
      },
      {
       "output_type": "stream",
       "stream": "stderr",
       "text": [
        " 71 "
       ]
      },
      {
       "output_type": "stream",
       "stream": "stderr",
       "text": [
        " 72 "
       ]
      },
      {
       "output_type": "stream",
       "stream": "stderr",
       "text": [
        " 73 "
       ]
      },
      {
       "output_type": "stream",
       "stream": "stderr",
       "text": [
        " 74 "
       ]
      },
      {
       "output_type": "stream",
       "stream": "stderr",
       "text": [
        " 75 "
       ]
      },
      {
       "output_type": "stream",
       "stream": "stderr",
       "text": [
        " 76 "
       ]
      },
      {
       "output_type": "stream",
       "stream": "stderr",
       "text": [
        " 77 "
       ]
      },
      {
       "output_type": "stream",
       "stream": "stderr",
       "text": [
        " 78 "
       ]
      },
      {
       "output_type": "stream",
       "stream": "stderr",
       "text": [
        " 79 "
       ]
      },
      {
       "output_type": "stream",
       "stream": "stderr",
       "text": [
        " 80 "
       ]
      },
      {
       "output_type": "stream",
       "stream": "stderr",
       "text": [
        " 81 "
       ]
      },
      {
       "output_type": "stream",
       "stream": "stderr",
       "text": [
        " 82 "
       ]
      },
      {
       "output_type": "stream",
       "stream": "stderr",
       "text": [
        " 83 "
       ]
      },
      {
       "output_type": "stream",
       "stream": "stderr",
       "text": [
        " 84 "
       ]
      },
      {
       "output_type": "stream",
       "stream": "stderr",
       "text": [
        " 85 "
       ]
      },
      {
       "output_type": "stream",
       "stream": "stderr",
       "text": [
        " 86 "
       ]
      },
      {
       "output_type": "stream",
       "stream": "stderr",
       "text": [
        " 87 "
       ]
      },
      {
       "output_type": "stream",
       "stream": "stderr",
       "text": [
        " 88 "
       ]
      },
      {
       "output_type": "stream",
       "stream": "stderr",
       "text": [
        " 89 "
       ]
      },
      {
       "output_type": "stream",
       "stream": "stderr",
       "text": [
        " 90 "
       ]
      },
      {
       "output_type": "stream",
       "stream": "stderr",
       "text": [
        " 91 "
       ]
      },
      {
       "output_type": "stream",
       "stream": "stderr",
       "text": [
        " 92 "
       ]
      },
      {
       "output_type": "stream",
       "stream": "stderr",
       "text": [
        " 93 "
       ]
      },
      {
       "output_type": "stream",
       "stream": "stderr",
       "text": [
        " 94 "
       ]
      },
      {
       "output_type": "stream",
       "stream": "stderr",
       "text": [
        " 95 "
       ]
      },
      {
       "output_type": "stream",
       "stream": "stderr",
       "text": [
        " 96 "
       ]
      },
      {
       "output_type": "stream",
       "stream": "stderr",
       "text": [
        " 97 "
       ]
      },
      {
       "output_type": "stream",
       "stream": "stderr",
       "text": [
        " 98 "
       ]
      },
      {
       "output_type": "stream",
       "stream": "stderr",
       "text": [
        " 99 "
       ]
      },
      {
       "output_type": "stream",
       "stream": "stderr",
       "text": [
        " 100 "
       ]
      },
      {
       "output_type": "stream",
       "stream": "stderr",
       "text": [
        " 101 "
       ]
      },
      {
       "output_type": "stream",
       "stream": "stderr",
       "text": [
        " 102 "
       ]
      },
      {
       "output_type": "stream",
       "stream": "stderr",
       "text": [
        " 103 "
       ]
      },
      {
       "output_type": "stream",
       "stream": "stderr",
       "text": [
        " 104 "
       ]
      },
      {
       "output_type": "stream",
       "stream": "stderr",
       "text": [
        " 105 "
       ]
      },
      {
       "output_type": "stream",
       "stream": "stderr",
       "text": [
        " 106 "
       ]
      },
      {
       "output_type": "stream",
       "stream": "stderr",
       "text": [
        " 107 "
       ]
      },
      {
       "output_type": "stream",
       "stream": "stderr",
       "text": [
        " 108 "
       ]
      },
      {
       "output_type": "stream",
       "stream": "stderr",
       "text": [
        " 109 "
       ]
      },
      {
       "output_type": "stream",
       "stream": "stderr",
       "text": [
        " 110 "
       ]
      },
      {
       "output_type": "stream",
       "stream": "stderr",
       "text": [
        " 111 "
       ]
      },
      {
       "output_type": "stream",
       "stream": "stderr",
       "text": [
        " 112 "
       ]
      },
      {
       "output_type": "stream",
       "stream": "stderr",
       "text": [
        " 113 "
       ]
      },
      {
       "output_type": "stream",
       "stream": "stderr",
       "text": [
        " 114 "
       ]
      },
      {
       "output_type": "stream",
       "stream": "stderr",
       "text": [
        " 115 "
       ]
      },
      {
       "output_type": "stream",
       "stream": "stderr",
       "text": [
        " 116 "
       ]
      },
      {
       "output_type": "stream",
       "stream": "stderr",
       "text": [
        " 117 "
       ]
      },
      {
       "output_type": "stream",
       "stream": "stderr",
       "text": [
        " 118 "
       ]
      },
      {
       "output_type": "stream",
       "stream": "stderr",
       "text": [
        " 119 "
       ]
      },
      {
       "output_type": "stream",
       "stream": "stderr",
       "text": [
        " 120 "
       ]
      },
      {
       "output_type": "stream",
       "stream": "stderr",
       "text": [
        " 121 "
       ]
      },
      {
       "output_type": "stream",
       "stream": "stderr",
       "text": [
        " 122 "
       ]
      },
      {
       "output_type": "stream",
       "stream": "stderr",
       "text": [
        " 123 "
       ]
      },
      {
       "output_type": "stream",
       "stream": "stderr",
       "text": [
        " 124 "
       ]
      },
      {
       "output_type": "stream",
       "stream": "stderr",
       "text": [
        " 125 "
       ]
      },
      {
       "output_type": "stream",
       "stream": "stderr",
       "text": [
        " 126 "
       ]
      },
      {
       "output_type": "stream",
       "stream": "stderr",
       "text": [
        " 127 "
       ]
      },
      {
       "output_type": "stream",
       "stream": "stderr",
       "text": [
        " 128 "
       ]
      },
      {
       "output_type": "stream",
       "stream": "stderr",
       "text": [
        " 129 "
       ]
      },
      {
       "output_type": "stream",
       "stream": "stderr",
       "text": [
        " 130 "
       ]
      },
      {
       "output_type": "stream",
       "stream": "stderr",
       "text": [
        " 131 "
       ]
      },
      {
       "output_type": "stream",
       "stream": "stderr",
       "text": [
        " 132 "
       ]
      },
      {
       "output_type": "stream",
       "stream": "stderr",
       "text": [
        " 133 "
       ]
      },
      {
       "output_type": "stream",
       "stream": "stderr",
       "text": [
        " 134 "
       ]
      },
      {
       "output_type": "stream",
       "stream": "stderr",
       "text": [
        " 135 "
       ]
      },
      {
       "output_type": "stream",
       "stream": "stderr",
       "text": [
        " 136 "
       ]
      },
      {
       "output_type": "stream",
       "stream": "stderr",
       "text": [
        " 137 "
       ]
      },
      {
       "output_type": "stream",
       "stream": "stderr",
       "text": [
        " 138 "
       ]
      },
      {
       "output_type": "stream",
       "stream": "stderr",
       "text": [
        " 139 "
       ]
      },
      {
       "output_type": "stream",
       "stream": "stderr",
       "text": [
        " 140 "
       ]
      },
      {
       "output_type": "stream",
       "stream": "stderr",
       "text": [
        " 141 "
       ]
      },
      {
       "output_type": "stream",
       "stream": "stderr",
       "text": [
        " 142 "
       ]
      },
      {
       "output_type": "stream",
       "stream": "stderr",
       "text": [
        " 143 "
       ]
      },
      {
       "output_type": "stream",
       "stream": "stderr",
       "text": [
        " 144 "
       ]
      },
      {
       "output_type": "stream",
       "stream": "stderr",
       "text": [
        " 145 "
       ]
      },
      {
       "output_type": "stream",
       "stream": "stderr",
       "text": [
        " 146 "
       ]
      },
      {
       "output_type": "stream",
       "stream": "stderr",
       "text": [
        " 147 "
       ]
      },
      {
       "output_type": "stream",
       "stream": "stderr",
       "text": [
        " 148 "
       ]
      },
      {
       "output_type": "stream",
       "stream": "stderr",
       "text": [
        " 149 "
       ]
      },
      {
       "output_type": "stream",
       "stream": "stderr",
       "text": [
        " 150 "
       ]
      },
      {
       "output_type": "stream",
       "stream": "stderr",
       "text": [
        "\n"
       ]
      },
      {
       "output_type": "stream",
       "stream": "stderr",
       "text": [
        "    29s Psalms processed\n"
       ]
      }
     ],
     "prompt_number": 5
    },
    {
     "cell_type": "code",
     "collapsed": false,
     "input": [
      "close()"
     ],
     "language": "python",
     "metadata": {},
     "outputs": [
      {
       "output_type": "stream",
       "stream": "stderr",
       "text": [
        " 3m 18s Results directory:\n",
        "/Users/dirk/laf-fabric-output/bhs3/psalms\n"
       ]
      },
      {
       "output_type": "stream",
       "stream": "stderr",
       "text": [
        "\n",
        ".DS_Store                              6148 Wed Jun 11 11:06:39 2014\n",
        "PNGOfVerbsInPsalmsNew.csv            195725 Thu Jun 12 15:48:46 2014\n",
        "__log__psalms.txt                      1045 Wed Jun 25 12:41:35 2014\n",
        "firstPersonInPsalms.csv                3247 Wed Jun 25 12:37:48 2014\n",
        "psalm   1.html                         1275 Wed Jun 25 12:38:27 2014\n",
        "psalm   1.json                       146082 Wed Jun 25 12:38:27 2014\n",
        "psalm   2.html                         3233 Wed Jun 25 12:38:27 2014\n",
        "psalm   2.json                       203283 Wed Jun 25 12:38:27 2014\n",
        "psalm   3.html                         1902 Wed Jun 25 12:38:27 2014\n",
        "psalm   3.json                       158675 Wed Jun 25 12:38:27 2014\n",
        "psalm   4.html                         2635 Wed Jun 25 12:38:27 2014\n",
        "psalm   4.json                       182816 Wed Jun 25 12:38:27 2014\n",
        "psalm   5.html                         3718 Wed Jun 25 12:38:28 2014\n",
        "psalm   5.json                       241579 Wed Jun 25 12:38:28 2014\n",
        "psalm   6.html                         2659 Wed Jun 25 12:38:28 2014\n",
        "psalm   6.json                       193964 Wed Jun 25 12:38:28 2014\n",
        "psalm   7.html                         3837 Wed Jun 25 12:38:28 2014\n",
        "psalm   7.json                       339872 Wed Jun 25 12:38:28 2014\n",
        "psalm   8.html                         1753 Wed Jun 25 12:38:28 2014\n",
        "psalm   8.json                       162853 Wed Jun 25 12:38:28 2014\n",
        "psalm   9.html                         4729 Wed Jun 25 12:38:28 2014\n",
        "psalm   9.json                       373659 Wed Jun 25 12:38:28 2014\n",
        "psalm  10.html                         4214 Wed Jun 25 12:38:28 2014\n",
        "psalm  10.json                       363173 Wed Jun 25 12:38:28 2014\n",
        "psalm  11.html                         1826 Wed Jun 25 12:38:28 2014\n",
        "psalm  11.json                       145627 Wed Jun 25 12:38:28 2014\n",
        "psalm  12.html                         1957 Wed Jun 25 12:38:28 2014\n",
        "psalm  12.json                       168192 Wed Jun 25 12:38:28 2014\n",
        "psalm  13.html                         1685 Wed Jun 25 12:38:28 2014\n",
        "psalm  13.json                       119948 Wed Jun 25 12:38:28 2014\n",
        "psalm  14.html                         1537 Wed Jun 25 12:38:28 2014\n",
        "psalm  14.json                       154305 Wed Jun 25 12:38:28 2014\n",
        "psalm  15.html                         1134 Wed Jun 25 12:38:28 2014\n",
        "psalm  15.json                       122980 Wed Jun 25 12:38:28 2014\n",
        "psalm  16.html                         2939 Wed Jun 25 12:38:28 2014\n",
        "psalm  16.json                       205140 Wed Jun 25 12:38:28 2014\n",
        "psalm  17.html                         4679 Wed Jun 25 12:38:29 2014\n",
        "psalm  17.json                       297827 Wed Jun 25 12:38:29 2014\n",
        "psalm  18.html                        12681 Wed Jun 25 12:38:29 2014\n",
        "psalm  18.json                       916554 Wed Jun 25 12:38:29 2014\n",
        "psalm  19.html                         2772 Wed Jun 25 12:38:29 2014\n",
        "psalm  19.json                       284845 Wed Jun 25 12:38:29 2014\n",
        "psalm  20.html                         2655 Wed Jun 25 12:38:29 2014\n",
        "psalm  20.json                       170593 Wed Jun 25 12:38:29 2014\n",
        "psalm  21.html                         3355 Wed Jun 25 12:38:29 2014\n",
        "psalm  21.json                       229845 Wed Jun 25 12:38:29 2014\n",
        "psalm  22.html                         8534 Wed Jun 25 12:38:29 2014\n",
        "psalm  22.json                       569705 Wed Jun 25 12:38:29 2014\n",
        "psalm  23.html                         1658 Wed Jun 25 12:38:30 2014\n",
        "psalm  23.json                       115108 Wed Jun 25 12:38:30 2014\n",
        "psalm  24.html                         1980 Wed Jun 25 12:38:30 2014\n",
        "psalm  24.json                       200657 Wed Jun 25 12:38:30 2014\n",
        "psalm  25.html                         5137 Wed Jun 25 12:38:30 2014\n",
        "psalm  25.json                       353619 Wed Jun 25 12:38:30 2014\n",
        "psalm  26.html                         2466 Wed Jun 25 12:38:30 2014\n",
        "psalm  26.json                       193114 Wed Jun 25 12:38:30 2014\n",
        "psalm  27.html                         4619 Wed Jun 25 12:38:30 2014\n",
        "psalm  27.json                       333043 Wed Jun 25 12:38:30 2014\n",
        "psalm  28.html                         3369 Wed Jun 25 12:38:30 2014\n",
        "psalm  28.json                       204789 Wed Jun 25 12:38:30 2014\n",
        "psalm  29.html                         1736 Wed Jun 25 12:38:30 2014\n",
        "psalm  29.json                       190818 Wed Jun 25 12:38:30 2014\n",
        "psalm  30.html                         3050 Wed Jun 25 12:38:30 2014\n",
        "psalm  30.json                       239558 Wed Jun 25 12:38:30 2014\n",
        "psalm  31.html                         6925 Wed Jun 25 12:38:30 2014\n",
        "psalm  31.json                       512404 Wed Jun 25 12:38:30 2014\n",
        "psalm  32.html                         2883 Wed Jun 25 12:38:30 2014\n",
        "psalm  32.json                       247089 Wed Jun 25 12:38:30 2014\n",
        "psalm  33.html                         4076 Wed Jun 25 12:38:31 2014\n",
        "psalm  33.json                       356717 Wed Jun 25 12:38:31 2014\n",
        "psalm  34.html                         5161 Wed Jun 25 12:38:31 2014\n",
        "psalm  34.json                       386091 Wed Jun 25 12:38:31 2014\n",
        "psalm  35.html                         8097 Wed Jun 25 12:38:31 2014\n",
        "psalm  35.json                       536069 Wed Jun 25 12:38:31 2014\n",
        "psalm  36.html                         2509 Wed Jun 25 12:38:31 2014\n",
        "psalm  36.json                       219188 Wed Jun 25 12:38:31 2014\n",
        "psalm  37.html                         8419 Wed Jun 25 12:38:31 2014\n",
        "psalm  37.json                       730153 Wed Jun 25 12:38:31 2014\n",
        "psalm  38.html                         5472 Wed Jun 25 12:38:31 2014\n",
        "psalm  38.json                       381971 Wed Jun 25 12:38:31 2014\n",
        "psalm  39.html                         3703 Wed Jun 25 12:38:32 2014\n",
        "psalm  39.json                       302647 Wed Jun 25 12:38:32 2014\n",
        "psalm  40.html                         5954 Wed Jun 25 12:38:32 2014\n",
        "psalm  40.json                       418713 Wed Jun 25 12:38:32 2014\n",
        "psalm  41.html                         3649 Wed Jun 25 12:38:32 2014\n",
        "psalm  41.json                       275087 Wed Jun 25 12:38:32 2014\n",
        "psalm  42.html                         3580 Wed Jun 25 12:38:32 2014\n",
        "psalm  42.json                       275579 Wed Jun 25 12:38:32 2014\n",
        "psalm  43.html                         1882 Wed Jun 25 12:38:32 2014\n",
        "psalm  43.json                       118571 Wed Jun 25 12:38:32 2014\n",
        "psalm  44.html                         7664 Wed Jun 25 12:38:32 2014\n",
        "psalm  44.json                       452612 Wed Jun 25 12:38:32 2014\n",
        "psalm  45.html                         4174 Wed Jun 25 12:38:32 2014\n",
        "psalm  45.json                       333506 Wed Jun 25 12:38:32 2014\n",
        "psalm  46.html                         2573 Wed Jun 25 12:38:32 2014\n",
        "psalm  46.json                       222740 Wed Jun 25 12:38:32 2014\n",
        "psalm  47.html                         1833 Wed Jun 25 12:38:32 2014\n",
        "psalm  47.json                       152309 Wed Jun 25 12:38:32 2014\n",
        "psalm  48.html                         3322 Wed Jun 25 12:38:32 2014\n",
        "psalm  48.json                       223458 Wed Jun 25 12:38:32 2014\n",
        "psalm  49.html                         5012 Wed Jun 25 12:38:33 2014\n",
        "psalm  49.json                       376431 Wed Jun 25 12:38:33 2014\n",
        "psalm  50.html                         4992 Wed Jun 25 12:38:33 2014\n",
        "psalm  50.json                       406185 Wed Jun 25 12:38:33 2014\n",
        "psalm  51.html                         4695 Wed Jun 25 12:38:33 2014\n",
        "psalm  51.json                       354440 Wed Jun 25 12:38:33 2014\n",
        "psalm  52.html                         2186 Wed Jun 25 12:38:33 2014\n",
        "psalm  52.json                       213896 Wed Jun 25 12:38:33 2014\n",
        "psalm  53.html                         1744 Wed Jun 25 12:38:33 2014\n",
        "psalm  53.json                       166565 Wed Jun 25 12:38:33 2014\n",
        "psalm  54.html                         2031 Wed Jun 25 12:38:33 2014\n",
        "psalm  54.json                       154918 Wed Jun 25 12:38:33 2014\n",
        "psalm  55.html                         6094 Wed Jun 25 12:38:33 2014\n",
        "psalm  55.json                       465573 Wed Jun 25 12:38:33 2014\n",
        "psalm  56.html                         3373 Wed Jun 25 12:38:33 2014\n",
        "psalm  56.json                       269447 Wed Jun 25 12:38:33 2014\n",
        "psalm  57.html                         2935 Wed Jun 25 12:38:33 2014\n",
        "psalm  57.json                       250105 Wed Jun 25 12:38:33 2014\n",
        "psalm  58.html                         2608 Wed Jun 25 12:38:34 2014\n",
        "psalm  58.json                       212664 Wed Jun 25 12:38:34 2014\n",
        "psalm  59.html                         5565 Wed Jun 25 12:38:34 2014\n",
        "psalm  59.json                       385374 Wed Jun 25 12:38:34 2014\n",
        "psalm  60.html                         3352 Wed Jun 25 12:38:34 2014\n",
        "psalm  60.json                       250487 Wed Jun 25 12:38:34 2014\n",
        "psalm  61.html                         1730 Wed Jun 25 12:38:34 2014\n",
        "psalm  61.json                       146044 Wed Jun 25 12:38:34 2014\n",
        "psalm  62.html                         3243 Wed Jun 25 12:38:34 2014\n",
        "psalm  62.json                       260505 Wed Jun 25 12:38:34 2014\n",
        "psalm  63.html                         2959 Wed Jun 25 12:38:34 2014\n",
        "psalm  63.json                       201157 Wed Jun 25 12:38:34 2014\n",
        "psalm  64.html                         2968 Wed Jun 25 12:38:34 2014\n",
        "psalm  64.json                       190612 Wed Jun 25 12:38:34 2014\n",
        "psalm  65.html                         3436 Wed Jun 25 12:38:34 2014\n",
        "psalm  65.json                       234032 Wed Jun 25 12:38:34 2014\n",
        "psalm  66.html                         5125 Wed Jun 25 12:38:34 2014\n",
        "psalm  66.json                       350857 Wed Jun 25 12:38:34 2014\n",
        "psalm  67.html                         2172 Wed Jun 25 12:38:34 2014\n",
        "psalm  67.json                       123914 Wed Jun 25 12:38:34 2014\n",
        "psalm  68.html                         7516 Wed Jun 25 12:38:35 2014\n",
        "psalm  68.json                       695357 Wed Jun 25 12:38:35 2014\n",
        "psalm  69.html                         9793 Wed Jun 25 12:38:35 2014\n",
        "psalm  69.json                       679313 Wed Jun 25 12:38:35 2014\n",
        "psalm  70.html                         1658 Wed Jun 25 12:38:35 2014\n",
        "psalm  70.json                       116939 Wed Jun 25 12:38:35 2014\n",
        "psalm  71.html                         6534 Wed Jun 25 12:38:35 2014\n",
        "psalm  71.json                       458780 Wed Jun 25 12:38:35 2014\n",
        "psalm  72.html                         4068 Wed Jun 25 12:38:35 2014\n",
        "psalm  72.json                       357385 Wed Jun 25 12:38:35 2014\n",
        "psalm  73.html                         5881 Wed Jun 25 12:38:35 2014\n",
        "psalm  73.json                       446082 Wed Jun 25 12:38:35 2014\n",
        "psalm  74.html                         5262 Wed Jun 25 12:38:36 2014\n",
        "psalm  74.json                       405192 Wed Jun 25 12:38:36 2014\n",
        "psalm  75.html                         2297 Wed Jun 25 12:38:36 2014\n",
        "psalm  75.json                       201849 Wed Jun 25 12:38:36 2014\n",
        "psalm  76.html                         2217 Wed Jun 25 12:38:36 2014\n",
        "psalm  76.json                       208261 Wed Jun 25 12:38:36 2014\n",
        "psalm  77.html                         4256 Wed Jun 25 12:38:36 2014\n",
        "psalm  77.json                       370909 Wed Jun 25 12:38:36 2014\n",
        "psalm  78.html                        18608 Wed Jun 25 12:38:36 2014\n",
        "psalm  78.json                      1327051 Wed Jun 25 12:38:36 2014\n",
        "psalm  79.html                         4330 Wed Jun 25 12:38:36 2014\n",
        "psalm  79.json                       275124 Wed Jun 25 12:38:36 2014\n",
        "psalm  80.html                         4659 Wed Jun 25 12:38:37 2014\n",
        "psalm  80.json                       333816 Wed Jun 25 12:38:37 2014\n",
        "psalm  81.html                         3994 Wed Jun 25 12:38:37 2014\n",
        "psalm  81.json                       287263 Wed Jun 25 12:38:37 2014\n",
        "psalm  82.html                         1769 Wed Jun 25 12:38:37 2014\n",
        "psalm  82.json                       136016 Wed Jun 25 12:38:37 2014\n",
        "psalm  83.html                         4183 Wed Jun 25 12:38:37 2014\n",
        "psalm  83.json                       296174 Wed Jun 25 12:38:37 2014\n",
        "psalm  84.html                         2601 Wed Jun 25 12:38:37 2014\n",
        "psalm  84.json                       249033 Wed Jun 25 12:38:37 2014\n",
        "psalm  85.html                         3238 Wed Jun 25 12:38:37 2014\n",
        "psalm  85.json                       221950 Wed Jun 25 12:38:37 2014\n",
        "psalm  86.html                         4776 Wed Jun 25 12:38:37 2014\n",
        "psalm  86.json                       354427 Wed Jun 25 12:38:37 2014\n",
        "psalm  87.html                         1048 Wed Jun 25 12:38:37 2014\n",
        "psalm  87.json                       116768 Wed Jun 25 12:38:37 2014\n",
        "psalm  88.html                         4458 Wed Jun 25 12:38:37 2014\n",
        "psalm  88.json                       334650 Wed Jun 25 12:38:37 2014\n",
        "psalm  89.html                        11441 Wed Jun 25 12:38:38 2014\n",
        "psalm  89.json                       860328 Wed Jun 25 12:38:38 2014\n",
        "psalm  90.html                         4793 Wed Jun 25 12:38:38 2014\n",
        "psalm  90.json                       330395 Wed Jun 25 12:38:38 2014\n",
        "psalm  91.html                         3496 Wed Jun 25 12:38:38 2014\n",
        "psalm  91.json                       260098 Wed Jun 25 12:38:38 2014\n",
        "psalm  92.html                         2813 Wed Jun 25 12:38:38 2014\n",
        "psalm  92.json                       263881 Wed Jun 25 12:38:38 2014\n",
        "psalm  93.html                         1220 Wed Jun 25 12:38:38 2014\n",
        "psalm  93.json                        95104 Wed Jun 25 12:38:38 2014\n",
        "psalm  94.html                         4644 Wed Jun 25 12:38:38 2014\n",
        "psalm  94.json                       371142 Wed Jun 25 12:38:38 2014\n",
        "psalm  95.html                         3236 Wed Jun 25 12:38:38 2014\n",
        "psalm  95.json                       197915 Wed Jun 25 12:38:38 2014\n",
        "psalm  96.html                         2935 Wed Jun 25 12:38:39 2014\n",
        "psalm  96.json                       258175 Wed Jun 25 12:38:39 2014\n",
        "psalm  97.html                         2494 Wed Jun 25 12:38:39 2014\n",
        "psalm  97.json                       211596 Wed Jun 25 12:38:39 2014\n",
        "psalm  98.html                         2048 Wed Jun 25 12:38:39 2014\n",
        "psalm  98.json                       164308 Wed Jun 25 12:38:39 2014\n",
        "psalm  99.html                         2778 Wed Jun 25 12:38:39 2014\n",
        "psalm  99.json                       178304 Wed Jun 25 12:38:39 2014\n",
        "psalm 100.html                         1449 Wed Jun 25 12:38:39 2014\n",
        "psalm 100.json                        98488 Wed Jun 25 12:38:39 2014\n",
        "psalm 101.html                         1858 Wed Jun 25 12:38:39 2014\n",
        "psalm 101.json                       172300 Wed Jun 25 12:38:39 2014\n",
        "psalm 102.html                         6410 Wed Jun 25 12:38:39 2014\n",
        "psalm 102.json                       497918 Wed Jun 25 12:38:39 2014\n",
        "psalm 103.html                         4360 Wed Jun 25 12:38:39 2014\n",
        "psalm 103.json                       381471 Wed Jun 25 12:38:39 2014\n",
        "psalm 104.html                         7721 Wed Jun 25 12:38:40 2014\n",
        "psalm 104.json                       618204 Wed Jun 25 12:38:40 2014\n",
        "psalm 105.html                         9631 Wed Jun 25 12:38:40 2014\n",
        "psalm 105.json                       672062 Wed Jun 25 12:38:40 2014\n",
        "psalm 106.html                        12333 Wed Jun 25 12:38:40 2014\n",
        "psalm 106.json                       808142 Wed Jun 25 12:38:40 2014\n",
        "psalm 107.html                         9605 Wed Jun 25 12:38:40 2014\n",
        "psalm 107.json                       667990 Wed Jun 25 12:38:40 2014\n",
        "psalm 108.html                         2754 Wed Jun 25 12:38:41 2014\n",
        "psalm 108.json                       224923 Wed Jun 25 12:38:41 2014\n",
        "psalm 109.html                         7638 Wed Jun 25 12:38:41 2014\n",
        "psalm 109.json                       540496 Wed Jun 25 12:38:41 2014\n",
        "psalm 110.html                         1456 Wed Jun 25 12:38:41 2014\n",
        "psalm 110.json                       132522 Wed Jun 25 12:38:41 2014\n",
        "psalm 111.html                         1698 Wed Jun 25 12:38:41 2014\n",
        "psalm 111.json                       156950 Wed Jun 25 12:38:41 2014\n",
        "psalm 112.html                         1815 Wed Jun 25 12:38:41 2014\n",
        "psalm 112.json                       180027 Wed Jun 25 12:38:41 2014\n",
        "psalm 113.html                         1095 Wed Jun 25 12:38:41 2014\n",
        "psalm 113.json                       127848 Wed Jun 25 12:38:41 2014\n",
        "psalm 114.html                         1007 Wed Jun 25 12:38:41 2014\n",
        "psalm 114.json                       127449 Wed Jun 25 12:38:41 2014\n",
        "psalm 115.html                         4555 Wed Jun 25 12:38:41 2014\n",
        "psalm 115.json                       302849 Wed Jun 25 12:38:41 2014\n",
        "psalm 116.html                         3512 Wed Jun 25 12:38:42 2014\n",
        "psalm 116.json                       280661 Wed Jun 25 12:38:42 2014\n",
        "psalm 117.html                          515 Wed Jun 25 12:38:42 2014\n",
        "psalm 117.json                        36148 Wed Jun 25 12:38:42 2014\n",
        "psalm 118.html                         5558 Wed Jun 25 12:38:42 2014\n",
        "psalm 118.json                       452915 Wed Jun 25 12:38:42 2014\n",
        "psalm 119.html                        36805 Wed Jun 25 12:38:43 2014\n",
        "psalm 119.json                      2422742 Wed Jun 25 12:38:43 2014\n",
        "psalm 120.html                         1171 Wed Jun 25 12:38:43 2014\n",
        "psalm 120.json                       107059 Wed Jun 25 12:38:43 2014\n",
        "psalm 121.html                         1304 Wed Jun 25 12:38:43 2014\n",
        "psalm 121.json                       122888 Wed Jun 25 12:38:43 2014\n",
        "psalm 122.html                         1697 Wed Jun 25 12:38:43 2014\n",
        "psalm 122.json                       133171 Wed Jun 25 12:38:43 2014\n",
        "psalm 123.html                         1213 Wed Jun 25 12:38:43 2014\n",
        "psalm 123.json                        87272 Wed Jun 25 12:38:43 2014\n",
        "psalm 124.html                         1911 Wed Jun 25 12:38:43 2014\n",
        "psalm 124.json                       126623 Wed Jun 25 12:38:43 2014\n",
        "psalm 125.html                         1085 Wed Jun 25 12:38:43 2014\n",
        "psalm 125.json                       115035 Wed Jun 25 12:38:43 2014\n",
        "psalm 126.html                         1270 Wed Jun 25 12:38:43 2014\n",
        "psalm 126.json                       120078 Wed Jun 25 12:38:43 2014\n",
        "psalm 127.html                         1200 Wed Jun 25 12:38:44 2014\n",
        "psalm 127.json                       123102 Wed Jun 25 12:38:44 2014\n",
        "psalm 128.html                         1040 Wed Jun 25 12:38:44 2014\n",
        "psalm 128.json                       101183 Wed Jun 25 12:38:44 2014\n",
        "psalm 129.html                         1822 Wed Jun 25 12:38:44 2014\n",
        "psalm 129.json                       119394 Wed Jun 25 12:38:44 2014\n",
        "psalm 130.html                         1342 Wed Jun 25 12:38:44 2014\n",
        "psalm 130.json                       125545 Wed Jun 25 12:38:44 2014\n",
        "psalm 131.html                          786 Wed Jun 25 12:38:44 2014\n",
        "psalm 131.json                        77581 Wed Jun 25 12:38:44 2014\n",
        "psalm 132.html                         3960 Wed Jun 25 12:38:44 2014\n",
        "psalm 132.json                       278931 Wed Jun 25 12:38:44 2014\n",
        "psalm 133.html                          429 Wed Jun 25 12:38:44 2014\n",
        "psalm 133.json                        85784 Wed Jun 25 12:38:44 2014\n",
        "psalm 134.html                          575 Wed Jun 25 12:38:44 2014\n",
        "psalm 134.json                        54355 Wed Jun 25 12:38:44 2014\n",
        "psalm 135.html                         3977 Wed Jun 25 12:38:44 2014\n",
        "psalm 135.json                       372102 Wed Jun 25 12:38:44 2014\n",
        "psalm 136.html                         3645 Wed Jun 25 12:38:44 2014\n",
        "psalm 136.json                       392776 Wed Jun 25 12:38:44 2014\n",
        "psalm 137.html                         2484 Wed Jun 25 12:38:45 2014\n",
        "psalm 137.json                       173828 Wed Jun 25 12:38:45 2014\n",
        "psalm 138.html                         2170 Wed Jun 25 12:38:45 2014\n",
        "psalm 138.json                       159364 Wed Jun 25 12:38:45 2014\n",
        "psalm 139.html                         5850 Wed Jun 25 12:38:45 2014\n",
        "psalm 139.json                       433182 Wed Jun 25 12:38:45 2014\n",
        "psalm 140.html                         3409 Wed Jun 25 12:38:45 2014\n",
        "psalm 140.json                       243048 Wed Jun 25 12:38:45 2014\n",
        "psalm 141.html                         2887 Wed Jun 25 12:38:45 2014\n",
        "psalm 141.json                       205913 Wed Jun 25 12:38:45 2014\n",
        "psalm 142.html                         2361 Wed Jun 25 12:38:45 2014\n",
        "psalm 142.json                       167804 Wed Jun 25 12:38:45 2014\n",
        "psalm 143.html                         3839 Wed Jun 25 12:38:45 2014\n",
        "psalm 143.json                       255164 Wed Jun 25 12:38:45 2014\n",
        "psalm 144.html                         3870 Wed Jun 25 12:38:46 2014\n",
        "psalm 144.json                       311416 Wed Jun 25 12:38:46 2014\n",
        "psalm 145.html                         4258 Wed Jun 25 12:38:46 2014\n",
        "psalm 145.json                       341921 Wed Jun 25 12:38:46 2014\n",
        "psalm 146.html                         1895 Wed Jun 25 12:38:46 2014\n",
        "psalm 146.json                       190201 Wed Jun 25 12:38:46 2014\n",
        "psalm 147.html                         3540 Wed Jun 25 12:38:46 2014\n",
        "psalm 147.json                       321490 Wed Jun 25 12:38:46 2014\n",
        "psalm 148.html                         2689 Wed Jun 25 12:38:46 2014\n",
        "psalm 148.json                       228766 Wed Jun 25 12:38:46 2014\n",
        "psalm 149.html                         1979 Wed Jun 25 12:38:46 2014\n",
        "psalm 149.json                       140944 Wed Jun 25 12:38:46 2014\n",
        "psalm 150.html                         1630 Wed Jun 25 12:38:46 2014\n",
        "psalm 150.json                        82591 Wed Jun 25 12:38:46 2014\n",
        "psalm12viz.txt                       253892 Tue Jun 17 11:44:24 2014\n"
       ]
      }
     ],
     "prompt_number": 9
    },
    {
     "cell_type": "code",
     "collapsed": false,
     "input": [
      "# if you put a copy of output directory 'psalms' directly under laf-fabric-nbs, the following works:\n",
      "local_files = FileLinks('psalms')\n",
      "display(local_files)"
     ],
     "language": "python",
     "metadata": {},
     "outputs": [
      {
       "html": [
        "Path (<tt>psalms</tt>) doesn't exist. It may still be in the process of being generated, or you may have the incorrect path."
       ],
       "metadata": {},
       "output_type": "display_data",
       "text": []
      }
     ],
     "prompt_number": 10
    },
    {
     "cell_type": "code",
     "collapsed": false,
     "input": [
      "my_file()"
     ],
     "language": "python",
     "metadata": {},
     "outputs": [
      {
       "metadata": {},
       "output_type": "pyout",
       "prompt_number": 7,
       "text": [
        "'/Users/dirk/laf-fabric-output/bhs3/psalms'"
       ]
      }
     ],
     "prompt_number": 7
    },
    {
     "cell_type": "code",
     "collapsed": false,
     "input": [],
     "language": "python",
     "metadata": {},
     "outputs": []
    }
   ],
   "metadata": {}
  }
 ]
}