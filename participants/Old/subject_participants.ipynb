{
 "metadata": {
  "name": "",
  "signature": "sha256:60bd7986cd0cbf0f36469c702d92ecdf20eb96cb233a13f09d32ad69087a87c2"
 },
 "nbformat": 3,
 "nbformat_minor": 0,
 "worksheets": [
  {
   "cells": [
    {
     "cell_type": "markdown",
     "metadata": {},
     "source": [
      "<a href=\"http://laf-fabric.readthedocs.org/en/latest/\" target=\"_blank\"><img align=\"left\" src=\"images/laf-fabric-xsmall.png\"/></a>\n",
      "<a href=\"http://www.godgeleerdheid.vu.nl/etcbc\" target=\"_blank\"><img align=\"left\" src=\"images/VU-ETCBC-xsmall.png\"/></a>"
     ]
    },
    {
     "cell_type": "heading",
     "level": 1,
     "metadata": {},
     "source": [
      "Subject Participants in the Psalms"
     ]
    },
    {
     "cell_type": "markdown",
     "metadata": {},
     "source": [
      "One of the central areas of interest in current research conducted by the ETCBC is that of participant references and participant tracking. This notebook provides some initial insights into the patterns of participant references attested in the Psalms, as it identifies for each clause in each Psalm the person, number and gender values of the subject and whether the subject has been realized explicitly (i.e. by noun phrases or pronominal phrases) or not."
     ]
    },
    {
     "cell_type": "code",
     "collapsed": false,
     "input": [
      "import sys\n",
      "import collections\n",
      "import json\n",
      "%load_ext autoreload\n",
      "%autoreload 2\n",
      "import laf\n",
      "from IPython.display import display, HTML\n",
      "from laf.fabric import LafFabric\n",
      "from etcbc.preprocess import prepare\n",
      "from etcbc.lib import Transcription, monad_set\n",
      "from etcbc.trees import Tree\n",
      "fabric = LafFabric()\n",
      "tr = Transcription()"
     ],
     "language": "python",
     "metadata": {},
     "outputs": [
      {
       "output_type": "stream",
       "stream": "stderr",
       "text": [
        "  0.00s This is LAF-Fabric 4.2.8\n",
        "http://laf-fabric.readthedocs.org/en/latest/texts/API-reference.html\n"
       ]
      }
     ],
     "prompt_number": 3
    },
    {
     "cell_type": "code",
     "collapsed": false,
     "input": [
      "API=fabric.load('bhs3', '--', 'psalms', {\n",
      "    \"xmlids\": {\"node\": False, \"edge\": False},\n",
      "    \"features\": ('''\n",
      "        oid otype\n",
      "        surface_consonants text text_plain graphical_pron_suffix_plain suffix\n",
      "        gender number person suffix_gender suffix_number suffix_person\n",
      "        locative tense\n",
      "        noun_type pronoun_type\n",
      "        part_of_speech phrase_dependent_part_of_speech lexical_set\n",
      "        phrase_type phrase_function\n",
      "        clause_constituent_relation clause_atom_type\n",
      "        domain text_type embedding_domain verse_label\n",
      "        book chapter verse\n",
      "    ''',\n",
      "    '''mother.\n",
      "    '''),\n",
      "    \"prepare\": prepare,\n",
      "}, verbose='DETAIL')\n",
      "exec(fabric.localnames.format(var='fabric'))"
     ],
     "language": "python",
     "metadata": {},
     "outputs": [
      {
       "output_type": "stream",
       "stream": "stderr",
       "text": [
        "  0.00s LOADING API: please wait ... \n"
       ]
      },
      {
       "output_type": "stream",
       "stream": "stderr",
       "text": [
        "  0.00s DETAIL: COMPILING m: UP TO DATE\n"
       ]
      },
      {
       "output_type": "stream",
       "stream": "stderr",
       "text": [
        "  0.01s INFO: DATA COMPILED AT: 2014-04-18T18-24-37\n"
       ]
      },
      {
       "output_type": "stream",
       "stream": "stderr",
       "text": [
        "  0.01s DETAIL: COMPILING a: UP TO DATE\n"
       ]
      },
      {
       "output_type": "stream",
       "stream": "stderr",
       "text": [
        "  0.04s DETAIL: load main: G.node_anchor_min\n"
       ]
      },
      {
       "output_type": "stream",
       "stream": "stderr",
       "text": [
        "  0.17s DETAIL: load main: G.node_anchor_max\n"
       ]
      },
      {
       "output_type": "stream",
       "stream": "stderr",
       "text": [
        "  0.28s DETAIL: load main: G.node_sort\n"
       ]
      },
      {
       "output_type": "stream",
       "stream": "stderr",
       "text": [
        "  0.39s DETAIL: load main: G.node_sort_inv\n"
       ]
      },
      {
       "output_type": "stream",
       "stream": "stderr",
       "text": [
        "  1.20s DETAIL: load main: G.edges_from\n"
       ]
      },
      {
       "output_type": "stream",
       "stream": "stderr",
       "text": [
        "  1.31s DETAIL: load main: G.edges_to\n"
       ]
      },
      {
       "output_type": "stream",
       "stream": "stderr",
       "text": [
        "  1.42s DETAIL: load main: F.shebanq_db_oid [node] \n"
       ]
      },
      {
       "output_type": "stream",
       "stream": "stderr",
       "text": [
        "  2.58s DETAIL: load main: F.shebanq_db_otype [node] \n"
       ]
      },
      {
       "output_type": "stream",
       "stream": "stderr",
       "text": [
        "  3.72s DETAIL: load main: F.shebanq_ft_clause_atom_type [node] \n"
       ]
      },
      {
       "output_type": "stream",
       "stream": "stderr",
       "text": [
        "  3.81s DETAIL: load main: F.shebanq_ft_clause_constituent_relation [node] \n"
       ]
      },
      {
       "output_type": "stream",
       "stream": "stderr",
       "text": [
        "  3.88s DETAIL: load main: F.shebanq_ft_domain [node] \n"
       ]
      },
      {
       "output_type": "stream",
       "stream": "stderr",
       "text": [
        "  3.97s DETAIL: load main: F.shebanq_ft_embedding_domain [node] \n"
       ]
      },
      {
       "output_type": "stream",
       "stream": "stderr",
       "text": [
        "  4.05s DETAIL: load main: F.shebanq_ft_gender [node] \n"
       ]
      },
      {
       "output_type": "stream",
       "stream": "stderr",
       "text": [
        "  4.39s DETAIL: load main: F.shebanq_ft_graphical_pron_suffix_plain [node] \n"
       ]
      },
      {
       "output_type": "stream",
       "stream": "stderr",
       "text": [
        "  4.59s DETAIL: load main: F.shebanq_ft_lexical_set [node] \n"
       ]
      },
      {
       "output_type": "stream",
       "stream": "stderr",
       "text": [
        "  4.95s DETAIL: load main: F.shebanq_ft_locative [node] \n"
       ]
      },
      {
       "output_type": "stream",
       "stream": "stderr",
       "text": [
        "  5.28s DETAIL: load main: F.shebanq_ft_noun_type [node] \n"
       ]
      },
      {
       "output_type": "stream",
       "stream": "stderr",
       "text": [
        "  5.61s DETAIL: load main: F.shebanq_ft_number [node] \n"
       ]
      },
      {
       "output_type": "stream",
       "stream": "stderr",
       "text": [
        "  5.95s DETAIL: load main: F.shebanq_ft_part_of_speech [node] \n"
       ]
      },
      {
       "output_type": "stream",
       "stream": "stderr",
       "text": [
        "  6.30s DETAIL: load main: F.shebanq_ft_person [node] \n"
       ]
      },
      {
       "output_type": "stream",
       "stream": "stderr",
       "text": [
        "  6.62s DETAIL: load main: F.shebanq_ft_phrase_dependent_part_of_speech [node] \n"
       ]
      },
      {
       "output_type": "stream",
       "stream": "stderr",
       "text": [
        "  6.96s DETAIL: load main: F.shebanq_ft_phrase_function [node] \n"
       ]
      },
      {
       "output_type": "stream",
       "stream": "stderr",
       "text": [
        "  7.17s DETAIL: load main: F.shebanq_ft_phrase_type [node] \n"
       ]
      },
      {
       "output_type": "stream",
       "stream": "stderr",
       "text": [
        "  7.37s DETAIL: load main: F.shebanq_ft_pronoun_type [node] \n"
       ]
      },
      {
       "output_type": "stream",
       "stream": "stderr",
       "text": [
        "  7.68s DETAIL: load main: F.shebanq_ft_suffix [node] \n"
       ]
      },
      {
       "output_type": "stream",
       "stream": "stderr",
       "text": [
        "  7.90s DETAIL: load main: F.shebanq_ft_suffix_gender [node] \n"
       ]
      },
      {
       "output_type": "stream",
       "stream": "stderr",
       "text": [
        "  8.22s DETAIL: load main: F.shebanq_ft_suffix_number [node] \n"
       ]
      },
      {
       "output_type": "stream",
       "stream": "stderr",
       "text": [
        "  8.54s DETAIL: load main: F.shebanq_ft_suffix_person [node] \n"
       ]
      },
      {
       "output_type": "stream",
       "stream": "stderr",
       "text": [
        "  8.87s DETAIL: load main: F.shebanq_ft_surface_consonants [node] \n"
       ]
      },
      {
       "output_type": "stream",
       "stream": "stderr",
       "text": [
        "  9.56s DETAIL: load main: F.shebanq_ft_tense [node] \n"
       ]
      },
      {
       "output_type": "stream",
       "stream": "stderr",
       "text": [
        "    11s DETAIL: load main: F.shebanq_ft_text [node] \n"
       ]
      },
      {
       "output_type": "stream",
       "stream": "stderr",
       "text": [
        "    14s DETAIL: load main: F.shebanq_ft_text_plain [node] \n"
       ]
      },
      {
       "output_type": "stream",
       "stream": "stderr",
       "text": [
        "    15s DETAIL: load main: F.shebanq_ft_text_type [node] \n"
       ]
      },
      {
       "output_type": "stream",
       "stream": "stderr",
       "text": [
        "    15s DETAIL: load main: F.shebanq_sft_book [node] \n"
       ]
      },
      {
       "output_type": "stream",
       "stream": "stderr",
       "text": [
        "    15s DETAIL: load main: F.shebanq_sft_chapter [node] \n"
       ]
      },
      {
       "output_type": "stream",
       "stream": "stderr",
       "text": [
        "    16s DETAIL: load main: F.shebanq_sft_verse [node] \n"
       ]
      },
      {
       "output_type": "stream",
       "stream": "stderr",
       "text": [
        "    16s DETAIL: load main: F.shebanq_sft_verse_label [node] \n"
       ]
      },
      {
       "output_type": "stream",
       "stream": "stderr",
       "text": [
        "    16s DETAIL: load main: F.shebanq_mother_ [e] \n"
       ]
      },
      {
       "output_type": "stream",
       "stream": "stderr",
       "text": [
        "    16s DETAIL: load main: C.shebanq_mother_ -> \n"
       ]
      },
      {
       "output_type": "stream",
       "stream": "stderr",
       "text": [
        "    16s DETAIL: load main: C.shebanq_mother_ <- \n"
       ]
      },
      {
       "output_type": "stream",
       "stream": "stderr",
       "text": [
        "    17s LOGFILE=C:\\Users\\Gino/laf-fabric-data/bhs3/tasks/psalms/__log__psalms.txt\n"
       ]
      },
      {
       "output_type": "stream",
       "stream": "stderr",
       "text": [
        "    17s DETAIL: prep prep: G.node_sort\n"
       ]
      },
      {
       "output_type": "stream",
       "stream": "stderr",
       "text": [
        "    17s DETAIL: prep prep: G.node_sort_inv\n"
       ]
      },
      {
       "output_type": "stream",
       "stream": "stderr",
       "text": [
        "    19s INFO: DATA LOADED FROM SOURCE bhs3 AND ANNOX -- FOR TASK psalms\n"
       ]
      }
     ],
     "prompt_number": 4
    },
    {
     "cell_type": "code",
     "collapsed": false,
     "input": [
      "%%html\n",
      "\n",
      "<style>\n",
      "\n",
      "td.hebrew {\n",
      "    text-align: right;\n",
      "}\n",
      "\n",
      "td, th {\n",
      "    text-align: center;\n",
      "}\n",
      "\n",
      "</style>"
     ],
     "language": "python",
     "metadata": {},
     "outputs": [
      {
       "html": [
        "\n",
        "<style>\n",
        "\n",
        "td.hebrew {\n",
        "    text-align: right;\n",
        "}\n",
        "\n",
        "td, th {\n",
        "    text-align: center;\n",
        "}\n",
        "\n",
        "</style>"
       ],
       "metadata": {},
       "output_type": "display_data",
       "text": [
        "<IPython.core.display.HTML at 0x3437fb0>"
       ]
      }
     ],
     "prompt_number": 5
    },
    {
     "cell_type": "code",
     "collapsed": false,
     "input": [
      "psalm_nodes = collections.defaultdict(lambda: [])\n",
      "type_table = {'verse', 'clause', 'phrase', 'word'}\n",
      "info_spec = {\n",
      "    'verse'      : '''verse_label''',\n",
      "    'clause'     : '''clause_constituent_relation(ccr)\n",
      "                      domain text_type(ttype) embedding_domain(edomain)\n",
      "                   ''',\n",
      "    'clause_atom': '''clause_atom_type(catype)''',\n",
      "    'phrase'     : '''phrase_type(ptype) phrase_function(pfunc)''',\n",
      "    'word'       : '''gender(g) number(n) person(p)\n",
      "                      noun_type(ntype) pronoun_type(pntype)\n",
      "                      part_of_speech(pos) phrase_dependent_part_of_speech(pdpos)\n",
      "                   ''',\n",
      "}\n",
      "info_spec_compiled = {}\n",
      "for otype in info_spec:\n",
      "    fieldspecs = info_spec[otype].strip().split()\n",
      "    fields = []\n",
      "    for fieldspec in fieldspecs:\n",
      "        prefield = fieldspec.split('(')\n",
      "        if len(prefield) == 1:\n",
      "            fields.append((fieldspec, fieldspec))\n",
      "        else:\n",
      "            fields.append((prefield[0], prefield[1].rstrip(')')))\n",
      "    info_spec_compiled[otype] = fields\n",
      "\n",
      "def formatPerson(p):\n",
      "    if p == 'first_person':\n",
      "        return '1'\n",
      "    elif p == 'second_person':\n",
      "        return '2'\n",
      "    elif p == 'third_person':\n",
      "        return '3'\n",
      "    else:\n",
      "        return '-'\n",
      "\n",
      "def formatNumber(n):\n",
      "    if n == 'singular':\n",
      "        return 'sg'\n",
      "    elif n == 'plural':\n",
      "        return 'pl'\n",
      "    else:\n",
      "        return '--'\n",
      "\n",
      "def formatGender(g):\n",
      "    if g == 'masculine':\n",
      "        return 'M'\n",
      "    elif g == 'feminine':\n",
      "        return 'F'\n",
      "    else:\n",
      "        return '-'\n",
      "\n",
      "def colour(PNG):\n",
      "    if person == \"third_person\":\n",
      "        if number == \"singular\":\n",
      "            if gender != \"feminine\":\n",
      "                if is_Pronoun:\n",
      "                    return ('<span style=\"background-color:Blue;\">' + text + '</span>')\n",
      "                else:\n",
      "                    return ('<span style=\"color:Blue;\">' + text + '</span>')\n",
      "            else:\n",
      "                if is_Pronoun:\n",
      "                    return ('<span style=\"background-color:Aqua;\">' + text + '</span>')\n",
      "                else:\n",
      "                    return ('<span style=\"color:Aqua;\">' + text + '</span>')\n",
      "        else:\n",
      "            if gender != \"feminine\":\n",
      "                if is_Pronoun:\n",
      "                    return ('<span style=\"background-color:LimeGreen; text-decoration:underline;\">' + text + '</span>')\n",
      "                else:\n",
      "                    return ('<span style=\"color:LawnGreen; text-decoration:underline;\">' + text + '</span>')\n",
      "            else:\n",
      "                if is_Pronoun:\n",
      "                    return ('<span style=\"background-color:LawnGreen; text-decoration:underline;\">' + text + '</span>')\n",
      "                else:\n",
      "                    return ('<span style=\"color:LawnGreen; text-decoration:underline;\">' + text + '</span>')\n",
      "    elif person == \"second_person\":\n",
      "        if number == \"singular\":\n",
      "            if gender != \"feminine\":\n",
      "                if is_Pronoun:\n",
      "                    return ('<span style=\"background-color:Gold;\">' + text + '</span>')\n",
      "                else:\n",
      "                    return ('<span style=\"color:Gold;\">' + text + '</span>')\n",
      "            else:\n",
      "                if is_Pronoun:\n",
      "                    return ('<span style=\"background-color:Yellow;\">' + text + '</span>')\n",
      "                else:\n",
      "                    return ('<span style=\"color:Yellow;\">' + text + '</span>')\n",
      "        else:\n",
      "            if gender != \"feminine\":\n",
      "                if is_Pronoun:\n",
      "                    return ('<span style=\"background-color:Orange; text-decoration:underline;\">' + text + '</span>')\n",
      "                else:\n",
      "                    return ('<span style=\"color:Orange; text-decoration:underline;\">' + text + '</span>')\n",
      "            else:\n",
      "                if is_Pronoun:\n",
      "                    return ('<span style=\"background-color:OrangeRed; text-decoration:underline;\">' + text + '</span>')\n",
      "                else:\n",
      "                    return ('<span style=\"color:OrangeRed; text-decoration:underline;\">' + text + '</span>')\n",
      "    elif person == \"first_person\":\n",
      "        if number == \"singular\":\n",
      "            if is_Pronoun:\n",
      "                return ('<span style=\"background-color:Red;\">' + text + '</span>')\n",
      "            else:\n",
      "                return ('<span style=\"color:Red;\">' + text + '</span>')\n",
      "        else:\n",
      "            if is_Pronoun:\n",
      "                return ('<span style=\"background-color:Purple; text-decoration:underline;\">' + text + '</span>')\n",
      "            else:\n",
      "                return ('<span style=\"color:Purple; text-decoration:underline;\">' + text + '</span>')        \n",
      "    return text\n",
      "\n",
      "def identify_png(clauseNodes, pngsu, pngsu_html):\n",
      "    verse_label = ''\n",
      "    clausenr = 0\n",
      "    expl_su = False\n",
      "    in_subject = False\n",
      "    pngSet = False\n",
      "    pV = nV = gV = ''\n",
      "    p = n = g = ''\n",
      "    text_subject = ''\n",
      "    text_verb = ''\n",
      "    \n",
      "    for node in clauseNodes:\n",
      "        otype = F.otype.v(node)\n",
      "        if otype == 'verse':\n",
      "            verse_label = F.verse_label.v(node)\n",
      "        elif otype == 'clause':\n",
      "            if clausenr == 0:\n",
      "                clausenr += 1\n",
      "                continue\n",
      "            pngsu.write('{};{};{};{};{};{}\\n'.format(verse_label, clausenr, text_subject, p + n + g, text_verb, pV + nV + gV))\n",
      "            pngsu_html.write('<tr><td style=\"text-align:center;\">{}</td><td style=\"text-align:center;\">{}</td><td style=\"text-align:right;\">{}</td><td style=\"text-align:center;\">{}</td><td style=\"text-align:right;\">{}</td><td style=\"text-align:center;\">{}</td></tr>'.format(verse_label, clausenr, text_subject, colour(p + n + g), text_verb, colour(pV + nV + gV))\n",
      "            expl_su = False\n",
      "            in_subject = False\n",
      "            pngSet = False\n",
      "            pV = nV = gV = ''\n",
      "            p = n = g = ''\n",
      "            text_subject = ''\n",
      "            text_verb = ''\n",
      "            clausenr += 1\n",
      "        elif otype == 'phrase':\n",
      "            if F.phrase_function.v(node) == 'Subj':\n",
      "                in_subject = True\n",
      "            else:\n",
      "                in_subject = False\n",
      "        elif otype == 'word':\n",
      "            pdpos = F.phrase_dependent_part_of_speech.v(node)\n",
      "            if pdpos == 'verb':\n",
      "                pV = formatPerson(F.person.v(node))\n",
      "                nV = formatNumber(F.number.v(node))\n",
      "                gV = formatGender(F.gender.v(node))\n",
      "                text_verb = F.text.v(node)\n",
      "            elif in_subject:\n",
      "                text_subject += F.text.v(node) + \" \"\n",
      "                if pdpos == 'pronoun':\n",
      "                    p = formatPerson(F.person.v(node))\n",
      "                    n = formatNumber(F.number.v(node))\n",
      "                    g = formatGender(F.gender.v(node))\n",
      "                    pngSet = True\n",
      "                elif pdpos == 'noun' and not pngSet:\n",
      "                    lexset = F.lexical_set.v(node)\n",
      "                    if lexset == 'Cardinal' or lexset == 'Distributive_noun':\n",
      "                        continue\n",
      "                    else:\n",
      "                        p = formatPerson('third_person')\n",
      "                        n = formatNumber(F.number.v(node))\n",
      "                        g = formatGender(F.gender.v(node))\n",
      "                        pngSet = True\n",
      "                    \n",
      "    pngsu.write('{};{};{};{};{};{}\\n'.format(verse_label, clausenr, text_subject, p + n + g, text_verb, pV + nV + gV))\n",
      "    pngsu_html.write('<tr><td style=\"text-align:center;\">{}</td><td style=\"text-align:center;\">{}</td><td style=\"text-align:right;\">{}</td><td style=\"text-align:center;\">{}</td><td style=\"text-align:right;\">{}</td><td style=\"text-align:center;\">{}</td></tr>'.format(verse_label, clausenr, text_subject, p + n + g, text_verb, pV + nV + gV))\n",
      "    pngsu.write('\\n')\n",
      "    pngsu_html.write('<tr><td></td><td></td><td></td><td></td><td></td><td></td></tr>')\n",
      "    pngsu_html.write('<tr><td></td><td></td><td></td><td></td><td></td><td></td></tr>')\n",
      "    pngsu_html.write('<tr><td></td><td></td><td></td><td></td><td></td><td></td></tr>')\n",
      "    \n",
      "def analyze_psalms():\n",
      "    pngsu = outfile('SuPngInPsalms.csv')\n",
      "    pngsu_html = outfile('SuPngInPsalms.html')\n",
      "    pngsu.write('{};{};{};{};{};{}\\n'.format('verse', 'clausenr', 'subject', 'subjectPNG', 'verbal_form', 'verbPNG'))\n",
      "    pngsu_html.write('<table><tr><th>Verse</th><th>Nr</th><th>Subject</th><th>SubjectPNG</th><th>Verbal form</th><th>VerbPNG</th></tr>')\n",
      "    inPsalms = False\n",
      "    nodesInPsalms = collections.defaultdict(lambda: [])\n",
      "    chapter = 0\n",
      "    \n",
      "    for node in NN():\n",
      "        otype = F.otype.v(node)\n",
      "        if otype == 'book':\n",
      "            if F.book.v(node) == \"Psalms\":\n",
      "                inPsalms = True\n",
      "            else:\n",
      "                inPsalms = False\n",
      "        elif otype == 'chapter' and inPsalms:\n",
      "            chapter = int(F.chapter.v(node))\n",
      "            msg(\"{} \".format(chapter), withtime=False, newline=False)\n",
      "        elif inPsalms and otype in type_table:\n",
      "            nodesInPsalms[chapter].append(node)\n",
      "    \n",
      "    for c in sorted(nodesInPsalms):\n",
      "        identify_png(nodesInPsalms[c], pngsu, pngsu_html)\n",
      "    \n",
      "    pngsu.close()\n",
      "    pngsu_html.write('</table>')\n",
      "    pngsu_html.close()"
     ],
     "language": "python",
     "metadata": {},
     "outputs": [],
     "prompt_number": 10
    },
    {
     "cell_type": "code",
     "collapsed": false,
     "input": [
      "msg(\"Processing psalms ...\")\n",
      "analyze_psalms()\n",
      "msg('', withtime=False)\n",
      "msg(\"Psalms processed\")"
     ],
     "language": "python",
     "metadata": {},
     "outputs": [
      {
       "output_type": "stream",
       "stream": "stderr",
       "text": [
        " 1m 16s Processing psalms ...\n"
       ]
      },
      {
       "output_type": "stream",
       "stream": "stderr",
       "text": [
        "1 "
       ]
      },
      {
       "output_type": "stream",
       "stream": "stderr",
       "text": [
        "2 "
       ]
      },
      {
       "output_type": "stream",
       "stream": "stderr",
       "text": [
        "3 "
       ]
      },
      {
       "output_type": "stream",
       "stream": "stderr",
       "text": [
        "4 "
       ]
      },
      {
       "output_type": "stream",
       "stream": "stderr",
       "text": [
        "5 "
       ]
      },
      {
       "output_type": "stream",
       "stream": "stderr",
       "text": [
        "6 "
       ]
      },
      {
       "output_type": "stream",
       "stream": "stderr",
       "text": [
        "7 "
       ]
      },
      {
       "output_type": "stream",
       "stream": "stderr",
       "text": [
        "8 "
       ]
      },
      {
       "output_type": "stream",
       "stream": "stderr",
       "text": [
        "9 "
       ]
      },
      {
       "output_type": "stream",
       "stream": "stderr",
       "text": [
        "10 "
       ]
      },
      {
       "output_type": "stream",
       "stream": "stderr",
       "text": [
        "11 "
       ]
      },
      {
       "output_type": "stream",
       "stream": "stderr",
       "text": [
        "12 "
       ]
      },
      {
       "output_type": "stream",
       "stream": "stderr",
       "text": [
        "13 "
       ]
      },
      {
       "output_type": "stream",
       "stream": "stderr",
       "text": [
        "14 "
       ]
      },
      {
       "output_type": "stream",
       "stream": "stderr",
       "text": [
        "15 "
       ]
      },
      {
       "output_type": "stream",
       "stream": "stderr",
       "text": [
        "16 "
       ]
      },
      {
       "output_type": "stream",
       "stream": "stderr",
       "text": [
        "17 "
       ]
      },
      {
       "output_type": "stream",
       "stream": "stderr",
       "text": [
        "18 "
       ]
      },
      {
       "output_type": "stream",
       "stream": "stderr",
       "text": [
        "19 "
       ]
      },
      {
       "output_type": "stream",
       "stream": "stderr",
       "text": [
        "20 "
       ]
      },
      {
       "output_type": "stream",
       "stream": "stderr",
       "text": [
        "21 "
       ]
      },
      {
       "output_type": "stream",
       "stream": "stderr",
       "text": [
        "22 "
       ]
      },
      {
       "output_type": "stream",
       "stream": "stderr",
       "text": [
        "23 "
       ]
      },
      {
       "output_type": "stream",
       "stream": "stderr",
       "text": [
        "24 "
       ]
      },
      {
       "output_type": "stream",
       "stream": "stderr",
       "text": [
        "25 "
       ]
      },
      {
       "output_type": "stream",
       "stream": "stderr",
       "text": [
        "26 "
       ]
      },
      {
       "output_type": "stream",
       "stream": "stderr",
       "text": [
        "27 "
       ]
      },
      {
       "output_type": "stream",
       "stream": "stderr",
       "text": [
        "28 "
       ]
      },
      {
       "output_type": "stream",
       "stream": "stderr",
       "text": [
        "29 "
       ]
      },
      {
       "output_type": "stream",
       "stream": "stderr",
       "text": [
        "30 "
       ]
      },
      {
       "output_type": "stream",
       "stream": "stderr",
       "text": [
        "31 "
       ]
      },
      {
       "output_type": "stream",
       "stream": "stderr",
       "text": [
        "32 "
       ]
      },
      {
       "output_type": "stream",
       "stream": "stderr",
       "text": [
        "33 "
       ]
      },
      {
       "output_type": "stream",
       "stream": "stderr",
       "text": [
        "34 "
       ]
      },
      {
       "output_type": "stream",
       "stream": "stderr",
       "text": [
        "35 "
       ]
      },
      {
       "output_type": "stream",
       "stream": "stderr",
       "text": [
        "36 "
       ]
      },
      {
       "output_type": "stream",
       "stream": "stderr",
       "text": [
        "37 "
       ]
      },
      {
       "output_type": "stream",
       "stream": "stderr",
       "text": [
        "38 "
       ]
      },
      {
       "output_type": "stream",
       "stream": "stderr",
       "text": [
        "39 "
       ]
      },
      {
       "output_type": "stream",
       "stream": "stderr",
       "text": [
        "40 "
       ]
      },
      {
       "output_type": "stream",
       "stream": "stderr",
       "text": [
        "41 "
       ]
      },
      {
       "output_type": "stream",
       "stream": "stderr",
       "text": [
        "42 "
       ]
      },
      {
       "output_type": "stream",
       "stream": "stderr",
       "text": [
        "43 "
       ]
      },
      {
       "output_type": "stream",
       "stream": "stderr",
       "text": [
        "44 "
       ]
      },
      {
       "output_type": "stream",
       "stream": "stderr",
       "text": [
        "45 "
       ]
      },
      {
       "output_type": "stream",
       "stream": "stderr",
       "text": [
        "46 "
       ]
      },
      {
       "output_type": "stream",
       "stream": "stderr",
       "text": [
        "47 "
       ]
      },
      {
       "output_type": "stream",
       "stream": "stderr",
       "text": [
        "48 "
       ]
      },
      {
       "output_type": "stream",
       "stream": "stderr",
       "text": [
        "49 "
       ]
      },
      {
       "output_type": "stream",
       "stream": "stderr",
       "text": [
        "50 "
       ]
      },
      {
       "output_type": "stream",
       "stream": "stderr",
       "text": [
        "51 "
       ]
      },
      {
       "output_type": "stream",
       "stream": "stderr",
       "text": [
        "52 "
       ]
      },
      {
       "output_type": "stream",
       "stream": "stderr",
       "text": [
        "53 "
       ]
      },
      {
       "output_type": "stream",
       "stream": "stderr",
       "text": [
        "54 "
       ]
      },
      {
       "output_type": "stream",
       "stream": "stderr",
       "text": [
        "55 "
       ]
      },
      {
       "output_type": "stream",
       "stream": "stderr",
       "text": [
        "56 "
       ]
      },
      {
       "output_type": "stream",
       "stream": "stderr",
       "text": [
        "57 "
       ]
      },
      {
       "output_type": "stream",
       "stream": "stderr",
       "text": [
        "58 "
       ]
      },
      {
       "output_type": "stream",
       "stream": "stderr",
       "text": [
        "59 "
       ]
      },
      {
       "output_type": "stream",
       "stream": "stderr",
       "text": [
        "60 "
       ]
      },
      {
       "output_type": "stream",
       "stream": "stderr",
       "text": [
        "61 "
       ]
      },
      {
       "output_type": "stream",
       "stream": "stderr",
       "text": [
        "62 "
       ]
      },
      {
       "output_type": "stream",
       "stream": "stderr",
       "text": [
        "63 "
       ]
      },
      {
       "output_type": "stream",
       "stream": "stderr",
       "text": [
        "64 "
       ]
      },
      {
       "output_type": "stream",
       "stream": "stderr",
       "text": [
        "65 "
       ]
      },
      {
       "output_type": "stream",
       "stream": "stderr",
       "text": [
        "66 "
       ]
      },
      {
       "output_type": "stream",
       "stream": "stderr",
       "text": [
        "67 "
       ]
      },
      {
       "output_type": "stream",
       "stream": "stderr",
       "text": [
        "68 "
       ]
      },
      {
       "output_type": "stream",
       "stream": "stderr",
       "text": [
        "69 "
       ]
      },
      {
       "output_type": "stream",
       "stream": "stderr",
       "text": [
        "70 "
       ]
      },
      {
       "output_type": "stream",
       "stream": "stderr",
       "text": [
        "71 "
       ]
      },
      {
       "output_type": "stream",
       "stream": "stderr",
       "text": [
        "72 "
       ]
      },
      {
       "output_type": "stream",
       "stream": "stderr",
       "text": [
        "73 "
       ]
      },
      {
       "output_type": "stream",
       "stream": "stderr",
       "text": [
        "74 "
       ]
      },
      {
       "output_type": "stream",
       "stream": "stderr",
       "text": [
        "75 "
       ]
      },
      {
       "output_type": "stream",
       "stream": "stderr",
       "text": [
        "76 "
       ]
      },
      {
       "output_type": "stream",
       "stream": "stderr",
       "text": [
        "77 "
       ]
      },
      {
       "output_type": "stream",
       "stream": "stderr",
       "text": [
        "78 "
       ]
      },
      {
       "output_type": "stream",
       "stream": "stderr",
       "text": [
        "79 "
       ]
      },
      {
       "output_type": "stream",
       "stream": "stderr",
       "text": [
        "80 "
       ]
      },
      {
       "output_type": "stream",
       "stream": "stderr",
       "text": [
        "81 "
       ]
      },
      {
       "output_type": "stream",
       "stream": "stderr",
       "text": [
        "82 "
       ]
      },
      {
       "output_type": "stream",
       "stream": "stderr",
       "text": [
        "83 "
       ]
      },
      {
       "output_type": "stream",
       "stream": "stderr",
       "text": [
        "84 "
       ]
      },
      {
       "output_type": "stream",
       "stream": "stderr",
       "text": [
        "85 "
       ]
      },
      {
       "output_type": "stream",
       "stream": "stderr",
       "text": [
        "86 "
       ]
      },
      {
       "output_type": "stream",
       "stream": "stderr",
       "text": [
        "87 "
       ]
      },
      {
       "output_type": "stream",
       "stream": "stderr",
       "text": [
        "88 "
       ]
      },
      {
       "output_type": "stream",
       "stream": "stderr",
       "text": [
        "89 "
       ]
      },
      {
       "output_type": "stream",
       "stream": "stderr",
       "text": [
        "90 "
       ]
      },
      {
       "output_type": "stream",
       "stream": "stderr",
       "text": [
        "91 "
       ]
      },
      {
       "output_type": "stream",
       "stream": "stderr",
       "text": [
        "92 "
       ]
      },
      {
       "output_type": "stream",
       "stream": "stderr",
       "text": [
        "93 "
       ]
      },
      {
       "output_type": "stream",
       "stream": "stderr",
       "text": [
        "94 "
       ]
      },
      {
       "output_type": "stream",
       "stream": "stderr",
       "text": [
        "95 "
       ]
      },
      {
       "output_type": "stream",
       "stream": "stderr",
       "text": [
        "96 "
       ]
      },
      {
       "output_type": "stream",
       "stream": "stderr",
       "text": [
        "97 "
       ]
      },
      {
       "output_type": "stream",
       "stream": "stderr",
       "text": [
        "98 "
       ]
      },
      {
       "output_type": "stream",
       "stream": "stderr",
       "text": [
        "99 "
       ]
      },
      {
       "output_type": "stream",
       "stream": "stderr",
       "text": [
        "100 "
       ]
      },
      {
       "output_type": "stream",
       "stream": "stderr",
       "text": [
        "101 "
       ]
      },
      {
       "output_type": "stream",
       "stream": "stderr",
       "text": [
        "102 "
       ]
      },
      {
       "output_type": "stream",
       "stream": "stderr",
       "text": [
        "103 "
       ]
      },
      {
       "output_type": "stream",
       "stream": "stderr",
       "text": [
        "104 "
       ]
      },
      {
       "output_type": "stream",
       "stream": "stderr",
       "text": [
        "105 "
       ]
      },
      {
       "output_type": "stream",
       "stream": "stderr",
       "text": [
        "106 "
       ]
      },
      {
       "output_type": "stream",
       "stream": "stderr",
       "text": [
        "107 "
       ]
      },
      {
       "output_type": "stream",
       "stream": "stderr",
       "text": [
        "108 "
       ]
      },
      {
       "output_type": "stream",
       "stream": "stderr",
       "text": [
        "109 "
       ]
      },
      {
       "output_type": "stream",
       "stream": "stderr",
       "text": [
        "110 "
       ]
      },
      {
       "output_type": "stream",
       "stream": "stderr",
       "text": [
        "111 "
       ]
      },
      {
       "output_type": "stream",
       "stream": "stderr",
       "text": [
        "112 "
       ]
      },
      {
       "output_type": "stream",
       "stream": "stderr",
       "text": [
        "113 "
       ]
      },
      {
       "output_type": "stream",
       "stream": "stderr",
       "text": [
        "114 "
       ]
      },
      {
       "output_type": "stream",
       "stream": "stderr",
       "text": [
        "115 "
       ]
      },
      {
       "output_type": "stream",
       "stream": "stderr",
       "text": [
        "116 "
       ]
      },
      {
       "output_type": "stream",
       "stream": "stderr",
       "text": [
        "117 "
       ]
      },
      {
       "output_type": "stream",
       "stream": "stderr",
       "text": [
        "118 "
       ]
      },
      {
       "output_type": "stream",
       "stream": "stderr",
       "text": [
        "119 "
       ]
      },
      {
       "output_type": "stream",
       "stream": "stderr",
       "text": [
        "120 "
       ]
      },
      {
       "output_type": "stream",
       "stream": "stderr",
       "text": [
        "121 "
       ]
      },
      {
       "output_type": "stream",
       "stream": "stderr",
       "text": [
        "122 "
       ]
      },
      {
       "output_type": "stream",
       "stream": "stderr",
       "text": [
        "123 "
       ]
      },
      {
       "output_type": "stream",
       "stream": "stderr",
       "text": [
        "124 "
       ]
      },
      {
       "output_type": "stream",
       "stream": "stderr",
       "text": [
        "125 "
       ]
      },
      {
       "output_type": "stream",
       "stream": "stderr",
       "text": [
        "126 "
       ]
      },
      {
       "output_type": "stream",
       "stream": "stderr",
       "text": [
        "127 "
       ]
      },
      {
       "output_type": "stream",
       "stream": "stderr",
       "text": [
        "128 "
       ]
      },
      {
       "output_type": "stream",
       "stream": "stderr",
       "text": [
        "129 "
       ]
      },
      {
       "output_type": "stream",
       "stream": "stderr",
       "text": [
        "130 "
       ]
      },
      {
       "output_type": "stream",
       "stream": "stderr",
       "text": [
        "131 "
       ]
      },
      {
       "output_type": "stream",
       "stream": "stderr",
       "text": [
        "132 "
       ]
      },
      {
       "output_type": "stream",
       "stream": "stderr",
       "text": [
        "133 "
       ]
      },
      {
       "output_type": "stream",
       "stream": "stderr",
       "text": [
        "134 "
       ]
      },
      {
       "output_type": "stream",
       "stream": "stderr",
       "text": [
        "135 "
       ]
      },
      {
       "output_type": "stream",
       "stream": "stderr",
       "text": [
        "136 "
       ]
      },
      {
       "output_type": "stream",
       "stream": "stderr",
       "text": [
        "137 "
       ]
      },
      {
       "output_type": "stream",
       "stream": "stderr",
       "text": [
        "138 "
       ]
      },
      {
       "output_type": "stream",
       "stream": "stderr",
       "text": [
        "139 "
       ]
      },
      {
       "output_type": "stream",
       "stream": "stderr",
       "text": [
        "140 "
       ]
      },
      {
       "output_type": "stream",
       "stream": "stderr",
       "text": [
        "141 "
       ]
      },
      {
       "output_type": "stream",
       "stream": "stderr",
       "text": [
        "142 "
       ]
      },
      {
       "output_type": "stream",
       "stream": "stderr",
       "text": [
        "143 "
       ]
      },
      {
       "output_type": "stream",
       "stream": "stderr",
       "text": [
        "144 "
       ]
      },
      {
       "output_type": "stream",
       "stream": "stderr",
       "text": [
        "145 "
       ]
      },
      {
       "output_type": "stream",
       "stream": "stderr",
       "text": [
        "146 "
       ]
      },
      {
       "output_type": "stream",
       "stream": "stderr",
       "text": [
        "147 "
       ]
      },
      {
       "output_type": "stream",
       "stream": "stderr",
       "text": [
        "148 "
       ]
      },
      {
       "output_type": "stream",
       "stream": "stderr",
       "text": [
        "149 "
       ]
      },
      {
       "output_type": "stream",
       "stream": "stderr",
       "text": [
        "150 "
       ]
      },
      {
       "output_type": "stream",
       "stream": "stdout",
       "text": [
        " PS008,002\n",
        " PS015,001\n",
        " PS015,001\n",
        " PS015,001\n",
        " PS015,002\n",
        " PS015,002\n",
        " PS015,002\n",
        " PS015,003\n",
        " PS015,003\n",
        " PS015,003\n",
        " PS015,004\n",
        " PS015,004\n",
        " PS015,004\n",
        " PS015,004\n",
        " PS015,004\n",
        " PS015,005\n",
        " PS015,005\n",
        " PS015,005\n",
        " PS015,005\n",
        " PS022,002\n",
        " PS022,002\n",
        " PS022,002\n",
        " PS022,002\n",
        " PS022,003\n",
        " PS022,003\n",
        " PS022,003\n",
        " PS022,003\n",
        " PS022,003\n",
        " PS022,004\n",
        " PS022,004\n",
        " PS022,005\n",
        " PS022,005\n",
        " PS022,006\n",
        " PS022,006\n",
        " PS022,006\n",
        " PS022,006\n",
        " PS022,007\n",
        " PS022,007\n",
        " PS022,007\n",
        " PS022,008\n",
        " PS022,008\n",
        " PS022,008\n",
        " PS022,009\n",
        " PS022,009\n",
        " PS022,009\n",
        " PS022,009\n",
        " PS022,010\n",
        " PS022,010\n",
        " PS022,011\n",
        " PS022,011\n",
        " PS022,012\n",
        " PS022,012\n",
        " PS022,012\n",
        " PS022,013\n",
        " PS022,013\n",
        " PS022,014\n",
        " PS022,014\n",
        " PS022,015\n",
        " PS022,015\n",
        " PS022,015\n",
        " PS022,015\n",
        " PS022,016\n",
        " PS022,016\n",
        " PS022,016\n",
        " PS022,017\n",
        " PS022,017\n",
        " PS022,017\n",
        " PS022,018\n",
        " PS022,018\n",
        " PS022,018\n",
        " PS022,019\n",
        " PS022,019\n",
        " PS022,020\n",
        " PS022,020\n",
        " PS022,020\n",
        " PS022,020\n",
        " PS022,021\n",
        " PS022,021\n",
        " PS022,022\n",
        " PS022,022\n",
        " PS022,023\n",
        " PS022,023\n",
        " PS022,024\n",
        " PS022,024\n",
        " PS022,024\n",
        " PS022,025\n",
        " PS022,025\n",
        " PS022,025\n",
        " PS022,025\n",
        " PS022,025\n",
        " PS022,026\n",
        " PS022,026\n",
        " PS022,027\n",
        " PS022,027\n",
        " PS022,027\n",
        " PS022,027\n",
        " PS022,027\n",
        " PS022,028\n",
        " PS022,028\n",
        " PS022,028\n",
        " PS022,029\n",
        " PS022,029\n",
        " PS022,030\n",
        " PS022,030\n",
        " PS022,030\n",
        " PS022,031\n",
        " PS022,031\n",
        " PS022,032\n",
        " PS022,032\n",
        " PS022,032\n",
        " PS022,032\n",
        " PS025,004\n",
        " PS025,004\n",
        " PS025,004\n",
        " PS025,005\n",
        " PS025,005\n",
        " PS025,005\n",
        " PS025,005\n",
        " PS025,006\n",
        " PS025,006\n",
        " PS025,006\n",
        " PS025,006\n",
        " PS025,007\n",
        " PS025,007\n",
        " PS025,007\n",
        " PS025,007\n",
        " PS025,008\n",
        " PS025,008\n",
        " PS025,009\n",
        " PS025,009\n",
        " PS025,010\n",
        " PS025,011\n",
        " PS025,011\n",
        " PS025,011\n",
        " PS025,011\n",
        " PS025,012\n",
        " PS025,012\n",
        " PS025,012\n",
        " PS025,012\n",
        " PS025,013\n",
        " PS025,013\n",
        " PS025,014\n",
        " PS025,014\n",
        " PS025,014\n",
        " PS025,015\n",
        " PS025,015\n",
        " PS025,016\n",
        " PS025,016\n",
        " PS025,016\n",
        " PS025,017\n",
        " PS025,017\n",
        " PS025,018\n",
        " PS025,018\n",
        " PS025,019\n",
        " PS025,019\n",
        " PS025,019\n",
        " PS025,020\n",
        " PS025,020\n",
        " PS025,020\n",
        " PS025,020\n",
        " PS025,021\n",
        " PS025,021\n",
        " PS025,022\n",
        " PS027,001\n",
        " PS027,001\n",
        " PS027,001\n",
        " PS027,001\n",
        " PS027,002\n",
        " PS027,002\n",
        " PS027,002\n",
        " PS027,002\n",
        " PS027,002\n",
        " PS027,003\n",
        " PS027,003\n",
        " PS027,003\n",
        " PS027,003\n",
        " PS027,004\n",
        " PS027,004\n",
        " PS027,004\n",
        " PS027,004\n",
        " PS027,004\n",
        " PS027,005\n",
        " PS027,005\n",
        " PS027,005\n",
        " PS027,006\n",
        " PS027,006\n",
        " PS027,006\n",
        " PS027,006\n",
        " PS027,007\n",
        " PS027,007\n",
        " PS027,007\n",
        " PS027,007\n",
        " PS027,007\n",
        " PS027,008\n",
        " PS027,008\n",
        " PS027,008\n",
        " PS027,008\n",
        " PS027,009\n",
        " PS027,009\n",
        " PS027,009\n",
        " PS027,009\n",
        " PS027,009\n",
        " PS027,009\n",
        " PS027,010\n",
        " PS027,010\n",
        " PS027,011\n",
        " PS027,011\n",
        " PS027,011\n",
        " PS027,012\n",
        " PS027,012\n",
        " PS027,013\n",
        " PS027,013\n",
        " PS027,014\n",
        " PS027,014\n",
        " PS027,014\n",
        " PS027,014\n",
        " PS034,004"
       ]
      },
      {
       "output_type": "stream",
       "stream": "stdout",
       "text": [
        "\n",
        " PS034,004\n",
        " PS034,005\n",
        " PS034,005\n",
        " PS034,005\n",
        " PS034,006\n",
        " PS034,006\n",
        " PS034,006\n",
        " PS034,007\n",
        " PS034,007\n",
        " PS034,007\n",
        " PS034,008\n",
        " PS034,009\n",
        " PS034,009\n",
        " PS034,009\n",
        " PS034,009\n",
        " PS034,009\n",
        " PS034,010\n",
        " PS034,010\n",
        " PS034,010\n",
        " PS034,011\n",
        " PS034,011\n",
        " PS034,011\n",
        " PS034,012\n",
        " PS034,012\n",
        " PS034,012\n",
        " PS034,012\n",
        " PS034,013\n",
        " PS034,013\n",
        " PS034,013\n",
        " PS034,013\n",
        " PS034,014\n",
        " PS034,014\n",
        " PS034,014\n",
        " PS034,015\n",
        " PS034,015\n",
        " PS034,015\n",
        " PS034,015\n",
        " PS034,016\n",
        " PS034,016\n",
        " PS034,017\n",
        " PS034,017\n",
        " PS034,018\n",
        " PS034,018\n",
        " PS034,018\n",
        " PS034,019\n",
        " PS034,019\n",
        " PS034,020\n",
        " PS034,020\n",
        " PS034,021\n",
        " PS034,021\n",
        " PS034,022\n",
        " PS034,022\n",
        " PS034,023\n",
        " PS034,023\n",
        " PS034,023\n",
        " PS047,002"
       ]
      },
      {
       "output_type": "stream",
       "stream": "stdout",
       "text": [
        "\n",
        " PS047,002\n",
        " PS047,002\n",
        " PS047,003\n",
        " PS047,003\n",
        " PS047,004\n",
        " PS047,004\n",
        " PS047,005\n",
        " PS047,005\n",
        " PS047,005\n",
        " PS047,006\n",
        " PS047,006\n",
        " PS047,007\n",
        " PS047,007\n",
        " PS047,007\n",
        " PS047,007\n",
        " PS047,008\n",
        " PS047,008\n",
        " PS047,009\n",
        " PS047,009\n",
        " PS047,010\n",
        " PS047,010\n",
        " PS047,010\n",
        " PS050,005\n",
        " PS050,005\n",
        " PS050,007\n",
        " PS050,007\n",
        " PS050,007\n",
        " PS050,007\n",
        " PS050,007\n",
        " PS050,007\n",
        " PS050,008\n",
        " PS050,008\n",
        " PS050,009\n",
        " PS050,009\n",
        " PS050,010\n",
        " PS050,010\n",
        " PS050,011\n",
        " PS050,011\n",
        " PS050,012\n",
        " PS050,012\n",
        " PS050,012\n",
        " PS050,013\n",
        " PS050,013\n",
        " PS050,014\n",
        " PS050,014\n",
        " PS050,015\n",
        " PS050,015\n",
        " PS050,015\n",
        " PS050,016\n",
        " PS050,016\n",
        " PS050,017\n",
        " PS050,018\n",
        " PS050,019\n",
        " PS050,019\n",
        " PS050,020\n",
        " PS050,020\n",
        " PS050,020\n",
        " PS050,021\n",
        " PS050,021\n",
        " PS050,021\n",
        " PS050,021\n",
        " PS050,021\n",
        " PS050,021\n",
        " PS050,022\n",
        " PS050,022\n",
        " PS050,022\n",
        " PS050,022\n",
        " PS050,023\n",
        " PS050,023\n",
        " PS050,023\n",
        " PS050,023\n",
        " PS055,002\n",
        " PS055,002\n",
        " PS055,002\n",
        " PS055,002\n",
        " PS055,003\n",
        " PS055,003\n",
        " PS055,003\n",
        " PS055,003\n",
        " PS055,004\n",
        " PS055,004\n",
        " PS055,004\n",
        " PS055,004\n",
        " PS055,005\n",
        " PS055,005\n",
        " PS055,006\n",
        " PS055,007\n",
        " PS055,007\n",
        " PS055,007\n",
        " PS055,008\n",
        " PS055,008\n",
        " PS055,008\n",
        " PS055,008\n",
        " PS055,009\n",
        " PS055,009\n",
        " PS055,009\n",
        " PS055,010\n",
        " PS055,010\n",
        " PS055,010\n",
        " PS055,010\n",
        " PS055,010\n",
        " PS055,011\n",
        " PS055,011\n",
        " PS055,012\n",
        " PS055,012\n",
        " PS055,013\n",
        " PS055,013\n",
        " PS055,013\n",
        " PS055,013\n",
        " PS055,013\n",
        " PS055,014\n",
        " PS055,014\n",
        " PS055,014\n",
        " PS055,015\n",
        " PS055,015\n",
        " PS055,016\n",
        " PS055,016\n",
        " PS055,016\n",
        " PS055,017\n",
        " PS055,017\n",
        " PS055,018\n",
        " PS055,018\n",
        " PS055,020\n",
        " PS055,020\n",
        " PS055,020\n",
        " PS055,020\n",
        " PS055,020\n",
        " PS055,020\n",
        " PS055,021\n",
        " PS055,021\n",
        " PS055,022\n",
        " PS055,022\n",
        " PS055,022\n",
        " PS055,022\n",
        " PS055,023\n",
        " PS055,023\n",
        " PS055,023\n",
        " PS055,024\n",
        " PS055,024\n",
        " PS055,024\n",
        " PS055,024\n",
        " PS055,024\n",
        " PS062,006\n",
        " PS062,006\n",
        " PS062,006\n",
        " PS062,007\n",
        " PS062,007\n",
        " PS062,007\n",
        " PS062,008\n",
        " PS062,008\n",
        " PS062,008\n",
        " PS062,009\n",
        " PS062,009\n",
        " PS062,009\n",
        " PS062,009\n",
        " PS062,009\n",
        " PS062,013\n",
        " PS062,013\n",
        " PS062,013\n",
        " PS064,002\n",
        " PS064,002\n",
        " PS064,002\n",
        " PS064,003\n",
        " PS064,003\n",
        " PS064,003\n",
        " PS064,004\n",
        " PS064,004\n",
        " PS064,005\n",
        " PS064,005\n",
        " PS064,005\n",
        " PS064,006\n",
        " PS064,006\n",
        " PS064,006\n",
        " PS064,006\n",
        " PS064,006\n",
        " PS064,007\n",
        " PS064,007\n",
        " PS064,007\n",
        " PS064,009\n",
        " PS064,009\n",
        " PS064,011\n",
        " PS064,011\n",
        " PS064,011\n",
        " PS066,003\n",
        " PS066,003\n",
        " PS066,004\n",
        " PS066,004\n",
        " PS066,004\n",
        " PS066,004\n",
        " PS066,017\n",
        " PS066,017\n",
        " PS066,018\n",
        " PS066,018\n",
        " PS066,018\n",
        " PS066,019\n",
        " PS066,019\n",
        " PS073,011"
       ]
      },
      {
       "output_type": "stream",
       "stream": "stdout",
       "text": [
        "\n",
        " PS073,011\n",
        " PS073,015\n",
        " PS078,001\n",
        " PS078,001\n",
        " PS078,001\n",
        " PS078,001\n",
        " PS078,002\n",
        " PS078,002\n",
        " PS078,003\n",
        " PS078,003\n",
        " PS078,003\n",
        " PS078,004\n",
        " PS078,004\n",
        " PS078,004\n",
        " PS078,006\n",
        " PS078,006\n",
        " PS078,006\n",
        " PS078,006\n",
        " PS078,007\n",
        " PS078,007\n",
        " PS078,007\n",
        " PS078,008\n",
        " PS078,008\n",
        " PS078,008\n",
        " PS078,008\n",
        " PS078,008\n",
        " PS078,015\n",
        " PS078,019\n",
        " PS078,019\n",
        " PS078,020\n",
        " PS078,020\n",
        " PS078,020\n",
        " PS078,020\n",
        " PS078,020\n",
        " PS078,026\n",
        " PS078,029\n",
        " PS078,030\n",
        " PS078,030\n",
        " PS078,031\n",
        " PS078,036\n",
        " PS078,037\n",
        " PS078,037\n",
        " PS078,038\n",
        " PS078,038\n",
        " PS078,038\n",
        " PS078,038\n",
        " PS078,038\n",
        " PS078,039\n",
        " PS078,040\n",
        " PS078,040\n",
        " PS078,044\n",
        " PS078,045\n",
        " PS078,045\n",
        " PS078,047\n",
        " PS078,047\n",
        " PS078,049\n",
        " PS078,049\n",
        " PS078,050\n",
        " PS078,050\n",
        " PS078,050\n",
        " PS078,058\n",
        " PS078,064\n",
        " PS114,005"
       ]
      },
      {
       "output_type": "stream",
       "stream": "stdout",
       "text": [
        "\n",
        " PS114,005\n",
        " PS114,005\n",
        " PS114,005\n",
        " PS114,005\n",
        " PS114,006\n",
        " PS114,006\n",
        " PS114,006\n",
        " PS114,006\n",
        " PS114,007\n",
        " PS114,007\n",
        " PS114,007\n",
        " PS114,008\n",
        " PS114,008\n",
        " PS130,001\n",
        " PS130,001\n",
        " PS130,002\n",
        " PS130,002\n",
        " PS130,002\n",
        " PS130,003\n",
        " PS130,003\n",
        " PS130,003\n",
        " PS130,003\n",
        " PS130,004\n",
        " PS130,004\n",
        " PS130,005\n",
        " PS130,005\n",
        " PS130,005\n",
        " PS130,006\n",
        " PS130,006\n",
        " PS130,006\n",
        " PS130,007\n",
        " PS130,007\n",
        " PS130,007\n",
        " PS130,008\n",
        " PS140,002"
       ]
      },
      {
       "output_type": "stream",
       "stream": "stderr",
       "text": [
        "\n"
       ]
      },
      {
       "output_type": "stream",
       "stream": "stderr",
       "text": [
        " 1m 19s Psalms processed\n"
       ]
      },
      {
       "output_type": "stream",
       "stream": "stdout",
       "text": [
        "\n",
        " PS140,002\n",
        " PS140,002\n",
        " PS140,003\n",
        " PS140,003\n",
        " PS140,004\n",
        " PS140,004\n",
        " PS140,004\n",
        " PS140,005\n",
        " PS140,005\n",
        " PS140,005\n",
        " PS140,005\n",
        " PS140,005\n",
        " PS140,006\n",
        " PS140,006\n",
        " PS140,006\n",
        " PS140,006\n",
        " PS140,007\n",
        " PS140,007\n",
        " PS140,007\n",
        " PS140,007\n",
        " PS140,008\n",
        " PS140,008\n",
        " PS140,009\n",
        " PS140,009\n",
        " PS140,009\n",
        " PS140,009\n",
        " PS140,009\n",
        " PS140,009\n",
        " PS140,010\n",
        " PS140,010\n",
        " PS140,011\n",
        " PS140,011\n",
        " PS140,011\n",
        " PS140,011\n",
        " PS140,012\n",
        " PS140,012\n",
        " PS140,012\n",
        " PS140,012\n",
        " PS140,013\n",
        " PS140,013\n",
        " PS140,014\n",
        " PS140,014\n",
        " PS141,001\n",
        " PS141,001\n",
        " PS141,001\n",
        " PS141,001\n",
        " PS141,001\n",
        " PS141,002\n",
        " PS141,002\n",
        " PS141,003\n",
        " PS141,003\n",
        " PS141,003\n",
        " PS141,004\n",
        " PS141,004\n",
        " PS141,004\n",
        " PS141,005\n",
        " PS141,005\n",
        " PS141,005\n",
        " PS141,005\n",
        " PS141,005\n",
        " PS141,005\n",
        " PS141,005\n",
        " PS141,006\n",
        " PS141,006\n",
        " PS141,006\n",
        " PS141,007\n",
        " PS141,007\n",
        " PS141,008\n",
        " PS141,008\n",
        " PS141,008\n",
        " PS141,008\n",
        " PS141,009\n",
        " PS141,009\n",
        " PS141,009\n",
        " PS141,010\n",
        " PS141,010\n",
        " PS141,010\n",
        " PS142,002\n",
        " PS142,002\n",
        " PS142,003\n",
        " PS142,003\n",
        " PS142,004\n",
        " PS142,004\n",
        " PS142,004\n",
        " PS142,004\n",
        " PS142,005\n",
        " PS142,005\n",
        " PS142,005\n",
        " PS142,005\n",
        " PS142,005\n",
        " PS142,006\n",
        " PS142,006\n",
        " PS142,006\n",
        " PS142,006\n",
        " PS142,006\n",
        " PS142,007\n",
        " PS142,007\n",
        " PS142,007\n",
        " PS142,007\n",
        " PS142,008\n",
        " PS142,008\n",
        " PS142,008\n",
        " PS142,008\n",
        " PS143,001\n",
        " PS143,001\n",
        " PS143,001\n",
        " PS143,001\n",
        " PS143,002\n",
        " PS143,002\n",
        " PS143,003\n",
        " PS143,003\n",
        " PS143,003\n",
        " PS143,004\n",
        " PS143,005\n",
        " PS143,005\n",
        " PS143,005\n",
        " PS143,006\n",
        " PS143,006\n",
        " PS143,006\n",
        " PS143,007\n",
        " PS143,007\n",
        " PS143,007\n",
        " PS143,007\n",
        " PS143,007\n",
        " PS143,007\n",
        " PS143,008\n",
        " PS143,008\n",
        " PS143,008\n",
        " PS143,008\n",
        " PS143,008\n",
        " PS143,009\n",
        " PS143,009\n",
        " PS143,009\n",
        " PS143,010\n",
        " PS143,010\n",
        " PS143,010\n",
        " PS143,010\n",
        " PS143,011\n",
        " PS143,011\n",
        " PS143,011\n",
        " PS143,012\n",
        " PS143,012\n",
        " PS143,012\n",
        " PS144,001\n",
        " PS144,001\n",
        " PS144,001\n",
        " PS144,002\n",
        " PS144,002\n",
        " PS144,002\n",
        " PS144,002\n",
        " PS144,003\n",
        " PS144,003\n",
        " PS144,003\n",
        " PS144,004\n",
        " PS144,004\n",
        " PS144,005\n",
        " PS144,005\n",
        " PS144,005\n",
        " PS144,005\n",
        " PS144,005\n",
        " PS144,006\n",
        " PS144,006\n",
        " PS144,006\n",
        " PS144,006\n",
        " PS144,007\n",
        " PS144,007\n",
        " PS144,007\n",
        " PS144,008\n",
        " PS144,008\n",
        " PS144,009\n",
        " PS144,009\n",
        " PS144,009\n",
        " PS144,010\n",
        " PS144,010\n",
        " PS144,011\n",
        " PS144,011\n",
        " PS144,011\n",
        " PS144,011\n",
        " PS144,012\n",
        " PS144,012\n",
        " PS144,012\n",
        " PS144,012\n",
        " PS144,013\n",
        " PS144,013\n",
        " PS144,013\n",
        " PS144,013\n",
        " PS144,014\n",
        " PS144,014\n",
        " PS144,014\n",
        " PS144,014\n",
        " PS144,015\n",
        " PS144,015\n",
        " PS144,015\n",
        " PS144,015\n",
        " PS145,001\n",
        " PS145,001\n",
        " PS145,001\n",
        " PS145,002\n",
        " PS145,002\n",
        " PS145,003\n",
        " PS145,003\n",
        " PS145,003\n",
        " PS145,004\n",
        " PS145,004\n",
        " PS145,005\n",
        " PS145,005\n",
        " PS145,006\n",
        " PS145,006\n",
        " PS145,007\n",
        " PS145,007\n",
        " PS145,008\n",
        " PS145,008\n",
        " PS145,009\n",
        " PS145,009\n",
        " PS145,010\n",
        " PS145,010\n",
        " PS145,010\n",
        " PS145,011\n",
        " PS145,011\n",
        " PS145,012\n",
        " PS145,012\n",
        " PS145,013\n",
        " PS145,013\n",
        " PS145,014\n",
        " PS145,014\n",
        " PS145,014\n",
        " PS145,014\n",
        " PS145,015\n",
        " PS145,015\n",
        " PS145,016\n",
        " PS145,016\n",
        " PS145,017\n",
        " PS145,017\n",
        " PS145,018\n",
        " PS145,018\n",
        " PS145,018\n",
        " PS145,019\n",
        " PS145,019\n",
        " PS145,019\n",
        " PS145,020\n",
        " PS145,020\n",
        " PS145,021\n",
        " PS145,021\n",
        " PS146,001\n",
        " PS146,001\n",
        " PS146,001\n",
        " PS146,002\n",
        " PS146,002\n",
        " PS146,003\n",
        " PS146,003\n",
        " PS146,003\n",
        " PS146,004\n",
        " PS146,004\n",
        " PS146,004\n",
        " PS146,005\n",
        " PS146,005\n",
        " PS146,005\n",
        " PS146,006\n",
        " PS146,006\n",
        " PS146,006\n",
        " PS146,006\n",
        " PS146,007\n",
        " PS146,007\n",
        " PS146,007\n",
        " PS146,008\n",
        " PS146,008\n",
        " PS146,008\n",
        " PS146,009\n",
        " PS146,009\n",
        " PS146,009\n",
        " PS146,010\n",
        " PS146,010\n",
        " PS146,010\n",
        " PS146,010\n",
        " PS147,001\n",
        " PS147,001\n",
        " PS147,001\n",
        " PS147,001\n",
        " PS147,001\n",
        " PS147,002\n",
        " PS147,002\n",
        " PS147,003\n",
        " PS147,003\n",
        " PS147,004\n",
        " PS147,004\n",
        " PS147,005\n",
        " PS147,005\n",
        " PS147,005\n",
        " PS147,006\n",
        " PS147,006\n",
        " PS147,007\n",
        " PS147,007\n",
        " PS147,008\n",
        " PS147,008\n",
        " PS147,008\n",
        " PS147,009\n",
        " PS147,009\n",
        " PS147,009\n",
        " PS147,010\n",
        " PS147,010\n",
        " PS147,011\n",
        " PS147,011\n",
        " PS147,012\n",
        " PS147,012\n",
        " PS147,012\n",
        " PS147,012\n",
        " PS147,013\n",
        " PS147,013\n",
        " PS147,014\n",
        " PS147,014\n",
        " PS147,015\n",
        " PS147,015\n",
        " PS147,016\n",
        " PS147,016\n",
        " PS147,017\n",
        " PS147,017\n",
        " PS147,017\n",
        " PS147,018\n",
        " PS147,018\n",
        " PS147,018\n",
        " PS147,018\n",
        " PS147,019\n",
        " PS147,019\n",
        " PS147,020\n",
        " PS147,020\n",
        " PS147,020\n",
        " PS147,020\n",
        " PS148,001\n",
        " PS148,001\n",
        " PS148,001\n",
        " PS148,002\n",
        " PS148,002\n",
        " PS148,002\n",
        " PS148,002\n",
        " PS148,003\n",
        " PS148,003\n",
        " PS148,003\n",
        " PS148,003\n",
        " PS148,004\n",
        " PS148,004\n",
        " PS148,004\n",
        " PS148,004\n",
        " PS148,005\n",
        " PS148,005\n",
        " PS148,005\n",
        " PS148,006\n",
        " PS148,006\n",
        " PS148,007\n",
        " PS148,007\n",
        " PS148,008\n",
        " PS148,008\n",
        " PS148,009\n",
        " PS148,009\n",
        " PS148,010\n",
        " PS148,010\n",
        " PS148,011\n",
        " PS148,011\n",
        " PS148,012\n",
        " PS148,012\n",
        " PS148,013\n",
        " PS148,013\n",
        " PS148,013\n",
        " PS148,014\n",
        " PS149,001\n",
        " PS149,001\n",
        " PS149,001\n",
        " PS149,002\n",
        " PS149,002\n",
        " PS149,003\n",
        " PS149,003\n",
        " PS149,004\n",
        " PS149,004\n",
        " PS149,005\n",
        " PS149,005\n",
        " PS149,006\n",
        " PS149,006\n",
        " PS149,007\n",
        " PS149,007\n",
        " PS149,008\n",
        " PS149,008\n",
        " PS149,009\n",
        " PS149,009\n",
        " PS149,009\n",
        " PS150,001\n",
        " PS150,001\n",
        " PS150,001\n",
        " PS150,002\n",
        " PS150,002\n",
        " PS150,003\n",
        " PS150,003\n",
        " PS150,004\n",
        " PS150,004\n",
        " PS150,005\n",
        " PS150,005\n",
        " PS150,006\n",
        " PS150,006\n"
       ]
      }
     ],
     "prompt_number": 11
    },
    {
     "cell_type": "code",
     "collapsed": false,
     "input": [],
     "language": "python",
     "metadata": {},
     "outputs": []
    }
   ],
   "metadata": {}
  }
 ]
}