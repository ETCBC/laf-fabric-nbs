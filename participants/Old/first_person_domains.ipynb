{
 "metadata": {
  "name": "",
  "signature": "sha256:605b4037531f4bbb8ccf8f09c09016691cfc591fae0914e697cac7604a110a8d"
 },
 "nbformat": 3,
 "nbformat_minor": 0,
 "worksheets": [
  {
   "cells": [
    {
     "cell_type": "code",
     "collapsed": false,
     "input": [
      "import sys\n",
      "import collections\n",
      "%load_ext autoreload\n",
      "%autoreload 2\n",
      "import laf\n",
      "from laf.fabric import LafFabric\n",
      "from etcbc.preprocess import prepare\n",
      "from etcbc.lib import Transcription, monad_set\n",
      "from etcbc.trees import Tree\n",
      "fabric = LafFabric()"
     ],
     "language": "python",
     "metadata": {},
     "outputs": [
      {
       "output_type": "stream",
       "stream": "stderr",
       "text": [
        "  0.00s This is LAF-Fabric 4.3.3\n",
        "http://laf-fabric.readthedocs.org/en/latest/texts/API-reference.html\n"
       ]
      }
     ],
     "prompt_number": 1
    },
    {
     "cell_type": "code",
     "collapsed": false,
     "input": [
      "API = fabric.load('etcbc4', 'px', 'participants_in_psalms', {\n",
      "    \"xmlids\": {\"node\": False, \"edge\": False},\n",
      "    \"features\": ('''\n",
      "        otype number label\n",
      "        ps nu gn prs lex_utf8\n",
      "        book chapter txt pargr\n",
      "\n",
      "    ''',\n",
      "    '''\n",
      "    '''),\n",
      "    \"prepare\": prepare,\n",
      "}, verbose='DETAIL')\n",
      "exec(fabric.localnames.format(var='fabric'))"
     ],
     "language": "python",
     "metadata": {},
     "outputs": [
      {
       "output_type": "stream",
       "stream": "stderr",
       "text": [
        "  0.00s LOADING API: please wait ... \n"
       ]
      },
      {
       "output_type": "stream",
       "stream": "stderr",
       "text": [
        "  0.00s DETAIL: COMPILING m: UP TO DATE\n"
       ]
      },
      {
       "output_type": "stream",
       "stream": "stderr",
       "text": [
        "  0.00s INFO: USING DATA COMPILED AT: 2014-07-14T16-45-08\n"
       ]
      },
      {
       "output_type": "stream",
       "stream": "stderr",
       "text": [
        "  0.00s DETAIL: COMPILING a: UP TO DATE\n"
       ]
      },
      {
       "output_type": "stream",
       "stream": "stderr",
       "text": [
        "  0.00s INFO: USING DATA COMPILED AT: 2014-07-15T08-55-31\n"
       ]
      },
      {
       "output_type": "stream",
       "stream": "stderr",
       "text": [
        "  0.01s DETAIL: load main: G.node_anchor_min\n"
       ]
      },
      {
       "output_type": "stream",
       "stream": "stderr",
       "text": [
        "  0.09s DETAIL: load main: G.node_anchor_max\n"
       ]
      },
      {
       "output_type": "stream",
       "stream": "stderr",
       "text": [
        "  0.16s DETAIL: load main: G.node_sort\n"
       ]
      },
      {
       "output_type": "stream",
       "stream": "stderr",
       "text": [
        "  0.21s DETAIL: load main: G.node_sort_inv\n"
       ]
      },
      {
       "output_type": "stream",
       "stream": "stderr",
       "text": [
        "  0.63s DETAIL: load main: G.edges_from\n"
       ]
      },
      {
       "output_type": "stream",
       "stream": "stderr",
       "text": [
        "  0.69s DETAIL: load main: G.edges_to\n"
       ]
      },
      {
       "output_type": "stream",
       "stream": "stderr",
       "text": [
        "  0.76s DETAIL: load main: F.etcbc4_db_otype [node] \n"
       ]
      },
      {
       "output_type": "stream",
       "stream": "stderr",
       "text": [
        "  1.45s DETAIL: load main: F.etcbc4_ft_gn [node] \n"
       ]
      },
      {
       "output_type": "stream",
       "stream": "stderr",
       "text": [
        "  1.59s DETAIL: load main: F.etcbc4_ft_lex_utf8 [node] \n"
       ]
      },
      {
       "output_type": "stream",
       "stream": "stderr",
       "text": [
        "  1.84s DETAIL: load main: F.etcbc4_ft_nu [node] \n"
       ]
      },
      {
       "output_type": "stream",
       "stream": "stderr",
       "text": [
        "  2.05s DETAIL: load main: F.etcbc4_ft_number [node] \n"
       ]
      },
      {
       "output_type": "stream",
       "stream": "stderr",
       "text": [
        "  2.51s DETAIL: load main: F.etcbc4_ft_prs [node] \n"
       ]
      },
      {
       "output_type": "stream",
       "stream": "stderr",
       "text": [
        "  2.71s DETAIL: load main: F.etcbc4_ft_ps [node] \n"
       ]
      },
      {
       "output_type": "stream",
       "stream": "stderr",
       "text": [
        "  2.90s DETAIL: load main: F.etcbc4_ft_txt [node] \n"
       ]
      },
      {
       "output_type": "stream",
       "stream": "stderr",
       "text": [
        "  2.94s DETAIL: load main: F.etcbc4_px_pargr [node] \n"
       ]
      },
      {
       "output_type": "stream",
       "stream": "stderr",
       "text": [
        "  2.94s DETAIL: load main: F.etcbc4_sft_book [node] \n"
       ]
      },
      {
       "output_type": "stream",
       "stream": "stderr",
       "text": [
        "  2.97s DETAIL: load main: F.etcbc4_sft_chapter [node] \n"
       ]
      },
      {
       "output_type": "stream",
       "stream": "stderr",
       "text": [
        "  2.98s DETAIL: load main: F.etcbc4_sft_label [node] \n"
       ]
      },
      {
       "output_type": "stream",
       "stream": "stderr",
       "text": [
        "  3.00s DETAIL: load annox: F.etcbc4_db_otype [node] \n"
       ]
      },
      {
       "output_type": "stream",
       "stream": "stderr",
       "text": [
        "  3.01s DETAIL: load annox: F.etcbc4_ft_gn [node] \n"
       ]
      },
      {
       "output_type": "stream",
       "stream": "stderr",
       "text": [
        "  3.01s DETAIL: load annox: F.etcbc4_ft_lex_utf8 [node] \n"
       ]
      },
      {
       "output_type": "stream",
       "stream": "stderr",
       "text": [
        "  3.01s DETAIL: load annox: F.etcbc4_ft_nu [node] \n"
       ]
      },
      {
       "output_type": "stream",
       "stream": "stderr",
       "text": [
        "  3.01s DETAIL: load annox: F.etcbc4_ft_number [node] \n"
       ]
      },
      {
       "output_type": "stream",
       "stream": "stderr",
       "text": [
        "  3.01s DETAIL: load annox: F.etcbc4_ft_prs [node] \n"
       ]
      },
      {
       "output_type": "stream",
       "stream": "stderr",
       "text": [
        "  3.01s DETAIL: load annox: F.etcbc4_ft_ps [node] \n"
       ]
      },
      {
       "output_type": "stream",
       "stream": "stderr",
       "text": [
        "  3.01s DETAIL: load annox: F.etcbc4_ft_txt [node] \n"
       ]
      },
      {
       "output_type": "stream",
       "stream": "stderr",
       "text": [
        "  3.01s DETAIL: load annox: F.etcbc4_px_pargr [node] \n"
       ]
      },
      {
       "output_type": "stream",
       "stream": "stderr",
       "text": [
        "  3.07s DETAIL: load annox: F.etcbc4_sft_book [node] \n"
       ]
      },
      {
       "output_type": "stream",
       "stream": "stderr",
       "text": [
        "  3.07s DETAIL: load annox: F.etcbc4_sft_chapter [node] \n"
       ]
      },
      {
       "output_type": "stream",
       "stream": "stderr",
       "text": [
        "  3.07s DETAIL: load annox: F.etcbc4_sft_label [node] \n"
       ]
      },
      {
       "output_type": "stream",
       "stream": "stderr",
       "text": [
        "  3.07s LOGFILE=/Users/dirk/laf-fabric-output/etcbc4/participants_in_psalms/__log__participants_in_psalms.txt\n"
       ]
      },
      {
       "output_type": "stream",
       "stream": "stderr",
       "text": [
        "  3.07s DETAIL: prep prep: G.node_sort\n"
       ]
      },
      {
       "output_type": "stream",
       "stream": "stderr",
       "text": [
        "  3.14s DETAIL: prep prep: G.node_sort_inv\n"
       ]
      },
      {
       "output_type": "stream",
       "stream": "stderr",
       "text": [
        "  3.64s INFO: DATA LOADED FROM SOURCE etcbc4 AND ANNOX px FOR TASK participants_in_psalms AT 2014-07-15T18-27-09\n"
       ]
      }
     ],
     "prompt_number": 2
    },
    {
     "cell_type": "code",
     "collapsed": false,
     "input": [
      "def analyze_psalms():\n",
      "    f = outfile('firstPersonDomainsAndParagraphsInPsalms.csv')\n",
      "    inPsalms = False\n",
      "    parnr = txttype= verse = chapter = \"\"\n",
      "    chapters = []\n",
      "    firstSgReferences = collections.OrderedDict()\n",
      "    firstPlReferences = collections.OrderedDict()\n",
      "    firstPersonReferences = collections.OrderedDict()\n",
      "    count_1sg = count_1pl = 0\n",
      "    \n",
      "    for node in NN():\n",
      "        otype = F.otype.v(node)\n",
      "        if otype == 'book':\n",
      "            if F.book.v(node) == \"Psalmi\":\n",
      "                inPsalms = True\n",
      "            else:\n",
      "                inPsalms = False\n",
      "        elif inPsalms:\n",
      "            if otype == 'chapter':\n",
      "                ch = F.chapter.v(node)\n",
      "                chapters.append(ch)\n",
      "                firstSgReferences[ch] = collections.defaultdict(dict)\n",
      "                firstPlReferences[ch] = collections.defaultdict(dict)\n",
      "                firstPersonReferences[ch] = collections.defaultdict(list)\n",
      "            elif otype == 'verse':\n",
      "                verse = (F.label.v(node))[-3:]\n",
      "                firstSgReferences[ch][verse] = collections.OrderedDict()\n",
      "                firstPlReferences[ch][verse] = collections.OrderedDict()\n",
      "                firstPersonReferences[ch][verse] = []\n",
      "            elif otype == 'clause':\n",
      "                txttype = F.txt.v(node)\n",
      "            elif otype == 'clause_atom':\n",
      "                parnr = F.pargr.v(node)\n",
      "            elif otype == \"word\":\n",
      "                text = F.lex_utf8.v(node)\n",
      "                if F.ps.v(node) == \"p1\":\n",
      "                    firstPersonReferences[ch][verse].append(text)\n",
      "                    if F.nu.v(node) == \"sg\":\n",
      "                        firstSgReferences[ch][verse][text] = [txttype, parnr]\n",
      "                        count_1sg += 1\n",
      "                    else:\n",
      "                        firstPlReferences[ch][verse][text] = [txttype, parnr]\n",
      "                        count_1pl += 1\n",
      "                else:\n",
      "                    suffix = F.prs.v(node)\n",
      "                    if suffix == \"NJ\" or suffix == \"J\":\n",
      "                        firstPersonReferences[ch][verse].append(text)\n",
      "                        firstSgReferences[ch][verse][text] = [txttype, parnr]\n",
      "                        count_1sg += 1\n",
      "                    elif suffix == \"NW\":\n",
      "                        firstPersonReferences[ch][verse].append(text)\n",
      "                        firstPlReferences[ch][verse][text] = [txttype, parnr]\n",
      "                        count_1pl += 1\n",
      "                \n",
      "    f.write(\"{};{};{};{};{};{};{};{}\\n\".format(\"chapter\", \"verse\", \"1sg-references\", \"domain\", \"paragraph\", \"1pl-references\", \"domain\", \"paragraph\"))\n",
      "    \n",
      "    for c in chapters:\n",
      "        f.write(\"\\n{}\".format(c))\n",
      "        for v in sorted(firstSgReferences[c]):\n",
      "            f.write(\";{}\\n\".format(v))\n",
      "            for w in firstPersonReferences[c][v]:\n",
      "                sgTxt = sgType = sgPar = \"\"\n",
      "                plTxt = plType = plPar = \"\"\n",
      "                if w in firstSgReferences[c][v]:\n",
      "                    sgTxt = w\n",
      "                    sgType = firstSgReferences[c][v][w][0]\n",
      "                    sgPar = firstSgReferences[c][v][w][1]\n",
      "                else:\n",
      "                    plTxt = w\n",
      "                    plType = firstPlReferences[c][v][w][0]\n",
      "                    plPar = firstPlReferences[c][v][w][1]\n",
      "                    \n",
      "                f.write(\";;{};{};{};{};{};{}\\n\".format(sgTxt, sgType, sgPar, plTxt, plType, plPar))\n",
      " \n",
      "        f.write(\"\\n\")            \n",
      "    f.write(\";;{};;;{};;\\n\".format(count_1sg, count_1pl))\n",
      "    f.write(\";;{};;;{};;\\n\".format(round((count_1sg / (count_1sg + count_1pl) * 100), 2), round((count_1pl / (count_1sg + count_1pl) * 100), 2)))\n",
      "    \n",
      "    f.close()"
     ],
     "language": "python",
     "metadata": {},
     "outputs": [],
     "prompt_number": 3
    },
    {
     "cell_type": "code",
     "collapsed": false,
     "input": [
      "analyze_psalms()"
     ],
     "language": "python",
     "metadata": {},
     "outputs": [],
     "prompt_number": 4
    },
    {
     "cell_type": "code",
     "collapsed": false,
     "input": [],
     "language": "python",
     "metadata": {},
     "outputs": []
    }
   ],
   "metadata": {}
  }
 ]
}