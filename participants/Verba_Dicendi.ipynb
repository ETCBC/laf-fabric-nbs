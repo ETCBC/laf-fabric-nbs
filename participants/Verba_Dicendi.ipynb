{
 "metadata": {
  "name": "",
  "signature": "sha256:be1aedb1223334787dcc210f2c2f3db180c4caf72517d2bda6c06586c2805e8e"
 },
 "nbformat": 3,
 "nbformat_minor": 0,
 "worksheets": [
  {
   "cells": [
    {
     "cell_type": "code",
     "collapsed": false,
     "input": [
      "import sys\n",
      "import collections\n",
      "%load_ext autoreload\n",
      "%autoreload 2\n",
      "import laf\n",
      "from laf.fabric import LafFabric\n",
      "from etcbc.preprocess import prepare\n",
      "from etcbc.lib import Transcription, monad_set\n",
      "from etcbc.trees import Tree\n",
      "fabric = LafFabric()"
     ],
     "language": "python",
     "metadata": {},
     "outputs": [
      {
       "output_type": "stream",
       "stream": "stderr",
       "text": [
        "  0.00s This is LAF-Fabric 4.3.1\n",
        "http://laf-fabric.readthedocs.org/en/latest/texts/API-reference.html\n"
       ]
      }
     ],
     "prompt_number": 1
    },
    {
     "cell_type": "code",
     "collapsed": false,
     "input": [
      "API=fabric.load('bhs4', '--', 'participants_in_psalms', {\n",
      "    \"xmlids\": {\"node\": False, \"edge\": False},\n",
      "    \"features\": ('''\n",
      "        otype nu ps gn prs ls\n",
      "        function txt\n",
      "        book chapter label\n",
      "    ''',\n",
      "    '''\n",
      "    '''),\n",
      "    \"prepare\": prepare,\n",
      "}, verbose='DETAIL')\n",
      "exec(fabric.localnames.format(var='fabric'))"
     ],
     "language": "python",
     "metadata": {},
     "outputs": [
      {
       "output_type": "stream",
       "stream": "stderr",
       "text": [
        "  0.00s LOADING API: please wait ... \n"
       ]
      },
      {
       "output_type": "stream",
       "stream": "stderr",
       "text": [
        "  0.01s DETAIL: COMPILING m: UP TO DATE\n"
       ]
      },
      {
       "output_type": "stream",
       "stream": "stderr",
       "text": [
        "  0.01s INFO: USING DATA COMPILED AT: 2014-06-30T05-57-52\n"
       ]
      },
      {
       "output_type": "stream",
       "stream": "stderr",
       "text": [
        "  0.01s DETAIL: COMPILING a: UP TO DATE\n"
       ]
      },
      {
       "output_type": "stream",
       "stream": "stderr",
       "text": [
        "  0.03s DETAIL: load main: G.node_anchor_min\n"
       ]
      },
      {
       "output_type": "stream",
       "stream": "stderr",
       "text": [
        "  0.14s DETAIL: load main: G.node_anchor_max\n"
       ]
      },
      {
       "output_type": "stream",
       "stream": "stderr",
       "text": [
        "  0.24s DETAIL: load main: G.node_sort\n"
       ]
      },
      {
       "output_type": "stream",
       "stream": "stderr",
       "text": [
        "  0.33s DETAIL: load main: G.node_sort_inv\n"
       ]
      },
      {
       "output_type": "stream",
       "stream": "stderr",
       "text": [
        "  0.94s DETAIL: load main: G.edges_from\n"
       ]
      },
      {
       "output_type": "stream",
       "stream": "stderr",
       "text": [
        "  1.07s DETAIL: load main: G.edges_to\n"
       ]
      },
      {
       "output_type": "stream",
       "stream": "stderr",
       "text": [
        "  1.21s DETAIL: load main: F.shebanq_db_otype [node] \n"
       ]
      },
      {
       "output_type": "stream",
       "stream": "stderr",
       "text": [
        "  2.14s DETAIL: load main: F.shebanq_ft_function [node] \n"
       ]
      },
      {
       "output_type": "stream",
       "stream": "stderr",
       "text": [
        "  2.31s DETAIL: load main: F.shebanq_ft_gn [node] \n"
       ]
      },
      {
       "output_type": "stream",
       "stream": "stderr",
       "text": [
        "  2.52s DETAIL: load main: F.shebanq_ft_ls [node] \n"
       ]
      },
      {
       "output_type": "stream",
       "stream": "stderr",
       "text": [
        "  2.80s DETAIL: load main: F.shebanq_ft_nu [node] \n"
       ]
      },
      {
       "output_type": "stream",
       "stream": "stderr",
       "text": [
        "  3.06s DETAIL: load main: F.shebanq_ft_prs [node] \n"
       ]
      },
      {
       "output_type": "stream",
       "stream": "stderr",
       "text": [
        "  3.33s DETAIL: load main: F.shebanq_ft_ps [node] \n"
       ]
      },
      {
       "output_type": "stream",
       "stream": "stderr",
       "text": [
        "  3.60s DETAIL: load main: F.shebanq_ft_txt [node] \n"
       ]
      },
      {
       "output_type": "stream",
       "stream": "stderr",
       "text": [
        "  3.65s DETAIL: load main: F.shebanq_sft_book [node] \n"
       ]
      },
      {
       "output_type": "stream",
       "stream": "stderr",
       "text": [
        "  3.68s DETAIL: load main: F.shebanq_sft_chapter [node] \n"
       ]
      },
      {
       "output_type": "stream",
       "stream": "stderr",
       "text": [
        "  3.70s DETAIL: load main: F.shebanq_sft_label [node] \n"
       ]
      },
      {
       "output_type": "stream",
       "stream": "stderr",
       "text": [
        "  3.73s LOGFILE=C:\\Users\\Gino/laf-fabric-output/bhs4/participants_in_psalms/__log__participants_in_psalms.txt\n"
       ]
      },
      {
       "output_type": "stream",
       "stream": "stderr",
       "text": [
        "  3.73s DETAIL: prep prep: G.node_sort\n"
       ]
      },
      {
       "output_type": "stream",
       "stream": "stderr",
       "text": [
        "  3.85s DETAIL: prep prep: G.node_sort_inv\n"
       ]
      },
      {
       "output_type": "stream",
       "stream": "stderr",
       "text": [
        "  4.55s INFO: DATA LOADED FROM SOURCE bhs4 AND ANNOX -- FOR TASK participants_in_psalms AT 2014-09-03T14-06-19\n"
       ]
      }
     ],
     "prompt_number": 2
    },
    {
     "cell_type": "code",
     "collapsed": false,
     "input": [
      "def analyze_psalms():\n",
      "    f = outfile('verba_dicendi.csv')\n",
      "    inPsalms = False\n",
      "\n",
      "    marked_speech = False\n",
      "    verb_dic = False\n",
      "    quot_domain = \"\"\n",
      "    domain = \"\"\n",
      "    \n",
      "    suffix = \"\"\n",
      "    ch = \"\"\n",
      "    vs = \"\"\n",
      "    \n",
      "    pnMark = \"\"\n",
      "    \n",
      "    marked_references = collections.defaultdict(dict)\n",
      "    unmarked_references = collections.defaultdict(dict)\n",
      "    psalm_verses = collections.defaultdict(list)\n",
      "   \n",
      "    for node in NN():\n",
      "        otype = F.otype.v(node)\n",
      "        if otype == 'book':\n",
      "            if F.book.v(node) == \"Psalmi\":\n",
      "                inPsalms = True\n",
      "            else:\n",
      "                inPsalms = False\n",
      "        elif inPsalms and otype == \"chapter\":\n",
      "            ch = F.chapter.v(node)\n",
      "            marked_references[ch] = collections.defaultdict(str)\n",
      "            unmarked_references[ch] = collections.defaultdict(str)\n",
      "        elif inPsalms and otype == \"verse\":\n",
      "            vs = F.label.v(node)\n",
      "            marked_references[ch][vs] = \"\"\n",
      "            unmarked_references[ch][vs] = \"\"\n",
      "            psalm_verses[ch].append(vs)\n",
      "        elif inPsalms and otype == \"clause\":\n",
      "            domain = F.txt.v(node)\n",
      "        elif inPsalms and otype == \"word\":\n",
      "            suffix = F.prs.v(node)\n",
      "            \n",
      "            pnMark = \"\"\n",
      "            \n",
      "            if F.ls.v(node) == \"quot\" and not marked_speech:\n",
      "                verb_dic = True\n",
      "                quot_domain = domain + \"Q\"\n",
      "            elif verb_dic and domain == quot_domain:    # Hier begint dan de ingebedde directe rede na een verbum dicendi\n",
      "                verb_dic = False\n",
      "                marked_speech = True\n",
      "            elif marked_speech and len(domain) < len(quot_domain):\n",
      "                quot_domain = \"\"\n",
      "                marked_speech = False\n",
      "            \n",
      "            if ((F.ps.v(node) == \"p1\" and F.nu.v(node) == \"sg\") or (suffix == \"NJ\" or suffix == \"J\")):\n",
      "                pnMark = '1s'\n",
      "            elif ((F.ps.v(node) == \"p1\" and F.nu.v(node) == \"pl\") or (suffix == \"NW\")):\n",
      "                pnMark = '1p'\n",
      "            elif ((F.ps.v(node) == \"p2\" and F.nu.v(node) == \"sg\") or (suffix == \"K\" or suffix == \"K=\")):\n",
      "                pnMark = '2s'\n",
      "            elif ((F.ps.v(node) == \"p2\" and F.nu.v(node) == \"pl\") or (suffix == \"KM\" or suffix == \"KN\")):\n",
      "                pnMark = '2p'\n",
      "            \n",
      "            if marked_speech and pnMark != \"\":\n",
      "                marked_references[ch][vs] += pnMark + \"|\"\n",
      "            elif pnMark != \"\":\n",
      "                unmarked_references[ch][vs] += pnMark + \"|\"\n",
      "                \n",
      "    f.write(\"Marked and unmarked 1st- and 2nd-person references:\\n\\n\")\n",
      "    \n",
      "    keylist = psalm_verses.keys()\n",
      "    keylist = sorted(keylist, key=int)\n",
      "    for p in keylist:\n",
      "        f.write(\"Psalm \" + p + \";Marked References;Unmarked References;\\n\")\n",
      "        \n",
      "        for v in psalm_verses[p]:\n",
      "            f.write(v + \";\" + marked_references[p][v] + \";\" + unmarked_references[p][v] + \"\\n\")\n",
      "            \n",
      "        f.write(\"\\n\")\n",
      "        \n",
      "    f.close()"
     ],
     "language": "python",
     "metadata": {},
     "outputs": [],
     "prompt_number": 10
    },
    {
     "cell_type": "code",
     "collapsed": false,
     "input": [
      "analyze_psalms()"
     ],
     "language": "python",
     "metadata": {},
     "outputs": [],
     "prompt_number": 11
    }
   ],
   "metadata": {}
  }
 ]
}