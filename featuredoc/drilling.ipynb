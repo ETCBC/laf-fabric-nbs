{
 "metadata": {
  "name": "",
  "signature": "sha256:bbfbf3a4dd0ca3b5a8101314d7511ea71ee1a883292afb89eaa103b2f7256262"
 },
 "nbformat": 3,
 "nbformat_minor": 0,
 "worksheets": [
  {
   "cells": [
    {
     "cell_type": "markdown",
     "metadata": {},
     "source": [
      "<a href=\"http://laf-fabric.readthedocs.org/en/latest/\" target=\"_blank\"><img align=\"left\" src=\"images/laf-fabric-xsmall.png\"/></a>\n",
      "<a href=\"http://www.godgeleerdheid.vu.nl/etcbc\" target=\"_blank\"><img align=\"left\" src=\"images/VU-ETCBC-xsmall.png\"/></a>\n",
      "<a href=\"http://www.persistent-identifier.nl/?identifier=urn%3Anbn%3Anl%3Aui%3A13-048i-71\" target=\"_blank\"><img align=\"left\"src=\"images/etcbc4easy-small.png\"/></a>\n",
      "<a href=\"http://tla.mpi.nl\" target=\"_blank\"><img align=\"right\" src=\"images/TLA-xsmall.png\"/></a>\n",
      "<a href=\"http://www.dans.knaw.nl\" target=\"_blank\"><img align=\"right\"src=\"images/DANS-xsmall.png\"/></a>"
     ]
    },
    {
     "cell_type": "heading",
     "level": 1,
     "metadata": {},
     "source": [
      "Drilling down to particular passages"
     ]
    },
    {
     "cell_type": "markdown",
     "metadata": {},
     "source": [
      "We want to drill down to the details of a particular passage."
     ]
    },
    {
     "cell_type": "heading",
     "level": 1,
     "metadata": {},
     "source": [
      "Firing up the engines"
     ]
    },
    {
     "cell_type": "code",
     "collapsed": false,
     "input": [
      "import sys\n",
      "import collections\n",
      "\n",
      "import laf\n",
      "from laf.fabric import LafFabric\n",
      "from etcbc.preprocess import prepare\n",
      "\n",
      "fabric = LafFabric()"
     ],
     "language": "python",
     "metadata": {},
     "outputs": [
      {
       "output_type": "stream",
       "stream": "stderr",
       "text": [
        "  0.00s This is LAF-Fabric 4.4.6\n",
        "API reference: http://laf-fabric.readthedocs.org/en/latest/texts/API-reference.html\n",
        "Feature doc: http://shebanq-doc.readthedocs.org/en/latest/texts/welcome.html\n",
        "\n"
       ]
      }
     ],
     "prompt_number": 1
    },
    {
     "cell_type": "code",
     "collapsed": false,
     "input": [
      "API = fabric.load('etcbc4', '--', 'drilling', {\n",
      "    \"xmlids\": {\"node\": False, \"edge\": False},\n",
      "    \"features\": ('''\n",
      "        oid otype monads\n",
      "        book chapter verse\n",
      "        g_word g_word_utf8 trailer_utf8\n",
      "        nme g_nme pfm g_pfm prs g_prs uvf g_uvf vbe g_vbe vbs g_vbs\n",
      "        ps sp\n",
      "    ''','''\n",
      "    '''),\n",
      "    \"prepare\": prepare,\n",
      "}, verbose='NORMAL')\n",
      "exec(fabric.localnames.format(var='fabric'))"
     ],
     "language": "python",
     "metadata": {},
     "outputs": [
      {
       "output_type": "stream",
       "stream": "stderr",
       "text": [
        "  0.00s LOADING API: please wait ... \n"
       ]
      },
      {
       "output_type": "stream",
       "stream": "stderr",
       "text": [
        "  0.00s INFO: USING DATA COMPILED AT: 2014-07-23T09-31-37\n"
       ]
      },
      {
       "output_type": "stream",
       "stream": "stderr",
       "text": [
        "  0.76s INFO: DATA LOADED FROM SOURCE etcbc4 AND ANNOX -- FOR TASK drilling AT 2015-01-13T09-33-45\n"
       ]
      }
     ],
     "prompt_number": 9
    },
    {
     "cell_type": "heading",
     "level": 1,
     "metadata": {},
     "source": [
      "Passage index"
     ]
    },
    {
     "cell_type": "markdown",
     "metadata": {},
     "source": [
      "When we have found our objects, we want to indicate where they occur in the bible. In order to specify the passage of a node, we have to now in what verse a node occurs. In the next code cell we create a mapping from nodes of type sentence, clause, etc to nodes of type verse. From a verse node we can read off the passage information.\n",
      "\n",
      "Conversely, we also construct an index from verses to nodes: given a verse, we make a list of all nodes belonging to that verse, in the canonical order."
     ]
    },
    {
     "cell_type": "code",
     "collapsed": false,
     "input": [
      "msg(\"Making passage index ...\")\n",
      "target_types = {\n",
      "    'sentence', 'sentence_atom', \n",
      "    'clause', 'clause_atom', \n",
      "    'phrase', 'phrase_atom', \n",
      "    'subphrase', 'word', 'half_verse',\n",
      "}\n",
      "cur_verse = None\n",
      "node_verse = {}\n",
      "verse_node = collections.defaultdict(lambda: [])\n",
      "passage_verse = {}\n",
      "for n in NN():\n",
      "    otype = F.otype.v(n)\n",
      "    if otype == 'verse':\n",
      "        cur_verse = n\n",
      "        passage_verse[(F.book.v(n), int(F.chapter.v(n)), int(F.verse.v(n)))] = n\n",
      "    elif otype in target_types: \n",
      "        node_verse[n] = cur_verse\n",
      "        verse_node[cur_verse].append(n)\n",
      "msg(\"Passage index created for {} nodes\".format(len(node_verse)))"
     ],
     "language": "python",
     "metadata": {},
     "outputs": [
      {
       "output_type": "stream",
       "stream": "stderr",
       "text": [
        "  5.79s Making passage index ...\n"
       ]
      },
      {
       "output_type": "stream",
       "stream": "stderr",
       "text": [
        "  8.65s Passage index created for 1416963 nodes\n"
       ]
      }
     ],
     "prompt_number": 3
    },
    {
     "cell_type": "heading",
     "level": 1,
     "metadata": {},
     "source": [
      "Look up the objects"
     ]
    },
    {
     "cell_type": "markdown",
     "metadata": {},
     "source": [
      "We want to find the objects corresponding to a given passage, and we also want to display the words and their part-of-speech and other features."
     ]
    },
    {
     "cell_type": "code",
     "collapsed": false,
     "input": [
      "passages = (\n",
      "    ('Genesis', 1, 29),\n",
      "    ('Nehemia', 1, 9),\n",
      ")\n",
      "passage = passages[1]\n",
      "verse = passage_verse[passage]\n",
      "objects = verse_node[verse]\n",
      "print (\"{} {}: {}\".format(*passage))\n",
      "for ob in objects:\n",
      "    otype = F.otype.v(ob)\n",
      "    sp = F.sp.v(ob) if otype == 'word' else ''\n",
      "    rep = F.g_word.v(ob) if otype == 'word' else ''\n",
      "    mn = F.monads.v(ob) if otype == 'word' else ''\n",
      "    additional = \"\\n{} {}={} {}={} {}={} {}={} {}={} {}={} {}={} {}={} {}={} {}={} {}={} {}={} {}={}\".format(\n",
      "        mn,\n",
      "        'ps', F.ps.v(ob),\n",
      "        'nme', F.nme.v(ob), 'g_nme', F.g_nme.v(ob), \n",
      "        'pfm', F.pfm.v(ob), 'g_pfm', F.g_pfm.v(ob), \n",
      "        'prs', F.prs.v(ob), 'g_prs', F.g_prs.v(ob), \n",
      "        'uvf', F.uvf.v(ob), 'g_uvf', F.g_uvf.v(ob), \n",
      "        'vbe', F.vbe.v(ob), 'g_vbe', F.g_vbe.v(ob), \n",
      "        'vbs', F.vbs.v(ob), 'g_vbs', F.g_vbs.v(ob),\n",
      "    ) if otype == 'word' else ''\n",
      "    print(\"{:<20} {:<5} {} {}\".format(otype, sp, rep, additional))"
     ],
     "language": "python",
     "metadata": {},
     "outputs": [
      {
       "output_type": "stream",
       "stream": "stdout",
       "text": [
        "Nehemia 1: 9\n",
        "half_verse                  \n",
        "sentence                    \n",
        "sentence_atom               \n",
        "clause                      \n",
        "clause_atom                 \n",
        "phrase                      \n",
        "phrase_atom                 \n",
        "word                 conj  W:- \n",
        "383600 ps=NA nme=n/a g_nme= pfm=n/a g_pfm= prs=n/a g_prs= uvf=absent g_uvf= vbe=n/a g_vbe= vbs=n/a g_vbs=\n",
        "phrase                      \n",
        "phrase_atom                 \n",
        "word                 verb  CAB:T.E74M \n",
        "383601 ps=p2 nme=absent g_nme= pfm=absent g_pfm= prs=absent g_prs= uvf=absent g_uvf= vbe=TM g_vbe=[T.EM vbs=absent g_vbs=\n",
        "phrase                      \n",
        "phrase_atom                 \n",
        "word                 prep  >;LA80J \n",
        "383602 ps=NA nme=n/a g_nme= pfm=n/a g_pfm= prs=J g_prs=+ uvf=absent g_uvf= vbe=n/a g_vbe= vbs=n/a g_vbs=\n",
        "sentence                    \n",
        "sentence_atom               \n",
        "clause                      \n",
        "clause_atom                 \n",
        "phrase                      \n",
        "phrase_atom                 \n",
        "word                 conj  W.- \n",
        "383603 ps=NA nme=n/a g_nme= pfm=n/a g_pfm= prs=n/a g_prs= uvf=absent g_uvf= vbe=n/a g_vbe= vbs=n/a g_vbs=\n",
        "phrase                      \n",
        "phrase_atom                 \n",
        "word                 verb  C:MAR:T.EM03 \n",
        "383604 ps=p2 nme=absent g_nme= pfm=absent g_pfm= prs=absent g_prs= uvf=absent g_uvf= vbe=TM g_vbe=[T.EM vbs=absent g_vbs=\n",
        "phrase                      \n",
        "phrase_atom                 \n",
        "word                 subs  MIY:WOTA80J \n",
        "383605 ps=NA nme=WTJ g_nme=/OTAJ pfm=n/a g_pfm= prs=J g_prs=+ uvf=absent g_uvf= vbe=n/a g_vbe= vbs=n/a g_vbs=\n",
        "sentence                    \n",
        "sentence_atom               \n",
        "clause                      \n",
        "clause_atom                 \n",
        "phrase                      \n",
        "phrase_atom                 \n",
        "word                 conj  WA- \n",
        "383606 ps=NA nme=n/a g_nme= pfm=n/a g_pfm= prs=n/a g_prs= uvf=absent g_uvf= vbe=n/a g_vbe= vbs=n/a g_vbs=\n",
        "phrase                      \n",
        "phrase_atom                 \n",
        "word                 verb  <:AFIJTE73M \n",
        "383607 ps=p2 nme=absent g_nme= pfm=absent g_pfm= prs=absent g_prs= uvf=absent g_uvf= vbe=TM g_vbe=[TEM vbs=absent g_vbs=\n",
        "phrase                      \n",
        "phrase_atom                 \n",
        "word                 prep  >OT@92M \n",
        "383608 ps=NA nme=n/a g_nme= pfm=n/a g_pfm= prs=M g_prs=+@M uvf=absent g_uvf= vbe=n/a g_vbe= vbs=n/a g_vbs=\n",
        "half_verse                  \n",
        "sentence                    \n",
        "sentence_atom               \n",
        "clause                      \n",
        "clause_atom                 \n",
        "phrase                      \n",
        "phrase_atom                 \n",
        "word                 conj  >IM& \n",
        "383609 ps=NA nme=n/a g_nme= pfm=n/a g_pfm= prs=n/a g_prs= uvf=absent g_uvf= vbe=n/a g_vbe= vbs=n/a g_vbs=\n",
        "phrase                      \n",
        "phrase_atom                 \n",
        "word                 verb  JIH:JE63H \n",
        "383610 ps=p3 nme=absent g_nme= pfm=J g_pfm=!JI! prs=absent g_prs= uvf=absent g_uvf= vbe= g_vbe=[ vbs=absent g_vbs=\n",
        "phrase                      \n",
        "phrase_atom                 \n",
        "word                 verb  NI75D.AX:AKE61M \n",
        "383611 ps=unknown nme= g_nme=/ pfm=absent g_pfm= prs=KM g_prs=+:AKEM uvf=absent g_uvf= vbe= g_vbe=[ vbs=N g_vbs=]NI]\n",
        "phrase                      \n",
        "phrase_atom                 \n",
        "word                 prep  B.I- \n",
        "383612 ps=NA nme=n/a g_nme= pfm=n/a g_pfm= prs=absent g_prs= uvf=absent g_uvf= vbe=n/a g_vbe= vbs=n/a g_vbs=\n",
        "subphrase                   \n",
        "word                 subs  Q:Y;70H \n",
        "383613 ps=NA nme= g_nme=/ pfm=n/a g_pfm= prs=absent g_prs= uvf=absent g_uvf= vbe=n/a g_vbe= vbs=n/a g_vbs=\n",
        "subphrase                   \n",
        "word                 art   HA- \n",
        "383614 ps=NA nme=n/a g_nme= pfm=n/a g_pfm= prs=n/a g_prs= uvf=absent g_uvf= vbe=n/a g_vbe= vbs=n/a g_vbs=\n",
        "word                 subs  C.@MA33JIM03 \n",
        "383615 ps=NA nme=JM g_nme=/IM pfm=n/a g_pfm= prs=absent g_prs= uvf=absent g_uvf= vbe=n/a g_vbe= vbs=n/a g_vbs=\n",
        "sentence                    \n",
        "sentence_atom               \n",
        "clause                      \n",
        "clause_atom                 \n",
        "phrase                      \n",
        "phrase_atom                 \n",
        "word                 prep  MI- \n",
        "383616 ps=NA nme=n/a g_nme= pfm=n/a g_pfm= prs=absent g_prs= uvf=absent g_uvf= vbe=n/a g_vbe= vbs=n/a g_vbs=\n",
        "word                 advb  C.@74M \n",
        "383617 ps=NA nme=n/a g_nme= pfm=n/a g_pfm= prs=n/a g_prs= uvf=absent g_uvf= vbe=n/a g_vbe= vbs=n/a g_vbs=\n",
        "phrase                      \n",
        "phrase_atom                 \n",
        "word                 verb  >:AQAB.:Y;80M \n",
        "383618 ps=p1 nme=absent g_nme= pfm=> g_pfm=!>:A! prs=M g_prs=+;M uvf=absent g_uvf= vbe= g_vbe=[ vbs=absent g_vbs=\n",
        "sentence                    \n",
        "sentence_atom               \n",
        "clause                      \n",
        "clause_atom                 \n",
        "phrase                      \n",
        "phrase_atom                 \n",
        "word                 conj  *W- \n",
        "383619 ps=NA nme=n/a g_nme= pfm=n/a g_pfm= prs=n/a g_prs= uvf=absent g_uvf= vbe=n/a g_vbe= vbs=n/a g_vbs=\n",
        "phrase                      \n",
        "phrase_atom                 \n",
        "word                 verb  *HBW>TJM \n",
        "383620 ps=p1 nme=absent g_nme= pfm=absent g_pfm= prs=M g_prs=+M uvf=absent g_uvf= vbe=TJ g_vbe=[TJ vbs=H g_vbs=]H]\n",
        "phrase                      \n",
        "phrase_atom                 \n",
        "word                 prep  >EL& \n",
        "383621 ps=NA nme=n/a g_nme= pfm=n/a g_pfm= prs=absent g_prs= uvf=absent g_uvf= vbe=n/a g_vbe= vbs=n/a g_vbs=\n",
        "word                 art   HA- \n",
        "383622 ps=NA nme=n/a g_nme= pfm=n/a g_pfm= prs=n/a g_prs= uvf=absent g_uvf= vbe=n/a g_vbe= vbs=n/a g_vbs=\n",
        "word                 subs  M.@QO80WM \n",
        "383623 ps=NA nme= g_nme=/ pfm=n/a g_pfm= prs=absent g_prs= uvf=absent g_uvf= vbe=n/a g_vbe= vbs=n/a g_vbs=\n",
        "clause                      \n",
        "clause_atom                 \n",
        "phrase                      \n",
        "phrase_atom                 \n",
        "word                 conj  >:ACE74R \n",
        "383624 ps=NA nme=n/a g_nme= pfm=n/a g_pfm= prs=n/a g_prs= uvf=absent g_uvf= vbe=n/a g_vbe= vbs=n/a g_vbs=\n",
        "phrase                      \n",
        "phrase_atom                 \n",
        "word                 verb  B.@XA80R:T.IJ \n",
        "383625 ps=p1 nme=absent g_nme= pfm=absent g_pfm= prs=absent g_prs= uvf=absent g_uvf= vbe=TJ g_vbe=[T.IJ vbs=absent g_vbs=\n",
        "clause                      \n",
        "clause_atom                 \n",
        "phrase                      \n",
        "phrase_atom                 \n",
        "word                 prep  L:- \n",
        "383626 ps=NA nme=n/a g_nme= pfm=n/a g_pfm= prs=absent g_prs= uvf=absent g_uvf= vbe=n/a g_vbe= vbs=n/a g_vbs=\n",
        "word                 verb  CAK.;71N \n",
        "383627 ps=unknown nme= g_nme=/ pfm= g_pfm=!! prs=absent g_prs= uvf=absent g_uvf= vbe= g_vbe=[ vbs=absent g_vbs=\n",
        "phrase                      \n",
        "phrase_atom                 \n",
        "word                 prep  >ET& \n",
        "383628 ps=NA nme=n/a g_nme= pfm=n/a g_pfm= prs=absent g_prs= uvf=absent g_uvf= vbe=n/a g_vbe= vbs=n/a g_vbs=\n",
        "word                 subs  C:MI73J \n",
        "383629 ps=NA nme= g_nme=/ pfm=n/a g_pfm= prs=J g_prs=+IJ uvf=absent g_uvf= vbe=n/a g_vbe= vbs=n/a g_vbs=\n",
        "phrase                      \n",
        "phrase_atom                 \n",
        "word                 advb  C@75M00 \n",
        "383630 ps=NA nme=n/a g_nme= pfm=n/a g_pfm= prs=n/a g_prs= uvf=absent g_uvf= vbe=n/a g_vbe= vbs=n/a g_vbs=\n"
       ]
      }
     ],
     "prompt_number": 10
    },
    {
     "cell_type": "heading",
     "level": 1,
     "metadata": {},
     "source": [
      "Print the results"
     ]
    },
    {
     "cell_type": "code",
     "collapsed": false,
     "input": [
      "text = ''.join('{}{}'.format(F.g_word_utf8.v(n), F.trailer_utf8.v(n)) for n in (words[mon] for mon in monad_list))\n",
      "print(text)\n",
      "for n in lookedup:\n",
      "    otype = F.otype.v(n)\n",
      "    rela = 'is' if otype == 'verse' else 'in' if otype in target_types else ''\n",
      "    ref_verse = n if otype == 'verse' else node_verse[n] if otype in target_types else None\n",
      "    if ref_verse != None:\n",
      "        passage = '{} {}:{}'.format(F.book.v(ref_verse), F.chapter.v(ref_verse), F.verse.v(ref_verse))\n",
      "    elif otype == 'book':\n",
      "        passage = '{}'.format(F.book.v(n))\n",
      "    elif otype == 'chapter':\n",
      "        passage = '{}'.format(F.chapter.v(n))    \n",
      "    print(\"{:<15} {:<2} {:<16} (node {})\".format(otype, rela, passage, n))"
     ],
     "language": "python",
     "metadata": {},
     "outputs": [
      {
       "output_type": "stream",
       "stream": "stdout",
       "text": [
        "\u05d6\u05b4\u05a5\u05d9\u05e3 \u05d5\u05b8\u05d8\u05b6\u0596\u05dc\u05b6\u05dd \u05d5\u05bc\u05d1\u05b0\u05e2\u05b8\u05dc\u05b9\u05bd\u05d5\u05ea\u05c3\n",
        "\n",
        "verse           is Josua 15:24      (node 1424158)\n",
        "half_verse      in Josua 15:24      (node 1385296)\n",
        "sentence        in Josua 15:24      (node 1143442)\n",
        "sentence_atom   in Josua 15:24      (node 1209643)\n",
        "clause          in Josua 15:24      (node 449142)\n",
        "clause_atom     in Josua 15:24      (node 537878)\n",
        "phrase          in Josua 15:24      (node 673702)\n",
        "phrase_atom     in Josua 15:24      (node 932213)\n"
       ]
      }
     ],
     "prompt_number": 28
    },
    {
     "cell_type": "code",
     "collapsed": false,
     "input": [],
     "language": "python",
     "metadata": {},
     "outputs": []
    }
   ],
   "metadata": {}
  }
 ]
}