{
 "cells": [
  {
   "cell_type": "markdown",
   "metadata": {},
   "source": [
    "<a href=\"http://laf-fabric.readthedocs.org/en/latest/\" target=\"_blank\"><img align=\"left\" src=\"images/laf-fabric-xsmall.png\"/></a>\n",
    "<a href=\"http://www.godgeleerdheid.vu.nl/etcbc\" target=\"_blank\"><img align=\"left\" src=\"images/VU-ETCBC-xsmall.png\"/></a>\n",
    "<a href=\"http://www.persistent-identifier.nl/?identifier=urn%3Anbn%3Anl%3Aui%3A13-048i-71\" target=\"_blank\"><img align=\"left\"src=\"images/etcbc4easy-small.png\"/></a>\n",
    "<a href=\"http://tla.mpi.nl\" target=\"_blank\"><img align=\"right\" src=\"images/TLA-xsmall.png\"/></a>\n",
    "<a href=\"http://www.dans.knaw.nl\" target=\"_blank\"><img align=\"right\"src=\"images/DANS-xsmall.png\"/></a>"
   ]
  },
  {
   "cell_type": "markdown",
   "metadata": {},
   "source": [
    "# Examining the tab and txt features\n",
    "\n",
    "``tab`` is defined for clause atoms, ``txt`` for ``clauses``.\n",
    "\n",
    "We want to see how their values hang together.\n",
    "\n",
    "We use an MQL query to get all clauses with their embedded clauses."
   ]
  },
  {
   "cell_type": "code",
   "execution_count": 1,
   "metadata": {
    "collapsed": false
   },
   "outputs": [
    {
     "name": "stderr",
     "output_type": "stream",
     "text": [
      "  0.00s This is LAF-Fabric 4.4.7\n",
      "API reference: http://laf-fabric.readthedocs.org/en/latest/texts/API-reference.html\n",
      "Feature doc: http://shebanq-doc.readthedocs.org/en/latest/texts/welcome.html\n",
      "\n"
     ]
    }
   ],
   "source": [
    "import sys\n",
    "import collections\n",
    "import subprocess\n",
    "\n",
    "from lxml import etree\n",
    "\n",
    "import laf\n",
    "from laf.fabric import LafFabric\n",
    "from etcbc.preprocess import prepare\n",
    "from etcbc.mql import MQL\n",
    "fabric = LafFabric()"
   ]
  },
  {
   "cell_type": "code",
   "execution_count": 2,
   "metadata": {
    "collapsed": false
   },
   "outputs": [
    {
     "name": "stderr",
     "output_type": "stream",
     "text": [
      "  0.00s LOADING API: please wait ... \n",
      "  0.00s DETAIL: COMPILING m: UP TO DATE\n",
      "  0.00s INFO: USING DATA COMPILED AT: 2014-07-23T09-31-37\n",
      "  0.00s DETAIL: COMPILING a: UP TO DATE\n",
      "  0.01s DETAIL: load main: G.node_anchor_min\n",
      "  0.09s DETAIL: load main: G.node_anchor_max\n",
      "  0.15s DETAIL: load main: G.node_sort\n",
      "  0.20s DETAIL: load main: G.node_sort_inv\n",
      "  0.63s DETAIL: load main: G.edges_from\n",
      "  0.69s DETAIL: load main: G.edges_to\n",
      "  0.77s DETAIL: load main: F.etcbc4_db_monads [node] \n",
      "  1.51s DETAIL: load main: F.etcbc4_db_oid [node] \n",
      "  2.20s DETAIL: load main: F.etcbc4_db_otype [node] \n",
      "  3.20s DETAIL: load main: F.etcbc4_ft_tab [node] \n",
      "  3.25s DETAIL: load main: F.etcbc4_ft_txt [node] \n",
      "  3.29s DETAIL: load main: F.etcbc4_sft_book [node] \n",
      "  3.30s DETAIL: load main: F.etcbc4_sft_chapter [node] \n",
      "  3.32s DETAIL: load main: F.etcbc4_sft_verse [node] \n",
      "  3.33s LOGFILE=/Users/dirk/SURFdrive/laf-fabric-output/etcbc4/tabtxt/__log__tabtxt.txt\n",
      "  3.33s DETAIL: prep prep: G.node_sort\n",
      "  3.40s DETAIL: prep prep: G.node_sort_inv\n",
      "  3.89s INFO: DATA LOADED FROM SOURCE etcbc4 AND ANNOX -- FOR TASK tabtxt AT 2015-04-17T12-35-37\n"
     ]
    }
   ],
   "source": [
    "API = fabric.load('etcbc4', '--', 'tabtxt', {\n",
    "    \"xmlids\": {\"node\": False, \"edge\": False},\n",
    "    \"features\": ('''\n",
    "        oid otype monads\n",
    "        tab txt \n",
    "        book chapter verse\n",
    "    ''','''\n",
    "    '''),\n",
    "    \"prepare\": prepare,\n",
    "}, verbose='DETAIL')\n",
    "exec(fabric.localnames.format(var='fabric'))\n",
    "Q = MQL(API)"
   ]
  },
  {
   "cell_type": "markdown",
   "metadata": {},
   "source": [
    "# Look up the clause(_atoms)"
   ]
  },
  {
   "cell_type": "code",
   "execution_count": 3,
   "metadata": {
    "collapsed": false
   },
   "outputs": [],
   "source": [
    "query = '''\n",
    "select all objects where\n",
    "[book [chapter [verse\n",
    "[clause\n",
    "    [clause_atom]\n",
    "]\n",
    "]]]\n",
    "'''\n",
    "sheaf = Q.mql(query)"
   ]
  },
  {
   "cell_type": "markdown",
   "metadata": {},
   "source": [
    "# Process the results"
   ]
  },
  {
   "cell_type": "code",
   "execution_count": 8,
   "metadata": {
    "collapsed": false
   },
   "outputs": [
    {
     "name": "stdout",
     "output_type": "stream",
     "text": [
      "max TXT = 7; max TAB = 29\n"
     ]
    }
   ],
   "source": [
    "outf = outfile('tabtxt.txt')\n",
    "maxtxt = 0\n",
    "maxtab = 0\n",
    "for ((bk, ((ch, ((vs, ((c, ((ca,),)),)),)),)),) in sheaf.results():\n",
    "    txt = F.txt.v(c)\n",
    "    tab = F.tab.v(ca)\n",
    "    ntxt = len(txt)\n",
    "    ntab = int(tab)\n",
    "    if ntxt > maxtxt: maxtxt = ntxt\n",
    "    if ntab > maxtab: maxtab = ntab\n",
    "    passage = '{:<20} {:>3}:{:>3}'.format(F.book.v(bk), F.chapter.v(ch), F.verse.v(vs))\n",
    "    outf.write('{:<28} {:>10}={:<10}\\n'.format(passage, txt, tab))\n",
    "outf.close()\n",
    "print('max TXT = {}; max TAB = {}'.format(maxtxt, maxtab))"
   ]
  },
  {
   "cell_type": "code",
   "execution_count": null,
   "metadata": {
    "collapsed": true
   },
   "outputs": [],
   "source": []
  }
 ],
 "metadata": {
  "kernelspec": {
   "display_name": "Python 3",
   "language": "python",
   "name": "python3"
  },
  "language_info": {
   "codemirror_mode": {
    "name": "ipython",
    "version": 3
   },
   "file_extension": ".py",
   "mimetype": "text/x-python",
   "name": "python",
   "nbconvert_exporter": "python",
   "pygments_lexer": "ipython3",
   "version": "3.4.2"
  }
 },
 "nbformat": 4,
 "nbformat_minor": 0
}
