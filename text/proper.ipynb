{
 "cells": [
  {
   "cell_type": "markdown",
   "metadata": {
    "deletable": true,
    "editable": true
   },
   "source": [
    "<a href=\"http://laf-fabric.readthedocs.org/en/latest/\" target=\"_blank\"><img align=\"left\" src=\"images/laf-fabric-xsmall.png\"/></a>\n",
    "<a href=\"http://www.godgeleerdheid.vu.nl/etcbc\" target=\"_blank\"><img align=\"left\" src=\"images/VU-ETCBC-xsmall.png\"/></a>\n",
    "<a href=\"http://www.persistent-identifier.nl/?identifier=urn%3Anbn%3Anl%3Aui%3A13-048i-71\" target=\"_blank\"><img align=\"left\"src=\"images/etcbc4easy-small.png\"/></a>\n",
    "<a href=\"http://tla.mpi.nl\" target=\"_blank\"><img align=\"right\" src=\"images/TLA-xsmall.png\"/></a>\n",
    "<a href=\"http://www.dans.knaw.nl\" target=\"_blank\"><img align=\"right\"src=\"images/DANS-xsmall.png\"/></a>"
   ]
  },
  {
   "cell_type": "markdown",
   "metadata": {
    "deletable": true,
    "editable": true
   },
   "source": [
    "# Proper"
   ]
  },
  {
   "cell_type": "markdown",
   "metadata": {
    "deletable": true,
    "editable": true
   },
   "source": [
    "A text visualization in which proper nouns and verbs are marked.\n",
    "\n",
    "The sentences, clauses and phrases are also marked.\n",
    "\n",
    "The visualization shows genre transitions to and from genealogies."
   ]
  },
  {
   "cell_type": "code",
   "execution_count": 2,
   "metadata": {
    "collapsed": false,
    "deletable": true,
    "editable": true
   },
   "outputs": [
    {
     "name": "stderr",
     "output_type": "stream",
     "text": [
      "  0.00s This is LAF-Fabric 4.3.3\n",
      "http://laf-fabric.readthedocs.org/en/latest/texts/API-reference.html\n"
     ]
    }
   ],
   "source": [
    "import sys\n",
    "import collections\n",
    "\n",
    "import matplotlib.pyplot as plt\n",
    "%matplotlib inline\n",
    "\n",
    "from laf.fabric import LafFabric\n",
    "fabric = LafFabric()"
   ]
  },
  {
   "cell_type": "code",
   "execution_count": 3,
   "metadata": {
    "collapsed": false,
    "deletable": true,
    "editable": true
   },
   "outputs": [
    {
     "name": "stderr",
     "output_type": "stream",
     "text": [
      "  0.00s LOADING API: please wait ... \n",
      "  0.00s INFO: USING DATA COMPILED AT: 2014-07-14T16-45-08\n",
      "  4.25s LOGFILE=/Users/dirk/laf-fabric-output/etcbc4/proper/__log__proper.txt\n",
      "  4.25s INFO: DATA LOADED FROM SOURCE etcbc4 AND ANNOX -- FOR TASK proper AT 2014-07-15T17-57-54\n"
     ]
    }
   ],
   "source": [
    "fabric.load('etcbc4', '--', 'proper', {\n",
    "    \"xmlids\": {\"node\": False, \"edge\": False},\n",
    "    \"features\": ('''\n",
    "        otype monads maxmonad minmonad\n",
    "        gn sp\n",
    "        label chapter book\n",
    "    ''',''),\n",
    "    \"primary\": False,\n",
    "})\n",
    "exec(fabric.localnames.format(var='fabric'))"
   ]
  },
  {
   "cell_type": "code",
   "execution_count": 4,
   "metadata": {
    "collapsed": true,
    "deletable": true,
    "editable": true
   },
   "outputs": [
    {
     "name": "stderr",
     "output_type": "stream",
     "text": [
      "Genesis    Exodus     Leviticus  Numeri     DeuteronomiumJosua      Judices    Samuel_I   Samuel_II  Reges_I    Reges_II   Jesaia     Jeremia    Ezechiel   Hosea      Joel       Amos       Obadia     Jona       Micha      Nahum      Habakuk    Zephania   Haggai     Sacharia   Maleachi   Psalmi     Iob        Proverbia  Ruth       Canticum   EcclesiastesThreni     Esther     Daniel     Esra       Nehemia    Chronica_I Chronica_II 4m 29s Results directory:\n",
      "/Users/dirk/laf-fabric-output/etcbc4/proper\n",
      "\n",
      "__log__proper.txt                       205 Tue Jul 15 20:02:23 2014\n",
      "properviz.txt                       3166173 Tue Jul 15 20:02:23 2014\n"
     ]
    }
   ],
   "source": [
    "out = outfile(\"properviz.txt\")\n",
    "\n",
    "type_map = collections.defaultdict(lambda: None, [\n",
    "    (\"chapter\", 'Ch'),\n",
    "    (\"verse\", 'V'),\n",
    "    (\"sentence\", 'S'),\n",
    "    (\"clause\", 'C'),\n",
    "    (\"phrase\", 'P'),\n",
    "    (\"word\", 'w'),\n",
    "])\n",
    "otypes = ['Ch', 'V', 'S', 'C', 'P', 'w']\n",
    "watch = collections.defaultdict(lambda: {})\n",
    "start = {}\n",
    "cur_verse_label = ['','']\n",
    "\n",
    "def print_node(ob, obdata):\n",
    "    (node, minm, maxm, monads) = obdata\n",
    "    if ob == \"w\":\n",
    "        if not watch:\n",
    "            out.write(\"◘\".format(monads))\n",
    "        else:\n",
    "            outchar = \"─\"\n",
    "            p_o_s = F.sp.v(node)\n",
    "            if p_o_s == \"nmpr\":\n",
    "                if F.gn.v(node) == \"m\": outchar = \"♂\"\n",
    "                elif F.gn.v(node) == \"f\": outchar = \"♀\"\n",
    "                elif F.gn.v(node) == \"unknown\": outchar = \"⊙\"\n",
    "            elif p_o_s == \"verb\":\n",
    "                outchar = \"♠\"\n",
    "            out.write(outchar)\n",
    "        if monads in watch:\n",
    "            tofinish = watch[monads]\n",
    "            for o in reversed(otypes):\n",
    "                if o in tofinish:\n",
    "                    if o == 'C':\n",
    "                        out.write(\"┤\")\n",
    "                    elif o == 'P':\n",
    "                        if 'C' not in tofinish:\n",
    "                            out.write(\"┼\")\n",
    "                    elif o != 'S':\n",
    "                        out.write(\"{}»\".format(o))\n",
    "            del watch[monads]\n",
    "    elif ob == \"Ch\":\n",
    "        this_chapter_label = \"{} {}\".format(F.book.v(node), F.chapter.v(node))\n",
    "    elif ob == \"V\":\n",
    "        this_verse_label = F.label.v(node).strip(\" \")\n",
    "        cur_verse_label[0] = this_verse_label\n",
    "        cur_verse_label[1] = this_verse_label\n",
    "    elif ob == \"S\":\n",
    "        out.write(\"\\n{:<11} \".format(cur_verse_label[1]))\n",
    "        cur_verse_label[1] = ''\n",
    "        watch[maxm][ob] = None\n",
    "    elif ob == \"C\":\n",
    "        out.write(\"├\")\n",
    "        watch[maxm][ob] = None\n",
    "    elif ob == \"P\":\n",
    "        watch[maxm][ob] = None\n",
    "    else:\n",
    "        out.write(\"«{}\".format(ob))\n",
    "        watch[maxm][ob] = None\n",
    "\n",
    "lastmin = None\n",
    "lastmax = None\n",
    "\n",
    "for i in NN():\n",
    "    otype = F.otype.v(i)\n",
    "    if otype == 'book':\n",
    "        sys.stderr.write(\"{:<11}\".format(F.book.v(i)))\n",
    "    \n",
    "    ob = type_map[otype]\n",
    "    if ob == None:\n",
    "        continue\n",
    "    monads = F.monads.v(i)\n",
    "    minm = F.minmonad.v(i)\n",
    "    maxm = F.maxmonad.v(i)\n",
    "    if lastmin == minm and lastmax == maxm:\n",
    "        start[ob] = (i, minm, maxm, monads)\n",
    "    else:\n",
    "        for o in otypes:\n",
    "            if o in start:\n",
    "                print_node(o, start[o])\n",
    "        start = {ob: (i, minm, maxm, monads)}\n",
    "        lastmin = minm\n",
    "        lastmax = maxm\n",
    "for ob in otypes:\n",
    "    if ob in start:\n",
    "        print_node(ob, start[ob])\n",
    "\n",
    "close()"
   ]
  },
  {
   "cell_type": "code",
   "execution_count": 5,
   "metadata": {
    "collapsed": false,
    "deletable": true,
    "editable": true
   },
   "outputs": [
    {
     "name": "stdout",
     "output_type": "stream",
     "text": [
      "            ├─┼♠┼─┤\n",
      "            ├─┼♠┼─┼─┤\n",
      "EXO 05,11   ├─┤├♠┤\n",
      "            ├♠┼─┼─┤├──┼♠┤\n",
      "            ├─┼─┼♠┼──┼─┤\n",
      "EXO 05,12   ├─┼♠┼──┼───⊙┤├─♠┼─┼──┤◘\n",
      "EXO 05,13   ├─┼─♠┼♠┤├─♠┤\n",
      "            ├♠┼─┼──┼──┤├──┼─♠┼──┤\n",
      "EXO 05,14   ├─┼♠┼♠─⊙┤├─┼♠┼─┼♠─┤├─♠┤\n",
      "            ├─┼─┼♠┼─┼├─♠┼───┤─────┤\n",
      "EXO 05,15   ├─┼♠┼♠─⊙┤\n",
      "            ├─┼♠┼──┤├─♠┤\n",
      "            ├─┼♠┼─┼──┤\n",
      "EXO 05,16   ├─┼─┼♠┼──┤\n",
      "            ├─┼─┼\n",
      "            ├♠┼─┤♠┤\n",
      "            ├─┼─┼─┼♠┤\n",
      "            ├─┼♠┼─┤\n",
      "EXO 05,17   ├─┼♠┤\n",
      "            ├♠┼─┤├♠┤\n",
      "            ├──┼─┼♠┤\n",
      "            ├♠┤\n",
      "            ├♠┼─♂┤\n",
      "EXO 05,18   ├─┼─┤\n",
      "            ├♠┤\n",
      "            ├♠┤\n",
      "            ├─┼─┼─┼♠┼─┤\n",
      "            ├─┼──┼♠┤\n",
      "EXO 05,19   ├─┼♠┼♠─⊙┼─┼──┤├─♠┤\n",
      "            ├─┼♠┼──┼──┼──┤\n",
      "EXO 05,20   ├─┼♠┼─♂──♂┤├♠┤├─♠┤├─♠┼───┤\n",
      "EXO 05,21   ├─┼♠┼─┤\n",
      "            ├♠┼♂┼─┤\n",
      "            ├─┼♠┤├─┼♠┼──┼───────┤├─♠┼─┼──┤├─♠┤\n",
      "EXO 05,22   ├─┼♠┼♂┼─♂┤\n",
      "            ├─┼♠┤\n",
      "            ├♂┤├─┼♠┼─────┤\n",
      "            ├──┼♠┤\n",
      "EXO 05,23   ├─┼──┼♠┼──┤├─♠┼──┤\n",
      "            ├♠┼─────┤\n",
      "            ├─┼♠┼─┼♠┼──┤\n",
      "EXO 06,01   ├─┼♠┼♂┼─♂┤\n",
      "            ├─┼♠┤├─┼♠┼──┤\n",
      "            ├─┼───┼♠┤\n",
      "            ├─┼───┼♠┼──┤\n",
      "EXO 06,02   ├─┼♠┼─┼─♂┤\n",
      "            ├─┼♠┼─┤\n",
      "            ├─┼♂┤\n",
      "EXO 06,03   ├─┼♠┼─♂─♂──♂┼──♂┤\n",
      "            ├─┼─♂┤├─┼♠┼─┤\n",
      "EXO 06,04   ├─┼─┼♠┼──┼─┤├─♠┼─┼──⊙───┤├─┼♠┼─┤\n",
      "EXO 06,05   ├─┼──┼♠┼───⊙┤├─┼⊙┼♠┼─┤\n",
      "            ├─┼♠┼──┤\n",
      "EXO 06,06   ├─┤\n",
      "            ├♠┼──⊙┤\n",
      "            ├─┼♂┤\n",
      "            ├─┼♠┼─┼───⊙┤\n",
      "            ├─┼♠┼─┼──┤\n",
      "            ├─┼♠┼─┼──♠────┤\n",
      "EXO 06,07   ├─┼♠┼─┼─┼──┤\n",
      "            ├─┼♠┼─┼──┤\n",
      "            ├─┼♠┤├─┼─┼♂─┤├─┼♠┼─┼───⊙┤\n",
      "EXO 06,08   ├─┼♠┼─┼───┤├─┼♠┼──┤├─♠┼─┼─♂─♂──♂┤\n",
      "            ├─┼♠┼─┼─┼─┤\n",
      "            ├─┼♂┤\n",
      "EXO 06,09   ├─┼♠┼♂┼─┼──⊙┤\n",
      "            ├─┼─┼♠┼─♂┼───────┤\n",
      "EXO 06,10   ├─┼♠┼♂┼─♂┤├─♠┤\n",
      "EXO 06,11   ├♠┤\n",
      "            ├♠┼───⊙┤\n",
      "            ├─┼♠┼──⊙┼──┤\n",
      "EXO 06,12   ├─┼♠┼♂┼──♂┤├─♠┤\n",
      "            ├─┤\n",
      "            ├─⊙┼─┼♠┼─┤\n",
      "            ├─┼─┼♠┼─┤\n",
      "            ├─┼─┼──┤\n",
      "EXO 06,13   ├─┼♠┼♂┼─♂──♂┤\n",
      "            ├─┼♠┼──⊙────⊙┤├─♠┼──⊙┼──⊙┤\n",
      "EXO 06,14   ├─┼───┤\n",
      "            ├─⊙─⊙┼♂─♂♂─♂┤\n",
      "            ├─┼─⊙┤\n",
      "EXO 06,15   ├─┼─⊙┼♂─♂─♂─♂─♂─♂───┤\n",
      "            ├─┼─⊙┤\n",
      "EXO 06,16   ├─┼─┼──⊙┼──┤\n",
      "            ├♂─♂─♂┤\n",
      "            ├─┼──⊙┼──────┤\n",
      "EXO 06,17   ├─♂┼♂─♂┼──┤\n",
      "EXO 06,18   ├─┼─♂┼♂─♂─♂─♂┤\n",
      "            ├─┼──♂┼──────┤\n",
      "EXO 06,19   ├─┼─♂┼♂─♂┤\n",
      "            ├─┼───┼──┤\n",
      "EXO 06,20   ├─┼♠┼♂┼─♀─┼─┼──┤\n",
      "            ├─┼♠┼─┼─♂──♂┤\n",
      "            ├─┼──♂┼──────┤\n",
      "EXO 06,21   ├─┼─♂┼♂─♂─♂┤\n",
      "EXO 06,22   ├─┼─♂┼♂─♂─♂┤\n",
      "EXO 06,23   ├─┼♠┼♂┼─♀─♂─♂┼─┼──┤\n",
      "            ├─┼♠┼─┼─♂──♂─♂──♂┤\n",
      "EXO 06,24   ├─┼─♂┼♂─♂─♂┤\n",
      "            ├─┼───┤\n",
      "\n"
     ]
    }
   ],
   "source": [
    "viz = infile('properviz.txt')\n",
    "lines = viz.readlines()\n",
    "print(''.join(lines[5021:5121]))"
   ]
  },
  {
   "cell_type": "markdown",
   "metadata": {
    "deletable": true,
    "editable": true
   },
   "source": [
    "Let us plot the proper noun density per chapter.\n",
    "First we put the chapters, proper noun frequencies and verb frequencies in corresponding lists ``ch``, ``p``, and ``v``."
   ]
  },
  {
   "cell_type": "code",
   "execution_count": 6,
   "metadata": {
    "collapsed": false,
    "deletable": true,
    "editable": true
   },
   "outputs": [],
   "source": [
    "book = None\n",
    "chapter = None\n",
    "words = 0\n",
    "proper = 0\n",
    "verb = 0\n",
    "ch = []\n",
    "p = []\n",
    "v = []\n",
    "\n",
    "for node in NN(test=F.otype.v, values=['word', 'chapter', 'book']):\n",
    "    otype = F.otype.v(node)\n",
    "    if otype == 'book':\n",
    "        book = F.book.v(node)\n",
    "    elif otype == 'chapter':\n",
    "        if chapter != None:\n",
    "            p.append(100 * float(proper)/words if words else 0)\n",
    "            v.append(100 * float(verb)/words if words else 0)\n",
    "            ch.append(cur_chapter)\n",
    "        chapter = F.chapter.v(node)\n",
    "        cur_chapter = \"{} {}\".format(book, chapter)\n",
    "        verb = 0\n",
    "        proper = 0\n",
    "        words = 0\n",
    "    else:\n",
    "        words += 1\n",
    "        if F.sp.v(node) == 'nmpr':\n",
    "            proper += 1\n",
    "        if F.sp.v(node) == 'verb':\n",
    "            verb += 1\n",
    "if chapter != None:\n",
    "    ch.append(cur_chapter)\n",
    "    p.append(100 * float(proper)/words if words else 0)\n",
    "    v.append(100 * float(verb)/words if words else 0)"
   ]
  },
  {
   "cell_type": "markdown",
   "metadata": {
    "deletable": true,
    "editable": true
   },
   "source": [
    "Then we plot the ``p`` and ``v`` series against the ``ch`` series."
   ]
  },
  {
   "cell_type": "code",
   "execution_count": 7,
   "metadata": {
    "collapsed": false,
    "deletable": true,
    "editable": true
   },
   "outputs": [
    {
     "data": {
      "image/png": "[encoded data removed]",
      "text/plain": [
       "<matplotlib.figure.Figure at 0x15878a390>"
      ]
     },
     "metadata": {},
     "output_type": "display_data"
    }
   ],
   "source": [
    "x = range(len(ch))\n",
    "start = 50\n",
    "end = 70\n",
    "fig = plt.figure()\n",
    "plt.plot(x[start:end], p[start:end], 'b-', x[start:end], v[start:end], 'r-')\n",
    "plt.axis([start, end, 0, 50])\n",
    "plt.xticks(x[start:end], ch[start:end], rotation='vertical')\n",
    "plt.margins(0.2)\n",
    "plt.subplots_adjust(bottom=0.15);\n",
    "plt.title('proper');"
   ]
  },
  {
   "cell_type": "code",
   "execution_count": null,
   "metadata": {
    "collapsed": false,
    "deletable": true,
    "editable": true
   },
   "outputs": [],
   "source": []
  }
 ],
 "metadata": {
  "kernelspec": {
   "display_name": "Python 3",
   "language": "python",
   "name": "python3"
  },
  "language_info": {
   "codemirror_mode": {
    "name": "ipython",
    "version": 3
   },
   "file_extension": ".py",
   "mimetype": "text/x-python",
   "name": "python",
   "nbconvert_exporter": "python",
   "pygments_lexer": "ipython3",
   "version": "3.6.0"
  }
 },
 "nbformat": 4,
 "nbformat_minor": 0
}
