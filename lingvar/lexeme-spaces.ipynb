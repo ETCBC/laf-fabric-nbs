{
 "cells": [
  {
   "cell_type": "markdown",
   "metadata": {},
   "source": [
    "<a href=\"http://laf-fabric.readthedocs.org/en/latest/\" target=\"_blank\"><img align=\"left\" src=\"images/laf-fabric-xsmall.png\"/></a>\n",
    "<a href=\"http://www.godgeleerdheid.vu.nl/etcbc\" target=\"_blank\"><img align=\"left\" src=\"images/VU-ETCBC-xsmall.png\"/></a>\n",
    "<a href=\"http://www.persistent-identifier.nl/?identifier=urn%3Anbn%3Anl%3Aui%3A13-048i-71\" target=\"_blank\"><img align=\"left\"src=\"images/etcbc4easy-small.png\"/></a>\n",
    "<a href=\"http://tla.mpi.nl\" target=\"_blank\"><img align=\"right\" src=\"images/TLA-xsmall.png\"/></a>\n",
    "<a href=\"http://www.dans.knaw.nl\" target=\"_blank\"><img align=\"right\"src=\"images/DANS-xsmall.png\"/></a>"
   ]
  },
  {
   "cell_type": "markdown",
   "metadata": {},
   "source": [
    "# Lexeme spaces"
   ]
  },
  {
   "cell_type": "markdown",
   "metadata": {},
   "source": [
    "# Research Question"
   ]
  },
  {
   "cell_type": "markdown",
   "metadata": {},
   "source": [
    "Following an idea of Martijn Naaijer:\n",
    "\n",
    "In order to research characteristics that separate early biblical Hebrew from late biblical Hebrew and even the intermediate stages, we need to count lexemes in a sophisticated way.\n",
    "\n",
    "The problem is that there are books with many different lexemes and books with fewer lexemes. If we compare them in a straightforward manner, it is not obvious whether we can ascribe the differences to language variation over time or to genre or just random fluctuation, or even the mere size of the book.\n",
    "\n",
    "We need to get more grip on the potential lexeme choice for each book."
   ]
  },
  {
   "cell_type": "markdown",
   "metadata": {},
   "source": [
    "## Scope of a lexeme\n",
    "\n",
    "We approximate the *potential lexeme choice* by investigating *lexeme spaces*.\n",
    "\n",
    "For each lexeme we count as follows:\n",
    "\n",
    "The *lexeme scope* of a lexeme is the sum of the lengths (in words) of the books in which lexeme occur.\n",
    "\n",
    "## Lexeme profile of a book\n",
    "\n",
    "Now for each book in the bible, plot its lexemes as a cloud of points \n",
    "where the $x$-axis corresponds to the lexeme scope and the $y$-axis to the number of lexemes in that book for each scope.\n",
    "\n",
    "For convenience, we divide the lexeme scopes on the $x$-axis in intervals, called *buckets*.\n",
    "and then the $y$-values are the number of lexemes in the book whose scope is within the buckets in question.\n",
    "We also group the $y$ values together, we call them the *n-ranges*.\n",
    "\n",
    "So, on the $x$-axis we have buckets of lexeme scopes, and on the $y$-axis we have *n-ranges*,\n",
    "such that if a point links a bucket $b$ to an n-range $n$, the number of lexemes in $b$ is within $n$.\n",
    "\n",
    "We generate several book profiles, based on various subsets of lexemes and with different interval settings.\n",
    "\n",
    "## Subsets of lexemes\n",
    "\n",
    "We work with the following subsets of lexemes:\n",
    "\n",
    "* ``all``: all lexemes\n",
    "* ``c``: all lexemes except proper nouns\n",
    "* ``nva``: only nouns, verbs and adjectives, no proper nouns\n",
    "\n",
    "We work with two kinds of intervals: *linear* and *logarithmic*.\n",
    "\n",
    "The linear intervals are specified by two numbers: the *bucket size* ``B`` and the *n-range size* ``N``.\n",
    "A nice graph is obtained by taking ``B`` $= 10000$ and ``N`` $=10$.\n",
    "So we group lexeme scopes in intervals of 10000 and we group the numbers of lexemes in groups of 10.\n",
    "\n",
    "Logarithmic intervals start small and increase exponentially: \n",
    "take the number of bits used to represent a number instead of that number itself.\n",
    "So the logaritmic scale goes as follows:\n",
    "\n",
    "    0 1 2-3 4-7 8-15 16-31 32-63 64-127 128-255 256-511 512-1023 etc\n",
    "   \n",
    "We do this both horizontally and vertically.\n",
    "\n",
    "# Tasks\n",
    "\n",
    "We generate sets of book profiles for all the books, directed by the ``TASKS`` variable below.\n",
    "It specifies the interval method (*linear* or *logarithmic*) and if linear, it specifies the interval size for buckets and for n-ranges.\n",
    "\n",
    "All tasks are run separately for all possible lexeme subsets."
   ]
  },
  {
   "cell_type": "code",
   "execution_count": 1,
   "metadata": {
    "collapsed": false
   },
   "outputs": [],
   "source": [
    "TASKS = (\n",
    "    ('log',),\n",
    "    ('linear', 10000, 10),\n",
    "    ('linear', 5000, 5),\n",
    "    ('linear', 2500, 1),\n",
    ")"
   ]
  },
  {
   "cell_type": "markdown",
   "metadata": {},
   "source": [
    "# Fire up"
   ]
  },
  {
   "cell_type": "code",
   "execution_count": 2,
   "metadata": {
    "collapsed": false
   },
   "outputs": [
    {
     "name": "stderr",
     "output_type": "stream",
     "text": [
      "  0.00s This is LAF-Fabric 4.4.6\n",
      "API reference: http://laf-fabric.readthedocs.org/en/latest/texts/API-reference.html\n",
      "Feature doc: http://shebanq-doc.readthedocs.org/en/latest/texts/welcome.html\n",
      "\n"
     ]
    }
   ],
   "source": [
    "import sys\n",
    "import collections\n",
    "import matplotlib.pyplot as plt\n",
    "from laf.fabric import LafFabric\n",
    "fabric = LafFabric()"
   ]
  },
  {
   "cell_type": "code",
   "execution_count": 3,
   "metadata": {
    "collapsed": false
   },
   "outputs": [
    {
     "name": "stderr",
     "output_type": "stream",
     "text": [
      "  0.00s LOADING API: please wait ... \n",
      "  0.00s INFO: USING DATA COMPILED AT: 2014-07-23T09-31-37\n",
      "  2.51s LOGFILE=/Users/dirk/Dropbox/laf-fabric-output/etcbc4/lexemes/__log__lexemes.txt\n",
      "  2.51s INFO: DATA LOADED FROM SOURCE etcbc4 AND ANNOX -- FOR TASK lexemes AT 2014-10-30T15-08-48\n"
     ]
    }
   ],
   "source": [
    "fabric.load('etcbc4', '--', 'lexemes', {\n",
    "    'xmlids': {'node': False, 'edge': False},\n",
    "    'features': ('''otype g_word language sp lex book chapter''', ''),\n",
    "})\n",
    "exec(fabric.localnames.format(var='fabric'))"
   ]
  },
  {
   "cell_type": "markdown",
   "metadata": {},
   "source": [
    "# Compute\n",
    "## Lexemes\n",
    "Compute the set of lexemes contained in every book."
   ]
  },
  {
   "cell_type": "code",
   "execution_count": 5,
   "metadata": {
    "collapsed": false
   },
   "outputs": [
    {
     "name": "stderr",
     "output_type": "stream",
     "text": [
      " 2m 30s Fetching lexemes\n",
      " 2m 34s 3 lexemes\n"
     ]
    },
    {
     "name": "stdout",
     "output_type": "stream",
     "text": [
      "Jeremia         has 29735 words of which 19 Aramaic\n",
      "Genesis         has 28756 words of which 2 Aramaic\n",
      "Ezechiel        has 26180 words of which 0 Aramaic\n",
      "Psalmi          has 25371 words of which 2 Aramaic\n",
      "Exodus          has 23748 words of which 0 Aramaic\n",
      "Numeri          has 23186 words of which 0 Aramaic\n",
      "Jesaia          has 22934 words of which 0 Aramaic\n",
      "Deuteronomium   has 20127 words of which 0 Aramaic\n",
      "Chronica_II     has 19760 words of which 0 Aramaic\n",
      "Samuel_I        has 18926 words of which 0 Aramaic\n",
      "Reges_I         has 18684 words of which 0 Aramaic\n",
      "Reges_II        has 17305 words of which 0 Aramaic\n",
      "Leviticus       has 17099 words of which 0 Aramaic\n",
      "Samuel_II       has 15612 words of which 0 Aramaic\n",
      "Chronica_I      has 15561 words of which 0 Aramaic\n",
      "Josua           has 14523 words of which 0 Aramaic\n",
      "Judices         has 14084 words of which 0 Aramaic\n",
      "Iob             has 10912 words of which 0 Aramaic\n",
      "Proverbia       has  8859 words of which 0 Aramaic\n",
      "Daniel          has  8071 words of which 4560 Aramaic\n",
      "Nehemia         has  7842 words of which 0 Aramaic\n",
      "Esra            has  5268 words of which 1523 Aramaic\n",
      "Esther          has  4621 words of which 0 Aramaic\n",
      "Sacharia        has  4469 words of which 0 Aramaic\n",
      "Ecclesiastes    has  4233 words of which 0 Aramaic\n",
      "Hosea           has  3146 words of which 0 Aramaic\n",
      "Amos            has  2780 words of which 0 Aramaic\n",
      "Threni          has  1945 words of which 0 Aramaic\n",
      "Micha           has  1895 words of which 0 Aramaic\n",
      "Ruth            has  1802 words of which 0 Aramaic\n",
      "Canticum        has  1682 words of which 0 Aramaic\n",
      "Joel            has  1318 words of which 0 Aramaic\n",
      "Maleachi        has  1187 words of which 0 Aramaic\n",
      "Zephania        has  1037 words of which 0 Aramaic\n",
      "Jona            has   985 words of which 0 Aramaic\n",
      "Habakuk         has   897 words of which 0 Aramaic\n",
      "Haggai          has   877 words of which 0 Aramaic\n",
      "Nahum           has   746 words of which 0 Aramaic\n",
      "Obadia          has   392 words of which 0 Aramaic\n"
     ]
    }
   ],
   "source": [
    "msg('Fetching lexemes')\n",
    "sources = {'all', 'c', 'nva'}\n",
    "cur_book = None\n",
    "book_sizes = collections.Counter()\n",
    "book_sizes_aram = collections.Counter()\n",
    "lexeme_books = collections.defaultdict(lambda: collections.defaultdict(lambda: set()))\n",
    "for n in NN():\n",
    "    otype = F.otype.v(n)\n",
    "    if otype == 'book':\n",
    "        cur_book = F.book.v(n)\n",
    "        continue\n",
    "    if otype != 'word': continue\n",
    "    lex = F.lex.v(n)\n",
    "    lan = F.language.v(n)\n",
    "    sp = F.sp.v(n)\n",
    "    book_sizes[cur_book] += 1\n",
    "    if lan == 'Aramaic':\n",
    "        book_sizes_aram[cur_book] += 1\n",
    "    if True: lexeme_books['all'][lex].add(cur_book)\n",
    "    if sp != 'nmpr': lexeme_books['c'][lex].add(cur_book)\n",
    "    if sp == 'verb' or sp == 'subs' or sp == 'adjv': lexeme_books['nva'][lex].add(cur_book)\n",
    "\n",
    "msg('{} lexemes'.format(len(lexeme_books)))\n",
    "for (book, size) in sorted(book_sizes.items(), key=lambda x:(-x[1], x[0])):\n",
    "    print('{:<15} has {:>5} words of which {:>} Aramaic'.format(book, size, book_sizes_aram[book]))"
   ]
  },
  {
   "cell_type": "code",
   "execution_count": 8,
   "metadata": {
    "collapsed": false
   },
   "outputs": [
    {
     "name": "stdout",
     "output_type": "stream",
     "text": [
      "1\tGenesis\t28756\n",
      "2\tExodus\t23748\n",
      "3\tLeviticus\t17099\n",
      "4\tNumeri\t23186\n",
      "5\tDeuteronomium\t20127\n",
      "6\tJosua\t14523\n",
      "7\tJudices\t14084\n",
      "8\tSamuel_I\t18926\n",
      "9\tSamuel_II\t15612\n",
      "10\tReges_I\t18684\n",
      "11\tReges_II\t17305\n",
      "12\tJesaia\t22934\n",
      "13\tJeremia\t29735\n",
      "14\tEzechiel\t26180\n",
      "15\tHosea\t3146\n",
      "16\tJoel\t1318\n",
      "17\tAmos\t2780\n",
      "18\tObadia\t392\n",
      "19\tJona\t985\n",
      "20\tMicha\t1895\n",
      "21\tNahum\t746\n",
      "22\tHabakuk\t897\n",
      "23\tZephania\t1037\n",
      "24\tHaggai\t877\n",
      "25\tSacharia\t4469\n",
      "26\tMaleachi\t1187\n",
      "27\tPsalmi\t25371\n",
      "28\tIob\t10912\n",
      "29\tProverbia\t8859\n",
      "30\tRuth\t1802\n",
      "31\tCanticum\t1682\n",
      "32\tEcclesiastes\t4233\n",
      "33\tThreni\t1945\n",
      "34\tEsther\t4621\n",
      "35\tDaniel\t8071\n",
      "36\tEsra\t5268\n",
      "37\tNehemia\t7842\n",
      "38\tChronica_I\t15561\n",
      "39\tChronica_II\t19760\n"
     ]
    }
   ],
   "source": [
    "b = 0\n",
    "for n in NN():\n",
    "    if F.otype.v(n) == 'book':\n",
    "        b +=1\n",
    "        book = F.book.v(n)\n",
    "        print('{}\\t{}\\t{}'.format(b, book, book_sizes[book]))"
   ]
  },
  {
   "cell_type": "markdown",
   "metadata": {},
   "source": [
    "## Language use\n",
    "As an aside we\n",
    "visualize the Aramaic language use versus the Hebrew language use."
   ]
  },
  {
   "cell_type": "code",
   "execution_count": 5,
   "metadata": {
    "collapsed": false
   },
   "outputs": [
    {
     "name": "stderr",
     "output_type": "stream",
     "text": [
      "    12s \n",
      "Showing the Aramaic:\n",
      "'_' is 100 Hebrew  words (or less but at least 1),\n",
      "'-' is 20 Aramaic words (or less but at least 1)\n"
     ]
    },
    {
     "name": "stdout",
     "output_type": "stream",
     "text": [
      "Genesis\n",
      "_____________________________________________________________________________________________________________________________________________________________________________-___________________________________________________________________________________________________________________\n",
      "Jeremia\n",
      "___________________________________________________-_______________________________________________________________________________________________________________________________________________________________________________________________________________________________________________________\n",
      "Psalmi\n",
      "____________________________________________________________________________________________________________________________________________________________________________________________________________-___________________________________________________\n",
      "Daniel\n",
      "______------------------------------------------------------------------------------------------------------------------------------------------------------------------------------------------------------------------------------------______________________________\n",
      "Esra\n",
      "________________------------------------------------------------------------___-----------------____________________\n"
     ]
    }
   ],
   "source": [
    "rep = {'heb': '_', 'arm': '-'}\n",
    "repi = dict((y,x) for (x,y) in rep.items())\n",
    "repo = dict((y, 'heb' if x == 'arm' else 'arm') for (x,y) in rep.items())\n",
    "condense = {'heb': 100, 'arm': 20}\n",
    "\n",
    "def distil(words):\n",
    "    n = {'heb': 0, 'arm': 0}\n",
    "    \n",
    "    def inc(this_lan, that_lan, passive=False):\n",
    "        if n[that_lan]:\n",
    "            n[that_lan] = 0\n",
    "            yield rep[that_lan]\n",
    "        if not passive:\n",
    "            n[this_lan] += 1\n",
    "            if n[this_lan] == condense[this_lan]:\n",
    "                n[this_lan] = 0\n",
    "                yield rep[this_lan]\n",
    "    for w in words:\n",
    "        for y in inc(repi[w], repo[w]): yield y\n",
    "    for y in inc('arm', 'heb', passive=True): yield y\n",
    "    for y in inc('heb', 'arm', passive=True): yield y\n",
    "        \n",
    "msg('''\n",
    "Showing the Aramaic:\n",
    "'{}' is {} Hebrew  word{} (or less but at least 1),\n",
    "'{}' is {} Aramaic word{} (or less but at least 1)'''.format(\n",
    "    rep['heb'], condense['heb'], '' if condense['heb'] == 1 else 's', \n",
    "    rep['arm'], condense['arm'], '' if condense['arm'] == 1 else 's',\n",
    "))\n",
    "skipping = True\n",
    "words = []\n",
    "for n in NN():\n",
    "    otype = F.otype.v(n)\n",
    "    if otype == 'book':\n",
    "        if words:\n",
    "            print(''.join(distil(words)))\n",
    "            words = []\n",
    "        cur_book = F.book.v(n)\n",
    "        skipping = book_sizes_aram[cur_book] == 0\n",
    "        if not skipping:\n",
    "            print(cur_book)\n",
    "        continue\n",
    "    if skipping or otype != 'word': continue\n",
    "    words.append(rep['arm'] if F.language.v(n) == 'Aramaic' else rep['heb'])"
   ]
  },
  {
   "cell_type": "markdown",
   "metadata": {},
   "source": [
    "## Scopes and profiles\n",
    "Compile the scopes of all lexemes and then the profiles of lexical scopes for each book.\n",
    "\n",
    "Make buckets of scopes, in a logaritmic scale, and bucketize the book profiles."
   ]
  },
  {
   "cell_type": "code",
   "execution_count": 12,
   "metadata": {
    "collapsed": true
   },
   "outputs": [],
   "source": [
    "hdash = '─'\n",
    "vdash = '│'\n",
    "\n",
    "def make_profiles(source):\n",
    "    book_profile = collections.defaultdict(lambda: collections.Counter())\n",
    "    lexeme_bookss = lexeme_books[source]\n",
    "\n",
    "    lexeme_scope = {}\n",
    "    for lex in lexeme_bookss:\n",
    "        lexeme_scope[lex] = sum(book_sizes[book] for book in lexeme_bookss[lex])\n",
    "\n",
    "    scope_file = outfile('scopes_{}.csv'.format(source))\n",
    "    for ls in sorted(lexeme_scope.items(), key=lambda x: (-x[1], x[0])):\n",
    "        scope_file.write('\"{}\";{}\\n'.format(*ls))\n",
    "    scope_file.close()\n",
    "\n",
    "    for lex in lexeme_bookss:\n",
    "        for book in lexeme_bookss[lex]:\n",
    "            book_profile[book][lexeme_scope[lex]] += 1\n",
    "\n",
    "    book_file = outfile('profiles_{}.csv'.format(source))\n",
    "    for book in sorted(book_profile):\n",
    "        book_file.write('\"{}\"\\n'.format(book))\n",
    "        for scope in sorted(book_profile[book]):\n",
    "            book_file.write('{};{}\\n'.format(scope, book_profile[book][scope]))\n",
    "    book_file.close()\n",
    "\n",
    "    return book_profile\n",
    "\n",
    "def bucketize(data, method, params=()):\n",
    "    if method == 'log':\n",
    "        buckets_proto = collections.Counter()\n",
    "        buckets = collections.Counter()\n",
    "        for (scope, n) in data.items(): buckets_proto[int.bit_length(scope)] += n\n",
    "        buckets = dict((b, int.bit_length(n)) for (b, n) in buckets_proto.items())\n",
    "        return (buckets, max(buckets.keys()), max(buckets.values()))\n",
    "    if method == 'linear':\n",
    "        (B_LINEAR, N_LINEAR) = params\n",
    "        buckets_proto = collections.Counter()\n",
    "        buckets = collections.Counter()\n",
    "        for (scope, n) in data.items(): buckets_proto[int(scope // B_LINEAR)] += n\n",
    "        buckets = dict((b, n // N_LINEAR) for (b, n) in buckets_proto.items())\n",
    "        return (buckets, max(buckets.keys()), max(buckets.values()))\n",
    "\n",
    "def show_buckets(buckets, book, maxb, maxn):\n",
    "    bucket_rows = collections.defaultdict(lambda: set())\n",
    "    for (b, n) in buckets.items(): bucket_rows[n].add(b)\n",
    "    lines = []\n",
    "    lines.append('{:<4}┏{}{}{}┓'.format(' ',hdash * 4, book, hdash * (maxb + 1 - len(book) - 4)))\n",
    "    max_row_show = maxn\n",
    "    max_row_show = max(bucket_rows.keys())\n",
    "    for row in range(max_row_show + 1, 0, -1):\n",
    "        reps = ('█' if b in bucket_rows[row] else ' ' for b in range(maxb + 1))\n",
    "        lines.append('{:<4}┃{}┃'.format(row, ''.join(reps)))\n",
    "    lines.append('{:<4}┗{}┛'.format(' ', hdash * (maxb + 1)))\n",
    "    lines.append('{:<4} 0{}{}'.format(' ', ' ' * (maxb - 1), maxb))\n",
    "    lines.append('\\n')\n",
    "    return '\\n'.join(lines)\n",
    "\n",
    "\n",
    "def show_books(source, method, params=()):\n",
    "    book_buckets = {}\n",
    "    maxb = -1\n",
    "    maxn = -1\n",
    "    paramstr = '-'.join(str(x) for x in params)\n",
    "\n",
    "    book_profile = make_profiles(source)\n",
    "    for book in sorted(book_profile):\n",
    "        (buckets, this_maxb, this_maxn) = bucketize(book_profile[book], method, params)    \n",
    "        if this_maxb > maxb: maxb = this_maxb\n",
    "        if this_maxn > maxn: maxn = this_maxn\n",
    "        book_buckets[book] = buckets\n",
    "\n",
    "    book_file_bucket = outfile('data_{}_{}{}.csv'.format(source, method, paramstr))\n",
    "    for book in sorted(book_buckets):\n",
    "        buckets = book_buckets[book]\n",
    "        book_file_bucket.write('\"{}\";\\n'.format(book))\n",
    "        #for bn in sorted(book_buckets[book].items()):\n",
    "        for b in range(max(buckets.keys()) + 1):\n",
    "            book_file_bucket.write('{};{}\\n'.format(b, buckets.get(b, 0)))\n",
    "    book_file_bucket.close()\n",
    "\n",
    "    book_file_graph = outfile('graph_{}_{}{}.txt'.format(source, method, paramstr))\n",
    "    message = '''\n",
    "BUCKET METHOD = {}\n",
    "HORIZONTAL    = the lexeme scope\n",
    "VERTICAL      = the number of lexemes in that scope\n",
    "'''.format(method)\n",
    "    book_file_graph.write(message + '\\n')\n",
    "    for book in sorted(book_buckets):\n",
    "        graph = show_buckets(book_buckets[book], book, maxb, maxn)\n",
    "        book_file_graph.write(graph)\n",
    "    book_file_graph.close()"
   ]
  },
  {
   "cell_type": "code",
   "execution_count": 13,
   "metadata": {
    "collapsed": false
   },
   "outputs": [
    {
     "name": "stdout",
     "output_type": "stream",
     "text": [
      "Profiles from c     with method log    ()\n",
      "Profiles from nva   with method log    ()\n",
      "Profiles from all   with method log    ()\n",
      "Profiles from c     with method linear (10000, 10)\n",
      "Profiles from nva   with method linear (10000, 10)\n",
      "Profiles from all   with method linear (10000, 10)\n",
      "Profiles from c     with method linear (5000, 5)\n",
      "Profiles from nva   with method linear (5000, 5)\n",
      "Profiles from all   with method linear (5000, 5)\n",
      "Profiles from c     with method linear (2500, 1)\n",
      "Profiles from nva   with method linear (2500, 1)\n",
      "Profiles from all   with method linear (2500, 1)\n"
     ]
    }
   ],
   "source": [
    "for task in TASKS:\n",
    "    for source in sources:\n",
    "        method = task[0]\n",
    "        params = task[1:]\n",
    "        print('Profiles from {:<5} with method {:<6} {}'.format(source, method, params))\n",
    "        show_books(source, method, params=params)"
   ]
  },
  {
   "cell_type": "code",
   "execution_count": null,
   "metadata": {
    "collapsed": false
   },
   "outputs": [],
   "source": []
  }
 ],
 "metadata": {
  "kernelspec": {
   "display_name": "Python 3",
   "language": "python",
   "name": "python3"
  },
  "language_info": {
   "codemirror_mode": {
    "name": "ipython",
    "version": 3
   },
   "file_extension": ".py",
   "mimetype": "text/x-python",
   "name": "python",
   "nbconvert_exporter": "python",
   "pygments_lexer": "ipython3",
   "version": "3.5.1"
  }
 },
 "nbformat": 4,
 "nbformat_minor": 0
}
