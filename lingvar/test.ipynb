{
 "cells": [
  {
   "cell_type": "code",
   "execution_count": 1,
   "metadata": {
    "collapsed": true
   },
   "outputs": [],
   "source": [
    "from difflib import SequenceMatcher\n"
   ]
  },
  {
   "cell_type": "code",
   "execution_count": 2,
   "metadata": {
    "collapsed": true
   },
   "outputs": [],
   "source": [
    "a = 'ik ben die ik ben geweest'\n",
    "b = 'ik was die ik gister.'"
   ]
  },
  {
   "cell_type": "code",
   "execution_count": 3,
   "metadata": {
    "collapsed": false
   },
   "outputs": [],
   "source": [
    "df = SequenceMatcher(isjunk=None, autojunk=False)\n",
    "df.set_seq1(a)\n",
    "df.set_seq2(b)\n",
    "mb = df.get_matching_blocks()"
   ]
  },
  {
   "cell_type": "code",
   "execution_count": 15,
   "metadata": {
    "collapsed": false
   },
   "outputs": [
    {
     "data": {
      "text/plain": [
       "[Match(a=0, b=0, size=3),\n",
       " Match(a=6, b=6, size=8),\n",
       " Match(a=14, b=21, size=3),\n",
       " Match(a=25, b=25, size=0)]"
      ]
     },
     "execution_count": 15,
     "metadata": {},
     "output_type": "execute_result"
    }
   ],
   "source": [
    "mb"
   ]
  },
  {
   "cell_type": "code",
   "execution_count": 16,
   "metadata": {
    "collapsed": false
   },
   "outputs": [
    {
     "name": "stdout",
     "output_type": "stream",
     "text": [
      "0 0 3\n",
      "6 6 8\n",
      "14 21 3\n",
      "25 25 0\n"
     ]
    }
   ],
   "source": [
    "for (ai, bi, n) in mb:\n",
    "    print('{} {} {}'.format(ai, bi, n))"
   ]
  },
  {
   "cell_type": "code",
   "execution_count": 4,
   "metadata": {
    "collapsed": true
   },
   "outputs": [],
   "source": [
    "opc = df.get_opcodes()"
   ]
  },
  {
   "cell_type": "code",
   "execution_count": 5,
   "metadata": {
    "collapsed": false
   },
   "outputs": [
    {
     "name": "stdout",
     "output_type": "stream",
     "text": [
      "ik <yellow>ben</yellow> die ik <red>ben </red>g<yellow>ewee</yellow>st\n",
      "ik <yellow>was</yellow> die ik g<yellow>i</yellow>st<green>er.</green>\n"
     ]
    }
   ],
   "source": [
    "arep = ''\n",
    "brep = ''\n",
    "for (lb, ai, aj, bi, bj) in opc:\n",
    "    if lb == 'equal':\n",
    "        arep += a[ai:aj]\n",
    "        brep += b[bi:bj]\n",
    "    elif lb == 'delete':\n",
    "        arep += '<red>'+a[ai:aj]+'</red>'\n",
    "    elif lb == 'insert':\n",
    "        brep += '<green>'+b[bi:bj]+'</green>'\n",
    "    else:\n",
    "        arep += '<yellow>'+a[ai:aj]+'</yellow>'\n",
    "        brep += '<yellow>'+b[bi:bj]+'</yellow>'\n",
    "print(arep)\n",
    "print(brep)"
   ]
  },
  {
   "cell_type": "code",
   "execution_count": 22,
   "metadata": {
    "collapsed": false
   },
   "outputs": [
    {
     "data": {
      "text/plain": [
       "[('equal', 0, 3, 0, 3),\n",
       " ('replace', 3, 6, 3, 6),\n",
       " ('equal', 6, 14, 6, 14),\n",
       " ('delete', 14, 18, 14, 14),\n",
       " ('equal', 18, 19, 14, 15),\n",
       " ('replace', 19, 23, 15, 16),\n",
       " ('equal', 23, 25, 16, 18),\n",
       " ('insert', 25, 25, 18, 21)]"
      ]
     },
     "execution_count": 22,
     "metadata": {},
     "output_type": "execute_result"
    }
   ],
   "source": [
    "opc"
   ]
  },
  {
   "cell_type": "code",
   "execution_count": 1,
   "metadata": {
    "collapsed": false
   },
   "outputs": [
    {
     "name": "stderr",
     "output_type": "stream",
     "text": [
      "  0.00s This is LAF-Fabric 4.5.3\n",
      "API reference: http://laf-fabric.readthedocs.org/en/latest/texts/API-reference.html\n",
      "Feature doc: http://shebanq-doc.readthedocs.org/en/latest/texts/welcome.html\n",
      "\n"
     ]
    }
   ],
   "source": [
    "import laf\n",
    "from laf.fabric import LafFabric\n",
    "from etcbc.preprocess import prepare\n",
    "fabric = LafFabric()"
   ]
  },
  {
   "cell_type": "code",
   "execution_count": 5,
   "metadata": {
    "collapsed": false
   },
   "outputs": [
    {
     "name": "stderr",
     "output_type": "stream",
     "text": [
      "  0.00s LOADING API: please wait ... \n",
      "  0.00s INFO: USING DATA COMPILED AT: 2015-06-29T05-30-49\n",
      "  0.01s INFO: DATA LOADED FROM SOURCE etcbc4b AND ANNOX -- FOR TASK parallel AT 2015-07-18T08-15-10\n"
     ]
    }
   ],
   "source": [
    "version = '4b'\n",
    "API = fabric.load('etcbc{}'.format(version), '--', 'parallel', {\n",
    "    \"xmlids\": {\"node\": False, \"edge\": False},\n",
    "    \"features\": ('''\n",
    "        otype\n",
    "    ''',\n",
    "    ''),\n",
    "    \"primary\": False,\n",
    "}, verbose='NORMAL')\n",
    "exec(fabric.localnames.format(var='fabric'))"
   ]
  },
  {
   "cell_type": "code",
   "execution_count": 8,
   "metadata": {
    "collapsed": false
   },
   "outputs": [],
   "source": [
    "ns = len(list(F.otype.s('sentence')))\n",
    "nh = len(list(F.otype.s('half_verse')))\n",
    "nv = len(list(F.otype.s('verse')))"
   ]
  },
  {
   "cell_type": "code",
   "execution_count": 9,
   "metadata": {
    "collapsed": false
   },
   "outputs": [
    {
     "name": "stdout",
     "output_type": "stream",
     "text": [
      "\n",
      "Sentences  :      64125 : 2055975750.0\n",
      "Half verses:      45087 : 1016396241.0\n",
      "Verses     :      23213 : 269410078.0\n",
      "\n"
     ]
    }
   ],
   "source": [
    "print('''\n",
    "Sentences  : {:>10} : {:>10}\n",
    "Half verses: {:>10} : {:>10}\n",
    "Verses     : {:>10} : {:>10}\n",
    "'''.format(\n",
    "    ns, ns * (ns - 1) / 2,\n",
    "    nh, nh * (nh - 1) / 2,\n",
    "    nv, nv * (nv - 1) / 2,\n",
    "))"
   ]
  },
  {
   "cell_type": "code",
   "execution_count": null,
   "metadata": {
    "collapsed": true
   },
   "outputs": [],
   "source": []
  }
 ],
 "metadata": {
  "kernelspec": {
   "display_name": "Python 3",
   "language": "python",
   "name": "python3"
  },
  "language_info": {
   "codemirror_mode": {
    "name": "ipython",
    "version": 3
   },
   "file_extension": ".py",
   "mimetype": "text/x-python",
   "name": "python",
   "nbconvert_exporter": "python",
   "pygments_lexer": "ipython3",
   "version": "3.5.1"
  }
 },
 "nbformat": 4,
 "nbformat_minor": 0
}
