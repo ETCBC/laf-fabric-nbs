{
 "cells": [
  {
   "cell_type": "markdown",
   "metadata": {},
   "source": [
    "# Show a passage\n",
    "\n",
    "accented+vocalized, vocalized, consonantal"
   ]
  },
  {
   "cell_type": "code",
   "execution_count": 1,
   "metadata": {
    "collapsed": false
   },
   "outputs": [
    {
     "name": "stderr",
     "output_type": "stream",
     "text": [
      "  0.00s This is LAF-Fabric 4.5.8\n",
      "API reference: http://laf-fabric.readthedocs.org/en/latest/texts/API-reference.html\n",
      "Feature doc: https://shebanq.ancient-data.org/static/docs/featuredoc/texts/welcome.html\n",
      "\n"
     ]
    }
   ],
   "source": [
    "import sys,os,re\n",
    "import collections\n",
    "from IPython.display import HTML, display_pretty, display_html\n",
    "\n",
    "import laf\n",
    "from laf.fabric import LafFabric\n",
    "from etcbc.lib import Transcription\n",
    "from etcbc.preprocess import prepare\n",
    "from etcbc.lib import Transcription\n",
    "\n",
    "fabric = LafFabric()\n",
    "\n",
    "source = 'etcbc'\n",
    "version = '4b'"
   ]
  },
  {
   "cell_type": "code",
   "execution_count": 3,
   "metadata": {
    "collapsed": false
   },
   "outputs": [
    {
     "name": "stderr",
     "output_type": "stream",
     "text": [
      "  0.00s LOADING API: please wait ... \n",
      "  0.00s INFO: USING DATA COMPILED AT: 2015-11-02T15-08-56\n",
      "  0.00s INFO: USING DATA COMPILED AT: 2016-01-27T19-01-17\n",
      "  3.57s LOGFILE=/Users/dirk/SURFdrive/laf-fabric-output/etcbc4b/passage/__log__passage.txt\n",
      "    13s ETCBC reference: http://laf-fabric.readthedocs.org/en/latest/texts/ETCBC-reference.html\n",
      "  0.00s LOADING API with EXTRAs: please wait ... \n",
      "  0.00s INFO: USING DATA COMPILED AT: 2015-11-02T15-08-56\n",
      "  0.00s INFO: USING DATA COMPILED AT: 2016-01-27T19-01-17\n",
      "  0.60s INFO: DATA LOADED FROM SOURCE etcbc4b AND ANNOX lexicon FOR TASK passage AT 2016-02-15T13-19-52\n",
      "  0.00s INFO: DATA LOADED FROM SOURCE etcbc4b AND ANNOX lexicon FOR TASK passage AT 2016-02-15T13-19-52\n"
     ]
    }
   ],
   "source": [
    "API = fabric.load(source+version, 'lexicon', 'passage', {\n",
    "    \"xmlids\": {\"node\": False, \"edge\": False},\n",
    "    \"features\": ('''\n",
    "        otype\n",
    "        g_cons_utf8 g_word_utf8 g_word trailer_utf8 phono phono_sep\n",
    "        book chapter verse label\n",
    "    ''',''),\n",
    "    \"prepare\": prepare,\n",
    "    \"primary\": False,\n",
    "}, verbose='NORMAL')\n",
    "exec(fabric.localnames.format(var='fabric'))"
   ]
  },
  {
   "cell_type": "code",
   "execution_count": 5,
   "metadata": {
    "collapsed": false
   },
   "outputs": [
    {
     "name": "stderr",
     "output_type": "stream",
     "text": [
      "    15s Making a mapping between a passage specification and a verse node\n",
      "    16s Done\n"
     ]
    }
   ],
   "source": [
    "msg(\"Making a mapping between a passage specification and a verse node\")\n",
    "verses = collections.defaultdict(lambda: collections.defaultdict(lambda: {}))\n",
    "for vn in F.otype.s('verse'):\n",
    "    bk = F.book.v(vn)\n",
    "    ch = int(F.chapter.v(vn))\n",
    "    vs = int(F.verse.v(vn))\n",
    "    verses[bk][ch][vs] = vn\n",
    "msg('Done')"
   ]
  },
  {
   "cell_type": "code",
   "execution_count": 31,
   "metadata": {
    "collapsed": false
   },
   "outputs": [
    {
     "data": {
      "text/html": [
       "\n",
       "<style type=\"text/css\">\n",
       "td.ht {\n",
       "    font-family: Ezra SIL, SBL Hebrew, Verdana, sans-serif;\n",
       "    font-size: x-large;\n",
       "    line-height: 1.7;\n",
       "    text-align: right;\n",
       "    direction: rtl;\n",
       "}\n",
       "td.vl {\n",
       "    font-family: Verdana, Arial, sans-serif;\n",
       "    font-size: small;\n",
       "    text-align: right;\n",
       "    vertical-align: top;\n",
       "    color: #aaaaaa;\n",
       "    width: 5%;\n",
       "    direction: ltr;\n",
       "}\n",
       "</style>\n"
      ],
      "text/plain": [
       "<IPython.core.display.HTML object>"
      ]
     },
     "execution_count": 31,
     "metadata": {},
     "output_type": "execute_result"
    }
   ],
   "source": [
    "HTML('''\n",
    "<style type=\"text/css\">\n",
    "td.ht {\n",
    "    font-family: Ezra SIL, SBL Hebrew, Verdana, sans-serif;\n",
    "    font-size: x-large;\n",
    "    line-height: 1.7;\n",
    "    text-align: right;\n",
    "    direction: rtl;\n",
    "}\n",
    "td.vl {\n",
    "    font-family: Verdana, Arial, sans-serif;\n",
    "    font-size: small;\n",
    "    text-align: right;\n",
    "    vertical-align: top;\n",
    "    color: #aaaaaa;\n",
    "    width: 5%;\n",
    "    direction: ltr;\n",
    "}\n",
    "</style>\n",
    "''')"
   ]
  },
  {
   "cell_type": "code",
   "execution_count": 45,
   "metadata": {
    "collapsed": false
   },
   "outputs": [],
   "source": [
    "accent_pat = re.compile('[0-9]')\n",
    "tr = Transcription()\n",
    "\n",
    "def print_verse(bk, ch, vs, vowels=True, accents=True):\n",
    "    label = '{} {}:{}'.format(bk, ch, vs)\n",
    "    vn = verses[bk][ch][vs]\n",
    "    treps = []\n",
    "    for w in L.d('word', vn):\n",
    "        if not vowels: trep = '{}{}'.format(F.g_cons_utf8.v(w), F.trailer_utf8.v(w))\n",
    "        else:\n",
    "            trep = '{}{}'.format(F.g_word_utf8.v(w), F.trailer_utf8.v(w))\n",
    "            if not accents:\n",
    "                trep = Transcription.to_hebrew(accent_pat.sub('', tr.from_hebrew(trep)))\n",
    "        treps.append(trep)\n",
    "    text = ''.join(treps)\n",
    "    return '''<table><tr><td class=\"vl\">{}</td><td class=\"ht\">{}</td></tr></table>'''.format(label, text)\n",
    "\n",
    "pv = lambda bk, ch, vs: print_verse(bk, ch, vs, vowels=True, accents=False)"
   ]
  },
  {
   "cell_type": "code",
   "execution_count": 47,
   "metadata": {
    "collapsed": false
   },
   "outputs": [
    {
     "data": {
      "text/html": [
       "<table><tr><td class=\"vl\">Genesis 1:1</td><td class=\"ht\">בְּרֵאשִׁית בָּרָא אֱלֹהִים אֵת הַשָּׁמַיִם וְאֵת הָאָרֶץ\n",
       "</td></tr></table>"
      ],
      "text/plain": [
       "<IPython.core.display.HTML object>"
      ]
     },
     "execution_count": 47,
     "metadata": {},
     "output_type": "execute_result"
    }
   ],
   "source": [
    "HTML(pv('Genesis', 1, 1))"
   ]
  },
  {
   "cell_type": "code",
   "execution_count": 51,
   "metadata": {
    "collapsed": false
   },
   "outputs": [
    {
     "data": {
      "text/html": [
       "<table><tr><td class=\"vl\">Esther 4:6</td><td class=\"ht\">וַיֵּצֵא הֲתָךְ אֶל־מָרְדֳּכָי אֶל־רְחֹוב הָעִיר אֲשֶׁר לִפְנֵי שַׁעַר־הַמֶּלֶךְ\n",
       "</td></tr></table>"
      ],
      "text/plain": [
       "<IPython.core.display.HTML object>"
      ]
     },
     "execution_count": 51,
     "metadata": {},
     "output_type": "execute_result"
    }
   ],
   "source": [
    "HTML(pv('Esther', 4, 6))"
   ]
  },
  {
   "cell_type": "code",
   "execution_count": null,
   "metadata": {
    "collapsed": true
   },
   "outputs": [],
   "source": []
  }
 ],
 "metadata": {
  "kernelspec": {
   "display_name": "Python 3",
   "language": "python",
   "name": "python3"
  },
  "language_info": {
   "codemirror_mode": {
    "name": "ipython",
    "version": 3
   },
   "file_extension": ".py",
   "mimetype": "text/x-python",
   "name": "python",
   "nbconvert_exporter": "python",
   "pygments_lexer": "ipython3",
   "version": "3.5.1"
  }
 },
 "nbformat": 4,
 "nbformat_minor": 0
}
