{
 "metadata": {
  "name": "",
  "signature": "sha256:654be5133e345d453027205f1487ae69ec01d91416a8ddcd83ae787c9ddb191e"
 },
 "nbformat": 3,
 "nbformat_minor": 0,
 "worksheets": [
  {
   "cells": [
    {
     "cell_type": "markdown",
     "metadata": {},
     "source": [
      "<a href=\"http://laf-fabric.readthedocs.org/en/latest/\" target=\"_blank\"><img align=\"left\" src=\"images/laf-fabric-xsmall.png\"/></a>\n",
      "<a href=\"http://emdros.org\" target=\"_blank\"><img align=\"left\" src=\"files/images/Emdros-xsmall.png\"/></a>\n",
      "<a href=\"http://www.persistent-identifier.nl/?identifier=urn%3Anbn%3Anl%3Aui%3A13-048i-71\" target=\"_blank\"><img align=\"left\"src=\"images/etcbc4easy-small.png\"/></a>\n",
      "<a href=\"http://www.godgeleerdheid.vu.nl/etcbc\" target=\"_blank\"><img align=\"right\" src=\"images/VU-ETCBC-xsmall.png\"/></a>\n",
      "<a href=\"http://tla.mpi.nl\" target=\"_blank\"><img align=\"right\" src=\"images/TLA-xsmall.png\"/></a>\n",
      "<a href=\"http://www.dans.knaw.nl\" target=\"_blank\"><img align=\"right\"src=\"images/DANS-xsmall.png\"/></a>"
     ]
    },
    {
     "cell_type": "markdown",
     "metadata": {},
     "source": [
      "# Indentation\n",
      "\n",
      "Give an overview of all clause_atoms and their indentation"
     ]
    },
    {
     "cell_type": "code",
     "collapsed": false,
     "input": [
      "import sys\n",
      "import collections\n",
      "\n",
      "from laf.fabric import LafFabric\n",
      "from etcbc.lib import Transcription\n",
      "\n",
      "fabric = LafFabric()"
     ],
     "language": "python",
     "metadata": {},
     "outputs": [
      {
       "output_type": "stream",
       "stream": "stderr",
       "text": [
        "  0.00s This is LAF-Fabric 4.4.6\n",
        "API reference: http://laf-fabric.readthedocs.org/en/latest/texts/API-reference.html\n",
        "Feature doc: http://shebanq-doc.readthedocs.org/en/latest/texts/welcome.html\n",
        "\n"
       ]
      }
     ],
     "prompt_number": 1
    },
    {
     "cell_type": "code",
     "collapsed": false,
     "input": [
      "API = fabric.load('etcbc4', 'lexicon', 'indentation', {\n",
      "    \"xmlids\": {\"node\": False, \"edge\": False},\n",
      "    \"features\": ('''\n",
      "        otype monads\n",
      "        book chapter verse\n",
      "        g_word\n",
      "        tab\n",
      "    ''',''),\n",
      "    \"primary\": False,\n",
      "}, verbose='DETAIL')\n",
      "exec(fabric.localnames.format(var='fabric'))"
     ],
     "language": "python",
     "metadata": {},
     "outputs": [
      {
       "output_type": "stream",
       "stream": "stderr",
       "text": [
        "  0.00s LOADING API: please wait ... \n"
       ]
      },
      {
       "output_type": "stream",
       "stream": "stderr",
       "text": [
        "  0.00s DETAIL: COMPILING m: UP TO DATE\n"
       ]
      },
      {
       "output_type": "stream",
       "stream": "stderr",
       "text": [
        "  0.00s INFO: USING DATA COMPILED AT: 2014-07-23T09-31-37\n"
       ]
      },
      {
       "output_type": "stream",
       "stream": "stderr",
       "text": [
        "  0.00s DETAIL: COMPILING a: UP TO DATE\n"
       ]
      },
      {
       "output_type": "stream",
       "stream": "stderr",
       "text": [
        "  0.00s INFO: USING DATA COMPILED AT: 2014-10-14T11-06-47\n"
       ]
      },
      {
       "output_type": "stream",
       "stream": "stderr",
       "text": [
        "  0.01s DETAIL: load main: G.node_anchor_min\n"
       ]
      },
      {
       "output_type": "stream",
       "stream": "stderr",
       "text": [
        "  0.08s DETAIL: load main: G.node_anchor_max\n"
       ]
      },
      {
       "output_type": "stream",
       "stream": "stderr",
       "text": [
        "  0.15s DETAIL: load main: G.node_sort\n"
       ]
      },
      {
       "output_type": "stream",
       "stream": "stderr",
       "text": [
        "  0.20s DETAIL: load main: G.node_sort_inv\n"
       ]
      },
      {
       "output_type": "stream",
       "stream": "stderr",
       "text": [
        "  0.65s DETAIL: load main: G.edges_from\n"
       ]
      },
      {
       "output_type": "stream",
       "stream": "stderr",
       "text": [
        "  0.72s DETAIL: load main: G.edges_to\n"
       ]
      },
      {
       "output_type": "stream",
       "stream": "stderr",
       "text": [
        "  0.80s DETAIL: load main: F.etcbc4_db_monads [node] \n"
       ]
      },
      {
       "output_type": "stream",
       "stream": "stderr",
       "text": [
        "  1.60s DETAIL: load main: F.etcbc4_db_otype [node] \n"
       ]
      },
      {
       "output_type": "stream",
       "stream": "stderr",
       "text": [
        "  2.37s DETAIL: load main: F.etcbc4_ft_g_word [node] \n"
       ]
      },
      {
       "output_type": "stream",
       "stream": "stderr",
       "text": [
        "  2.61s DETAIL: load main: F.etcbc4_ft_tab [node] \n"
       ]
      },
      {
       "output_type": "stream",
       "stream": "stderr",
       "text": [
        "  2.64s DETAIL: load main: F.etcbc4_sft_book [node] \n"
       ]
      },
      {
       "output_type": "stream",
       "stream": "stderr",
       "text": [
        "  2.66s DETAIL: load main: F.etcbc4_sft_chapter [node] \n"
       ]
      },
      {
       "output_type": "stream",
       "stream": "stderr",
       "text": [
        "  2.67s DETAIL: load main: F.etcbc4_sft_verse [node] \n"
       ]
      },
      {
       "output_type": "stream",
       "stream": "stderr",
       "text": [
        "  2.68s DETAIL: load annox: F.etcbc4_db_monads [node] \n"
       ]
      },
      {
       "output_type": "stream",
       "stream": "stderr",
       "text": [
        "  2.68s DETAIL: load annox: F.etcbc4_db_otype [node] \n"
       ]
      },
      {
       "output_type": "stream",
       "stream": "stderr",
       "text": [
        "  2.68s DETAIL: load annox: F.etcbc4_ft_g_word [node] \n"
       ]
      },
      {
       "output_type": "stream",
       "stream": "stderr",
       "text": [
        "  2.68s DETAIL: load annox: F.etcbc4_ft_tab [node] \n"
       ]
      },
      {
       "output_type": "stream",
       "stream": "stderr",
       "text": [
        "  2.69s DETAIL: load annox: F.etcbc4_sft_book [node] \n"
       ]
      },
      {
       "output_type": "stream",
       "stream": "stderr",
       "text": [
        "  2.69s DETAIL: load annox: F.etcbc4_sft_chapter [node] \n"
       ]
      },
      {
       "output_type": "stream",
       "stream": "stderr",
       "text": [
        "  2.69s DETAIL: load annox: F.etcbc4_sft_verse [node] \n"
       ]
      },
      {
       "output_type": "stream",
       "stream": "stderr",
       "text": [
        "  2.69s LOGFILE=/Users/dirk/laf-fabric-output/etcbc4/indentation/__log__indentation.txt\n"
       ]
      },
      {
       "output_type": "stream",
       "stream": "stderr",
       "text": [
        "  2.69s INFO: DATA LOADED FROM SOURCE etcbc4 AND ANNOX lexicon FOR TASK indentation AT 2014-10-23T08-59-42\n"
       ]
      }
     ],
     "prompt_number": 2
    },
    {
     "cell_type": "markdown",
     "metadata": {},
     "source": [
      "## Passage index\n",
      "When we have found our objects, we want to indicate where they occur in the bible. In order to specify the passage of a node, we have to now in what verse a node occurs. In the next code cell we create a mapping from nodes of type sentence, clause, etc to nodes of type verse. From a verse node we can read off the passage information.\n",
      "\n",
      "Conversely, we also construct an index from verses to nodes: given a verse, we make a list of all nodes belonging to that verse, in the canonical order."
     ]
    },
    {
     "cell_type": "code",
     "collapsed": false,
     "input": [
      "target_types = {\n",
      "#    'sentence', # 'sentence_atom', \n",
      "#    'clause', \n",
      "    'clause_atom', \n",
      "#    'phrase', # 'phrase_atom', \n",
      "#    'subphrase',\n",
      "#    'word',\n",
      "}\n",
      "\n",
      "object_index = collections.defaultdict(lambda: set())\n",
      "verse_monads = {}\n",
      "verse_node = {}\n",
      "target_words = collections.defaultdict(lambda: set())\n",
      "monad_node = {}\n",
      "\n",
      "def get_set(monads):\n",
      "    monad_set = set()\n",
      "    for rn in monads.split(','):\n",
      "        bnds = rn.split('-', 1)\n",
      "        if len(bnds) == 1:\n",
      "            monad_set.add(int(bnds[0]))\n",
      "        else: \n",
      "            monad_set |= set(range(int(bnds[0]), int(bnds[1]) + 1))\n",
      "    return frozenset(monad_set)\n",
      "\n",
      "def ranges(monadset):\n",
      "    result = []\n",
      "    cur_start = None\n",
      "    cur_end = None\n",
      "    for i in sorted(monadset):\n",
      "        if cur_start == None:\n",
      "            cur_start = i\n",
      "            cur_end = i\n",
      "        else:\n",
      "            if i == cur_end + 1:\n",
      "                cur_end += 1\n",
      "            else:\n",
      "                result.append((cur_start, cur_end))\n",
      "                cur_start = i\n",
      "                cur_end = i\n",
      "    if cur_start != None:\n",
      "        result.append((cur_start, cur_end))\n",
      "    return result\n",
      "\n",
      "msg(\"Making a mapping between monads and nodes ... \")\n",
      "for n in NN():\n",
      "    if F.otype.v(n) == 'word':\n",
      "        monad_node[int(F.monads.v(n))] = n\n",
      "msg(\"Done\")\n",
      "    \n",
      "msg(\"Making verse index ...\")\n",
      "for n in NN():\n",
      "    otype = F.otype.v(n)\n",
      "    if otype == 'verse':\n",
      "        verse_monads[n] = get_set(F.monads.v(n))\n",
      "    elif otype in target_types:\n",
      "        for m in get_set(F.monads.v(n)):\n",
      "            object_index[m].add(n)\n",
      "            target_words[n].add(m)\n",
      "\n",
      "for v in verse_monads:\n",
      "    vobjects = set()\n",
      "    for m in verse_monads[v]: vobjects |= object_index[m]\n",
      "    verse_node[v] = tuple(NN(nodes=vobjects))\n",
      "msg(\"Verse index created for {} verses\".format(len(verse_node)))"
     ],
     "language": "python",
     "metadata": {},
     "outputs": [
      {
       "output_type": "stream",
       "stream": "stderr",
       "text": [
        " 6m 04s Making a mapping between monads and nodes ... \n"
       ]
      },
      {
       "output_type": "stream",
       "stream": "stderr",
       "text": [
        " 6m 06s Done\n"
       ]
      },
      {
       "output_type": "stream",
       "stream": "stderr",
       "text": [
        " 6m 06s Making verse index ...\n"
       ]
      },
      {
       "output_type": "stream",
       "stream": "stderr",
       "text": [
        " 6m 11s Verse index created for 23213 verses\n"
       ]
      }
     ],
     "prompt_number": 7
    },
    {
     "cell_type": "code",
     "collapsed": false,
     "input": [
      "print(len(verse_node.values()))"
     ],
     "language": "python",
     "metadata": {},
     "outputs": [
      {
       "output_type": "stream",
       "stream": "stdout",
       "text": [
        "23213\n"
       ]
      }
     ],
     "prompt_number": 13
    },
    {
     "cell_type": "markdown",
     "metadata": {},
     "source": [
      "# Data collection\n",
      "We collect clause atoms, their verse indicator, their indentation level, their text."
     ]
    },
    {
     "cell_type": "code",
     "collapsed": false,
     "input": [
      "outf = outfile('indentation.csv')\n",
      "        \n",
      "for n in NN():\n",
      "    otype = F.otype.v(n)\n",
      "    if otype == 'book':\n",
      "        msg(F.book.v(n))\n",
      "    elif otype == 'verse':\n",
      "        vlabel = \"{} {}:{}\".format(F.book.v(n), F.chapter.v(n), F.verse.v(n))\n",
      "        for ca in verse_node[n]:\n",
      "            outf.write('''\"{}\";{};\"{}\"\\n'''.format(\n",
      "                vlabel, \n",
      "                F.tab.v(ca),\n",
      "                ' '.join(F.g_word.v(monad_node[w]) for w in sorted(target_words[ca]))\n",
      "            ))\n",
      "\n",
      "outf.close()"
     ],
     "language": "python",
     "metadata": {},
     "outputs": [
      {
       "output_type": "stream",
       "stream": "stderr",
       "text": [
        "15m 06s Genesis\n"
       ]
      },
      {
       "output_type": "stream",
       "stream": "stderr",
       "text": [
        "15m 06s Exodus\n"
       ]
      },
      {
       "output_type": "stream",
       "stream": "stderr",
       "text": [
        "15m 07s Leviticus\n"
       ]
      },
      {
       "output_type": "stream",
       "stream": "stderr",
       "text": [
        "15m 07s Numeri\n"
       ]
      },
      {
       "output_type": "stream",
       "stream": "stderr",
       "text": [
        "15m 07s Deuteronomium\n"
       ]
      },
      {
       "output_type": "stream",
       "stream": "stderr",
       "text": [
        "15m 07s Josua\n"
       ]
      },
      {
       "output_type": "stream",
       "stream": "stderr",
       "text": [
        "15m 07s Judices\n"
       ]
      },
      {
       "output_type": "stream",
       "stream": "stderr",
       "text": [
        "15m 07s Samuel_I\n"
       ]
      },
      {
       "output_type": "stream",
       "stream": "stderr",
       "text": [
        "15m 07s Samuel_II\n"
       ]
      },
      {
       "output_type": "stream",
       "stream": "stderr",
       "text": [
        "15m 07s Reges_I\n"
       ]
      },
      {
       "output_type": "stream",
       "stream": "stderr",
       "text": [
        "15m 08s Reges_II\n"
       ]
      },
      {
       "output_type": "stream",
       "stream": "stderr",
       "text": [
        "15m 08s Jesaia\n"
       ]
      },
      {
       "output_type": "stream",
       "stream": "stderr",
       "text": [
        "15m 08s Jeremia\n"
       ]
      },
      {
       "output_type": "stream",
       "stream": "stderr",
       "text": [
        "15m 08s Ezechiel\n"
       ]
      },
      {
       "output_type": "stream",
       "stream": "stderr",
       "text": [
        "15m 08s Hosea\n"
       ]
      },
      {
       "output_type": "stream",
       "stream": "stderr",
       "text": [
        "15m 08s Joel\n"
       ]
      },
      {
       "output_type": "stream",
       "stream": "stderr",
       "text": [
        "15m 08s Amos\n"
       ]
      },
      {
       "output_type": "stream",
       "stream": "stderr",
       "text": [
        "15m 08s Obadia\n"
       ]
      },
      {
       "output_type": "stream",
       "stream": "stderr",
       "text": [
        "15m 08s Jona\n"
       ]
      },
      {
       "output_type": "stream",
       "stream": "stderr",
       "text": [
        "15m 08s Micha\n"
       ]
      },
      {
       "output_type": "stream",
       "stream": "stderr",
       "text": [
        "15m 08s Nahum\n"
       ]
      },
      {
       "output_type": "stream",
       "stream": "stderr",
       "text": [
        "15m 08s Habakuk\n"
       ]
      },
      {
       "output_type": "stream",
       "stream": "stderr",
       "text": [
        "15m 08s Zephania\n"
       ]
      },
      {
       "output_type": "stream",
       "stream": "stderr",
       "text": [
        "15m 08s Haggai\n"
       ]
      },
      {
       "output_type": "stream",
       "stream": "stderr",
       "text": [
        "15m 08s Sacharia\n"
       ]
      },
      {
       "output_type": "stream",
       "stream": "stderr",
       "text": [
        "15m 08s Maleachi\n"
       ]
      },
      {
       "output_type": "stream",
       "stream": "stderr",
       "text": [
        "15m 08s Psalmi\n"
       ]
      },
      {
       "output_type": "stream",
       "stream": "stderr",
       "text": [
        "15m 09s Iob\n"
       ]
      },
      {
       "output_type": "stream",
       "stream": "stderr",
       "text": [
        "15m 09s Proverbia\n"
       ]
      },
      {
       "output_type": "stream",
       "stream": "stderr",
       "text": [
        "15m 09s Ruth\n"
       ]
      },
      {
       "output_type": "stream",
       "stream": "stderr",
       "text": [
        "15m 09s Canticum\n"
       ]
      },
      {
       "output_type": "stream",
       "stream": "stderr",
       "text": [
        "15m 09s Ecclesiastes\n"
       ]
      },
      {
       "output_type": "stream",
       "stream": "stderr",
       "text": [
        "15m 09s Threni\n"
       ]
      },
      {
       "output_type": "stream",
       "stream": "stderr",
       "text": [
        "15m 09s Esther\n"
       ]
      },
      {
       "output_type": "stream",
       "stream": "stderr",
       "text": [
        "15m 09s Daniel\n"
       ]
      },
      {
       "output_type": "stream",
       "stream": "stderr",
       "text": [
        "15m 09s Esra\n"
       ]
      },
      {
       "output_type": "stream",
       "stream": "stderr",
       "text": [
        "15m 09s Nehemia\n"
       ]
      },
      {
       "output_type": "stream",
       "stream": "stderr",
       "text": [
        "15m 09s Chronica_I\n"
       ]
      },
      {
       "output_type": "stream",
       "stream": "stderr",
       "text": [
        "15m 09s Chronica_II\n"
       ]
      }
     ],
     "prompt_number": 15
    },
    {
     "cell_type": "code",
     "collapsed": false,
     "input": [],
     "language": "python",
     "metadata": {},
     "outputs": []
    }
   ],
   "metadata": {}
  }
 ]
}