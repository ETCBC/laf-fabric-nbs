{
 "cells": [
  {
   "cell_type": "code",
   "execution_count": 1,
   "metadata": {
    "collapsed": false,
    "deletable": true,
    "editable": true
   },
   "outputs": [],
   "source": [
    "import sys, collections\n",
    "from tf.fabric import Fabric"
   ]
  },
  {
   "cell_type": "code",
   "execution_count": 2,
   "metadata": {
    "collapsed": false,
    "deletable": true,
    "editable": true
   },
   "outputs": [
    {
     "name": "stdout",
     "output_type": "stream",
     "text": [
      "This is Text-Fabric 2.3.6\n",
      "Api reference : https://github.com/ETCBC/text-fabric/wiki/Api\n",
      "Tutorial      : https://github.com/ETCBC/text-fabric/blob/master/docs/tutorial.ipynb\n",
      "Data sources  : https://github.com/ETCBC/text-fabric-data\n",
      "Data docs     : https://etcbc.github.io/text-fabric-data\n",
      "Shebanq docs  : https://shebanq.ancient-data.org/text\n",
      "Slack team    : https://shebanq.slack.com/signup\n",
      "Questions? Ask shebanq@ancient-data.org for an invite to Slack\n",
      "108 features found and 0 ignored\n"
     ]
    }
   ],
   "source": [
    "TF = Fabric(modules='hebrew/etcbc4c')"
   ]
  },
  {
   "cell_type": "code",
   "execution_count": 3,
   "metadata": {
    "collapsed": false,
    "deletable": true,
    "editable": true
   },
   "outputs": [
    {
     "name": "stdout",
     "output_type": "stream",
     "text": [
      "  0.00s loading features ...\n",
      "   |     0.01s B book                 from /Users/dirk/github/text-fabric-data/hebrew/etcbc4c\n",
      "   |     0.01s B chapter              from /Users/dirk/github/text-fabric-data/hebrew/etcbc4c\n",
      "   |     0.01s B verse                from /Users/dirk/github/text-fabric-data/hebrew/etcbc4c\n",
      "   |     0.13s B sp                   from /Users/dirk/github/text-fabric-data/hebrew/etcbc4c\n",
      "   |     0.13s B vs                   from /Users/dirk/github/text-fabric-data/hebrew/etcbc4c\n",
      "   |     0.18s B lex                  from /Users/dirk/github/text-fabric-data/hebrew/etcbc4c\n",
      "   |     0.00s Feature overview: 102 for nodes; 5 for edges; 1 configs; 7 computed\n",
      "  5.09s All features loaded/computed - for details use loadLog()\n"
     ]
    }
   ],
   "source": [
    "api = TF.load('''\n",
    "    book chapter verse\n",
    "    sp vs\n",
    "    lex\n",
    "''')\n",
    "\n",
    "api.makeAvailableIn(globals())"
   ]
  },
  {
   "cell_type": "code",
   "execution_count": 5,
   "metadata": {
    "collapsed": false,
    "deletable": true,
    "editable": true
   },
   "outputs": [],
   "source": [
    "cnt = collections.Counter()\n",
    "nmpr =collections.Counter()\n",
    "sp = {}\n",
    "\n",
    "for w in F.otype.s('word'):\n",
    "    lemma = '{}{}{}'.format(\n",
    "            F.lex.v(w),\n",
    "            '+' if F.sp.v(w) == 'verb' or F.sp.v(w) == 'nmpr' else '',\n",
    "            F.vs.v(w) if F.sp.v(w) == 'verb' else 'p' if F.sp.v(w) == 'nmpr' else '',\n",
    "    )\n",
    "    if F.sp.v(w) == 'nmpr':\n",
    "        nmpr[lemma] += 1\n",
    "    cnt[lemma] += 1\n",
    "    sp[lemma] = F.sp.v(w)"
   ]
  },
  {
   "cell_type": "code",
   "execution_count": 6,
   "metadata": {
    "collapsed": true,
    "deletable": true,
    "editable": true
   },
   "outputs": [],
   "source": [
    "with open('/Users/dirk/Downloads/lexfreq.csv', 'w') as of:\n",
    "    for (lex, freq) in sorted(cnt.items(), key=lambda x: (-x[1], x[0])):\n",
    "        of.write('{}\\t{}\\t{}\\n'.format(lex, sp[lex], freq))\n",
    "with open('/Users/dirk/Downloads/nmprfreq.csv', 'w') as of:\n",
    "    for (lex, freq) in sorted(nmpr.items(), key=lambda x: (-x[1], x[0])):\n",
    "        of.write('{}\\t{}\\n'.format(lex, freq))"
   ]
  },
  {
   "cell_type": "code",
   "execution_count": 7,
   "metadata": {
    "collapsed": false,
    "deletable": true,
    "editable": true
   },
   "outputs": [],
   "source": [
    "nmprFilter = set(sorted(nmpr, key=lambda x: (-nmpr[x], x))[0:100])"
   ]
  },
  {
   "cell_type": "code",
   "execution_count": 8,
   "metadata": {
    "collapsed": false,
    "deletable": true,
    "editable": true
   },
   "outputs": [
    {
     "data": {
      "text/plain": [
       "{'<FW/+p',\n",
       " '<MLQ/+p',\n",
       " '<MWN/+p',\n",
       " '>BCLWM/+p',\n",
       " '>BJMLK/+p',\n",
       " '>BNR/+p',\n",
       " '>BRHM/+p',\n",
       " '>BRM/+p',\n",
       " '>CR==/+p',\n",
       " '>CWR/+p',\n",
       " '>DNJ/+p',\n",
       " '>DWM/+p',\n",
       " '>HRN/+p',\n",
       " '>JWB/+p',\n",
       " '>L<ZR/+p',\n",
       " '>LJC</+p',\n",
       " '>LJHW/+p',\n",
       " '>PRJM/+p',\n",
       " '>RM/+p',\n",
       " '>S>/+p',\n",
       " '>SP==/+p',\n",
       " '>STR/+p',\n",
       " '>X>B/+p',\n",
       " '>XZ=/+p',\n",
       " 'BBL/+p',\n",
       " 'BCN/+p',\n",
       " 'BJT_>L/+p',\n",
       " 'BJT_LXM/+p',\n",
       " 'BL<M/+p',\n",
       " 'BLQ/+p',\n",
       " 'BNJMN/+p',\n",
       " 'C>WL=/+p',\n",
       " 'CDJ/+p',\n",
       " 'CKM=/+p',\n",
       " 'CLMH=/+p',\n",
       " 'CM<J=/+p',\n",
       " 'CM<WN/+p',\n",
       " 'CMRWN/+p',\n",
       " 'CMW>L/+p',\n",
       " 'DN/+p',\n",
       " 'DNJ>L/+p',\n",
       " 'DWD==/+p',\n",
       " 'F<JR====/+p',\n",
       " 'GD<WN/+p',\n",
       " 'GD==/+p',\n",
       " 'GL<D/+p',\n",
       " 'GLGL===/+p',\n",
       " 'HMN=/+p',\n",
       " 'J<QB/+p',\n",
       " 'J>CJHW/+p',\n",
       " 'J>R=/+p',\n",
       " 'JCJ/+p',\n",
       " 'JCM<>L/+p',\n",
       " 'JFFKR/+p',\n",
       " 'JFR>L/+p',\n",
       " 'JH/+p',\n",
       " 'JHW>/+p',\n",
       " 'JHWC</+p',\n",
       " 'JHWCPV/+p',\n",
       " 'JHWDH/+p',\n",
       " 'JHWH/+p',\n",
       " 'JHWJD</+p',\n",
       " 'JHWNTN/+p',\n",
       " 'JRB<M/+p',\n",
       " 'JRDN/+p',\n",
       " 'JRJXW/+p',\n",
       " 'JRMJHW/+p',\n",
       " 'JRWCLM/+p',\n",
       " 'JW>B/+p',\n",
       " 'JW>C/+p',\n",
       " 'JWNTN/+p',\n",
       " 'JWSP/+p',\n",
       " 'JXZQJHW/+p',\n",
       " 'JYXQ/+p',\n",
       " 'KFDJM/+p',\n",
       " 'KN<N/+p',\n",
       " 'LBN=/+p',\n",
       " 'LBNWN/+p',\n",
       " 'LWJ=/+p',\n",
       " 'MCH=/+p',\n",
       " 'MDJN=/+p',\n",
       " 'MNCH/+p',\n",
       " 'MRDKJ/+p',\n",
       " 'MRRJ=/+p',\n",
       " 'MW>B/+p',\n",
       " 'MYPH=/+p',\n",
       " 'MYRJM/+p',\n",
       " 'NPTLJ/+p',\n",
       " 'NTN/+p',\n",
       " 'NX/+p',\n",
       " 'R>WBN/+p',\n",
       " 'RXB<M/+p',\n",
       " 'RXL=/+p',\n",
       " 'XBRWN=/+p',\n",
       " 'XZQJHW/+p',\n",
       " 'YDQJHW/+p',\n",
       " 'YDWQ/+p',\n",
       " 'YJWN==/+p',\n",
       " 'YR====/+p',\n",
       " 'ZBWLN/+p'}"
      ]
     },
     "execution_count": 8,
     "metadata": {},
     "output_type": "execute_result"
    }
   ],
   "source": [
    "nmprFilter"
   ]
  },
  {
   "cell_type": "code",
   "execution_count": 10,
   "metadata": {
    "collapsed": false,
    "deletable": true,
    "editable": true
   },
   "outputs": [
    {
     "name": "stdout",
     "output_type": "stream",
     "text": [
      "  0.00s preparing semset ...\n",
      "\n",
      "  5.54s Wrote 281620 lines\n",
      "\n"
     ]
    }
   ],
   "source": [
    "TARGETS = set('''\n",
    "    verb subs nmpr adjv advb prep intj nega\n",
    "'''.strip().split())\n",
    "\n",
    "FIELDS = '''\n",
    "book chapter verse s# cues outcomes\n",
    "'''.strip().split()\n",
    "NFIELDS = len(FIELDS)\n",
    "\n",
    "fmt = ('{}\\t' * (NFIELDS-1)) + '{}\\n'\n",
    "\n",
    "indent(reset=True)\n",
    "info('preparing semset ...\\n')\n",
    "\n",
    "of = open('/Users/dirk/Downloads/semset.csv', 'w')\n",
    "of.write(fmt.format(*FIELDS))\n",
    "ln = 1\n",
    "\n",
    "for s in F.otype.s('sentence'):\n",
    "    bag = tuple(sorted('{}{}{}'.format(\n",
    "            F.lex.v(w),\n",
    "            '+' if F.sp.v(w) == 'verb' or F.sp.v(w) == 'nmpr' else '',\n",
    "            F.vs.v(w) if F.sp.v(w) == 'verb' else 'p' if F.sp.v(w) == 'nmpr' else '',\n",
    "    ) for w in L.d(s, 'word') if F.sp.v(w) in TARGETS and (F.sp.v(w) != 'nmpr' or F.lex.v(w) in nmprFilter)))\n",
    "    if len(bag) <= 1: continue\n",
    "\n",
    "    fw = L.d(s, 'word')[0]\n",
    "    bk = F.book.v(L.u(fw, 'book')[0])\n",
    "    ch = F.chapter.v(L.u(fw, 'chapter')[0])\n",
    "    vs = F.verse.v(L.u(fw, 'verse')[0]) \n",
    "\n",
    "    for i in range(len(bag)):\n",
    "        others = list(range(i)) + list(range(i+1, len(bag)))\n",
    "        cues = '_'.join(bag[j] for j in others)\n",
    "        outcome = bag[i]\n",
    "        \n",
    "        of.write(fmt.format(\n",
    "            bk,\n",
    "            ch,\n",
    "            vs,\n",
    "            s,\n",
    "            cues,\n",
    "            outcome,\n",
    "        ))\n",
    "        ln += 1\n",
    "of.close()\n",
    "info('Wrote {} lines\\n'.format(ln))\n",
    "\n",
    "# with empty lines included: Wrote 204656 lines"
   ]
  },
  {
   "cell_type": "code",
   "execution_count": null,
   "metadata": {
    "collapsed": true,
    "deletable": true,
    "editable": true
   },
   "outputs": [],
   "source": []
  }
 ],
 "metadata": {
  "kernelspec": {
   "display_name": "Python 3",
   "language": "python",
   "name": "python3"
  },
  "language_info": {
   "codemirror_mode": {
    "name": "ipython",
    "version": 3
   },
   "file_extension": ".py",
   "mimetype": "text/x-python",
   "name": "python",
   "nbconvert_exporter": "python",
   "pygments_lexer": "ipython3",
   "version": "3.6.0"
  }
 },
 "nbformat": 4,
 "nbformat_minor": 1
}
