{
 "cells": [
  {
   "cell_type": "markdown",
   "metadata": {},
   "source": [
    "<a href=\"http://laf-fabric.readthedocs.org/en/latest/\" target=\"_blank\"><img align=\"left\" src=\"images/laf-fabric-xsmall.png\"/></a>\n",
    "<a href=\"http://www.godgeleerdheid.vu.nl/etcbc\" target=\"_blank\"><img align=\"left\" src=\"images/VU-ETCBC-xsmall.png\"/></a>\n",
    "<a href=\"http://www.persistent-identifier.nl/?identifier=urn%3Anbn%3Anl%3Aui%3A13-048i-71\" target=\"_blank\"><img align=\"left\"src=\"images/etcbc4easy-small.png\"/></a>\n",
    "<a href=\"http://tla.mpi.nl\" target=\"_blank\"><img align=\"right\" src=\"images/TLA-xsmall.png\"/></a>\n",
    "<a href=\"http://www.dans.knaw.nl\" target=\"_blank\"><img align=\"right\"src=\"images/DANS-xsmall.png\"/></a>"
   ]
  },
  {
   "cell_type": "markdown",
   "metadata": {},
   "source": [
    "# Phonological transliteration\n",
    "\n",
    "## A re-implementation of the transliteration rules by Nicolai Winther-Nielsen, Chris Wilson, and Claus Tøndering.\n",
    "\n",
    "Users of the [Bible Online Learner](http://bibleol.3bmoodle.dk/text/show_text/ETCBC4/) may encounter a phonologocial transliteration of Biblical Hebrew. This turns out to be a well documented transliteration scheme that is not\n",
    "merely a character-by-character transliteration of the Hebrew consonants and vowels.\n",
    "It is also a phonological representation, in which ambiguities are solved, e.g. the qamets as long a or short o, and the schwa (quiescens or mobile).\n",
    "\n",
    "As Nicolai Winther-Nielsen has pointed out, this is the kind of transliteration needed when you want to subject biblical Hebrew to the toolkit of modern linguists.\n",
    "\n",
    "So, we want to make use of this transliteration.\n",
    "\n",
    "However, we could not find a readily available means to do so online, and that is why we reimplement the rules stated in Nicolai's article (see below) in Python.\n",
    "\n",
    "* [Transliteration of Biblical Hebrew for the Role-Lexical Module](http://www.see-j.net/index.php/hiphil/article/view/62)\n",
    "* [Lex: A software project for linguists](http://www.see-j.net/index.php/hiphil/article/view/60/56)\n",
    "* [Bible Online Learner, Software on Github](https://github.com/EzerIT/BibleOL)"
   ]
  },
  {
   "cell_type": "code",
   "execution_count": 1,
   "metadata": {
    "collapsed": true
   },
   "outputs": [],
   "source": [
    "import sys, collections, re\n",
    "import unicodedata"
   ]
  },
  {
   "cell_type": "markdown",
   "metadata": {},
   "source": [
    "# Rules\n",
    "\n",
    "Here is a representation of the rules, manually copied from Nicolai's article.\n",
    "A rule is represented by the following bits of information:\n",
    "\n",
    "* character to be transliterated\n",
    "* preceding string\n",
    "* following string\n",
    "* replacement string\n",
    "\n",
    "A character is only transliterated by a rule, if the preceding and following string match.\n",
    "\n",
    "The order of the rules is important."
   ]
  },
  {
   "cell_type": "code",
   "execution_count": null,
   "metadata": {
    "collapsed": true
   },
   "outputs": [],
   "source": [
    "rules = '''\n",
    "\n",
    "'''"
   ]
  },
  {
   "cell_type": "code",
   "execution_count": 33,
   "metadata": {
    "collapsed": false
   },
   "outputs": [
    {
     "name": "stderr",
     "output_type": "stream",
     "text": [
      "  0.00s This is LAF-Fabric 4.5.3\n",
      "API reference: http://laf-fabric.readthedocs.org/en/latest/texts/API-reference.html\n",
      "Feature doc: http://shebanq-doc.readthedocs.org/en/latest/texts/welcome.html\n",
      "\n"
     ]
    }
   ],
   "source": [
    "from laf.fabric import LafFabric\n",
    "from etcbc.preprocess import prepare\n",
    "from etcbc.lib import Transcription\n",
    "fabric = LafFabric()"
   ]
  },
  {
   "cell_type": "code",
   "execution_count": 2,
   "metadata": {
    "collapsed": false,
    "scrolled": false
   },
   "outputs": [
    {
     "name": "stderr",
     "output_type": "stream",
     "text": [
      "  0.00s LOADING API: please wait ... \n",
      "  0.00s INFO: USING DATA COMPILED AT: 2015-06-29T05-30-49\n",
      "  6.15s LOGFILE=/Users/dirk/SURFdrive/laf-fabric-output/etcbc4b/pproduction/__log__pproduction.txt\n",
      "    16s ETCBC reference: http://laf-fabric.readthedocs.org/en/latest/texts/ETCBC-reference.html\n",
      "  0.00s LOADING API with EXTRAs: please wait ... \n",
      "  0.00s INFO: USING DATA COMPILED AT: 2015-06-29T05-30-49\n",
      "  0.68s INFO: DATA LOADED FROM SOURCE etcbc4b AND ANNOX -- FOR TASK pproduction AT 2015-08-27T12-28-30\n",
      "  0.00s INFO: DATA LOADED FROM SOURCE etcbc4b AND ANNOX -- FOR TASK pproduction AT 2015-08-27T12-28-30\n"
     ]
    }
   ],
   "source": [
    "version = '4b'\n",
    "fabric.load('etcbc{}'.format(version), '--', 'pproduction', {\n",
    "    \"xmlids\": {\"node\": False, \"edge\": False},\n",
    "    \"features\": ('''\n",
    "        otype\n",
    "        g_word_utf8 g_cons_utf8 trailer_utf8\n",
    "        g_word g_cons lex_utf8 lex\n",
    "        sp vs vt gn nu ps st\n",
    "        uvf prs\n",
    "        language\n",
    "        book chapter verse label\n",
    "    ''',''),\n",
    "    \"primary\": True,\n",
    "    \"prepare\": prepare,\n",
    "})\n",
    "exec(fabric.localnames.format(var='fabric'))"
   ]
  },
  {
   "cell_type": "markdown",
   "metadata": {},
   "source": [
    "## Trailer"
   ]
  },
  {
   "cell_type": "markdown",
   "metadata": {},
   "source": [
    "Before we generate the text, let's list all the different suffixes and their number of occurrences."
   ]
  },
  {
   "cell_type": "code",
   "execution_count": 3,
   "metadata": {
    "collapsed": false
   },
   "outputs": [],
   "source": [
    "trailer = collections.defaultdict(int)\n",
    "\n",
    "for node in F.otype.s('word'):\n",
    "    trailer[F.trailer_utf8.v(node)] += 1"
   ]
  },
  {
   "cell_type": "code",
   "execution_count": 61,
   "metadata": {
    "collapsed": true
   },
   "outputs": [],
   "source": [
    "trans = Transcription()"
   ]
  },
  {
   "cell_type": "markdown",
   "metadata": {
    "collapsed": true
   },
   "source": [
    "# Accent\n",
    "\n",
    "In order to interpret the qamets correctly as a or o we need to identify the closed, unaccented syllables.\n",
    "\n",
    "Here are the rules:\n",
    "\n",
    "A closed syllable is recognizable by a vowel\n",
    "\n",
    "* followed by two distinct consonants (of which the first has a silent schwa) or\n",
    "* followed by a consonant with a dagesh forte or\n",
    "* followed by a consonant without vowel and then the end of the word or a -\n",
    "\n",
    "Such a syllable is unaccented if \n",
    "\n",
    "* it does not have a maqaf accent on its first consonant and\n",
    "* it is followed by another syllable or a -\n"
   ]
  },
  {
   "cell_type": "code",
   "execution_count": null,
   "metadata": {
    "collapsed": true
   },
   "outputs": [],
   "source": []
  }
 ],
 "metadata": {
  "kernelspec": {
   "display_name": "Python 3",
   "language": "python",
   "name": "python3"
  },
  "language_info": {
   "codemirror_mode": {
    "name": "ipython",
    "version": 3
   },
   "file_extension": ".py",
   "mimetype": "text/x-python",
   "name": "python",
   "nbconvert_exporter": "python",
   "pygments_lexer": "ipython3",
   "version": "3.5.0"
  }
 },
 "nbformat": 4,
 "nbformat_minor": 0
}
