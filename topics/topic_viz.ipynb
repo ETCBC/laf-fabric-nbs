{
 "cells": [
  {
   "cell_type": "markdown",
   "metadata": {},
   "source": [
    "<a href=\"http://laf-fabric.readthedocs.org/en/latest/\" target=\"_blank\"><img align=\"left\" src=\"images/laf-fabric-small.png\"/></a>\n",
    "<a href=\"https://shebanq.ancient-data.org\" target=\"_blank\"><img align=\"left\"src=\"images/shebanq_logo_small.png\"/></a>\n",
    "<a href=\"http://dx.doi.org/10.17026/dans-z6y-skyh\" target=\"_blank\"><img align=\"left\"src=\"images/DANS-logo_small.png\"/></a>\n",
    "<a href=\"https://www.dbg.de/index.php?L=1\" target=\"_blank\"><img align=\"right\" src=\"images/DBG-small.png\"/></a>\n",
    "<a href=\"http://www.godgeleerdheid.vu.nl/etcbc\" target=\"_blank\"><img align=\"right\" src=\"images/VU-ETCBC-small.png\"/></a>"
   ]
  },
  {
   "cell_type": "markdown",
   "metadata": {},
   "source": [
    "# Topic analysis\n",
    "\n",
    "Joint work of Mathias Coeckelbergs and Dirk Roorda.\n",
    "\n",
    "Mathias is experimenting with topic detection experiments using Mallet.\n",
    "Here is a way to visualize topics.\n",
    "\n",
    "We are still in a preliminary stage (2016-04-06)."
   ]
  },
  {
   "cell_type": "markdown",
   "metadata": {},
   "source": [
    "# Start up"
   ]
  },
  {
   "cell_type": "code",
   "execution_count": 9,
   "metadata": {
    "collapsed": false
   },
   "outputs": [],
   "source": [
    "import os, sys, collections, re\n",
    "import networkx as nx\n",
    "from glob import glob\n",
    "\n",
    "import matplotlib.pyplot as plt\n",
    "%matplotlib inline"
   ]
  },
  {
   "cell_type": "markdown",
   "metadata": {},
   "source": [
    "# Data source"
   ]
  },
  {
   "cell_type": "code",
   "execution_count": 2,
   "metadata": {
    "collapsed": true
   },
   "outputs": [],
   "source": [
    "source='etcbc'\n",
    "version='4b'"
   ]
  },
  {
   "cell_type": "markdown",
   "metadata": {},
   "source": [
    "# Topic sources"
   ]
  },
  {
   "cell_type": "code",
   "execution_count": 3,
   "metadata": {
    "collapsed": false
   },
   "outputs": [
    {
     "data": {
      "text/plain": [
       "['etcbc_30_keys.txt',\n",
       " 'etcbc_40_keys.txt',\n",
       " 'etcbc_50_keys.txt',\n",
       " 'etcbc_60_keys.txt',\n",
       " 'etcbc_70_keys.txt',\n",
       " 'etcbc_80_keys.txt',\n",
       " 'etcbc_90_keys.txt']"
      ]
     },
     "execution_count": 3,
     "metadata": {},
     "output_type": "execute_result"
    }
   ],
   "source": [
    "topic_files = glob('{}_*_keys.txt'.format(source))\n",
    "topic_files"
   ]
  },
  {
   "cell_type": "markdown",
   "metadata": {},
   "source": [
    "# Read the topic files\n",
    "\n",
    "Every topic is a number. We will give a new name to each topic, namely\n",
    "\n",
    "    nn-tp\n",
    "    \n",
    "where `nn` is the number of topics in the file (indicated in the file name) and\n",
    "`tp` is the topic number within the file.\n",
    "\n",
    "We collect the topics in a dictionary containing for each topic the set of its words."
   ]
  },
  {
   "cell_type": "code",
   "execution_count": 10,
   "metadata": {
    "collapsed": false
   },
   "outputs": [
    {
     "name": "stdout",
     "output_type": "stream",
     "text": [
      "420 topics found\n"
     ]
    }
   ],
   "source": [
    "mask = re.compile('{}_([0-9]+)_keys.txt'.format(source))\n",
    "topic = {}\n",
    "\n",
    "def get_topics(n, tfile):\n",
    "    with open(tfile) as fh:\n",
    "        for line in fh:\n",
    "            (tp, nm, word_list) = line.rstrip().split('\\t')\n",
    "            words = word_list.split()\n",
    "            topic['{}-{}'.format(n, tp)] = words\n",
    "        \n",
    "    \n",
    "for topic_file in topic_files:\n",
    "    ntopic = mask.match(topic_file).group(1)\n",
    "    get_topics(ntopic, topic_file)\n",
    "\n",
    "print('{} topics found'.format(len(topic)))"
   ]
  },
  {
   "cell_type": "markdown",
   "metadata": {},
   "source": [
    "# Word index\n",
    "\n",
    "We make an inverse mapping as well: a dictionary that for each word gives the set of topics that contain that word."
   ]
  },
  {
   "cell_type": "code",
   "execution_count": 11,
   "metadata": {
    "collapsed": false
   },
   "outputs": [
    {
     "name": "stdout",
     "output_type": "stream",
     "text": [
      "4725 words found\n"
     ]
    }
   ],
   "source": [
    "word_topic = collections.defaultdict(set)\n",
    "\n",
    "def word2topic():\n",
    "    for tp in topic:\n",
    "        for w in topic[tp]: word_topic[w].add(tp)\n",
    "    print('{} words found'.format(len(word_topic)))\n",
    "\n",
    "word2topic()"
   ]
  },
  {
   "cell_type": "markdown",
   "metadata": {},
   "source": [
    "# Edges\n",
    "\n",
    "Now we can compute edges. We make an edge between each pair of topics that share a word.\n",
    "Topics may be connected by multiple edges. The edges are undirected.\n",
    "\n",
    "The method is: walk through all the words, pick the ones that belong to multiple topics, and create an edge for\n",
    "every pair among those multiple topics."
   ]
  },
  {
   "cell_type": "code",
   "execution_count": 12,
   "metadata": {
    "collapsed": false
   },
   "outputs": [
    {
     "name": "stdout",
     "output_type": "stream",
     "text": [
      "5783 edges found\n"
     ]
    }
   ],
   "source": [
    "edges = []\n",
    "\n",
    "def get_edges():\n",
    "    for w in word_topic:\n",
    "        tps = sorted(word_topic[w])\n",
    "        ntps = len(tps)\n",
    "        if ntps > 1:\n",
    "            for i in range(ntps - 1):\n",
    "                for j in range(i+1, ntps):\n",
    "                    edges.append((tps[i], tps[j]))\n",
    "    print('{} edges found'.format(len(edges)))\n",
    "\n",
    "get_edges()"
   ]
  },
  {
   "cell_type": "markdown",
   "metadata": {},
   "source": [
    "# Writing\n",
    "\n",
    "We write the graph in ncol format, so that it can be loaded into other tools.\n",
    "This is not needed for the rest of this notebook."
   ]
  },
  {
   "cell_type": "code",
   "execution_count": 13,
   "metadata": {
    "collapsed": false
   },
   "outputs": [],
   "source": [
    "NCOL_FILE = 'edges.ncol'\n",
    "def write_ncol():\n",
    "    with open(NCOL_FILE, 'w') as fh:\n",
    "        for e in edges: fh.write('{}\\t{}\\n'.format(*e))\n",
    "\n",
    "write_ncol()"
   ]
  },
  {
   "cell_type": "markdown",
   "metadata": {},
   "source": [
    "# The graph\n",
    "\n",
    "We create a graph directly from the list of edges."
   ]
  },
  {
   "cell_type": "code",
   "execution_count": 15,
   "metadata": {
    "collapsed": true
   },
   "outputs": [],
   "source": [
    "g = nx.Graph()\n",
    "g.add_edges_from(edges)"
   ]
  },
  {
   "cell_type": "markdown",
   "metadata": {},
   "source": [
    "# Draw\n",
    "\n",
    "We draw the graph.\n",
    "Here is just the standard way, without any customization.\n",
    "\n",
    "See the [networkx docs](https://networkx.github.io) for more sophisticated drawing.\n",
    "\n",
    "The drawing is also saved as a pdf file."
   ]
  },
  {
   "cell_type": "code",
   "execution_count": 18,
   "metadata": {
    "collapsed": false
   },
   "outputs": [
    {
     "data": {
      "image/png": "[encoded data removed]",
      "text/plain": [
       "<matplotlib.figure.Figure at 0x10b4e71d0>"
      ]
     },
     "metadata": {},
     "output_type": "display_data"
    }
   ],
   "source": [
    "nx.draw(g)\n",
    "plt.savefig(\"topics.pdf\")"
   ]
  },
  {
   "cell_type": "code",
   "execution_count": null,
   "metadata": {
    "collapsed": true
   },
   "outputs": [],
   "source": []
  }
 ],
 "metadata": {
  "kernelspec": {
   "display_name": "Python 3",
   "language": "python",
   "name": "python3"
  },
  "language_info": {
   "codemirror_mode": {
    "name": "ipython",
    "version": 3
   },
   "file_extension": ".py",
   "mimetype": "text/x-python",
   "name": "python",
   "nbconvert_exporter": "python",
   "pygments_lexer": "ipython3",
   "version": "3.5.1"
  }
 },
 "nbformat": 4,
 "nbformat_minor": 0
}
