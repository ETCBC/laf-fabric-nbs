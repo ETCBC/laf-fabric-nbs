{
 "cells": [
  {
   "cell_type": "code",
   "execution_count": 2,
   "metadata": {
    "collapsed": false
   },
   "outputs": [
    {
     "name": "stderr",
     "output_type": "stream",
     "text": [
      "  0.00s This is LAF-Fabric 4.5.21\n",
      "API reference: http://laf-fabric.readthedocs.org/en/latest/texts/API-reference.html\n",
      "Feature doc: https://shebanq.ancient-data.org/static/docs/featuredoc/texts/welcome.html\n",
      "\n"
     ]
    }
   ],
   "source": [
    "import sys, os, csv, re\n",
    "import collections\n",
    "import subprocess\n",
    "\n",
    "from lxml import etree\n",
    "from pprint import pprint\n",
    "\n",
    "%load_ext autoreload\n",
    "%autoreload 2\n",
    "import laf\n",
    "from laf.fabric import LafFabric\n",
    "from etcbc.preprocess import prepare\n",
    "from etcbc.lib import Transcription, monad_set\n",
    "\n",
    "#from etcbc.mql import MQL\n",
    "fabric = LafFabric()"
   ]
  },
  {
   "cell_type": "code",
   "execution_count": 31,
   "metadata": {
    "collapsed": false,
    "scrolled": true
   },
   "outputs": [
    {
     "name": "stderr",
     "output_type": "stream",
     "text": [
      "  0.00s LOADING API: please wait ... \n",
      "  0.00s DETAIL: COMPILING m: UP TO DATE\n",
      "  0.00s USING main  DATA COMPILED AT: 2015-12-17T15-56-05\n",
      "  0.00s DETAIL: COMPILING a: UP TO DATE\n",
      "  0.01s DETAIL: keep main: G.node_anchor_min\n",
      "  0.01s DETAIL: keep main: G.node_anchor_max\n",
      "  0.01s DETAIL: keep main: G.node_sort\n",
      "  0.01s DETAIL: keep main: G.node_sort_inv\n",
      "  0.01s DETAIL: keep main: G.edges_from\n",
      "  0.01s DETAIL: keep main: G.edges_to\n",
      "  0.01s DETAIL: keep main: F.etcbc4_db_otype [node] \n",
      "  0.01s DETAIL: keep main: F.etcbc4_ft_g_word_utf8 [node] \n",
      "  0.01s DETAIL: keep main: F.etcbc4_sft_book [node] \n",
      "  0.01s DETAIL: keep main: F.etcbc4_sft_chapter [node] \n",
      "  0.01s DETAIL: keep main: F.etcbc4_sft_verse [node] \n",
      "  0.01s DETAIL: clear main: F.etcbc4_ft_lex_utf8 [node] \n",
      "  0.01s DETAIL: clear main: F.etcbc4_ft_trailer_utf8 [node] \n",
      "  0.01s DETAIL: clear main: F.etcbc4_kq_g_qere_utf8 [node] \n",
      "  0.01s DETAIL: clear main: F.etcbc4_kq_qtrailer_utf8 [node] \n",
      "  0.01s DETAIL: clear main: F.etcbc4_ph_phono [node] \n",
      "  0.01s DETAIL: clear main: F.etcbc4_ph_phono_sep [node] \n",
      "  0.01s DETAIL: clear annox: F.etcbc4_db_otype [node] \n",
      "  0.01s DETAIL: clear annox: F.etcbc4_ft_g_word_utf8 [node] \n",
      "  0.01s DETAIL: clear annox: F.etcbc4_ft_lex_utf8 [node] \n",
      "  0.01s DETAIL: clear annox: F.etcbc4_ft_trailer_utf8 [node] \n",
      "  0.01s DETAIL: clear annox: F.etcbc4_kq_g_qere_utf8 [node] \n",
      "  0.01s DETAIL: clear annox: F.etcbc4_kq_qtrailer_utf8 [node] \n",
      "  0.01s DETAIL: clear annox: F.etcbc4_ph_phono [node] \n",
      "  0.01s DETAIL: clear annox: F.etcbc4_ph_phono_sep [node] \n",
      "  0.01s DETAIL: clear annox: F.etcbc4_sft_book [node] \n",
      "  0.02s DETAIL: clear annox: F.etcbc4_sft_chapter [node] \n",
      "  0.02s DETAIL: clear annox: F.etcbc4_sft_verse [node] \n",
      "  0.02s DETAIL: load main: F.etcbc4_ft_function [node] \n",
      "  0.17s DETAIL: load main: F.etcbc4_ft_g_cons [node] \n",
      "  0.42s DETAIL: load main: F.etcbc4_ft_g_cons_utf8 [node] \n",
      "  0.80s DETAIL: load main: F.etcbc4_ft_gn [node] \n",
      "  1.01s DETAIL: load main: F.etcbc4_ft_kind [node] \n",
      "  1.07s DETAIL: load main: F.etcbc4_ft_lex [node] \n",
      "  1.34s DETAIL: load main: F.etcbc4_ft_ls [node] \n",
      "  1.60s DETAIL: load main: F.etcbc4_ft_nu [node] \n",
      "  1.86s DETAIL: load main: F.etcbc4_ft_prs [node] \n",
      "  2.12s DETAIL: load main: F.etcbc4_ft_ps [node] \n",
      "  2.37s DETAIL: load main: F.etcbc4_ft_sp [node] \n",
      "  2.67s DETAIL: load main: F.etcbc4_ft_txt [node] \n",
      "  2.71s DETAIL: load main: F.etcbc4_ft_typ [node] \n",
      "  3.18s DETAIL: load main: F.etcbc4_ft_vs [node] \n",
      "  3.43s DETAIL: load main: F.etcbc4_ft_vt [node] \n",
      "  3.68s DETAIL: load main: F.etcbc4_sft_label [node] \n",
      "  3.71s DETAIL: load main: F.etcbc4_ft_functional_parent [e] \n",
      "  4.04s DETAIL: load main: C.etcbc4_ft_functional_parent -> \n",
      "  5.00s DETAIL: load main: C.etcbc4_ft_functional_parent <- \n",
      "  5.60s INFO: LOADING PREPARED data: please wait ... \n",
      "  5.60s DETAIL: keep prep: G.node_sort\n",
      "  5.60s DETAIL: keep prep: G.node_sort_inv\n",
      "  5.60s DETAIL: keep prep: L.node_up\n",
      "  5.60s DETAIL: keep prep: L.node_down\n",
      "  5.60s DETAIL: keep prep: V.verses\n",
      "  5.60s DETAIL: keep prep: V.books_la\n",
      "  5.60s ETCBC reference: http://laf-fabric.readthedocs.org/en/latest/texts/ETCBC-reference.html\n",
      "  7.70s INFO: LOADED PREPARED data\n",
      "  7.70s INFO: DATA LOADED FROM SOURCE etcbc4b AND ANNOX lexicon FOR TASK mql AT 2016-03-14T15-37-14\n"
     ]
    }
   ],
   "source": [
    "API=fabric.load('etcbc4b', '--', 'mql', {\n",
    "    \"xmlids\": {\"node\": False, \"edge\": False},\n",
    "    \"features\": ('''\n",
    "        otype nu ps gn vs vt prs ls lex g_cons g_word_utf8 g_cons_utf8\n",
    "        function txt\n",
    "        book chapter verse label sp kind typ \n",
    "    ''',\n",
    "    ''' functional_parent\n",
    "    '''),\n",
    "    \"prepare\": prepare,\n",
    "}, verbose='DETAIL')\n",
    "exec(fabric.localnames.format(var='fabric'))\n",
    "#Q = MQL(API)"
   ]
  },
  {
   "cell_type": "markdown",
   "metadata": {
    "collapsed": true
   },
   "source": [
    "All bet preposition constructions with infinitive hifil or nifal in the HB, at the beginning of a clause.\n",
    "F. we need verbal stem (vs) \n",
    "F. verbal tense (vt)\n",
    "value for vt = infc\n",
    "value for vs = nifal, hifil\n",
    "\n",
    "otype = word\n",
    "InfC, value "
   ]
  },
  {
   "cell_type": "code",
   "execution_count": 60,
   "metadata": {
    "collapsed": false,
    "scrolled": true
   },
   "outputs": [],
   "source": [
    "infc_lst = []\n",
    "\n",
    "\n",
    "def find_infc():\n",
    "    '''Finds the infinitive construct phrase with verbal stem hifil or nifal with prepostion b.'''\n",
    "    for node in NN():\n",
    "        if F.otype.v(node) == 'word': \n",
    "            if F.vt.v(node) == 'infc' and F.vs.v(node) == 'hif' or F.vs.v(node) == 'nif':\n",
    "                phrases = L.u('phrase', node)\n",
    "                b_found = False\n",
    "                for word in L.d('word', phrases):\n",
    "                    if word == node and b_found:   \n",
    "                        infc_lst.append(word)\n",
    "                        break\n",
    "                    b_found = F.lex.v(word) == 'B'\n",
    "\n",
    "            \n",
    "find_infc()"
   ]
  },
  {
   "cell_type": "code",
   "execution_count": 63,
   "metadata": {
    "collapsed": false
   },
   "outputs": [
    {
     "data": {
      "text/plain": [
       "117"
      ]
     },
     "execution_count": 63,
     "metadata": {},
     "output_type": "execute_result"
    }
   ],
   "source": [
    "words = [F.g_cons_utf8.v(n) for n in infc_lst]\n",
    "len(words)"
   ]
  },
  {
   "cell_type": "code",
   "execution_count": 87,
   "metadata": {
    "collapsed": false,
    "scrolled": true
   },
   "outputs": [],
   "source": [
    "def is_start(n):\n",
    "    '''Finds the second word in the clause. The infc is in the second position of the clause'''\n",
    "    c = L.u('clause', n)\n",
    "    words = list(L.d('word', c))\n",
    "    return len(words) > 1 and words[1] == n"
   ]
  },
  {
   "cell_type": "code",
   "execution_count": 110,
   "metadata": {
    "collapsed": false
   },
   "outputs": [],
   "source": [
    "data_lst = []\n",
    "for n in infc_lst: \n",
    "    book = L.u('book', n)\n",
    "    verse = L.u('verse', n)\n",
    "    clause = L.u('clause', n)\n",
    "    data_lst.append([\n",
    "            str(n), \n",
    "            str(is_start(n)), \n",
    "            F.g_cons.v(n), \n",
    "            T.book_name(book), \n",
    "            str(F.chapter.v(verse)), \n",
    "            str(F.verse.v(verse)),\n",
    "            T.words(L.d('word', clause)).strip('\\n')\n",
    "    ])"
   ]
  },
  {
   "cell_type": "code",
   "execution_count": 111,
   "metadata": {
    "collapsed": false
   },
   "outputs": [],
   "source": [
    "with open(\"b-Inf.csv\", 'w') as f:\n",
    "    header = ['node', 'start', 'verb', 'book', 'chapter', 'verse', 'clause']\n",
    "    f.write('{}\\n'.format(','.join(header)))\n",
    "\n",
    "    for item in data_lst:\n",
    "        f.write('{}\\n'.format(','.join(item)))"
   ]
  },
  {
   "cell_type": "code",
   "execution_count": 93,
   "metadata": {
    "collapsed": false,
    "scrolled": true
   },
   "outputs": [
    {
     "name": "stdout",
     "output_type": "stream",
     "text": [
      "הבראם True בְּהִבָּֽרְאָ֑ם \n",
      "המלו True בְּהִמֹּלֹ֖ו בְּשַׂ֥ר עָרְלָתֹֽו׃\n",
      "\n",
      "המלו True בְּהִ֨מֹּלֹ֔ו אֵ֖ת בְּשַׂ֥ר עָרְלָתֹֽו׃\n",
      "\n",
      "הולד True בְּהִוָּ֣לֶד לֹ֔ו אֵ֖ת יִצְחָ֥ק בְּנֹֽו׃\n",
      "\n",
      "העטיף True בְהַעֲטִ֥יף הַצֹּ֖אן \n",
      "האבקו True בְּהֵֽאָבְקֹ֖ו עִמֹּֽו׃\n",
      "\n",
      "המול True בְּהִמֹּ֥ול לָ֨נוּ֙ כָּל־זָכָ֔ר \n",
      "הקשׁתה True בְהַקְשֹׁתָ֖הּ \n",
      "הוציאך True בְּהֹוצִֽיאֲךָ֤ אֶת־הָעָם֙ מִמִּצְרַ֔יִם \n",
      "הכתי True בְּהַכֹּתִ֖י בְּאֶ֥רֶץ מִצְרָֽיִם׃\n",
      "\n",
      "הכבדי True בְּהִכָּבְדִ֣י בְּפַרְעֹ֔ה בְּרִכְבֹּ֖ו וּבְפָרָשָֽׁיו׃\n",
      "\n",
      "הוציאי True בְּהֹוצִיאִ֥י אֶתְכֶ֖ם מֵאֶ֥רֶץ מִצְרָֽיִם׃\n",
      "\n",
      "היטיבו True בְּהֵיטִיבֹ֛ו אֶת־הַנֵּרֹ֖ת \n",
      "העלת True בְהַעֲלֹ֨ת אַהֲרֹ֧ן אֶת־הַנֵּרֹ֛ת בֵּ֥ין הָעֲרְבַּ֖יִם \n",
      "העלות True בְהֵעָלֹ֤ות הֶֽעָנָן֙ מֵעַ֣ל הַמִּשְׁכָּ֔ן \n",
      "הוציאי True בְּהֹוצִיאִ֥י אֹותָ֖ם מֵאֶ֣רֶץ מִצְרָ֑יִם \n",
      "הקרבם True בְּֽהַקְרִבָם֩ אֵ֨שׁ זָרָ֜ה לִפְנֵ֤י יְהוָה֙ בְּמִדְבַּ֣ר סִינַ֔י \n",
      "העלתך True בְּהַעֲלֹֽתְךָ֙ אֶת־הַנֵּרֹ֔ת \n",
      "האריך False וּבְהַאֲרִ֧יךְ הֶֽעָנָ֛ן עַל־הַמִּשְׁכָּ֖ן יָמִ֣ים רַבִּ֑ים \n",
      "האריך True בְּהַאֲרִ֨יךְ הֶעָנָ֤ן עַל־הַמִּשְׁכָּן֙ \n",
      "העלתו True בְהֵעָלֹתֹ֖ו \n",
      "הקהיל True בְהַקְהִ֖יל אֶת־הַקָּהָ֑ל \n",
      "הקהל True בְּהִקָּהֵ֤ל הָֽעֵדָה֙ עַל־מֹשֶׁ֣ה וְעַֽל־אַהֲרֹ֔ן \n",
      "הרימכם True בַּהֲרִֽימְכֶ֤ם אֶת־חֶלְבֹּו֙ מִמֶּ֔נּוּ \n",
      "הרימכם True בַּהֲרִֽימְכֶ֥ם אֶת־חֶלְבֹּ֖ו מִמֶּ֑נּוּ \n",
      "הצתם True בְּהַצֹּתָ֖ם עַל־יְהוָֽה׃\n",
      "\n",
      "הקריבם True בְּהַקְרִיבָ֥ם אֵשׁ־זָרָ֖ה לִפְנֵ֥י יְהוָֽה׃\n",
      "\n",
      "הקריבכם True בְּהַקְרִ֨יבְכֶ֜ם מִנְחָ֤ה חֲדָשָׁה֙ לַֽיהוָ֔ה בְּשָׁבֻעֹ֖תֵיכֶ֑ם \n",
      "הניח True בְּהָנִ֣יחַ יְהוָ֣ה אֱלֹהֶ֣יךָ ׀ לְ֠ךָ מִכָּל־אֹ֨יְבֶ֜יךָ מִסָּבִ֗יב בָּאָ֨רֶץ֙ \n",
      "הוציאו True בְּהֹוצִיאֹ֥ו אֹתָ֖ם מֵאֶ֥רֶץ מִצְרָֽיִם׃\n",
      "\n",
      "הפרידו True בְּהַפְרִידֹ֖ו בְּנֵ֣י אָדָ֑ם \n",
      "הריחו True בַּהֲרִיחֹ֣ו אֵ֔שׁ \n",
      "השׁביע True בְּהַשְׁבִּ֣יעַ אָבִיו֮ אֶת־הָעָם֒ \n",
      "הכרת True בְּהַכְרִ֤ת יְהוָה֙ אֶת־אֹיְבֵ֣י דָוִ֔ד \n",
      "העותו False אֲשֶׁר֙ בְּהַ֣עֲוֹתֹ֔ו \n",
      "הבנתו True בְּהִבָּ֣נֹתֹ֔ו \n",
      "הבנתו True בְּהִבָּנֹתֹֽו׃\n",
      "\n",
      "הוציאו True בְּהֹוצִיאֹ֥ו אֹתָ֖ם מֵאֶ֥רֶץ מִצְרָֽיִם׃ ס \n",
      "\n",
      "הנגף True בְּֽהִנָּגֵ֞ף עַמְּךָ֧ יִשְׂרָאֵ֛ל לִפְנֵ֥י אֹויֵ֖ב \n",
      "העצר True בְּהֵעָצֵ֥ר שָׁמַ֛יִם \n",
      "הוציאך True בְּהֹוצִיאֲךָ֧ אֶת־אֲבֹתֵ֛ינוּ מִמִּצְרַ֖יִם \n",
      "הכרית True בְּהַכְרִ֣ית אִיזֶ֔בֶל אֵ֖ת נְבִיאֵ֣י יְהוָ֑ה \n",
      "עלות True בַּעֲלֹ֣ות הַמִּנְחָ֗ה \n",
      "העלות True בְּהַעֲלֹ֤ות יְהוָה֙ אֶת־אֵ֣לִיָּ֔הוּ בַּֽסְעָרָ֖ה הַשָּׁמָ֑יִם \n",
      "הלחמו True בְּהִלָּ֣חֲמֹ֔ו אֶת־חֲזָהאֵ֖ל מֶ֣לֶךְ אֲרָ֑ם \n",
      "הלחמו True בְּהִלָּ֣חֲמֹ֔ו אֶת־חֲזָאֵ֖ל מֶ֣לֶךְ אֲרָ֑ם \n",
      "המצאו True בְּהִמָּצְאֹ֑ו \n",
      "גלותו True בַּ֠גְלֹותֹו אֶת־יְכָנְיָ֨ה בֶן־יְהֹויָקִ֧ים מֶֽלֶךְ־יְהוּדָ֛ה מִירֽוּשָׁלִַ֖ם בָּבֶ֑לָה \n",
      "העלות True בְּהֵֽעָלֹות֙ חֵ֣יל הַכַּשְׂדִּ֔ים מֵעַ֖ל יְרֽוּשָׁלִָ֑ם מִפְּנֵ֖י חֵ֥יל פַּרְעֹֽה׃ ס \n",
      "\n",
      "הנשׂא False וּבְהִנָּשֵׂ֤א הַֽחַיֹּות֙ מֵעַ֣ל הָאָ֔רֶץ \n",
      "הנשׂאם False וּֽבְהִנָּשְׂאָ֞ם מֵעַ֣ל הָאָ֗רֶץ \n",
      "הזרותיכם True בְּהִזָּרֹֽותֵיכֶ֖ם בָּאֲרָצֹֽות׃\n",
      "\n",
      "הפיצי True בַּהֲפִיצִ֤י אֹותָם֙ בַּגֹּויִ֔ם \n",
      "העביר True בְּהַעֲבִ֥יר אֹותָ֖ם לָהֶֽם׃\n",
      "\n",
      "העביר True בְּהַעֲבִ֖יר כָּל־פֶּ֣טֶר רָ֑חַם \n",
      "העביר True בְּֽהַעֲבִיר֩ בְּנֵיכֶ֨ם בָּאֵ֜שׁ \n",
      "הוציאי True בְּהֹוצִיאִ֤י אֶתְכֶם֙ מִן־הָ֣עַמִּ֔ים \n",
      "הביאי True בַּהֲבִיאִ֥י אֶתְכֶ֖ם אֶל־אַדְמַ֣ת יִשְׂרָאֵ֑ל אֶל־הָאָ֗רֶץ \n",
      "הגלות True בְּהִגָּלֹ֣ות פִּשְׁעֵיכֶ֗ם \n",
      "הרג True בֵּהָ֤רֵֽג הֶ֨רֶג֙ בְּתֹוכֵ֔ךְ \n",
      "העלות True בְּהַעֲלֹ֤ות עָלַ֨יִךְ֙ אֶת־תְּהֹ֔ום \n",
      "השׁענם True בְהִֽשָּׁעֲנָ֤ם עָלֶ֨יךָ֙ \n",
      "הורדי True בְּהֹורִדִ֥י אֹתֹ֛ו שְׁאֹ֖ולָה אֶת־יֹ֣ורְדֵי בֹ֑ור \n",
      "הביאי True בַּהֲבִיאִ֤י שִׁבְרְךָ֙ בַּגֹּויִ֔ם \n",
      "הכותי True בְּהַכֹּותִ֖י אֶת־כָּל־\n",
      "הקדשׁי True בְּהִקָּדְשִׁ֥י בָכֶ֖ם לְעֵינֵיהֶֽם׃\n",
      "\n",
      "העלותי False וּבְהַעֲלֹותִ֥י אֶתְכֶ֛ם מִקִּבְרֹותֵיכֶ֖ם \n",
      "הקדשׁי True בְּהִקָּדְשִׁ֥י בְךָ֛ לְעֵינֵיהֶ֖ם \n",
      "הגלותי True בְּהַגְלֹותִ֤י אֹתָם֙ אֶל־הַגֹּויִ֔ם \n",
      "הביאכם True בַּהֲבִיאֲכֶ֣ם בְּנֵֽי־נֵכָ֗ר עַרְלֵי־לֵב֙ וְעַרְלֵ֣י בָשָׂ֔ר \n",
      "הקריבכם True בְּהַקְרִֽיבְכֶ֤ם אֶת־לַחְמִי֙ חֵ֣לֶב וָדָ֔ם \n",
      "הפילכם True בְהַפִּֽילְכֶ֨ם אֶת־הָאָ֜רֶץ בְּנַחֲלָ֗ה \n",
      "הקציף True בְּהַקְצִ֤יף אֲבֹֽתֵיכֶם֙ אֹתִ֔י \n",
      "הנבאו True בְּהִנָּבְאֹֽו׃\n",
      "\n",
      "הנבאתו True בְּהִנָּֽבְאֹתֹ֑ו \n",
      "הראותו True בְּהֵרָֽאֹותֹ֑ו \n",
      "הקיץ True בְ֝הָקִ֗יץ \n",
      "הוסדם True בְּהִוָּסְדָ֣ם יַ֣חַד עָלַ֑י \n",
      "השׁפטו True בְּהִשָּׁפְטֹֽו׃\n",
      "\n",
      "הכרת True בְּהִכָּרֵ֖ת רְשָׁעִ֣ים \n",
      "המיר True בְּהָמִ֣יר אָ֑רֶץ \n",
      "הצותו True בְּהַצֹּותֹ֨ו ׀ אֶ֥ת אֲרַ֣ם נַהֲרַיִם֮ וְאֶת־אֲרַ֪ם צֹ֫ובָ֥ה \n",
      "עיר True בָּעִ֤יר ׀ \n",
      "נפלאותיו False וְלֹֽא־הֶ֝אֱמִ֗ינוּ בְּנִפְלְאֹותָֽיו׃\n",
      "\n",
      "נאמני False עֵינַ֤י ׀ בְּנֶֽאֶמְנֵי־אֶרֶץ֮ \n",
      "הקבץ True בְּהִקָּבֵ֣ץ עַמִּ֣ים יַחְדָּ֑ו \n",
      "השׁפטו True בְּ֭הִשָּׁ֣פְטֹו \n",
      "הביטי True בְּ֝הַבִּיטִ֗י אֶל־כָּל־מִצְוֹתֶֽיךָ׃\n",
      "\n",
      "נפלאותיך False וְ֝אָשִׂ֗יחָה בְּנִפְלְאֹותֶֽיךָ׃\n",
      "\n",
      "נפלאות False וְלֹֽא־הִלַּ֓כְתִּי ׀ בִּגְדֹלֹ֖ות וּבְנִפְלָאֹ֣ות מִמֶּֽנִּי׃\n",
      "\n",
      "המרותם True בְהַמְּרֹותָ֗ם \n",
      "הלו True בְּהִלֹּ֣ו נֵ֭רֹו עֲלֵ֣י רֹאשִׁ֑י \n",
      "השׁקט True בְּהַשְׁקִ֥ט אֶ֝֗רֶץ מִדָּרֹֽום׃\n",
      "\n",
      "הכינו True בַּהֲכִינֹ֣ו שָׁ֭מַיִם \n",
      "השׂכיל True בְהַשְׂכִּ֥יל לְ֝חָכָ֗ם \n",
      "כשׁלו True בִכָּשְׁלֹ֗ו \n",
      "הכלים True בְּהַכְלִ֖ים אֹתְךָ֣ רֵעֶֽךָ׃\n",
      "\n",
      "עטף True בֵּֽעָטֵ֤ף עֹולֵל֙ וְיֹונֵ֔ק בִּרְחֹבֹ֖ות קִרְיָֽה׃ ס \n",
      "\n",
      "הראתו True בְּהַרְאֹתֹ֗ו אֶת־עֹ֨שֶׁר֙ כְּבֹ֣וד מַלְכוּתֹ֔ו וְאֶ֨ת־יְקָ֔ר תִּפְאֶ֖רֶת גְּדוּלָּתֹ֑ו יָמִ֣ים רַבִּ֔ים שְׁמֹונִ֥ים וּמְאַ֖ת יֹֽום׃\n",
      "\n",
      "השׁמע True בְּהִשָּׁמַ֤ע דְּבַר־הַמֶּ֨לֶךְ֙ וְדָתֹ֔ו \n",
      "הקבץ False וּֽבְהִקָּבֵ֞ץ נְעָרֹ֥ות רַבֹּ֛ות אֶל־שׁוּשַׁ֥ן הַבִּירָ֖ה אֶל־יַ֣ד הֵגָ֑י \n",
      "הגיע False וּבְהַגִּ֡יעַ תֹּר֩ נַעֲרָ֨ה וְנַעֲרָ֜ה \n",
      "הגיע True בְהַגִּ֣יעַ תֹּר־אֶסְתֵּ֣ר בַּת־אֲבִיחַ֣יִל דֹּ֣ד מָרְדֳּכַ֡י \n",
      "הקבץ False וּבְהִקָּבֵ֥ץ בְּתוּלֹ֖ות שֵׁנִ֑ית \n",
      "החבא True בְּהֵחָבֵֽא׃\n",
      "\n",
      "הכשׁלם True בְהִכָּ֣שְׁלָ֔ם \n",
      "הודת False וּבְהֹודֹ֤ת לַֽיהוָה֙ \n",
      "עשׂר True בַּעְשֵׂ֣ר הַלְוִיִּ֑ם \n",
      "הגלות True בְּהַגְלֹ֣ות יְהוָ֔ה אֶת־יְהוּדָ֖ה וִירוּשָׁלִָ֑ם בְּיַ֖ד נְבֻכַדְנֶאצַּֽר׃ ס \n",
      "\n",
      "העצר True בְּהֵעָצֵ֧ר הַשָּׁמַ֛יִם \n",
      "הכנעו True בְהִכָּֽנְעֹ֗ו \n",
      "הריע True בְּהָרִ֨יעַ֙ אִ֣ישׁ יְהוּדָ֔ה \n",
      "השׁענך True בְּהִשָּׁ֨עֶנְךָ֜ עַל־מֶ֤לֶךְ אֲרָם֙ \n",
      "השׁענך True בְהִשָּֽׁעֶנְךָ֥ עַל־יְהוָ֖ה \n",
      "הלחמו True בְּהִלָּ֣חֲמֹ֔ו אֶת־חֲזָהאֵ֖ל מֶ֣לֶךְ אֲרָ֑ם \n",
      "הוציאם True בְהֹוצִיאָ֣ם אֶת־הַכֶּ֔סֶף \n",
      "העלות True בְּהַֽעֲלֹ֛ות הָעֹולָ֥ה וְהַחֲלָבִ֖ים עַד־לָ֑יְלָה \n"
     ]
    }
   ],
   "source": [
    "for (node, start, verb, book, chapter, verse, clause) in data_lst:\n",
    "    print('{} {} {}'.format(verb, start, clause))"
   ]
  }
 ],
 "metadata": {
  "kernelspec": {
   "display_name": "Python 3",
   "language": "python",
   "name": "python3"
  },
  "language_info": {
   "codemirror_mode": {
    "name": "ipython",
    "version": 3
   },
   "file_extension": ".py",
   "mimetype": "text/x-python",
   "name": "python",
   "nbconvert_exporter": "python",
   "pygments_lexer": "ipython3",
   "version": "3.5.1"
  }
 },
 "nbformat": 4,
 "nbformat_minor": 0
}
