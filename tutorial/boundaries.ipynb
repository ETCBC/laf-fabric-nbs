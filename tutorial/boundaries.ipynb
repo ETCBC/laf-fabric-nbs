{
 "cells": [
  {
   "cell_type": "markdown",
   "metadata": {},
   "source": [
    "<a href=\"http://laf-fabric.readthedocs.org/en/latest/\" target=\"_blank\"><img align=\"left\" src=\"images/laf-fabric-small.png\"/></a>\n",
    "<a href=\"http://www.persistent-identifier.nl/?identifier=urn%3Anbn%3Anl%3Aui%3A13-048i-71\" target=\"_blank\"><img align=\"left\"src=\"images/DANS-logo_small.png\"/></a>\n",
    "<a href=\"http://www.godgeleerdheid.vu.nl/etcbc\" target=\"_blank\"><img align=\"right\" src=\"images/VU-ETCBC-small.png\"/></a>\n",
    "<a href=\"https://www.academic-bible.com/en/online-bibles/biblia-hebraica-stuttgartensia-bhs/read-the-bible-text/\" target=\"_blank\"><img align=\"right\" src=\"files/images/DBG-small.png\"/></a>"
   ]
  },
  {
   "cell_type": "markdown",
   "metadata": {},
   "source": [
    "# Boundaries\n",
    "\n",
    "Some clauses bridge the boundaries between verses. We will list all cases.\n",
    "We also check whether clauses ever cross a chapter boundary."
   ]
  },
  {
   "cell_type": "code",
   "execution_count": 1,
   "metadata": {
    "collapsed": false
   },
   "outputs": [
    {
     "name": "stderr",
     "output_type": "stream",
     "text": [
      "  0.00s This is LAF-Fabric 4.8.2\n",
      "API reference: http://laf-fabric.readthedocs.org/en/latest/texts/API-reference.html\n",
      "Feature doc: https://shebanq.ancient-data.org/static/docs/featuredoc/texts/welcome.html\n",
      "\n"
     ]
    }
   ],
   "source": [
    "import sys, os\n",
    "\n",
    "import laf\n",
    "from laf.fabric import LafFabric\n",
    "from etcbc.preprocess import prepare\n",
    "fabric = LafFabric()"
   ]
  },
  {
   "cell_type": "markdown",
   "metadata": {},
   "source": [
    "# Loading the feature data"
   ]
  },
  {
   "cell_type": "code",
   "execution_count": 2,
   "metadata": {
    "collapsed": false,
    "scrolled": false
   },
   "outputs": [
    {
     "name": "stderr",
     "output_type": "stream",
     "text": [
      "  0.00s LOADING API: please wait ... \n",
      "  0.01s DETAIL: COMPILING m: etcbc4b: UP TO DATE\n",
      "  0.01s USING main: etcbc4b DATA COMPILED AT: 2015-11-02T15-08-56\n",
      "  0.01s DETAIL: COMPILING a: lexicon: UP TO DATE\n",
      "  0.02s USING annox: lexicon DATA COMPILED AT: 2016-07-08T14-32-54\n",
      "  0.02s DETAIL: COMPILING a: para: UP TO DATE\n",
      "  0.02s USING annox: para DATA COMPILED AT: 2016-07-08T14-38-37\n",
      "  0.03s DETAIL: load main: G.node_anchor_min\n",
      "  0.14s DETAIL: load main: G.node_anchor_max\n",
      "  0.20s DETAIL: load main: G.node_sort\n",
      "  0.25s DETAIL: load main: G.node_sort_inv\n",
      "  0.62s DETAIL: load main: G.edges_from\n",
      "  0.67s DETAIL: load main: G.edges_to\n",
      "  0.73s DETAIL: load main: F.etcbc4_db_otype [node] \n",
      "  1.29s LOGFILE=/Users/dirk/laf/laf-fabric-output/etcbc4b/paragraphs/__log__paragraphs.txt\n",
      "  1.29s INFO: LOADING PREPARED data: please wait ... \n",
      "  1.29s prep prep: G.node_sort\n",
      "  1.34s prep prep: G.node_sort_inv\n",
      "  2.01s prep prep: L.node_up\n",
      "  4.62s prep prep: L.node_down\n",
      "  9.65s prep prep: V.verses\n",
      "  9.68s prep prep: V.books_la\n",
      "  9.68s ETCBC reference: http://laf-fabric.readthedocs.org/en/latest/texts/ETCBC-reference.html\n",
      "    12s INFO: LOADED PREPARED data\n",
      "    12s INFO: DATA LOADED FROM SOURCE etcbc4b AND ANNOX lexicon, para FOR TASK paragraphs AT 2016-09-24T16-37-35\n"
     ]
    }
   ],
   "source": [
    "version = '4b'\n",
    "API = fabric.load('etcbc{}'.format(version), 'lexicon,para', 'paragraphs', {\n",
    "    \"xmlids\": {\"node\": False, \"edge\": False},\n",
    "    \"features\": ('''\n",
    "        otype \n",
    "    ''',\n",
    "    '''\n",
    "    '''),\n",
    "    \"prepare\": prepare,\n",
    "    \"primary\": False,\n",
    "}, verbose='DETAIL')\n",
    "exec(fabric.localnames.format(var='fabric'))"
   ]
  },
  {
   "cell_type": "markdown",
   "metadata": {},
   "source": [
    "# Result\n",
    "\n",
    "We collect the verse- and chapter crossing clauses\n",
    "and print out the number of occurrences."
   ]
  },
  {
   "cell_type": "code",
   "execution_count": 5,
   "metadata": {
    "collapsed": false
   },
   "outputs": [
    {
     "name": "stdout",
     "output_type": "stream",
     "text": [
      " 5m 53s Inspecting all clauses\n",
      " 5m 55s Done\n",
      "# chapter crossing clauses:    0\n",
      "# verse   crossing clauses:   50\n"
     ]
    }
   ],
   "source": [
    "inf('Inspecting all clauses')\n",
    "chapter_cross = set()\n",
    "verse_cross = set()\n",
    "for c in F.otype.s('clause'):\n",
    "    words = L.d('word', c)\n",
    "    (first_word, last_word) = (words[0], words[-1])\n",
    "    if L.u('chapter', first_word) != L.u('chapter', last_word):\n",
    "        chapter_cross.add(c)\n",
    "    if L.u('verse', first_word) != L.u('verse', last_word):\n",
    "        verse_cross.add(c)\n",
    "inf('Done')\n",
    "print('# chapter crossing clauses: {:>4}'.format(len(chapter_cross)))\n",
    "print('# verse   crossing clauses: {:>4}'.format(len(verse_cross)))\n",
    "\n"
   ]
  },
  {
   "cell_type": "raw",
   "metadata": {
    "collapsed": true
   },
   "source": [
    "Here are the verse crossing clauses:"
   ]
  },
  {
   "cell_type": "code",
   "execution_count": 9,
   "metadata": {
    "collapsed": false,
    "scrolled": false
   },
   "outputs": [
    {
     "name": "stdout",
     "output_type": "stream",
     "text": [
      "Deuteronomy 9:1-2\n",
      "לָרֶ֣שֶׁת גֹּויִ֔ם עָרִ֛ים עַֽם־גָּדֹ֥ול וָרָ֖ם בְּנֵ֣י עֲנָקִ֑ים \n",
      "\n",
      "Leviticus 7:3-4\n",
      "וְאֵ֥ת כָּל־חֶלְבֹּ֖ו יַקְרִ֣יב מִמֶּ֑נּוּ אֵ֚ת הָֽאַלְיָ֔ה וְאֶת־הַחֵ֖לֶב וְאֵת֙ שְׁתֵּ֣י הַכְּלָיֹ֔ת וְאֶת־הַחֵ֨לֶב֙ \n",
      "\n",
      "Deuteronomy 6:10-11\n",
      "כִּ֥י יְבִיאֲךָ֣ ׀ יְהוָ֣ה אֱלֹהֶ֗יךָ אֶל־הָאָ֜רֶץ עָרִ֛ים גְּדֹלֹ֥ת וְטֹבֹ֖ת וּבָ֨תִּ֜ים וּבֹרֹ֤ת חֲצוּבִים֙ כְּרָמִ֥ים וְזֵיתִ֖ים \n",
      "\n",
      "Isaiah 55:10-11\n",
      "כִּ֡י כֵּ֣ן יִֽהְיֶ֤ה דְבָרִי֙ \n",
      "\n",
      "Jeremiah 43:5-6\n",
      "וַיִּקַּ֞ח יֹוחָנָ֤ן בֶּן־קָרֵ֨חַ֙ וְכָל־שָׂרֵ֣י הַחֲיָלִ֔ים אֵ֖ת כָּל־שְׁאֵרִ֣ית יְהוּדָ֑ה אֶֽת־הַ֠גְּבָרִים וְאֶת־הַנָּשִׁ֣ים וְאֶת־הַטַּף֮ וְאֶת־בְּנֹ֣ות הַמֶּלֶךְ֒ וְאֵ֣ת כָּל־הַנֶּ֗פֶשׁ וְאֵת֙ יִרְמְיָ֣הוּ הַנָּבִ֔יא וְאֶת־בָּר֖וּךְ בֶּן־נֵרִיָּֽהוּ׃ \n",
      "\n",
      "Numbers 29:5-6\n",
      "וּשְׂעִיר־עִזִּ֥ים אֶחָ֖ד חַטָּ֑את מִלְּבַד֩ עֹלַ֨ת הַחֹ֜דֶשׁ וּמִנְחָתָ֗הּ וְעֹלַ֤ת הַתָּמִיד֙ וּמִנְחָתָ֔הּ וְנִסְכֵּיהֶ֖ם כְּמִשְׁפָּטָ֑ם לְרֵ֣יחַ נִיחֹ֔חַ אִשֶּׁ֖ה לַיהוָֽה׃ ס  \n",
      "\n",
      "1_Kings 8:41-43\n",
      "וְגַם֙ אֶל־הַנָּכְרִ֔י אַתָּ֞ה תִּשְׁמַ֤ע הַשָּׁמַ֨יִם֙ מְכֹ֣ון שִׁבְתֶּ֔ךָ \n",
      "\n",
      "2_Samuel 8:11-12\n",
      "אֲשֶׁ֣ר הִקְדִּ֔ישׁ מִכָּל־הַגֹּויִ֖ם מֵאֲרָ֤ם וּמִמֹּואָב֙ וּמִבְּנֵ֣י עַמֹּ֔ון וּמִפְּלִשְׁתִּ֖ים וּמֵֽעֲמָלֵ֑ק וּמִשְּׁלַ֛ל הֲדַדְעֶ֥זֶר בֶּן־רְחֹ֖ב מֶ֥לֶךְ צֹובָֽה׃ \n",
      "\n",
      "Leviticus 5:23-24\n",
      "וְהֵשִׁ֨יב אֶת־הַגְּזֵלָ֜ה אֹ֤ו אֶת־הָעֹ֨שֶׁק֙ אֹ֚ו אֶת־הַפִּקָּדֹ֔ון אֹ֥ו אֶת־הָאֲבֵדָ֖ה אֹ֠ו מִכֹּ֞ל \n",
      "\n",
      "Exodus 28:9-10\n",
      "וּפִתַּחְתָּ֣ עֲלֵיהֶ֔ם שְׁמֹ֖ות בְּנֵ֥י יִשְׂרָאֵֽל׃ כְּתֹולְדֹתָֽם׃ \n",
      "\n",
      "Exodus 36:37-38\n",
      "וַיַּ֤עַשׂ מָסָךְ֙ לְפֶ֣תַח הָאֹ֔הֶל תְּכֵ֧לֶת וְאַרְגָּמָ֛ן וְתֹולַ֥עַת שָׁנִ֖י וְשֵׁ֣שׁ מָשְׁזָ֑ר וְאֶת־עַמּוּדָ֤יו חֲמִשָּׁה֙ וְאֶת־וָ֣וֵיהֶ֔ם \n",
      "\n",
      "Job 4:13-14\n",
      "בִּ֭שְׂעִפִּים מֵחֶזְיֹנֹ֣ות לָ֑יְלָה פַּ֣חַד קְ֭רָאַנִי \n",
      "\n",
      "Nehemiah 3:25-26\n",
      "אַחֲרָ֖יו פְּדָיָ֥ה בֶן־פַּרְעֹֽשׁ׃ ס  עַ֠ד נֶ֜גֶד שַׁ֤עַר הַמַּ֨יִם֙ לַמִּזְרָ֔ח וְהַמִּגְדָּ֖ל \n",
      "\n",
      "Genesis 7:8-9\n",
      "מִן־הַבְּהֵמָה֙ הַטְּהֹורָ֔ה וּמִן־הַ֨בְּהֵמָ֔ה וּמִ֨ן־הָעֹ֔וף וְכֹ֥ל שְׁנַ֨יִם שְׁנַ֜יִם בָּ֧אוּ אֶל־נֹ֛חַ אֶל־הַתֵּבָ֖ה זָכָ֣ר וּנְקֵבָ֑ה \n",
      "\n",
      "2_Chronicles 8:7-8\n",
      "כָּל־הָ֠עָם מִן־בְּנֵיהֶ֗ם \n",
      "\n",
      "Leviticus 3:14-15\n",
      "אֶת־הַחֵ֨לֶב֙ וְאֵת֙ כָּל־הַחֵ֔לֶב וְאֵת֙ שְׁתֵּ֣י הַכְּלָיֹ֔ת וְאֶת־הַחֵ֨לֶב֙ \n",
      "\n",
      "Ezekiel 33:14-15\n",
      "וּחָיֹ֥ו יִֽחְיֶ֖ה \n",
      "\n",
      "Jeremiah 33:10-11\n",
      "עֹוד֮ יִשָּׁמַ֣ע בַּמָּקֹום־הַזֶּה֒ בְּעָרֵ֤י יְהוּדָה֙ וּבְחֻצֹ֣ות יְרוּשָׁלִַ֔ם קֹ֣ול שָׂשֹׂ֞ון וְקֹ֣ול שִׂמְחָ֗ה קֹ֣ול חָתָן֮ וְקֹ֣ול כַּלָּה֒ \n",
      "\n",
      "Jeremiah 44:2-3\n",
      "אֲשֶׁ֤ר הֵבֵ֨אתִי֙ עַל־יְר֣וּשָׁלִַ֔ם וְעַ֖ל כָּל־עָרֵ֣י יְהוּדָ֑ה מִפְּנֵ֣י רָעָתָ֗ם \n",
      "\n",
      "Joshua 9:9-10\n",
      "וְאֵ֛ת כָּל־וְאֵ֣ת ׀ כָּל־\n",
      "\n",
      "Numbers 31:22-23\n",
      "אַ֥ךְ אֶת־הַזָּהָ֖ב וְאֶת־הַכָּ֑סֶף אֶֽת־הַנְּחֹ֨שֶׁת֙ אֶת־הַבַּרְזֶ֔ל אֶֽת־הַבְּדִ֖יל וְאֶת־הָעֹפָֽרֶת׃ תַּעֲבִ֤ירוּ בָאֵשׁ֙ \n",
      "\n",
      "Deuteronomy 31:10-11\n",
      "מִקֵּ֣ץ ׀ שֶׁ֣בַע שָׁנִ֗ים בְּמֹעֵ֛ד שְׁנַ֥ת הַשְּׁמִטָּ֖ה בְּחַ֥ג הַסֻּכֹּֽות׃ תִּקְרָ֞א אֶת־הַתֹּורָ֥ה הַזֹּ֛את נֶ֥גֶד כָּל־יִשְׂרָאֵ֖ל בְּאָזְנֵיהֶֽם׃ \n",
      "\n",
      "1_Kings 15:29-30\n",
      "לֹֽא־הִשְׁאִ֧יר כָּל־נְשָׁמָ֛ה לְיָרָבְעָ֖ם כִּדְבַ֣ר יְהוָ֔ה עַל־חַטֹּ֤אות יָרָבְעָם֙ \n",
      "\n",
      "2_Chronicles 35:26-27\n",
      "וְיֶ֛תֶר דִּבְרֵ֥י יֹאשִׁיָּ֖הוּ וַחֲסָדָ֑יו וּדְבָרָ֕יו הָרִאשֹׁנִ֖ים וְהָאַחֲרֹנִ֑ים \n",
      "\n",
      "Deuteronomy 29:1-2\n",
      "אַתֶּ֣ם רְאִיתֶ֗ם אֵ֣ת כָּל־הַמַּסֹּות֙ הַגְּדֹלֹ֔ת הָאֹתֹ֧ת וְהַמֹּפְתִ֛ים הַגְּדֹלִ֖ים הָהֵֽם׃ \n",
      "\n",
      "Esther 9:1-2\n",
      "וּבִשְׁנֵים֩ עָשָׂ֨ר חֹ֜דֶשׁ בִּשְׁלֹושָׁ֨ה עָשָׂ֥ר יֹום֙ בֹּ֔ו בַּיֹּ֗ום נִקְהֲל֨וּ הַיְּהוּדִ֜ים בְּעָרֵיהֶ֗ם בְּכָל־מְדִינֹות֙ הַמֶּ֣לֶךְ אֳחַשְׁוֵרֹ֔ושׁ \n",
      "\n",
      "Deuteronomy 32:11-12\n",
      "כְּנֶ֨שֶׁר֙ יְהוָ֖ה בָּדָ֣ד יַנְחֶ֑נּוּ \n",
      "\n",
      "Psalms 92:3-4\n",
      "לְהַגִּ֣יד בַּבֹּ֣קֶר חַסְֽדֶּ֑ךָ עֲֽלֵי־עָ֭שֹׂור וַעֲלֵי־נָ֑בֶל עֲלֵ֖י הִגָּיֹ֣ון בְּכִנֹּֽור׃ \n",
      "\n",
      "2_Kings 12:5-6\n",
      "כֹּל֩ כֶּ֨סֶף הַקֳּדָשִׁ֜ים כָּל־כֶּ֗סֶף יִקְח֤וּ לָהֶם֙ הַכֹּ֣הֲנִ֔ים \n",
      "\n",
      "Ezekiel 23:14-15\n",
      "וַתֵּ֗רֶא אַנְשֵׁי֙ צַלְמֵ֣י כַשְׂדִּ֔ים מַרְאֵ֥ה שָׁלִשִׁ֖ים כֻּלָּ֑ם דְּמ֤וּת בְּנֵֽי־בָבֶל֙ כַּשְׂדִּ֔ים אֶ֖רֶץ מֹולַדְתָּֽם׃ \n",
      "\n",
      "2_Chronicles 12:2-3\n",
      "עָלָ֛ה שִׁישַׁ֥ק מֶֽלֶךְ־מִצְרַ֖יִם עַל־יְרוּשָׁלִָ֑ם בְּאֶ֤לֶף וּמָאתַ֨יִם֙ רֶ֔כֶב וּבְשִׁשִּׁ֥ים אֶ֖לֶף פָּרָשִׁ֑ים \n",
      "\n",
      "Haggai 2:4-5\n",
      "וַֽעֲשׂ֑וּ אֶֽת־הַדָּבָ֞ר \n",
      "\n",
      "Psalms 44:16-17\n",
      "כָּל־הַ֭יֹּום כְּלִמָּתִ֣י נֶגְדִּ֑י מִ֭קֹּול מְחָרֵ֣ף וּמְגַדֵּ֑ף \n",
      "\n",
      "Genesis 13:3-4\n",
      "וַיֵּ֨לֶךְ֙ לְמַסָּעָ֔יו מִנֶּ֖גֶב וְעַד־בֵּֽית־אֵ֑ל עַד־הַמָּקֹ֗ום אֶל־מְקֹום֙ הַמִּזְבֵּ֔חַ \n",
      "\n",
      "Ezra 4:4-5\n",
      "וַיְהִי֙ עַם־הָאָ֔רֶץ כָּל־יְמֵ֗י כֹּ֚ורֶשׁ מֶ֣לֶךְ פָּרַ֔ס וְעַד־מַלְכ֖וּת דָּרְיָ֥וֶשׁ מֶֽלֶךְ־פָּרָֽס׃ \n",
      "\n",
      "Joshua 23:12-13\n",
      "כִּ֣י ׀ יָדֹ֨ועַ֙ תֵּֽדְע֔וּ \n",
      "\n",
      "Deuteronomy 4:45-46\n",
      "אֲשֶׁ֨ר דִּבֶּ֤ר מֹשֶׁה֙ אֶל־בְּנֵ֣י יִשְׂרָאֵ֔ל בְּעֵ֨בֶר הַיַּרְדֵּ֜ן בַּגַּ֗יְא מ֚וּל בֵּ֣ית פְּעֹ֔ור בְּאֶ֗רֶץ סִיחֹן֙ מֶ֣לֶךְ הָֽאֱמֹרִ֔י \n",
      "\n",
      "2_Kings 22:5-6\n",
      "וְיִתְּנ֣וּ אֹתֹ֗ו לְעֹשֵׂ֤י הַמְּלָאכָה֙ לֶחָ֣רָשִׁ֔ים וְלַבֹּנִ֖ים וְלַגֹּֽדְרִ֑ים \n",
      "\n",
      "Deuteronomy 4:47-49\n",
      "וַיִּֽירְשׁ֨וּ אֶת־אַרְצֹ֜ו וְאֶת־אֶ֣רֶץ ׀ עֹ֣וג מֶֽלֶךְ־הַבָּשָׁ֗ן שְׁנֵי֙ מַלְכֵ֣י הָֽאֱמֹרִ֔י מֵעֲרֹעֵ֞ר וְעַד־הַ֥ר שִׂיאֹ֖ן וְכָל־הָ֨עֲרָבָ֜ה עֵ֤בֶר הַיַּרְדֵּן֙ מִזְרָ֔חָה וְעַ֖ד יָ֣ם הָעֲרָבָ֑ה תַּ֖חַת אַשְׁדֹּ֥ת הַפִּסְגָּֽה׃ פ  \n",
      "\n",
      "Deuteronomy 4:17-18\n",
      "תַּבְנִ֕ית כָּל־בְּהֵמָ֖ה תַּבְנִית֙ כָּל־צִפֹּ֣ור כָּנָ֔ף תַּבְנִ֕ית כָּל־תַּבְנִ֛ית כָּל־דָּגָ֥ה \n",
      "\n",
      "Ezekiel 45:7-8\n",
      "מִזֶּ֣ה וּמִזֶּה֩ לִתְרוּמַ֨ת הַקֹּ֜דֶשׁ וְלַאֲחֻזַּ֣ת הָעִ֗יר אֶל־פְּנֵ֤י תְרֽוּמַת־הַקֹּ֨דֶשׁ֙ וְאֶל־פְּנֵי֙ אֲחֻזַּ֣ת הָעִ֔יר מִפְּאַת־יָ֣ם יָ֔מָּה וּמִפְּאַת־קֵ֖דְמָה קָדִ֑ימָה לָאָ֛רֶץ יִֽהְיֶה־לֹּ֥ו \n",
      "\n",
      "Esther 1:2-3\n",
      "בַּיָּמִ֖ים הָהֵ֑ם בִּשְׁנַ֤ת שָׁלֹושׁ֙ עָשָׂ֣ה מִשְׁתֶּ֔ה לְכָל־שָׂרָ֖יו וַעֲבָדָ֑יו חֵ֣יל ׀ פָּרַ֣ס וּמָדַ֗י הַֽפַּרְתְּמִ֛ים וְשָׂרֵ֥י הַמְּדִינֹ֖ות לְפָנָֽיו׃ \n",
      "\n",
      "1_Kings 10:4-5\n",
      "וַתֵּ֨רֶא֙ מַֽלְכַּת־שְׁבָ֔א אֵ֖ת כָּל־חָכְמַ֣ת שְׁלֹמֹ֑ה וְהַבַּ֖יִת וּמַאֲכַ֣ל שֻׁלְחָנֹ֡ו וּמֹושַׁ֣ב עֲבָדָיו֩ וּמַעֲמַ֨ד מְשָׁרְתָ֜יו וּמַלְבֻּֽשֵׁיהֶם֙ וּמַשְׁקָ֔יו וְעֹ֣לָתֹ֔ו \n",
      "\n",
      "Numbers 15:22-23\n",
      "וְלֹ֣א תַעֲשׂ֔וּ אֵ֥ת כָּל־הַמִּצְוֹ֖ת הָאֵ֑לֶּה אֵת֩ כָּל־\n",
      "\n",
      "2_Kings 12:12-13\n",
      "וַיֹּוצִיאֻ֜הוּ לְחָרָשֵׁ֤י הָעֵץ֙ וְלַבֹּנִ֔ים וְלַגֹּֽדְרִים֙ וּלְחֹצְבֵ֣י הָאֶ֔בֶן וּלְכֹ֛ל \n",
      "\n",
      "Ezekiel 37:18-19\n",
      "וְדַּבֵּ֣ר אֲלֵהֶ֗ם \n",
      "\n",
      "Exodus 33:2-3\n",
      "וְשָׁלַחְתִּ֥י לְפָנֶ֖יךָ מַלְאָ֑ךְ אֶל־אֶ֛רֶץ זָבַ֥ת חָלָ֖ב וּדְבָ֑שׁ \n",
      "\n",
      "Deuteronomy 34:10-12\n",
      "וְלֹֽא־קָ֨ם נָבִ֥יא עֹ֛וד בְּיִשְׂרָאֵ֖ל כְּמֹשֶׁ֑ה לְכָל־הָ֨אֹתֹ֜ות וְהַמֹּופְתִ֗ים וּלְכֹל֙ הַיָּ֣ד הַחֲזָקָ֔ה וּלְכֹ֖ל הַמֹּורָ֣א הַגָּדֹ֑ול \n",
      "\n",
      "Genesis 23:17-18\n",
      "וַיָּ֣קָם ׀ שְׂדֵ֣ה עֶפְרֹ֗ון הַשָּׂדֶה֙ וְהַמְּעָרָ֣ה וְכָל־הָעֵץ֙ לְאַבְרָהָ֥ם לְמִקְנָ֖ה לְעֵינֵ֣י בְנֵי־חֵ֑ת בְּכֹ֖ל בָּאֵ֥י שַֽׁעַר־עִירֹֽו׃ \n",
      "\n",
      "Deuteronomy 13:7-8\n",
      "וְנַֽעַבְדָה֙ אֱלֹהִ֣ים אֲחֵרִ֔ים מֵאֱלֹהֵ֣י הָֽעַמִּ֗ים \n",
      "\n"
     ]
    }
   ],
   "source": [
    "for c in verse_cross:\n",
    "    print('{}\\n{}\\n'.format(T.passage(c), T.words(L.d('word', c)).replace('\\n', ' ')))"
   ]
  },
  {
   "cell_type": "code",
   "execution_count": null,
   "metadata": {
    "collapsed": true,
    "scrolled": true
   },
   "outputs": [],
   "source": []
  }
 ],
 "metadata": {
  "kernelspec": {
   "display_name": "Python 3",
   "language": "python",
   "name": "python3"
  },
  "language_info": {
   "codemirror_mode": {
    "name": "ipython",
    "version": 3
   },
   "file_extension": ".py",
   "mimetype": "text/x-python",
   "name": "python",
   "nbconvert_exporter": "python",
   "pygments_lexer": "ipython3",
   "version": "3.5.2"
  }
 },
 "nbformat": 4,
 "nbformat_minor": 0
}
