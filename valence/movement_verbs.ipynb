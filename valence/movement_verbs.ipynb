{
 "cells": [
  {
   "cell_type": "markdown",
   "metadata": {},
   "source": [
    "<a href=\"http://laf-fabric.readthedocs.org/en/latest/\" target=\"_blank\"><img align=\"left\" src=\"images/laf-fabric-xsmall.png\"/></a>\n",
    "<a href=\"http://emdros.org\" target=\"_blank\"><img align=\"left\" src=\"files/images/Emdros-xsmall.png\"/></a>\n",
    "<a href=\"http://www.persistent-identifier.nl/?identifier=urn%3Anbn%3Anl%3Aui%3A13-048i-71\" target=\"_blank\"><img align=\"left\"src=\"images/etcbc4easy-small.png\"/></a>\n",
    "<a href=\"http://www.godgeleerdheid.vu.nl/etcbc\" target=\"_blank\"><img align=\"right\" src=\"images/VU-ETCBC-xsmall.png\"/></a>"
   ]
  },
  {
   "cell_type": "markdown",
   "metadata": {},
   "source": [
    "# Verbs of movement\n",
    "\n",
    "Try to find the verbs of movement"
   ]
  },
  {
   "cell_type": "code",
   "execution_count": 1,
   "metadata": {
    "collapsed": false
   },
   "outputs": [
    {
     "name": "stderr",
     "output_type": "stream",
     "text": [
      "  0.00s This is LAF-Fabric 4.5.0\n",
      "API reference: http://laf-fabric.readthedocs.org/en/latest/texts/API-reference.html\n",
      "Feature doc: http://shebanq-doc.readthedocs.org/en/latest/texts/welcome.html\n",
      "\n"
     ]
    }
   ],
   "source": [
    "import sys\n",
    "import collections\n",
    "import subprocess\n",
    "\n",
    "import laf\n",
    "from laf.fabric import LafFabric\n",
    "from etcbc.preprocess import prepare\n",
    "fabric = LafFabric()"
   ]
  },
  {
   "cell_type": "code",
   "execution_count": 5,
   "metadata": {
    "collapsed": false
   },
   "outputs": [
    {
     "name": "stderr",
     "output_type": "stream",
     "text": [
      "  0.00s LOADING API: please wait ... \n",
      "  0.00s DETAIL: COMPILING m: UP TO DATE\n",
      "  0.10s INFO: USING DATA COMPILED AT: 2015-05-04T13-46-20\n",
      "  0.10s DETAIL: COMPILING a: UP TO DATE\n",
      "  0.11s INFO: USING DATA COMPILED AT: 2015-05-04T14-07-34\n",
      "  0.11s DETAIL: keep main: G.node_anchor_min\n",
      "  0.12s DETAIL: keep main: G.node_anchor_max\n",
      "  0.12s DETAIL: keep main: G.node_sort\n",
      "  0.12s DETAIL: keep main: G.node_sort_inv\n",
      "  0.13s DETAIL: keep main: G.edges_from\n",
      "  0.13s DETAIL: keep main: G.edges_to\n",
      "  0.13s DETAIL: keep main: F.etcbc4_db_monads [node] \n",
      "  0.14s DETAIL: keep main: F.etcbc4_db_oid [node] \n",
      "  0.14s DETAIL: keep main: F.etcbc4_db_otype [node] \n",
      "  0.14s DETAIL: keep main: F.etcbc4_ft_function [node] \n",
      "  0.14s DETAIL: keep main: F.etcbc4_ft_g_word_utf8 [node] \n",
      "  0.14s DETAIL: keep main: F.etcbc4_ft_lex [node] \n",
      "  0.14s DETAIL: keep main: F.etcbc4_ft_number [node] \n",
      "  0.15s DETAIL: keep main: F.etcbc4_ft_prs [node] \n",
      "  0.15s DETAIL: keep main: F.etcbc4_ft_sp [node] \n",
      "  0.15s DETAIL: keep main: F.etcbc4_ft_uvf [node] \n",
      "  0.15s DETAIL: keep main: F.etcbc4_lex_gloss [node] \n",
      "  0.15s DETAIL: keep main: F.etcbc4_sft_book [node] \n",
      "  0.15s DETAIL: keep main: F.etcbc4_sft_chapter [node] \n",
      "  0.15s DETAIL: keep main: F.etcbc4_sft_label [node] \n",
      "  0.16s DETAIL: keep main: F.etcbc4_sft_verse [node] \n",
      "  0.16s DETAIL: keep annox: F.etcbc4_db_monads [node] \n",
      "  0.16s DETAIL: keep annox: F.etcbc4_db_oid [node] \n",
      "  0.16s DETAIL: keep annox: F.etcbc4_db_otype [node] \n",
      "  0.17s DETAIL: keep annox: F.etcbc4_ft_function [node] \n",
      "  0.17s DETAIL: keep annox: F.etcbc4_ft_g_word_utf8 [node] \n",
      "  0.17s DETAIL: keep annox: F.etcbc4_ft_lex [node] \n",
      "  0.17s DETAIL: keep annox: F.etcbc4_ft_number [node] \n",
      "  0.17s DETAIL: keep annox: F.etcbc4_ft_prs [node] \n",
      "  0.17s DETAIL: keep annox: F.etcbc4_ft_sp [node] \n",
      "  0.17s DETAIL: keep annox: F.etcbc4_ft_uvf [node] \n",
      "  0.17s DETAIL: keep annox: F.etcbc4_lex_gloss [node] \n",
      "  0.17s DETAIL: keep annox: F.etcbc4_sft_book [node] \n",
      "  0.17s DETAIL: keep annox: F.etcbc4_sft_chapter [node] \n",
      "  0.18s DETAIL: keep annox: F.etcbc4_sft_label [node] \n",
      "  0.18s DETAIL: keep annox: F.etcbc4_sft_verse [node] \n",
      "  0.18s DETAIL: load main: F.etcbc4_ft_trailer_utf8 [node] \n",
      "  0.50s DETAIL: load annox: F.etcbc4_ft_trailer_utf8 [node] \n",
      "  0.50s DETAIL: prep prep: G.node_sort\n",
      "  0.57s DETAIL: prep prep: G.node_sort_inv\n",
      "  1.50s DETAIL: prep prep: L.node_up\n",
      "  7.65s DETAIL: prep prep: L.node_down\n",
      "    17s INFO: DATA LOADED FROM SOURCE etcbc4b AND ANNOX lexicon FOR TASK movement AT 2015-06-08T11-26-56\n"
     ]
    }
   ],
   "source": [
    "API = fabric.load('etcbc4b', 'lexicon', 'movement', {\n",
    "    \"xmlids\": {\"node\": False, \"edge\": False},\n",
    "    \"features\": ('''\n",
    "        oid otype monads\n",
    "        function\n",
    "        lex g_word_utf8 trailer_utf8 prs uvf sp gloss\n",
    "        book chapter verse label number\n",
    "    ''',''),\n",
    "    \"prepare\": prepare,\n",
    "    \"primary\": False,\n",
    "}, verbose='DETAIL')\n",
    "exec(fabric.localnames.format(var='fabric'))"
   ]
  },
  {
   "cell_type": "markdown",
   "metadata": {},
   "source": [
    "# First approximation\n",
    "\n",
    "Find all verbs in a predicate of a clause that has a locative constituent. Mark those verbs as location sensitive.\n",
    "\n",
    "# Second approximation\n",
    "\n",
    "If there is a marker for direction on any word in the clause with a location sensitive verb, mark the verb as a verb of movement."
   ]
  },
  {
   "cell_type": "markdown",
   "metadata": {},
   "source": [
    "Download the result files from my SURFdrive: [tab separated file](https://surfdrive.surf.nl/files/public.php?service=files&t=9c80db85478ae91a74cb3408a24a1b14) and a formatted [openoffice spreadsheet](https://surfdrive.surf.nl/files/public.php?service=files&t=38df9044eb5ac29a09a9daff81e1f276)"
   ]
  },
  {
   "cell_type": "code",
   "execution_count": 27,
   "metadata": {
    "collapsed": false
   },
   "outputs": [
    {
     "name": "stdout",
     "output_type": "stream",
     "text": [
      "61 verbs of motion of 61 verbs of location of 57058 clauses with a predicate\n"
     ]
    }
   ],
   "source": [
    "nlclauses = 0\n",
    "lclauses = set()\n",
    "mclauses = set()\n",
    "lverbs = {}\n",
    "mverbs = {}\n",
    "freq = collections.Counter()\n",
    "contxt = collections.defaultdict(lambda: [])\n",
    "\n",
    "for p in F.otype.s('phrase'):\n",
    "    if F.function.v(p) == 'Pred':\n",
    "        nlclauses += 1\n",
    "        c = L.u('clause', p)\n",
    "        is_move = False\n",
    "        is_move_x = False\n",
    "        transitive = False\n",
    "        for v in L.d('word', c):\n",
    "            if F.uvf.v(v) == 'H':\n",
    "                is_move = True\n",
    "        for pp in L.d('phrase', c):\n",
    "            if F.function.v(pp) == 'Loca':\n",
    "                lclauses.add(c)\n",
    "                if is_move:\n",
    "                    mclauses.add(c)\n",
    "                    is_move_x = True\n",
    "            elif F.function.v(pp) == 'Objc':\n",
    "                transitive = True\n",
    "        if is_move_x:\n",
    "            for v in L.d('word', p):\n",
    "                if F.sp.v(v) == 'verb':\n",
    "                    lex = F.lex.v(v)\n",
    "                    gloss = F.gloss.v(v)\n",
    "                    lverbs[lex] = gloss\n",
    "                    if is_move: mverbs[lex] = F.gloss.v(v)\n",
    "                    freq[lex] += 1\n",
    "                    bk = F.book.v(L.u('book', v))\n",
    "                    ch = F.chapter.v(L.u('chapter', v))\n",
    "                    vs = F.verse.v(L.u('verse', v))\n",
    "                    txt = ''.join('{}{}'.format(F.g_word_utf8.v(w), F.trailer_utf8.v(w)) for w in L.d('word', c))\n",
    "                    contxt[lex].append((txt, 'T' if transitive else 'I', lex, gloss, vs, ch, bk))\n",
    "                    \n",
    "print('{} verbs of motion of {} verbs of location of {} clauses with a predicate'.format(\n",
    "    len(mverbs), len(lverbs), nlclauses))"
   ]
  },
  {
   "cell_type": "code",
   "execution_count": 28,
   "metadata": {
    "collapsed": false
   },
   "outputs": [],
   "source": [
    "of = outfile('lverbs.csv')\n",
    "for v in sorted(lverbs, key=lambda x: (-freq[x], x)):\n",
    "    of.write('{},{},{}\\n'.format(v, lverbs[v], freq[v]))\n",
    "of.close()\n",
    "of = outfile('mverbs.csv')\n",
    "for v in sorted(mverbs, key=lambda x: (-freq[x], x)):\n",
    "    of.write('{},{},{}\\n'.format(v, mverbs[v], freq[v]))\n",
    "of.close()\n",
    "of = outfile('context.csv')\n",
    "for v in sorted(contxt, key=lambda x: (-freq[x], x)):\n",
    "    for occ in contxt[v]:\n",
    "        of.write('{}\\n'.format('{},{},{},{},{},{},{}'.format(*occ).replace('\\n', ' ')))\n",
    "of.close()"
   ]
  },
  {
   "cell_type": "code",
   "execution_count": 6,
   "metadata": {
    "collapsed": false
   },
   "outputs": [
    {
     "name": "stdout",
     "output_type": "stream",
     "text": [
      "HJH[,be,140\r\n",
      "<FH[,make,126\r\n",
      "NTN[,give,73\r\n",
      "BNH[,build,68\r\n",
      "R>H[,see,66\r\n",
      "MWT[,die,58\r\n",
      "BW>[,come,48\r\n",
      "DBR[,speak,45\r\n",
      ">KL[,eat,44\r\n",
      "CM<[,hear,43\r\n",
      "NKH[,strike,36\r\n",
      "QR>[,call,31\r\n",
      "FJM[,put,28\r\n",
      "<LH[,ascend,25\r\n",
      "JCB[,sit,25\r\n",
      "QBR[,bury,25\r\n",
      "MLK[,be king,24\r\n",
      "XZQ[,be strong,23\r\n",
      "<MD[,stand,20\r\n",
      "CWB[,return,20\r\n"
     ]
    }
   ],
   "source": [
    "!head -n 20 {my_file('mverbs.csv')}"
   ]
  },
  {
   "cell_type": "code",
   "execution_count": null,
   "metadata": {
    "collapsed": true
   },
   "outputs": [],
   "source": []
  }
 ],
 "metadata": {
  "kernelspec": {
   "display_name": "Python 3",
   "language": "python",
   "name": "python3"
  },
  "language_info": {
   "codemirror_mode": {
    "name": "ipython",
    "version": 3
   },
   "file_extension": ".py",
   "mimetype": "text/x-python",
   "name": "python",
   "nbconvert_exporter": "python",
   "pygments_lexer": "ipython3",
   "version": "3.4.2"
  }
 },
 "nbformat": 4,
 "nbformat_minor": 0
}
