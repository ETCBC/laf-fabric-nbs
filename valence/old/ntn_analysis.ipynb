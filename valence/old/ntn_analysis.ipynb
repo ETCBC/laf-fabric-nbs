{
 "cells": [
  {
   "cell_type": "markdown",
   "metadata": {},
   "source": [
    "<a href=\"http://laf-fabric.readthedocs.org/en/latest/\" target=\"_blank\"><img align=\"left\" src=\"images/laf-fabric-xsmall.png\"/></a>\n",
    "<a href=\"http://emdros.org\" target=\"_blank\"><img align=\"left\" src=\"files/images/Emdros-xsmall.png\"/></a>\n",
    "<a href=\"http://www.persistent-identifier.nl/?identifier=urn%3Anbn%3Anl%3Aui%3A13-048i-71\" target=\"_blank\"><img align=\"left\"src=\"images/etcbc4easy-small.png\"/></a>\n",
    "<a href=\"http://www.godgeleerdheid.vu.nl/etcbc\" target=\"_blank\"><img align=\"right\" src=\"images/VU-ETCBC-xsmall.png\"/></a>"
   ]
  },
  {
   "cell_type": "markdown",
   "metadata": {},
   "source": [
    "# נָתַן and locatives\n",
    "\n"
   ]
  },
  {
   "cell_type": "code",
   "execution_count": 1,
   "metadata": {
    "collapsed": false
   },
   "outputs": [
    {
     "name": "stderr",
     "output_type": "stream",
     "text": [
      "  0.00s This is LAF-Fabric 4.4.7\n",
      "API reference: http://laf-fabric.readthedocs.org/en/latest/texts/API-reference.html\n",
      "Feature doc: http://shebanq-doc.readthedocs.org/en/latest/texts/welcome.html\n",
      "\n"
     ]
    }
   ],
   "source": [
    "import sys\n",
    "import collections\n",
    "import subprocess\n",
    "\n",
    "from lxml import etree\n",
    "\n",
    "import laf\n",
    "from laf.fabric import LafFabric\n",
    "from etcbc.preprocess import prepare\n",
    "from etcbc.mql import MQL\n",
    "fabric = LafFabric()"
   ]
  },
  {
   "cell_type": "code",
   "execution_count": 2,
   "metadata": {
    "collapsed": false
   },
   "outputs": [
    {
     "name": "stderr",
     "output_type": "stream",
     "text": [
      "  0.00s LOADING API: please wait ... \n",
      "  0.00s DETAIL: COMPILING m: UP TO DATE\n",
      "  0.00s INFO: USING DATA COMPILED AT: 2015-05-04T13-46-20\n",
      "  0.00s DETAIL: COMPILING a: UP TO DATE\n",
      "  0.01s DETAIL: load main: G.node_anchor_min\n",
      "  0.09s DETAIL: load main: G.node_anchor_max\n",
      "  0.15s DETAIL: load main: G.node_sort\n",
      "  0.20s DETAIL: load main: G.node_sort_inv\n",
      "  0.63s DETAIL: load main: G.edges_from\n",
      "  0.70s DETAIL: load main: G.edges_to\n",
      "  0.78s DETAIL: load main: F.etcbc4_db_monads [node] \n",
      "  1.54s DETAIL: load main: F.etcbc4_db_oid [node] \n",
      "  2.25s DETAIL: load main: F.etcbc4_db_otype [node] \n",
      "  2.93s DETAIL: load main: F.etcbc4_ft_det [node] \n",
      "  3.17s DETAIL: load main: F.etcbc4_ft_function [node] \n",
      "  3.29s DETAIL: load main: F.etcbc4_ft_g_word [node] \n",
      "  3.53s DETAIL: load main: F.etcbc4_ft_gn [node] \n",
      "  3.70s DETAIL: load main: F.etcbc4_ft_language [node] \n",
      "  3.91s DETAIL: load main: F.etcbc4_ft_lex [node] \n",
      "  4.11s DETAIL: load main: F.etcbc4_ft_nu [node] \n",
      "  4.31s DETAIL: load main: F.etcbc4_ft_number [node] \n",
      "  4.80s DETAIL: load main: F.etcbc4_ft_ps [node] \n",
      "  5.01s DETAIL: load main: F.etcbc4_ft_sp [node] \n",
      "  5.24s DETAIL: load main: F.etcbc4_ft_typ [node] \n",
      "  5.58s DETAIL: load main: F.etcbc4_ft_vs [node] \n",
      "  5.82s DETAIL: load main: F.etcbc4_ft_vt [node] \n",
      "  6.08s DETAIL: load main: F.etcbc4_sft_book [node] \n",
      "  6.10s DETAIL: load main: F.etcbc4_sft_chapter [node] \n",
      "  6.13s DETAIL: load main: F.etcbc4_sft_label [node] \n",
      "  6.16s DETAIL: load main: F.etcbc4_sft_verse [node] \n",
      "  6.18s LOGFILE=/Users/dirk/SURFdrive/laf-fabric-output/etcbc4b/ntn/__log__ntn.txt\n",
      "  6.18s DETAIL: prep prep: G.node_sort\n",
      "  6.26s DETAIL: prep prep: G.node_sort_inv\n",
      "  6.83s INFO: DATA LOADED FROM SOURCE etcbc4b AND ANNOX -- FOR TASK ntn AT 2015-05-07T07-12-42\n"
     ]
    }
   ],
   "source": [
    "API = fabric.load('etcbc4b', '--', 'ntn', {\n",
    "    \"xmlids\": {\"node\": False, \"edge\": False},\n",
    "    \"features\": ('''\n",
    "        oid otype monads number\n",
    "        language lex g_word\n",
    "        sp gn nu ps vt vs\n",
    "        function typ det\n",
    "        book chapter verse label\n",
    "    ''',''),\n",
    "    \"prepare\": prepare,\n",
    "    \"primary\": False,\n",
    "}, verbose='DETAIL')\n",
    "exec(fabric.localnames.format(var='fabric'))\n",
    "Q = MQL(API)"
   ]
  },
  {
   "cell_type": "code",
   "execution_count": 23,
   "metadata": {
    "collapsed": false
   },
   "outputs": [
    {
     "name": "stdout",
     "output_type": "stream",
     "text": [
      "1 results\n",
      "((1368087, ((1368170, ((1415522, ((1129535, ((431935, ((620998,), (621000,))),)),)),)),)),)\n"
     ]
    }
   ],
   "source": [
    "test_query = '''\n",
    "select all objects where\n",
    "[book book = Genesis\n",
    "[chapter chapter = 45\n",
    "[verse verse = 22\n",
    "[sentence number = 73\n",
    "[clause number = 1\n",
    "    [phrase focus first and last] or [phrase focus first] [[phrase focus][gap?]]* [phrase focus last]\n",
    "]\n",
    "]]]]\n",
    "'''\n",
    "test_sheaf = Q.mql(test_query)\n",
    "print('{} results'.format(test_sheaf.nresults()))\n",
    "for x in test_sheaf.results():\n",
    "    print(x)"
   ]
  },
  {
   "cell_type": "code",
   "execution_count": 3,
   "metadata": {
    "collapsed": true
   },
   "outputs": [],
   "source": [
    "ntn_sim_query = '''\n",
    "select all objects where\n",
    "\n",
    "[book[chapter[verse\n",
    "[clause\n",
    " [phrase function = Pred \n",
    "     [word focus first (language = Hebrew and (lex = 'NTN[' or lex = 'FJM[')) ]\n",
    " ]\n",
    "]\n",
    "]]]\n",
    "'''\n",
    "clause_query = '''\n",
    "select all objects where\n",
    "[clause\n",
    "    [word focus first and last] or [word focus first] [[word focus][gap?]]* [word focus last]\n",
    "]\n",
    "'''\n",
    "clause_p_query = '''\n",
    "select all objects where\n",
    "[clause\n",
    "    [phrase focus]\n",
    "]\n",
    "'''"
   ]
  },
  {
   "cell_type": "code",
   "execution_count": 4,
   "metadata": {
    "collapsed": false
   },
   "outputs": [
    {
     "name": "stdout",
     "output_type": "stream",
     "text": [
      "1936 results\n",
      "((1368087, ((1368126, ((1414158, ((426628, ((604966, ((314,),)),)),)),)),)),)\n"
     ]
    }
   ],
   "source": [
    "sheaf_ntn_sim = Q.mql(ntn_sim_query)\n",
    "print('{} results'.format(sheaf_ntn_sim.nresults()))\n",
    "for x in sheaf_ntn_sim.results():\n",
    "    print(x)\n",
    "    break"
   ]
  },
  {
   "cell_type": "code",
   "execution_count": 5,
   "metadata": {
    "collapsed": false
   },
   "outputs": [
    {
     "name": "stdout",
     "output_type": "stream",
     "text": [
      "87900 results\n"
     ]
    }
   ],
   "source": [
    "sheaf_clause = Q.mql(clause_query)\n",
    "print('{} results'.format(sheaf_clause.nresults()))"
   ]
  },
  {
   "cell_type": "code",
   "execution_count": 6,
   "metadata": {
    "collapsed": false
   },
   "outputs": [
    {
     "name": "stdout",
     "output_type": "stream",
     "text": [
      "253214 results\n"
     ]
    }
   ],
   "source": [
    "sheaf_clause_p = Q.mql(clause_p_query)\n",
    "print('{} results'.format(sheaf_clause_p.nresults()))"
   ]
  },
  {
   "cell_type": "code",
   "execution_count": 7,
   "metadata": {
    "collapsed": false
   },
   "outputs": [
    {
     "name": "stdout",
     "output_type": "stream",
     "text": [
      "1936 clauses of which 0 duplicates => total 1936\n",
      "1936 phrases in index\n",
      "1936 words in index\n"
     ]
    }
   ],
   "source": [
    "verb_index = {}\n",
    "phrase_index = {}\n",
    "word_index = {}\n",
    "book_index = {}\n",
    "passage_index = {}\n",
    "relevant_clauses = set()\n",
    "doubles = 0\n",
    "for ((book, ((chapter, ((verse, ((clause, ((phrase, ((word,),)),)),)),)),)),) in sheaf_ntn_sim.results():\n",
    "    if clause in relevant_clauses: doubles += 1\n",
    "    relevant_clauses.add(clause)\n",
    "    book_index[clause] = F.book.v(book)\n",
    "    passage_index[clause] = '{} {}:{}#{}'.format(\n",
    "        F.book.v(book), \n",
    "        F.chapter.v(chapter), \n",
    "        F.verse.v(verse), \n",
    "        clause,\n",
    "    )\n",
    "    wlex = F.lex.v(word)\n",
    "    phrase_index[phrase] = wlex\n",
    "    word_index[word] = wlex\n",
    "nclauses = len(relevant_clauses)\n",
    "print('{} clauses of which {} duplicates => total {}'.format(\n",
    "    nclauses, doubles, nclauses - doubles,\n",
    "))\n",
    "print('{} phrases in index\\n{} words in index'.format(len(phrase_index), len(word_index)))"
   ]
  },
  {
   "cell_type": "markdown",
   "metadata": {},
   "source": [
    "# Notes\n",
    "\n",
    "Pronominal suffixes are not taken into account, but they do carry gender/number information!"
   ]
  },
  {
   "cell_type": "code",
   "execution_count": 9,
   "metadata": {
    "collapsed": false,
    "scrolled": true
   },
   "outputs": [
    {
     "name": "stdout",
     "output_type": "stream",
     "text": [
      "87900 clauses, 1936 lines written\n",
      "0 still in pre\n"
     ]
    }
   ],
   "source": [
    "outf = outfile('ntn_sim.csv')\n",
    "nwritten = 0\n",
    "tclauses = 0\n",
    "clauses_w = set()\n",
    "still_in_pre = 0\n",
    "for ((clause, words),) in sheaf_clause.results():\n",
    "    tclauses += 1\n",
    "    clauses_w.add(clause)\n",
    "    if clause not in relevant_clauses: continue\n",
    "    pre_info = set()\n",
    "    post_info = set()\n",
    "    verb_info = ''\n",
    "    in_pre = True\n",
    "    for word in words:\n",
    "        word = word[0]\n",
    "        this_verb_info = word_index.get(word, None)\n",
    "        if this_verb_info != None:\n",
    "            in_pre = False\n",
    "            verb_info += this_verb_info\n",
    "        else:\n",
    "            info = {\n",
    "                F.lex.v(word).replace('_','-'),\n",
    "                F.sp.v(word), \n",
    "                F.gn.v(word), \n",
    "                F.nu.v(word), \n",
    "                F.ps.v(word), \n",
    "                F.vt.v(word), \n",
    "                F.vs.v(word),\n",
    "            } - {\n",
    "                'NA', \n",
    "                'unknown',\n",
    "            }\n",
    "            if in_pre:\n",
    "                pre_info |= info\n",
    "            else:\n",
    "                post_info |= info\n",
    "    if in_pre: still_in_pre += 1\n",
    "    outf.write('{},{},{},{}\\n'.format(\n",
    "        passage_index[clause], \n",
    "        verb_info, \n",
    "        '_'.join(pre_info | post_info), \n",
    "        book_index[clause],\n",
    "    ))\n",
    "    nwritten += 1\n",
    "outf.close()\n",
    "print('{} clauses, {} lines written'.format(tclauses, nwritten))\n",
    "print('{} still in pre'.format(still_in_pre))"
   ]
  },
  {
   "cell_type": "code",
   "execution_count": 11,
   "metadata": {
    "collapsed": false
   },
   "outputs": [
    {
     "name": "stdout",
     "output_type": "stream",
     "text": [
      "247527 clauses, 1936 lines written\n",
      "0 still in pre\n"
     ]
    }
   ],
   "source": [
    "outfp = outfile('ntn_sim_p.csv')\n",
    "outfpo = outfile('ntn_sim_po.csv')\n",
    "nwritten = 0\n",
    "tclauses = 0\n",
    "clauses_p = set()\n",
    "still_in_pre = 0\n",
    "curclause = None\n",
    "i = 0\n",
    "for ((clause, ((phrase,),)),) in sheaf_clause_p.results():\n",
    "    if clause != curclause:\n",
    "        if curclause != None:\n",
    "            if in_pre: still_in_pre += 1\n",
    "            outfp.write('{},{},{}\\n'.format(passage_index[curclause], verb_info, '_'.join(pre_info | post_info)))\n",
    "            outfpo.write('{},{},{}\\n'.format(passage_index[curclause], verb_info, '_'.join(pre_info_o | post_info_o)))\n",
    "            nwritten += 1\n",
    "        tclauses += 1\n",
    "        clauses_p.add(clause)\n",
    "        if clause not in relevant_clauses:\n",
    "            curclause = None\n",
    "            continue\n",
    "        curclause = clause\n",
    "        pre_info = set()\n",
    "        pre_info_o = set()\n",
    "        post_info = set()\n",
    "        post_info_o = set()\n",
    "        verb_info = ''\n",
    "        in_pre = True\n",
    "        i = 0\n",
    "    else:\n",
    "        i += 1\n",
    "    this_verb_info = phrase_index.get(phrase, None)\n",
    "    if this_verb_info != None:\n",
    "        in_pre = False\n",
    "        verb_info += this_verb_info\n",
    "    else:\n",
    "        info = {\n",
    "            F.function.v(phrase), \n",
    "            F.typ.v(phrase), \n",
    "            F.det.v(phrase),\n",
    "        } - {\n",
    "            'NA', \n",
    "            'unknown',\n",
    "        }\n",
    "        info_o = {'{}{}'.format(i, v) for v in info}\n",
    "        if in_pre:\n",
    "            pre_info |= info\n",
    "            pre_info_o |= info_o\n",
    "        else:\n",
    "            post_info |= info\n",
    "            post_info_o |= info_o\n",
    "if curclause != None:\n",
    "    if in_pre: still_in_pre += 1\n",
    "    outfp.write('{},{},{}\\n'.format(passage_index[curclause], verb_info, '_'.join(pre_info | post_info)))\n",
    "    outfpo.write('{},{},{}\\n'.format(passage_index[curclause], verb_info, '_'.join(pre_info_o | post_info_o)))\n",
    "    nwritten += 1\n",
    "outfp.close()\n",
    "outfpo.close()\n",
    "print('{} clauses, {} lines written'.format(tclauses, nwritten))\n",
    "print('{} still in pre'.format(still_in_pre))"
   ]
  },
  {
   "cell_type": "code",
   "execution_count": null,
   "metadata": {
    "collapsed": true
   },
   "outputs": [],
   "source": []
  },
  {
   "cell_type": "code",
   "execution_count": null,
   "metadata": {
    "collapsed": true
   },
   "outputs": [],
   "source": []
  }
 ],
 "metadata": {
  "kernelspec": {
   "display_name": "Python 3",
   "language": "python",
   "name": "python3"
  },
  "language_info": {
   "codemirror_mode": {
    "name": "ipython",
    "version": 3
   },
   "file_extension": ".py",
   "mimetype": "text/x-python",
   "name": "python",
   "nbconvert_exporter": "python",
   "pygments_lexer": "ipython3",
   "version": "3.4.2"
  }
 },
 "nbformat": 4,
 "nbformat_minor": 0
}
