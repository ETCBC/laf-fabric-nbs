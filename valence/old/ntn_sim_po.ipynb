{
 "cells": [
  {
   "cell_type": "code",
   "execution_count": 1,
   "metadata": {
    "collapsed": false
   },
   "outputs": [],
   "source": [
    "dat = read.csv(\"/Users/dirk/SURFdrive/laf-fabric-output/etcbc4b/ntn/ntn_sim_p.csv\", header=F, as.is=T, quote=\"\", comment.char=\"\")"
   ]
  },
  {
   "cell_type": "code",
   "execution_count": 2,
   "metadata": {
    "collapsed": false
   },
   "outputs": [
    {
     "data": {
      "text/html": [
       "<ol class=list-inline>\n",
       "\t<li>2068</li>\n",
       "\t<li>2</li>\n",
       "</ol>\n"
      ],
      "text/latex": [
       "\\begin{enumerate*}\n",
       "\\item 2068\n",
       "\\item 2\n",
       "\\end{enumerate*}\n"
      ],
      "text/markdown": [
       "1. 2068\n",
       "2. 2\n",
       "\n",
       "\n"
      ],
      "text/plain": [
       "[1] 2068    2"
      ]
     },
     "execution_count": 2,
     "metadata": {},
     "output_type": "execute_result"
    }
   ],
   "source": [
    "dim(dat)"
   ]
  },
  {
   "cell_type": "code",
   "execution_count": 3,
   "metadata": {
    "collapsed": false
   },
   "outputs": [
    {
     "data": {
      "text/html": [
       "<table>\n",
       "<thead><tr><th></th><th scope=col>V1</th><th scope=col>V2</th></tr></thead>\n",
       "<tbody>\n",
       "\t<tr><th scope=row>1</th><td>NTN[</td><td>det_Subj_Objc_NP_Conj_CP_und_PP_Cmpl</td></tr>\n",
       "\t<tr><th scope=row>2</th><td>NTN[</td><td>InjP_det_PP_Objc_Cmpl_Intj_und</td></tr>\n",
       "\t<tr><th scope=row>3</th><td>FJM[</td><td>det_PP_AdvP_Objc_Conj_Cmpl_CP</td></tr>\n",
       "\t<tr><th scope=row>4</th><td>NTN[</td><td>det_PP_Conj_Cmpl_Adju_CP</td></tr>\n",
       "\t<tr><th scope=row>5</th><td>NTN[</td><td>det_PP_Rela_Cmpl_CP</td></tr>\n",
       "\t<tr><th scope=row>6</th><td>NTN[</td><td>det_Subj_PP_PPrP_Cmpl_Adju</td></tr>\n",
       "</tbody>\n",
       "</table>\n"
      ],
      "text/latex": [
       "\\begin{tabular}{r|ll}\n",
       "  & V1 & V2\\\\\n",
       "\\hline\n",
       "\t1 & NTN[ & det_Subj_Objc_NP_Conj_CP_und_PP_Cmpl\\\\\n",
       "\t2 & NTN[ & InjP_det_PP_Objc_Cmpl_Intj_und\\\\\n",
       "\t3 & FJM[ & det_PP_AdvP_Objc_Conj_Cmpl_CP\\\\\n",
       "\t4 & NTN[ & det_PP_Conj_Cmpl_Adju_CP\\\\\n",
       "\t5 & NTN[ & det_PP_Rela_Cmpl_CP\\\\\n",
       "\t6 & NTN[ & det_Subj_PP_PPrP_Cmpl_Adju\\\\\n",
       "\\end{tabular}\n"
      ],
      "text/plain": [
       "    V1                                   V2\n",
       "1 NTN[ det_Subj_Objc_NP_Conj_CP_und_PP_Cmpl\n",
       "2 NTN[       InjP_det_PP_Objc_Cmpl_Intj_und\n",
       "3 FJM[        det_PP_AdvP_Objc_Conj_Cmpl_CP\n",
       "4 NTN[             det_PP_Conj_Cmpl_Adju_CP\n",
       "5 NTN[                  det_PP_Rela_Cmpl_CP\n",
       "6 NTN[           det_Subj_PP_PPrP_Cmpl_Adju"
      ]
     },
     "execution_count": 3,
     "metadata": {},
     "output_type": "execute_result"
    }
   ],
   "source": [
    "head(dat)"
   ]
  },
  {
   "cell_type": "code",
   "execution_count": 4,
   "metadata": {
    "collapsed": true
   },
   "outputs": [],
   "source": [
    "colnames(dat) = c(\"Outcomes\", \"Cues\")"
   ]
  },
  {
   "cell_type": "code",
   "execution_count": 5,
   "metadata": {
    "collapsed": false
   },
   "outputs": [
    {
     "data": {
      "text/html": [
       "<table>\n",
       "<thead><tr><th></th><th scope=col>Outcomes</th><th scope=col>Cues</th></tr></thead>\n",
       "<tbody>\n",
       "\t<tr><th scope=row>1</th><td>NTN[</td><td>det_Subj_Objc_NP_Conj_CP_und_PP_Cmpl</td></tr>\n",
       "\t<tr><th scope=row>2</th><td>NTN[</td><td>InjP_det_PP_Objc_Cmpl_Intj_und</td></tr>\n",
       "\t<tr><th scope=row>3</th><td>FJM[</td><td>det_PP_AdvP_Objc_Conj_Cmpl_CP</td></tr>\n",
       "\t<tr><th scope=row>4</th><td>NTN[</td><td>det_PP_Conj_Cmpl_Adju_CP</td></tr>\n",
       "\t<tr><th scope=row>5</th><td>NTN[</td><td>det_PP_Rela_Cmpl_CP</td></tr>\n",
       "\t<tr><th scope=row>6</th><td>NTN[</td><td>det_Subj_PP_PPrP_Cmpl_Adju</td></tr>\n",
       "</tbody>\n",
       "</table>\n"
      ],
      "text/latex": [
       "\\begin{tabular}{r|ll}\n",
       "  & Outcomes & Cues\\\\\n",
       "\\hline\n",
       "\t1 & NTN[ & det_Subj_Objc_NP_Conj_CP_und_PP_Cmpl\\\\\n",
       "\t2 & NTN[ & InjP_det_PP_Objc_Cmpl_Intj_und\\\\\n",
       "\t3 & FJM[ & det_PP_AdvP_Objc_Conj_Cmpl_CP\\\\\n",
       "\t4 & NTN[ & det_PP_Conj_Cmpl_Adju_CP\\\\\n",
       "\t5 & NTN[ & det_PP_Rela_Cmpl_CP\\\\\n",
       "\t6 & NTN[ & det_Subj_PP_PPrP_Cmpl_Adju\\\\\n",
       "\\end{tabular}\n"
      ],
      "text/plain": [
       "  Outcomes                                 Cues\n",
       "1     NTN[ det_Subj_Objc_NP_Conj_CP_und_PP_Cmpl\n",
       "2     NTN[       InjP_det_PP_Objc_Cmpl_Intj_und\n",
       "3     FJM[        det_PP_AdvP_Objc_Conj_Cmpl_CP\n",
       "4     NTN[             det_PP_Conj_Cmpl_Adju_CP\n",
       "5     NTN[                  det_PP_Rela_Cmpl_CP\n",
       "6     NTN[           det_Subj_PP_PPrP_Cmpl_Adju"
      ]
     },
     "execution_count": 5,
     "metadata": {},
     "output_type": "execute_result"
    }
   ],
   "source": [
    "head(dat)"
   ]
  },
  {
   "cell_type": "code",
   "execution_count": 6,
   "metadata": {
    "collapsed": true
   },
   "outputs": [],
   "source": [
    "dat$Frequency = 1"
   ]
  },
  {
   "cell_type": "code",
   "execution_count": 7,
   "metadata": {
    "collapsed": false
   },
   "outputs": [
    {
     "data": {
      "text/html": [
       "<table>\n",
       "<thead><tr><th></th><th scope=col>Outcomes</th><th scope=col>Cues</th><th scope=col>Frequency</th></tr></thead>\n",
       "<tbody>\n",
       "\t<tr><th scope=row>1</th><td>NTN[</td><td>det_Subj_Objc_NP_Conj_CP_und_PP_Cmpl</td><td>1</td></tr>\n",
       "\t<tr><th scope=row>2</th><td>NTN[</td><td>InjP_det_PP_Objc_Cmpl_Intj_und</td><td>1</td></tr>\n",
       "\t<tr><th scope=row>3</th><td>FJM[</td><td>det_PP_AdvP_Objc_Conj_Cmpl_CP</td><td>1</td></tr>\n",
       "\t<tr><th scope=row>4</th><td>NTN[</td><td>det_PP_Conj_Cmpl_Adju_CP</td><td>1</td></tr>\n",
       "\t<tr><th scope=row>5</th><td>NTN[</td><td>det_PP_Rela_Cmpl_CP</td><td>1</td></tr>\n",
       "\t<tr><th scope=row>6</th><td>NTN[</td><td>det_Subj_PP_PPrP_Cmpl_Adju</td><td>1</td></tr>\n",
       "</tbody>\n",
       "</table>\n"
      ],
      "text/latex": [
       "\\begin{tabular}{r|lll}\n",
       "  & Outcomes & Cues & Frequency\\\\\n",
       "\\hline\n",
       "\t1 & NTN[ & det_Subj_Objc_NP_Conj_CP_und_PP_Cmpl & 1\\\\\n",
       "\t2 & NTN[ & InjP_det_PP_Objc_Cmpl_Intj_und & 1\\\\\n",
       "\t3 & FJM[ & det_PP_AdvP_Objc_Conj_Cmpl_CP & 1\\\\\n",
       "\t4 & NTN[ & det_PP_Conj_Cmpl_Adju_CP & 1\\\\\n",
       "\t5 & NTN[ & det_PP_Rela_Cmpl_CP & 1\\\\\n",
       "\t6 & NTN[ & det_Subj_PP_PPrP_Cmpl_Adju & 1\\\\\n",
       "\\end{tabular}\n"
      ],
      "text/plain": [
       "  Outcomes                                 Cues Frequency\n",
       "1     NTN[ det_Subj_Objc_NP_Conj_CP_und_PP_Cmpl         1\n",
       "2     NTN[       InjP_det_PP_Objc_Cmpl_Intj_und         1\n",
       "3     FJM[        det_PP_AdvP_Objc_Conj_Cmpl_CP         1\n",
       "4     NTN[             det_PP_Conj_Cmpl_Adju_CP         1\n",
       "5     NTN[                  det_PP_Rela_Cmpl_CP         1\n",
       "6     NTN[           det_Subj_PP_PPrP_Cmpl_Adju         1"
      ]
     },
     "execution_count": 7,
     "metadata": {},
     "output_type": "execute_result"
    }
   ],
   "source": [
    "head(dat)"
   ]
  },
  {
   "cell_type": "code",
   "execution_count": 8,
   "metadata": {
    "collapsed": false
   },
   "outputs": [
    {
     "name": "stderr",
     "output_type": "stream",
     "text": [
      "This is ndl version 0.2.16. \n",
      "For an overview of the package, type 'help(\"ndl.package\")'.\n"
     ]
    }
   ],
   "source": [
    "library(ndl)"
   ]
  },
  {
   "cell_type": "code",
   "execution_count": 9,
   "metadata": {
    "collapsed": true
   },
   "outputs": [],
   "source": [
    "dat$Outcomes = gsub(\"NTN[NTN[\", \"NTN[\", dat$Outcomes, fixed=T)"
   ]
  },
  {
   "cell_type": "code",
   "execution_count": 10,
   "metadata": {
    "collapsed": true
   },
   "outputs": [],
   "source": [
    "dat$Outcomes = gsub(\"FJM[FJM[\", \"FJM[\", dat$Outcomes, fixed=T)"
   ]
  },
  {
   "cell_type": "code",
   "execution_count": 11,
   "metadata": {
    "collapsed": false
   },
   "outputs": [
    {
     "data": {
      "text/plain": [
       "\n",
       "     FJM[ NTN[ \n",
       "   6  472 1590 "
      ]
     },
     "execution_count": 11,
     "metadata": {},
     "output_type": "execute_result"
    }
   ],
   "source": [
    "table(dat$Outcomes)"
   ]
  },
  {
   "cell_type": "code",
   "execution_count": 12,
   "metadata": {
    "collapsed": false
   },
   "outputs": [
    {
     "data": {
      "text/html": [
       "<table>\n",
       "<thead><tr><th></th><th scope=col>Outcomes</th><th scope=col>Cues</th><th scope=col>Frequency</th></tr></thead>\n",
       "<tbody>\n",
       "\t<tr><th scope=row>148</th><td></td><td>det_PP_Objc_NP_Cmpl_und</td><td>1</td></tr>\n",
       "\t<tr><th scope=row>265</th><td></td><td>det_Objc_DPrP</td><td>1</td></tr>\n",
       "\t<tr><th scope=row>374</th><td></td><td>det_Objc_NP_Conj_und_CP_PP_Cmpl</td><td>1</td></tr>\n",
       "\t<tr><th scope=row>526</th><td></td><td>det_Conj_PP_Cmpl_CP</td><td>1</td></tr>\n",
       "\t<tr><th scope=row>777</th><td></td><td>det_Subj_Objc_NP_Conj_CP_und_PPrP</td><td>1</td></tr>\n",
       "\t<tr><th scope=row>1126</th><td></td><td>det_NP_Subj</td><td>1</td></tr>\n",
       "</tbody>\n",
       "</table>\n"
      ],
      "text/latex": [
       "\\begin{tabular}{r|lll}\n",
       "  & Outcomes & Cues & Frequency\\\\\n",
       "\\hline\n",
       "\t148 &  & det_PP_Objc_NP_Cmpl_und & 1\\\\\n",
       "\t265 &  & det_Objc_DPrP & 1\\\\\n",
       "\t374 &  & det_Objc_NP_Conj_und_CP_PP_Cmpl & 1\\\\\n",
       "\t526 &  & det_Conj_PP_Cmpl_CP & 1\\\\\n",
       "\t777 &  & det_Subj_Objc_NP_Conj_CP_und_PPrP & 1\\\\\n",
       "\t1126 &  & det_NP_Subj & 1\\\\\n",
       "\\end{tabular}\n"
      ],
      "text/plain": [
       "     Outcomes                              Cues Frequency\n",
       "148                     det_PP_Objc_NP_Cmpl_und         1\n",
       "265                               det_Objc_DPrP         1\n",
       "374             det_Objc_NP_Conj_und_CP_PP_Cmpl         1\n",
       "526                         det_Conj_PP_Cmpl_CP         1\n",
       "777           det_Subj_Objc_NP_Conj_CP_und_PPrP         1\n",
       "1126                                det_NP_Subj         1"
      ]
     },
     "execution_count": 12,
     "metadata": {},
     "output_type": "execute_result"
    }
   ],
   "source": [
    "dat[dat$Outcomes==\"\",]"
   ]
  },
  {
   "cell_type": "code",
   "execution_count": 13,
   "metadata": {
    "collapsed": true
   },
   "outputs": [],
   "source": [
    "dat = dat[dat$Outcomes!=\"\",]"
   ]
  },
  {
   "cell_type": "code",
   "execution_count": 14,
   "metadata": {
    "collapsed": false
   },
   "outputs": [
    {
     "data": {
      "text/plain": [
       "\n",
       "FJM[ NTN[ \n",
       " 472 1590 "
      ]
     },
     "execution_count": 14,
     "metadata": {},
     "output_type": "execute_result"
    }
   ],
   "source": [
    "table(dat$Outcomes)"
   ]
  },
  {
   "cell_type": "code",
   "execution_count": 15,
   "metadata": {
    "collapsed": true
   },
   "outputs": [],
   "source": [
    "dat.w = estimateWeights(dat)"
   ]
  },
  {
   "cell_type": "code",
   "execution_count": 16,
   "metadata": {
    "collapsed": false
   },
   "outputs": [
    {
     "data": {
      "text/html": [
       "<ol class=list-inline>\n",
       "\t<li>28</li>\n",
       "\t<li>2</li>\n",
       "</ol>\n"
      ],
      "text/latex": [
       "\\begin{enumerate*}\n",
       "\\item 28\n",
       "\\item 2\n",
       "\\end{enumerate*}\n"
      ],
      "text/markdown": [
       "1. 28\n",
       "2. 2\n",
       "\n",
       "\n"
      ],
      "text/plain": [
       "[1] 28  2"
      ]
     },
     "execution_count": 16,
     "metadata": {},
     "output_type": "execute_result"
    }
   ],
   "source": [
    "dim(dat.w)"
   ]
  },
  {
   "cell_type": "code",
   "execution_count": 17,
   "metadata": {
    "collapsed": false
   },
   "outputs": [
    {
     "data": {
      "text/html": [
       "<table>\n",
       "<thead><tr><th></th><th scope=col>FJM[</th><th scope=col>NTN[</th></tr></thead>\n",
       "<tbody>\n",
       "\t<tr><th scope=row>AdjP</th><td>0.7588917</td><td>2.916517</td></tr>\n",
       "\t<tr><th scope=row>Adju</th><td>-0.4570114</td><td>-1.044876</td></tr>\n",
       "\t<tr><th scope=row>AdvP</th><td>0.6505303</td><td>0.9614703</td></tr>\n",
       "\t<tr><th scope=row>CP</th><td>0.02171053</td><td>0.03976017</td></tr>\n",
       "\t<tr><th scope=row>Cmpl</th><td>-0.3398774</td><td>-1.158294</td></tr>\n",
       "\t<tr><th scope=row>Conj</th><td>0.008944763</td><td>-0.1576818</td></tr>\n",
       "\t<tr><th scope=row>DPrP</th><td>0.5066404</td><td>-0.2035249</td></tr>\n",
       "\t<tr><th scope=row>IPrP</th><td>-0.9610215</td><td>-3.555834</td></tr>\n",
       "\t<tr><th scope=row>InjP</th><td>-0.005674182</td><td>-0.1001832</td></tr>\n",
       "\t<tr><th scope=row>InrP</th><td>1.129747</td><td>2.951312</td></tr>\n",
       "\t<tr><th scope=row>Intj</th><td>-0.005674182</td><td>-0.1001832</td></tr>\n",
       "\t<tr><th scope=row>Loca</th><td>-0.2658264</td><td>-0.9526234</td></tr>\n",
       "\t<tr><th scope=row>Modi</th><td>-0.6664414</td><td>-1.204443</td></tr>\n",
       "\t<tr><th scope=row>NP</th><td>-0.5647014</td><td>-2.531752</td></tr>\n",
       "\t<tr><th scope=row>NegP</th><td>-0.06589641</td><td>-0.1334269</td></tr>\n",
       "\t<tr><th scope=row>Nega</th><td>-0.06589641</td><td>-0.1334269</td></tr>\n",
       "\t<tr><th scope=row>Objc</th><td>-0.3220953</td><td>-1.151146</td></tr>\n",
       "\t<tr><th scope=row>PP</th><td>-0.1544256</td><td>-0.3717642</td></tr>\n",
       "\t<tr><th scope=row>PPrP</th><td>0.05874023</td><td>-0.3316993</td></tr>\n",
       "\t<tr><th scope=row>PrAd</th><td>-0.9220465</td><td>-2.362855</td></tr>\n",
       "\t<tr><th scope=row>PrNP</th><td>0.03220694</td><td>-0.3905765</td></tr>\n",
       "\t<tr><th scope=row>Ques</th><td>-1.134502</td><td>-3.143413</td></tr>\n",
       "\t<tr><th scope=row>Rela</th><td>-0.06304708</td><td>-0.1869816</td></tr>\n",
       "\t<tr><th scope=row>Subj</th><td>-0.1563804</td><td>0.3595999</td></tr>\n",
       "\t<tr><th scope=row>Supp</th><td>-0.2596908</td><td>-2.078434</td></tr>\n",
       "\t<tr><th scope=row>Time</th><td>-0.3315545</td><td>-1.063826</td></tr>\n",
       "\t<tr><th scope=row>det</th><td>0.649209</td><td>2.40321</td></tr>\n",
       "\t<tr><th scope=row>und</th><td>1.497815</td><td>5.181422</td></tr>\n",
       "</tbody>\n",
       "</table>\n"
      ],
      "text/latex": [
       "\\begin{tabular}{r|ll}\n",
       "  & FJM[ & NTN[\\\\\n",
       "\\hline\n",
       "\tAdjP & 0.7588917 & 2.916517\\\\\n",
       "\tAdju & -0.4570114 & -1.044876\\\\\n",
       "\tAdvP & 0.6505303 & 0.9614703\\\\\n",
       "\tCP & 0.02171053 & 0.03976017\\\\\n",
       "\tCmpl & -0.3398774 & -1.158294\\\\\n",
       "\tConj & 0.008944763 & -0.1576818\\\\\n",
       "\tDPrP & 0.5066404 & -0.2035249\\\\\n",
       "\tIPrP & -0.9610215 & -3.555834\\\\\n",
       "\tInjP & -0.005674182 & -0.1001832\\\\\n",
       "\tInrP & 1.129747 & 2.951312\\\\\n",
       "\tIntj & -0.005674182 & -0.1001832\\\\\n",
       "\tLoca & -0.2658264 & -0.9526234\\\\\n",
       "\tModi & -0.6664414 & -1.204443\\\\\n",
       "\tNP & -0.5647014 & -2.531752\\\\\n",
       "\tNegP & -0.06589641 & -0.1334269\\\\\n",
       "\tNega & -0.06589641 & -0.1334269\\\\\n",
       "\tObjc & -0.3220953 & -1.151146\\\\\n",
       "\tPP & -0.1544256 & -0.3717642\\\\\n",
       "\tPPrP & 0.05874023 & -0.3316993\\\\\n",
       "\tPrAd & -0.9220465 & -2.362855\\\\\n",
       "\tPrNP & 0.03220694 & -0.3905765\\\\\n",
       "\tQues & -1.134502 & -3.143413\\\\\n",
       "\tRela & -0.06304708 & -0.1869816\\\\\n",
       "\tSubj & -0.1563804 & 0.3595999\\\\\n",
       "\tSupp & -0.2596908 & -2.078434\\\\\n",
       "\tTime & -0.3315545 & -1.063826\\\\\n",
       "\tdet & 0.649209 & 2.40321\\\\\n",
       "\tund & 1.497815 & 5.181422\\\\\n",
       "\\end{tabular}\n"
      ],
      "text/markdown": [
       "1. 0.758891669355305\n",
       "2. -0.457011439992133\n",
       "3. 0.650530255376475\n",
       "4. 0.0217105329075943\n",
       "5. -0.339877359025227\n",
       "6. 0.00894476304341098\n",
       "7. 0.506640373476477\n",
       "8. -0.961021511686649\n",
       "9. -0.0056741824495448\n",
       "10. 1.12974720087678\n",
       "11. -0.00567418244952493\n",
       "12. -0.265826443638028\n",
       "13. -0.666441389538972\n",
       "14. -0.564701402277653\n",
       "15. -0.0658964112248163\n",
       "16. -0.065896411224813\n",
       "17. -0.322095267757304\n",
       "18. -0.154425619854407\n",
       "19. 0.0587402280063313\n",
       "20. -0.922046485364083\n",
       "21. 0.0322069448674514\n",
       "22. -1.13450225893425\n",
       "23. -0.0630470835209445\n",
       "24. -0.156380384382466\n",
       "25. -0.259690754151391\n",
       "26. -0.331554522437938\n",
       "27. 0.649208984530023\n",
       "28. 1.49781503287066\n",
       "29. 2.9165170071891\n",
       "30. -1.04487642391722\n",
       "31. 0.961470265401929\n",
       "32. 0.0397601746411181\n",
       "33. -1.15829436850524\n",
       "34. -0.157681786787404\n",
       "35. -0.203524890270931\n",
       "36. -3.55583375108053\n",
       "37. -0.100183159040249\n",
       "38. 2.95131168570492\n",
       "39. -0.100183159040152\n",
       "40. -0.952623364592161\n",
       "41. -1.20444309569702\n",
       "42. -2.53175189700716\n",
       "43. -0.133426902310457\n",
       "44. -0.133426902310441\n",
       "45. -1.1511455278658\n",
       "46. -0.3717642246472\n",
       "47. -0.331699285683002\n",
       "48. -2.36285532237988\n",
       "49. -0.390576501386257\n",
       "50. -3.14341281385798\n",
       "51. -0.18698159239552\n",
       "52. 0.359599933601197\n",
       "53. -2.07843355767722\n",
       "54. -1.06382583242646\n",
       "55. 2.40320966693583\n",
       "56. 5.18142225034027\n",
       "\n",
       "\n"
      ],
      "text/plain": [
       "             FJM[        NTN[\n",
       "AdjP  0.758891669  2.91651701\n",
       "Adju -0.457011440 -1.04487642\n",
       "AdvP  0.650530255  0.96147027\n",
       "CP    0.021710533  0.03976017\n",
       "Cmpl -0.339877359 -1.15829437\n",
       "Conj  0.008944763 -0.15768179\n",
       "DPrP  0.506640373 -0.20352489\n",
       "IPrP -0.961021512 -3.55583375\n",
       "InjP -0.005674182 -0.10018316\n",
       "InrP  1.129747201  2.95131169\n",
       "Intj -0.005674182 -0.10018316\n",
       "Loca -0.265826444 -0.95262336\n",
       "Modi -0.666441390 -1.20444310\n",
       "NP   -0.564701402 -2.53175190\n",
       "NegP -0.065896411 -0.13342690\n",
       "Nega -0.065896411 -0.13342690\n",
       "Objc -0.322095268 -1.15114553\n",
       "PP   -0.154425620 -0.37176422\n",
       "PPrP  0.058740228 -0.33169929\n",
       "PrAd -0.922046485 -2.36285532\n",
       "PrNP  0.032206945 -0.39057650\n",
       "Ques -1.134502259 -3.14341281\n",
       "Rela -0.063047084 -0.18698159\n",
       "Subj -0.156380384  0.35959993\n",
       "Supp -0.259690754 -2.07843356\n",
       "Time -0.331554522 -1.06382583\n",
       "det   0.649208985  2.40320967\n",
       "und   1.497815033  5.18142225"
      ]
     },
     "execution_count": 17,
     "metadata": {},
     "output_type": "execute_result"
    }
   ],
   "source": [
    "dat.w"
   ]
  },
  {
   "cell_type": "code",
   "execution_count": 18,
   "metadata": {
    "collapsed": false
   },
   "outputs": [],
   "source": [
    "dat.a = estimateActivations(dat, dat.w)$activationMatrix"
   ]
  },
  {
   "cell_type": "code",
   "execution_count": 19,
   "metadata": {
    "collapsed": false
   },
   "outputs": [
    {
     "data": {
      "text/plain": [
       "NULL"
      ]
     },
     "execution_count": 19,
     "metadata": {},
     "output_type": "execute_result"
    }
   ],
   "source": [
    "names(dat.a)"
   ]
  },
  {
   "cell_type": "code",
   "execution_count": 20,
   "metadata": {
    "collapsed": false
   },
   "outputs": [
    {
     "data": {
      "text/html": [
       "<table>\n",
       "<thead><tr><th scope=col>FJM[</th><th scope=col>NTN[</th></tr></thead>\n",
       "<tbody>\n",
       "\t<tr><td>0.6401993</td><td>2.613354</td></tr>\n",
       "\t<tr><td>1.319277</td><td>4.703061</td></tr>\n",
       "\t<tr><td>0.5139963</td><td>0.5655542</td></tr>\n",
       "\t<tr><td>-0.2714501</td><td>-0.289647</td></tr>\n",
       "\t<tr><td>0.1135695</td><td>0.7259297</td></tr>\n",
       "\t<tr><td>-0.3997456</td><td>-0.1438247</td></tr>\n",
       "</tbody>\n",
       "</table>\n"
      ],
      "text/latex": [
       "\\begin{tabular}{ll}\n",
       " FJM[ & NTN[\\\\\n",
       "\\hline\n",
       "\t 0.6401993 & 2.613354\\\\\n",
       "\t 1.319277 & 4.703061\\\\\n",
       "\t 0.5139963 & 0.5655542\\\\\n",
       "\t -0.2714501 & -0.289647\\\\\n",
       "\t 0.1135695 & 0.7259297\\\\\n",
       "\t -0.3997456 & -0.1438247\\\\\n",
       "\\end{tabular}\n"
      ],
      "text/markdown": [
       "1. 0.640199280054629\n",
       "2. 1.31927740586467\n",
       "3. 0.513996289220566\n",
       "4. -0.271450138390738\n",
       "5. 0.113569455037039\n",
       "6. -0.399745590717878\n",
       "7. 2.61335422070561\n",
       "8. 4.70306147817745\n",
       "9. 0.565554199173232\n",
       "10. -0.28964696228011\n",
       "11. 0.72592965602899\n",
       "12. -0.14382470221563\n",
       "\n",
       "\n"
      ],
      "text/plain": [
       "           FJM[       NTN[\n",
       "[1,]  0.6401993  2.6133542\n",
       "[2,]  1.3192774  4.7030615\n",
       "[3,]  0.5139963  0.5655542\n",
       "[4,] -0.2714501 -0.2896470\n",
       "[5,]  0.1135695  0.7259297\n",
       "[6,] -0.3997456 -0.1438247"
      ]
     },
     "execution_count": 20,
     "metadata": {},
     "output_type": "execute_result"
    }
   ],
   "source": [
    "head(dat.a)"
   ]
  },
  {
   "cell_type": "code",
   "execution_count": 21,
   "metadata": {
    "collapsed": true
   },
   "outputs": [],
   "source": [
    "v = apply(dat.a, 1, FUN = function(a) {which(a==max(a))[1]})"
   ]
  },
  {
   "cell_type": "code",
   "execution_count": 22,
   "metadata": {
    "collapsed": false
   },
   "outputs": [
    {
     "data": {
      "text/html": [
       "<ol class=list-inline>\n",
       "\t<li>2</li>\n",
       "\t<li>2</li>\n",
       "\t<li>2</li>\n",
       "\t<li>1</li>\n",
       "\t<li>2</li>\n",
       "\t<li>2</li>\n",
       "</ol>\n"
      ],
      "text/latex": [
       "\\begin{enumerate*}\n",
       "\\item 2\n",
       "\\item 2\n",
       "\\item 2\n",
       "\\item 1\n",
       "\\item 2\n",
       "\\item 2\n",
       "\\end{enumerate*}\n"
      ],
      "text/markdown": [
       "1. 2\n",
       "2. 2\n",
       "3. 2\n",
       "4. 1\n",
       "5. 2\n",
       "6. 2\n",
       "\n",
       "\n"
      ],
      "text/plain": [
       "[1] 2 2 2 1 2 2"
      ]
     },
     "execution_count": 22,
     "metadata": {},
     "output_type": "execute_result"
    }
   ],
   "source": [
    "head(v)\n"
   ]
  },
  {
   "cell_type": "code",
   "execution_count": 23,
   "metadata": {
    "collapsed": false
   },
   "outputs": [
    {
     "data": {
      "text/html": [
       "2062"
      ],
      "text/latex": [
       "2062"
      ],
      "text/markdown": [
       "2062"
      ],
      "text/plain": [
       "[1] 2062"
      ]
     },
     "execution_count": 23,
     "metadata": {},
     "output_type": "execute_result"
    }
   ],
   "source": [
    "length(v)"
   ]
  },
  {
   "cell_type": "code",
   "execution_count": 24,
   "metadata": {
    "collapsed": false
   },
   "outputs": [
    {
     "name": "stdout",
     "output_type": "stream",
     "text": [
      " int [1:2062] 2 2 2 1 2 2 1 2 1 2 ...\n"
     ]
    }
   ],
   "source": [
    "str(v)"
   ]
  },
  {
   "cell_type": "code",
   "execution_count": 25,
   "metadata": {
    "collapsed": false
   },
   "outputs": [],
   "source": [
    "dat$predict = c(\"FJM[\", \"NTN[\")[v]"
   ]
  },
  {
   "cell_type": "code",
   "execution_count": 26,
   "metadata": {
    "collapsed": false
   },
   "outputs": [
    {
     "data": {
      "text/html": [
       "<ol class=list-inline>\n",
       "\t<li>2062</li>\n",
       "\t<li>4</li>\n",
       "</ol>\n"
      ],
      "text/latex": [
       "\\begin{enumerate*}\n",
       "\\item 2062\n",
       "\\item 4\n",
       "\\end{enumerate*}\n"
      ],
      "text/markdown": [
       "1. 2062\n",
       "2. 4\n",
       "\n",
       "\n"
      ],
      "text/plain": [
       "[1] 2062    4"
      ]
     },
     "execution_count": 26,
     "metadata": {},
     "output_type": "execute_result"
    }
   ],
   "source": [
    "dim(dat)"
   ]
  },
  {
   "cell_type": "code",
   "execution_count": 27,
   "metadata": {
    "collapsed": false
   },
   "outputs": [
    {
     "data": {
      "text/html": [
       "<table>\n",
       "<thead><tr><th></th><th scope=col>Outcomes</th><th scope=col>Cues</th><th scope=col>Frequency</th><th scope=col>predict</th></tr></thead>\n",
       "<tbody>\n",
       "\t<tr><th scope=row>1</th><td>NTN[</td><td>det_Subj_Objc_NP_Conj_CP_und_PP_Cmpl</td><td>1</td><td>NTN[</td></tr>\n",
       "\t<tr><th scope=row>2</th><td>NTN[</td><td>InjP_det_PP_Objc_Cmpl_Intj_und</td><td>1</td><td>NTN[</td></tr>\n",
       "\t<tr><th scope=row>3</th><td>FJM[</td><td>det_PP_AdvP_Objc_Conj_Cmpl_CP</td><td>1</td><td>NTN[</td></tr>\n",
       "\t<tr><th scope=row>4</th><td>NTN[</td><td>det_PP_Conj_Cmpl_Adju_CP</td><td>1</td><td>FJM[</td></tr>\n",
       "\t<tr><th scope=row>5</th><td>NTN[</td><td>det_PP_Rela_Cmpl_CP</td><td>1</td><td>NTN[</td></tr>\n",
       "\t<tr><th scope=row>6</th><td>NTN[</td><td>det_Subj_PP_PPrP_Cmpl_Adju</td><td>1</td><td>NTN[</td></tr>\n",
       "</tbody>\n",
       "</table>\n"
      ],
      "text/latex": [
       "\\begin{tabular}{r|llll}\n",
       "  & Outcomes & Cues & Frequency & predict\\\\\n",
       "\\hline\n",
       "\t1 & NTN[ & det_Subj_Objc_NP_Conj_CP_und_PP_Cmpl & 1 & NTN[\\\\\n",
       "\t2 & NTN[ & InjP_det_PP_Objc_Cmpl_Intj_und & 1 & NTN[\\\\\n",
       "\t3 & FJM[ & det_PP_AdvP_Objc_Conj_Cmpl_CP & 1 & NTN[\\\\\n",
       "\t4 & NTN[ & det_PP_Conj_Cmpl_Adju_CP & 1 & FJM[\\\\\n",
       "\t5 & NTN[ & det_PP_Rela_Cmpl_CP & 1 & NTN[\\\\\n",
       "\t6 & NTN[ & det_Subj_PP_PPrP_Cmpl_Adju & 1 & NTN[\\\\\n",
       "\\end{tabular}\n"
      ],
      "text/plain": [
       "  Outcomes                                 Cues Frequency predict\n",
       "1     NTN[ det_Subj_Objc_NP_Conj_CP_und_PP_Cmpl         1    NTN[\n",
       "2     NTN[       InjP_det_PP_Objc_Cmpl_Intj_und         1    NTN[\n",
       "3     FJM[        det_PP_AdvP_Objc_Conj_Cmpl_CP         1    NTN[\n",
       "4     NTN[             det_PP_Conj_Cmpl_Adju_CP         1    FJM[\n",
       "5     NTN[                  det_PP_Rela_Cmpl_CP         1    NTN[\n",
       "6     NTN[           det_Subj_PP_PPrP_Cmpl_Adju         1    NTN["
      ]
     },
     "execution_count": 27,
     "metadata": {},
     "output_type": "execute_result"
    }
   ],
   "source": [
    "head(dat)"
   ]
  },
  {
   "cell_type": "code",
   "execution_count": 28,
   "metadata": {
    "collapsed": false
   },
   "outputs": [
    {
     "data": {
      "text/html": [
       "0.588263821532493"
      ],
      "text/latex": [
       "0.588263821532493"
      ],
      "text/markdown": [
       "0.588263821532493"
      ],
      "text/plain": [
       "[1] 0.5882638"
      ]
     },
     "execution_count": 28,
     "metadata": {},
     "output_type": "execute_result"
    }
   ],
   "source": [
    "sum(dat$Outcomes == dat$predict) / nrow(dat)"
   ]
  },
  {
   "cell_type": "code",
   "execution_count": 29,
   "metadata": {
    "collapsed": false
   },
   "outputs": [
    {
     "data": {
      "text/html": [
       "2062"
      ],
      "text/latex": [
       "2062"
      ],
      "text/markdown": [
       "2062"
      ],
      "text/plain": [
       "[1] 2062"
      ]
     },
     "execution_count": 29,
     "metadata": {},
     "output_type": "execute_result"
    }
   ],
   "source": [
    "length(v)"
   ]
  },
  {
   "cell_type": "code",
   "execution_count": 54,
   "metadata": {
    "collapsed": false
   },
   "outputs": [
    {
     "data": {
      "text/html": [
       "<table>\n",
       "<thead><tr><th></th><th scope=col>Outcomes</th><th scope=col>Cues</th><th scope=col>Frequency</th></tr></thead>\n",
       "<tbody>\n",
       "\t<tr><th scope=row>1</th><td>NTN[</td><td>prep_art_sg_conj_m_pl_subs</td><td>1</td></tr>\n",
       "\t<tr><th scope=row>2</th><td>FJM[</td><td>prep_advb_art_sg_conj_m_subs</td><td>1</td></tr>\n",
       "\t<tr><th scope=row>3</th><td>NTN[</td><td>prep_advb_sg_conj_m_subs</td><td>1</td></tr>\n",
       "\t<tr><th scope=row>4</th><td>NTN[</td><td>subs_sg_conj_m</td><td>1</td></tr>\n",
       "\t<tr><th scope=row>5</th><td>NTN[</td><td>f_art_p3_prep_sg_m_subs_prps</td><td>1</td></tr>\n",
       "\t<tr><th scope=row>6</th><td>NTN[</td><td>prep_subs_sg_m</td><td>1</td></tr>\n",
       "</tbody>\n",
       "</table>\n"
      ],
      "text/latex": [
       "\\begin{tabular}{r|lll}\n",
       "  & Outcomes & Cues & Frequency\\\\\n",
       "\\hline\n",
       "\t1 & NTN[ & prep_art_sg_conj_m_pl_subs & 1\\\\\n",
       "\t2 & FJM[ & prep_advb_art_sg_conj_m_subs & 1\\\\\n",
       "\t3 & NTN[ & prep_advb_sg_conj_m_subs & 1\\\\\n",
       "\t4 & NTN[ & subs_sg_conj_m & 1\\\\\n",
       "\t5 & NTN[ & f_art_p3_prep_sg_m_subs_prps & 1\\\\\n",
       "\t6 & NTN[ & prep_subs_sg_m & 1\\\\\n",
       "\\end{tabular}\n"
      ],
      "text/plain": [
       "  Outcomes                         Cues Frequency\n",
       "1     NTN[   prep_art_sg_conj_m_pl_subs         1\n",
       "2     FJM[ prep_advb_art_sg_conj_m_subs         1\n",
       "3     NTN[     prep_advb_sg_conj_m_subs         1\n",
       "4     NTN[               subs_sg_conj_m         1\n",
       "5     NTN[ f_art_p3_prep_sg_m_subs_prps         1\n",
       "6     NTN[               prep_subs_sg_m         1"
      ]
     },
     "execution_count": 54,
     "metadata": {},
     "output_type": "execute_result"
    }
   ],
   "source": [
    "head(dat)"
   ]
  },
  {
   "cell_type": "code",
   "execution_count": 39,
   "metadata": {
    "collapsed": true
   },
   "outputs": [],
   "source": [
    "v = unlist(v)"
   ]
  },
  {
   "cell_type": "code",
   "execution_count": 40,
   "metadata": {
    "collapsed": false
   },
   "outputs": [
    {
     "ename": "ERROR",
     "evalue": "Error in eval(expr, envir, enclos): could not find function \"len\"\n",
     "output_type": "error",
     "traceback": [
      "Error in eval(expr, envir, enclos): could not find function \"len\"\n"
     ]
    }
   ],
   "source": [
    "len(v)"
   ]
  },
  {
   "cell_type": "code",
   "execution_count": 41,
   "metadata": {
    "collapsed": false
   },
   "outputs": [
    {
     "data": {
      "text/html": [
       "2026"
      ],
      "text/latex": [
       "2026"
      ],
      "text/markdown": [
       "2026"
      ],
      "text/plain": [
       "[1] 2026"
      ]
     },
     "execution_count": 41,
     "metadata": {},
     "output_type": "execute_result"
    }
   ],
   "source": [
    "length(v)"
   ]
  },
  {
   "cell_type": "code",
   "execution_count": 43,
   "metadata": {
    "collapsed": false
   },
   "outputs": [
    {
     "data": {
      "text/html": [
       "2026"
      ],
      "text/latex": [
       "2026"
      ],
      "text/markdown": [
       "2026"
      ],
      "text/plain": [
       "[1] 2026"
      ]
     },
     "execution_count": 43,
     "metadata": {},
     "output_type": "execute_result"
    }
   ],
   "source": [
    "length(sapply(v,FUN=function(a) {return(a[1])}))"
   ]
  },
  {
   "cell_type": "code",
   "execution_count": null,
   "metadata": {
    "collapsed": true
   },
   "outputs": [],
   "source": []
  }
 ],
 "metadata": {
  "kernelspec": {
   "display_name": "R",
   "language": "",
   "name": "ir"
  },
  "language_info": {
   "codemirror_mode": "r",
   "file_extension": ".r",
   "mimetype": "text/x-r-source",
   "name": "R",
   "pygments_lexer": "r",
   "version": "3.2.0"
  }
 },
 "nbformat": 4,
 "nbformat_minor": 0
}
