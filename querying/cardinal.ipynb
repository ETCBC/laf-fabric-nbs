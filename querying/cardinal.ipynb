{
 "cells": [
  {
   "cell_type": "markdown",
   "metadata": {},
   "source": [
    "<a href=\"http://laf-fabric.readthedocs.org/en/latest/\" target=\"_blank\"><img align=\"left\" src=\"images/laf-fabric-xsmall.png\"/></a>\n",
    "<a href=\"http://emdros.org\" target=\"_blank\"><img align=\"left\" src=\"files/images/Emdros-xsmall.png\"/></a>\n",
    "<a href=\"http://www.persistent-identifier.nl/?identifier=urn%3Anbn%3Anl%3Aui%3A13-048i-71\" target=\"_blank\"><img align=\"left\"src=\"images/etcbc4easy-small.png\"/></a>\n",
    "<a href=\"http://www.godgeleerdheid.vu.nl/etcbc\" target=\"_blank\"><img align=\"right\" src=\"images/VU-ETCBC-xsmall.png\"/></a>"
   ]
  },
  {
   "cell_type": "markdown",
   "metadata": {},
   "source": [
    "# Cardinals and verbs\n",
    "\n",
    "Which verbs show up in the context of numbers, and which syntactic roles do numbers assume by virtue of their link to those verbs and which meanings do they get?\n",
    "\n",
    "This is a question coming from Oliver Glanz at Andrew University."
   ]
  },
  {
   "cell_type": "code",
   "execution_count": 1,
   "metadata": {
    "collapsed": false
   },
   "outputs": [
    {
     "name": "stderr",
     "output_type": "stream",
     "text": [
      "  0.00s This is LAF-Fabric 4.4.6\n",
      "API reference: http://laf-fabric.readthedocs.org/en/latest/texts/API-reference.html\n",
      "Feature doc: http://shebanq-doc.readthedocs.org/en/latest/texts/welcome.html\n",
      "\n"
     ]
    }
   ],
   "source": [
    "import sys\n",
    "import collections\n",
    "import subprocess\n",
    "\n",
    "from lxml import etree\n",
    "\n",
    "import laf\n",
    "from laf.fabric import LafFabric\n",
    "from etcbc.preprocess import prepare\n",
    "from etcbc.mql import MQL\n",
    "fabric = LafFabric()"
   ]
  },
  {
   "cell_type": "code",
   "execution_count": 2,
   "metadata": {
    "collapsed": false
   },
   "outputs": [
    {
     "name": "stderr",
     "output_type": "stream",
     "text": [
      "  0.00s LOADING API: please wait ... \n",
      "  0.00s DETAIL: COMPILING m: UP TO DATE\n",
      "  0.10s INFO: USING DATA COMPILED AT: 2014-07-23T09-31-37\n",
      "  0.10s DETAIL: COMPILING a: UP TO DATE\n",
      "  0.11s DETAIL: load main: P.node_anchor\n",
      "  0.80s DETAIL: load main: P.node_anchor_items\n",
      "  1.04s DETAIL: load main: G.node_anchor_min\n",
      "  1.10s DETAIL: load main: G.node_anchor_max\n",
      "  1.14s DETAIL: load main: P.node_events\n",
      "  1.23s DETAIL: load main: P.node_events_items\n",
      "  1.51s DETAIL: load main: P.node_events_k\n",
      "  1.60s DETAIL: load main: P.node_events_n\n",
      "  1.74s DETAIL: load main: G.node_sort\n",
      "  1.79s DETAIL: load main: G.node_sort_inv\n",
      "  2.18s DETAIL: load main: G.edges_from\n",
      "  2.25s DETAIL: load main: G.edges_to\n",
      "  2.32s DETAIL: load main: P.primary_data\n",
      "  2.37s DETAIL: load main: F.etcbc4_db_monads [node] \n",
      "  3.11s DETAIL: load main: F.etcbc4_db_oid [node] \n",
      "  3.81s DETAIL: load main: F.etcbc4_db_otype [node] \n",
      "  4.45s DETAIL: load main: F.etcbc4_ft_function [node] \n",
      "  4.57s DETAIL: load main: F.etcbc4_ft_lex_utf8 [node] \n",
      "  4.83s DETAIL: load main: F.etcbc4_ft_sp [node] \n",
      "  5.02s DETAIL: load main: F.etcbc4_ft_typ [node] \n",
      "  5.34s DETAIL: load main: F.etcbc4_ft_vs [node] \n",
      "  5.53s DETAIL: load main: F.etcbc4_sft_book [node] \n",
      "  5.55s DETAIL: load main: F.etcbc4_sft_chapter [node] \n",
      "  5.56s DETAIL: load main: F.etcbc4_sft_label [node] \n",
      "  5.58s DETAIL: load main: F.etcbc4_sft_verse [node] \n",
      "  5.59s DETAIL: load main: F.etcbc4_ft_functional_parent [e] \n",
      "  5.84s DETAIL: load main: C.etcbc4_ft_functional_parent -> \n",
      "  6.66s DETAIL: load main: C.etcbc4_ft_functional_parent <- \n",
      "  7.12s LOGFILE=/Users/dirk/Dropbox/laf-fabric-output/etcbc4/mql/__log__mql.txt\n",
      "  7.12s DETAIL: prep prep: G.node_sort\n",
      "  7.19s DETAIL: prep prep: G.node_sort_inv\n",
      "  7.67s INFO: DATA LOADED FROM SOURCE etcbc4 AND ANNOX -- FOR TASK mql AT 2015-03-05T10-51-05\n"
     ]
    }
   ],
   "source": [
    "API = fabric.load('etcbc4', '--', 'mql', {\n",
    "    \"xmlids\": {\"node\": False, \"edge\": False},\n",
    "    \"features\": ('''\n",
    "        oid otype monads\n",
    "        lex_utf8\n",
    "        sp typ vs function\n",
    "        book chapter verse label\n",
    "    ''','''\n",
    "        functional_parent\n",
    "    '''),\n",
    "    \"prepare\": prepare,\n",
    "    \"primary\": True,\n",
    "}, verbose='DETAIL')\n",
    "exec(fabric.localnames.format(var='fabric'))\n",
    "Q = MQL(API)"
   ]
  },
  {
   "cell_type": "markdown",
   "metadata": {},
   "source": [
    "# The MQL query\n",
    "\n",
    "The query that selects the relevant fragments is on SHEBANQ:\n",
    "[Oliver Glanz: Lev 26 function of numbers #01](http://shebanq.ancient-data.org/hebrew/query?id=544)"
   ]
  },
  {
   "cell_type": "code",
   "execution_count": 3,
   "metadata": {
    "collapsed": false
   },
   "outputs": [],
   "source": [
    "card_query = '''\n",
    "select all objects where\n",
    "[book [chapter [verse\n",
    "[clause\n",
    "\t[phrase\n",
    "\t\t[word sp = verb]\n",
    "\t]\n",
    "\t..\n",
    "\t[phrase\n",
    "\t\t[word FIRST AND LAST ls  = card AND prs = \"absent\"]\n",
    "\t]\n",
    "] \n",
    "OR\n",
    "[clause\n",
    "\t[phrase\n",
    "\t\t[word FIRST AND LAST ls  = card AND prs = \"absent\"]\n",
    "\t]\n",
    "\t..\n",
    "\t[phrase\n",
    "\t\t[word sp = verb]\n",
    "\t]\n",
    "]\n",
    "]]]\n",
    "'''"
   ]
  },
  {
   "cell_type": "markdown",
   "metadata": {},
   "source": [
    "# Run the query\n",
    "\n",
    "The following line of code invokes your local MQL processor (from your local EMDROS installation), and delivers the results as a compact sheaf."
   ]
  },
  {
   "cell_type": "code",
   "execution_count": 4,
   "metadata": {
    "collapsed": false
   },
   "outputs": [],
   "source": [
    "sheaf = Q.mql(card_query)"
   ]
  },
  {
   "cell_type": "markdown",
   "metadata": {},
   "source": [
    "# Processing the results\n",
    "\n",
    "Now we process all results. Every result is a structure in the same shape as our query, filled with nodes that correspond to the book, chapter, verse, clause, phrase etc. of that result.\n",
    "\n",
    "We iterate through all these objects, identify the nodes in it, and look up desired features of these nodes.\n",
    "\n",
    "It is a bit daunting, this data structure, but it is easy to get it.\n",
    "We just print out the first result of the sheaf and copy the result to our program code, and them replace the numbers by variables.\n"
   ]
  },
  {
   "cell_type": "code",
   "execution_count": 9,
   "metadata": {
    "collapsed": false
   },
   "outputs": [
    {
     "name": "stdout",
     "output_type": "stream",
     "text": [
      "((1372281, ((1372323, ((1418025, ((426940, ((605825, ((1912,),)), (605826, ((1914,),)))),)),)),)),)\n"
     ]
    }
   ],
   "source": [
    "for x in sheaf.results():\n",
    "    print(x)\n",
    "    break"
   ]
  },
  {
   "cell_type": "markdown",
   "metadata": {},
   "source": [
    "For each result, we write out a line of feature information."
   ]
  },
  {
   "cell_type": "code",
   "execution_count": 5,
   "metadata": {
    "collapsed": false
   },
   "outputs": [
    {
     "name": "stdout",
     "output_type": "stream",
     "text": [
      "There are 116 results\n"
     ]
    }
   ],
   "source": [
    "tsvfile = outfile('card.csv')\n",
    "nresults = 0\n",
    "tsvfile.write('book\\tchapter\\tverse\\torder\\tclause typ\\tverbal stem\\tverb\\tcard function\\tcard\\tphrase verb text\\tphrase card text\\tclause text\\n')\n",
    "for ((book, ((chapter, ((verse, ((clause, ((phrase1, ((word1,),)), (phrase2, ((word2,),)))),)),)),)),) in sheaf.results():\n",
    "    nresults += 1\n",
    "    verb_first = F.sp.v(word1) == 'verb'\n",
    "    word_verb = word1 if verb_first else word2\n",
    "    word_card = word2 if verb_first else word1\n",
    "    phrase_verb = phrase1 if verb_first else phrase2\n",
    "    phrase_card = phrase2 if verb_first else phrase1\n",
    "    clause_text = ' ~ '.join(x[1] for x in P.data(clause))\n",
    "    phrase_verb_text = ' ~ '.join(x[1] for x in P.data(phrase_verb))\n",
    "    phrase_card_text = ' ~ '.join(x[1] for x in P.data(phrase_card))\n",
    "    \n",
    "    tsvfile.write('{}\\t{}\\t{}\\t{}\\t{}\\t{}\\t{}\\t{}\\t{}\\t{}\\t{}\\t{}\\n'.format(\n",
    "        F.book.v(book), \n",
    "        F.chapter.v(chapter), \n",
    "        F.verse.v(verse),\n",
    "        '>>' if verb_first else '<<',\n",
    "        F.typ.v(clause),\n",
    "        F.vs.v(word_verb),\n",
    "        F.lex_utf8.v(word_verb),\n",
    "        F.function.v(phrase_card),\n",
    "        F.lex_utf8.v(word_card),\n",
    "        phrase_verb_text,\n",
    "        phrase_card_text,\n",
    "        clause_text,\n",
    "    ))\n",
    "tsvfile.close()\n",
    "print('There are {} results'.format(nresults))"
   ]
  },
  {
   "cell_type": "code",
   "execution_count": 6,
   "metadata": {
    "collapsed": false
   },
   "outputs": [
    {
     "name": "stdout",
     "output_type": "stream",
     "text": [
      "book\tchapter\tverse\torder\tclause typ\tverbal stem\tverb\tcard function\tcard\tphrase verb text\tphrase card text\tclause text\r\n",
      "Genesis\t4\t15\t>>\tXYqt\tqal\tהרג[\tAdju\tשׁבע/\tכָּל ~ הֹרֵ֣ג ~ קַ֔יִן\tשִׁבְעָתַ֖יִם\tכָּל ~ הֹרֵ֣ג ~ קַ֔יִן ~ שִׁבְעָתַ֖יִם ~ יֻקָּ֑ם\r\n",
      "Genesis\t4\t15\t<<\tXYqt\thof\tנקם[\tAdju\tשׁבע/\tיֻקָּ֑ם\tשִׁבְעָתַ֖יִם\tכָּל ~ הֹרֵ֣ג ~ קַ֔יִן ~ שִׁבְעָתַ֖יִם ~ יֻקָּ֑ם\r\n",
      "Genesis\t4\t24\t<<\txYqX\thof\tנקם[\tAdju\tשׁבע/\tיֻקַּם\tשִׁבְעָתַ֖יִם\tכִּ֥י ~ שִׁבְעָתַ֖יִם ~ יֻקַּם ~ קָ֑יִן\r\n",
      "Genesis\t18\t28\t>>\txYqX\tqal\tחסר[\tSubj\tחמשׁ/\tיַחְסְר֞וּן\tחֲמִשָּׁ֔ה\tא֠וּלַי ~ יַחְסְר֞וּן ~ חֲמִשִּׁ֤ים ~ הַצַּדִּיקִם֙ ~ חֲמִשָּׁ֔ה\r\n",
      "Genesis\t18\t29\t>>\txYqX\tnif\tמצא[\tSubj\tארבע/\tיִמָּצְא֥וּן\tאַרְבָּעִ֑ים\tאוּלַ֛י ~ יִמָּצְא֥וּן ~ שָׁ֖ם ~ אַרְבָּעִ֑ים\r\n",
      "Genesis\t18\t30\t>>\txYqX\tnif\tמצא[\tSubj\tשׁלשׁ/\tיִמָּצְא֥וּן\tשְׁלֹשִׁ֑ים\tאוּלַ֛י ~ יִמָּצְא֥וּן ~ שָׁ֖ם ~ שְׁלֹשִׁ֑ים\r\n",
      "Genesis\t18\t30\t>>\txYq0\tqal\tמצא[\tObjc\tשׁלשׁ/\tאֶמְצָ֥א\tשְׁלֹשִֽׁים\tאִם ~ אֶמְצָ֥א ~ שָׁ֖ם ~ שְׁלֹשִֽׁים\r\n",
      "Genesis\t18\t31\t>>\txYqX\tnif\tמצא[\tSubj\tעשׂרים/\tיִמָּצְא֥וּן\tעֶשְׂרִ֑ים\tאוּלַ֛י ~ יִמָּצְא֥וּן ~ שָׁ֖ם ~ עֶשְׂרִ֑ים\r\n",
      "Genesis\t42\t16\t>>\tZIm0\tqal\tשׁלח[\tObjc\tאחד/\tשִׁלְח֨וּ\tאֶחָד֮\tשִׁלְח֨וּ ~ מִכֶּ֣ם ~ אֶחָד֮\r\n"
     ]
    }
   ],
   "source": [
    "!head -n 10 {my_file('card.csv')}"
   ]
  },
  {
   "cell_type": "markdown",
   "metadata": {},
   "source": [
    "Download the result files from my SURFdrive: [tab separated file](https://surfdrive.surf.nl/files/public.php?service=files&t=b9706323fd50dc7e8a53f2c62f16d16d) and a formatted [openoffice spreadsheet](https://surfdrive.surf.nl/files/public.php?service=files&t=8a42b437d2447e44041b8a3add073104)"
   ]
  },
  {
   "cell_type": "code",
   "execution_count": null,
   "metadata": {
    "collapsed": false
   },
   "outputs": [],
   "source": []
  }
 ],
 "metadata": {
  "kernelspec": {
   "display_name": "Python 3",
   "language": "python",
   "name": "python3"
  },
  "language_info": {
   "codemirror_mode": {
    "name": "ipython",
    "version": 3
   },
   "file_extension": ".py",
   "mimetype": "text/x-python",
   "name": "python",
   "nbconvert_exporter": "python",
   "pygments_lexer": "ipython3",
   "version": "3.5.1"
  }
 },
 "nbformat": 4,
 "nbformat_minor": 0
}
