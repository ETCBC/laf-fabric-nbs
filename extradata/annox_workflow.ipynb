{
 "metadata": {
  "name": "",
  "signature": "sha256:fba36b25e2b85d5fbd56b8c587a81d2e86697053fd4fd6642906710f622e718f"
 },
 "nbformat": 3,
 "nbformat_minor": 0,
 "worksheets": [
  {
   "cells": [
    {
     "cell_type": "markdown",
     "metadata": {},
     "source": [
      "<a href=\"http://laf-fabric.readthedocs.org/en/latest/\" target=\"_blank\"><img align=\"left\" src=\"images/laf-fabric-xsmall.png\"/></a>\n",
      "<a href=\"http://www.godgeleerdheid.vu.nl/etcbc\" target=\"_blank\"><img align=\"left\" src=\"images/VU-ETCBC-xsmall.png\"/></a>\n",
      "<a href=\"http://www.persistent-identifier.nl/?identifier=urn%3Anbn%3Anl%3Aui%3A13-048i-71\" target=\"_blank\"><img align=\"left\"src=\"images/etcbc4easy-small.png\"/></a>\n",
      "<a href=\"http://tla.mpi.nl\" target=\"_blank\"><img align=\"right\" src=\"images/TLA-xsmall.png\"/></a>\n",
      "<a href=\"http://www.dans.knaw.nl\" target=\"_blank\"><img align=\"right\"src=\"images/DANS-xsmall.png\"/></a>"
     ]
    },
    {
     "cell_type": "heading",
     "level": 1,
     "metadata": {},
     "source": [
      "Making new annotations"
     ]
    },
    {
     "cell_type": "markdown",
     "metadata": {},
     "source": [
      "It is possible to make your own annotations to the existing nodes and edges of a LAF resource, and use them later on.\n",
      "\n",
      "This notebook shows how that can be done.\n",
      "\n",
      "**The original LAF source will not be changed**.\n",
      "\n",
      "You make your own annotations and they will be saved in a file.\n",
      "By putting this file in a location where LAF-Fabric can find it, and by instructing LAF-Fabric to include this file, you can do analysis on the original source plus your new annotations.\n",
      "\n",
      "Annotations are organized by annotation spaces. \n",
      "If you choose a space that is different from the annotation spaces inthe main source your own annotations will be distinguishable from the original annotations.\n",
      "\n",
      "But you can also choose to override original annotations with your own ones.\n",
      "In that case you have to create your annotations in the ``shebanq`` space.\n",
      "\n",
      "This notebook is not honed by practice yet. \n",
      "There are clumsy things such as manually copy files and putting them into directories, and editing certain header files.\n",
      "\n",
      "That said, this notebook performs the LAF specific things, and further adaptations do not involve deep dives into the LAF-Fabric."
     ]
    },
    {
     "cell_type": "heading",
     "level": 2,
     "metadata": {},
     "source": [
      "Preparation"
     ]
    },
    {
     "cell_type": "markdown",
     "metadata": {},
     "source": [
      "In order to run this notebook, it is necessary to have an extra annotations package called ``testannots`` on your system.\n",
      "If you have downloaded data from the given link, you have that directory."
     ]
    },
    {
     "cell_type": "code",
     "collapsed": false,
     "input": [
      "import sys\n",
      "import collections\n",
      "import shutil\n",
      "\n",
      "import pandas\n",
      "from IPython.display import display\n",
      "pandas.set_option('display.notebook_repr_html', True)\n",
      "\n",
      "from laf.fabric import LafFabric\n",
      "from etcbc.annotating import GenForm\n",
      "\n",
      "fabric = LafFabric()"
     ],
     "language": "python",
     "metadata": {},
     "outputs": [
      {
       "output_type": "stream",
       "stream": "stderr",
       "text": [
        "  0.00s This is LAF-Fabric 4.3.3\n",
        "http://laf-fabric.readthedocs.org/en/latest/texts/API-reference.html\n"
       ]
      }
     ],
     "prompt_number": 1
    },
    {
     "cell_type": "code",
     "collapsed": false,
     "input": [
      "API = fabric.load('etcbc4', '--', 'annox_workflow', {\n",
      "    \"primary\": True,\n",
      "    \"xmlids\": {\"node\": True, \"edge\": False},\n",
      "    \"features\": (\"otype oid monads typ sp book chapter verse\", \"\"),\n",
      "}, verbose='DETAIL')\n",
      "exec(fabric.localnames.format(var='fabric'))"
     ],
     "language": "python",
     "metadata": {},
     "outputs": [
      {
       "output_type": "stream",
       "stream": "stderr",
       "text": [
        "  0.00s LOADING API: please wait ... \n"
       ]
      },
      {
       "output_type": "stream",
       "stream": "stderr",
       "text": [
        "  0.00s DETAIL: COMPILING m: UP TO DATE\n"
       ]
      },
      {
       "output_type": "stream",
       "stream": "stderr",
       "text": [
        "  0.00s INFO: USING DATA COMPILED AT: 2014-07-14T16-45-08\n"
       ]
      },
      {
       "output_type": "stream",
       "stream": "stderr",
       "text": [
        "  0.00s DETAIL: COMPILING a: UP TO DATE\n"
       ]
      },
      {
       "output_type": "stream",
       "stream": "stderr",
       "text": [
        "  0.01s DETAIL: load main: P.node_anchor\n"
       ]
      },
      {
       "output_type": "stream",
       "stream": "stderr",
       "text": [
        "  0.06s DETAIL: load main: P.node_anchor_items\n"
       ]
      },
      {
       "output_type": "stream",
       "stream": "stderr",
       "text": [
        "  0.30s DETAIL: load main: G.node_anchor_min\n"
       ]
      },
      {
       "output_type": "stream",
       "stream": "stderr",
       "text": [
        "  0.36s DETAIL: load main: G.node_anchor_max\n"
       ]
      },
      {
       "output_type": "stream",
       "stream": "stderr",
       "text": [
        "  0.41s DETAIL: load main: P.node_events\n"
       ]
      },
      {
       "output_type": "stream",
       "stream": "stderr",
       "text": [
        "  0.49s DETAIL: load main: P.node_events_items\n"
       ]
      },
      {
       "output_type": "stream",
       "stream": "stderr",
       "text": [
        "  0.77s DETAIL: load main: P.node_events_k\n"
       ]
      },
      {
       "output_type": "stream",
       "stream": "stderr",
       "text": [
        "  0.85s DETAIL: load main: P.node_events_n\n"
       ]
      },
      {
       "output_type": "stream",
       "stream": "stderr",
       "text": [
        "  0.99s DETAIL: load main: G.node_sort\n"
       ]
      },
      {
       "output_type": "stream",
       "stream": "stderr",
       "text": [
        "  1.04s DETAIL: load main: G.node_sort_inv\n"
       ]
      },
      {
       "output_type": "stream",
       "stream": "stderr",
       "text": [
        "  1.44s DETAIL: load main: G.edges_from\n"
       ]
      },
      {
       "output_type": "stream",
       "stream": "stderr",
       "text": [
        "  1.51s DETAIL: load main: G.edges_to\n"
       ]
      },
      {
       "output_type": "stream",
       "stream": "stderr",
       "text": [
        "  1.58s DETAIL: load main: P.primary_data\n"
       ]
      },
      {
       "output_type": "stream",
       "stream": "stderr",
       "text": [
        "  1.63s DETAIL: load main: X. [node]  -> \n"
       ]
      },
      {
       "output_type": "stream",
       "stream": "stderr",
       "text": [
        "  2.80s DETAIL: load main: X. [node]  <- \n"
       ]
      },
      {
       "output_type": "stream",
       "stream": "stderr",
       "text": [
        "  3.51s DETAIL: load main: F.etcbc4_db_monads [node] \n"
       ]
      },
      {
       "output_type": "stream",
       "stream": "stderr",
       "text": [
        "  4.44s DETAIL: load main: F.etcbc4_db_oid [node] \n"
       ]
      },
      {
       "output_type": "stream",
       "stream": "stderr",
       "text": [
        "  5.30s DETAIL: load main: F.etcbc4_db_otype [node] \n"
       ]
      },
      {
       "output_type": "stream",
       "stream": "stderr",
       "text": [
        "  5.99s DETAIL: load main: F.etcbc4_ft_sp [node] \n"
       ]
      },
      {
       "output_type": "stream",
       "stream": "stderr",
       "text": [
        "  6.20s DETAIL: load main: F.etcbc4_ft_typ [node] \n"
       ]
      },
      {
       "output_type": "stream",
       "stream": "stderr",
       "text": [
        "  6.56s DETAIL: load main: F.etcbc4_sft_book [node] \n"
       ]
      },
      {
       "output_type": "stream",
       "stream": "stderr",
       "text": [
        "  6.58s DETAIL: load main: F.etcbc4_sft_chapter [node] \n"
       ]
      },
      {
       "output_type": "stream",
       "stream": "stderr",
       "text": [
        "  6.59s DETAIL: load main: F.etcbc4_sft_verse [node] \n"
       ]
      },
      {
       "output_type": "stream",
       "stream": "stderr",
       "text": [
        "  6.61s LOGFILE=/Users/dirk/laf-fabric-output/etcbc4/annox_workflow/__log__annox_workflow.txt\n"
       ]
      },
      {
       "output_type": "stream",
       "stream": "stderr",
       "text": [
        "  6.61s INFO: DATA LOADED FROM SOURCE etcbc4 AND ANNOX -- FOR TASK annox_workflow AT 2014-07-15T13-57-51\n"
       ]
      }
     ],
     "prompt_number": 2
    },
    {
     "cell_type": "heading",
     "level": 1,
     "metadata": {},
     "source": [
      "Workflow"
     ]
    },
    {
     "cell_type": "markdown",
     "metadata": {},
     "source": [
      "This is the workflow for new annotation data:\n",
      "\n",
      "1. First tell LAF-Fabric to construct a spreadsheet\n",
      "2. Fill in that spreadsheet\n",
      "3. Ask LAF-Fabric to read the filled in spreadsheet and turn it into a LAF file.\n",
      "4. Place the new annotations file in the right place.\n",
      "5. Use the new annotations."
     ]
    },
    {
     "cell_type": "heading",
     "level": 2,
     "metadata": {},
     "source": [
      "Step 1: Construct a spreadsheet"
     ]
    },
    {
     "cell_type": "markdown",
     "metadata": {},
     "source": [
      "In the dictionary config below, you can specify a spreadsheet with rows and colomns.\n",
      "\n",
      "On each row you see the textual representation of the objects you specify, from the passages you specify.\n",
      "You can also ask for other columns with feature information for reference.\n",
      "There are extra columns for new features, with names that you specify.\n",
      "\n",
      "The columns contain the following information\n",
      "\n",
      "1. the corresponding XML identifier in the LAF resource\n",
      "2. words\n",
      "3. phrases\n",
      "4. phrase_type values\n",
      "5. part_of_speech values\n",
      "6. empty cells for ``dirk_part_intro``\n",
      "7. empty cells for ``dirk_part_role``"
     ]
    },
    {
     "cell_type": "code",
     "collapsed": false,
     "input": [
      "form = GenForm(API, \"dirk_intro_role\", {\n",
      "    'target_types': [\n",
      "        'word',\n",
      "        'phrase',\n",
      "    ],\n",
      "    'show_features': {\n",
      "        'etcbc4': {\n",
      "            'node': [\n",
      "                \"ft.typ,sp\",\n",
      "            ],\n",
      "        },\n",
      "    },\n",
      "    'new_features': {\n",
      "        'dirk': {\n",
      "            'node': [\n",
      "                \"part.intro,role\",\n",
      "            ],\n",
      "        },\n",
      "    },\n",
      "    'passages': {\n",
      "        'Genesis': '1-3',\n",
      "        'Jesaia': '40,66',\n",
      "    },\n",
      "})"
     ],
     "language": "python",
     "metadata": {},
     "outputs": [],
     "prompt_number": 3
    },
    {
     "cell_type": "heading",
     "level": 3,
     "metadata": {},
     "source": [
      "The form create function"
     ]
    },
    {
     "cell_type": "markdown",
     "metadata": {},
     "source": [
      "Run the make_form function:"
     ]
    },
    {
     "cell_type": "code",
     "collapsed": false,
     "input": [
      "form.make_form()"
     ],
     "language": "python",
     "metadata": {},
     "outputs": [
      {
       "output_type": "stream",
       "stream": "stderr",
       "text": [
        "  8.02s Reading the data ...\n"
       ]
      },
      {
       "output_type": "stream",
       "stream": "stderr",
       "text": [
        "Genesis1,2,3,"
       ]
      },
      {
       "output_type": "stream",
       "stream": "stderr",
       "text": [
        "**"
       ]
      },
      {
       "output_type": "stream",
       "stream": "stderr",
       "text": [
        "**"
       ]
      },
      {
       "output_type": "stream",
       "stream": "stderr",
       "text": [
        "***"
       ]
      },
      {
       "output_type": "stream",
       "stream": "stderr",
       "text": [
        "**"
       ]
      },
      {
       "output_type": "stream",
       "stream": "stderr",
       "text": [
        "*Jesaia"
       ]
      },
      {
       "output_type": "stream",
       "stream": "stderr",
       "text": [
        "40,66,"
       ]
      },
      {
       "output_type": "stream",
       "stream": "stderr",
       "text": [
        "**"
       ]
      },
      {
       "output_type": "stream",
       "stream": "stderr",
       "text": [
        "********"
       ]
      },
      {
       "output_type": "stream",
       "stream": "stderr",
       "text": [
        "******"
       ]
      },
      {
       "output_type": "stream",
       "stream": "stderr",
       "text": [
        "****"
       ]
      },
      {
       "output_type": "stream",
       "stream": "stderr",
       "text": [
        "****"
       ]
      },
      {
       "output_type": "stream",
       "stream": "stderr",
       "text": [
        "***"
       ]
      },
      {
       "output_type": "stream",
       "stream": "stderr",
       "text": [
        "  9.79s Done\n"
       ]
      }
     ],
     "prompt_number": 4
    },
    {
     "cell_type": "markdown",
     "metadata": {},
     "source": [
      "Look at the form in its text form:"
     ]
    },
    {
     "cell_type": "code",
     "collapsed": false,
     "input": [
      "form_data = pandas.read_csv(my_file(\"form_{}.csv\".format(form.name)), sep='\\t', na_filter=False)\n",
      "form_data.head(15)"
     ],
     "language": "python",
     "metadata": {},
     "outputs": [
      {
       "html": [
        "<div style=\"max-height:1000px;max-width:1500px;overflow:auto;\">\n",
        "<table border=\"1\" class=\"dataframe\">\n",
        "  <thead>\n",
        "    <tr style=\"text-align: right;\">\n",
        "      <th></th>\n",
        "      <th>passage</th>\n",
        "      <th>word</th>\n",
        "      <th>phrase</th>\n",
        "      <th>typ</th>\n",
        "      <th>sp</th>\n",
        "      <th>dirk:part.intro</th>\n",
        "      <th>dirk:part.role</th>\n",
        "    </tr>\n",
        "  </thead>\n",
        "  <tbody>\n",
        "    <tr>\n",
        "      <th>0 </th>\n",
        "      <td> #Genesis 1:1</td>\n",
        "      <td>          </td>\n",
        "      <td>                                 </td>\n",
        "      <td>   </td>\n",
        "      <td>     </td>\n",
        "      <td> </td>\n",
        "      <td> </td>\n",
        "    </tr>\n",
        "    <tr>\n",
        "      <th>1 </th>\n",
        "      <td>           n7</td>\n",
        "      <td>          </td>\n",
        "      <td>                      \u05d1\u05b0\u05bc\u05e8\u05b5\u05d0\u05e9\u05b4\u05c1\u0596\u05d9\u05ea</td>\n",
        "      <td> PP</td>\n",
        "      <td>     </td>\n",
        "      <td> </td>\n",
        "      <td> </td>\n",
        "    </tr>\n",
        "    <tr>\n",
        "      <th>2 </th>\n",
        "      <td>           n5</td>\n",
        "      <td>       \u05d1\u05b0\u05bc</td>\n",
        "      <td>                                 </td>\n",
        "      <td>   </td>\n",
        "      <td> prep</td>\n",
        "      <td> </td>\n",
        "      <td> </td>\n",
        "    </tr>\n",
        "    <tr>\n",
        "      <th>3 </th>\n",
        "      <td>          n12</td>\n",
        "      <td>  \u05e8\u05b5\u05d0\u05e9\u05b4\u05c1\u0596\u05d9\u05ea</td>\n",
        "      <td>                                 </td>\n",
        "      <td>   </td>\n",
        "      <td> subs</td>\n",
        "      <td> </td>\n",
        "      <td> </td>\n",
        "    </tr>\n",
        "    <tr>\n",
        "      <th>4 </th>\n",
        "      <td>          n13</td>\n",
        "      <td>   \u05d1\u05b8\u05bc\u05e8\u05b8\u05a3\u05d0</td>\n",
        "      <td>                                 </td>\n",
        "      <td>   </td>\n",
        "      <td> verb</td>\n",
        "      <td> </td>\n",
        "      <td> </td>\n",
        "    </tr>\n",
        "    <tr>\n",
        "      <th>5 </th>\n",
        "      <td>          n15</td>\n",
        "      <td>          </td>\n",
        "      <td>                          \u05d1\u05b8\u05bc\u05e8\u05b8\u05a3\u05d0</td>\n",
        "      <td> VP</td>\n",
        "      <td>     </td>\n",
        "      <td> </td>\n",
        "      <td> </td>\n",
        "    </tr>\n",
        "    <tr>\n",
        "      <th>6 </th>\n",
        "      <td>          n16</td>\n",
        "      <td> \u05d0\u05b1\u05dc\u05b9\u05d4\u05b4\u0591\u05d9\u05dd</td>\n",
        "      <td>                                 </td>\n",
        "      <td>   </td>\n",
        "      <td> subs</td>\n",
        "      <td> </td>\n",
        "      <td> </td>\n",
        "    </tr>\n",
        "    <tr>\n",
        "      <th>7 </th>\n",
        "      <td>          n18</td>\n",
        "      <td>          </td>\n",
        "      <td>                        \u05d0\u05b1\u05dc\u05b9\u05d4\u05b4\u0591\u05d9\u05dd</td>\n",
        "      <td> NP</td>\n",
        "      <td>     </td>\n",
        "      <td> </td>\n",
        "      <td> </td>\n",
        "    </tr>\n",
        "    <tr>\n",
        "      <th>8 </th>\n",
        "      <td>          n22</td>\n",
        "      <td>          </td>\n",
        "      <td> \u05d0\u05b5\u05a5\u05ea \u05d4\u05b7\u05e9\u05b8\u05bc\u05c1\u05de\u05b7\u0596\u05d9\u05b4\u05dd \u05d5\u05b0\u05d0\u05b5\u05a5\u05ea \u05d4\u05b8\u05d0\u05b8\u05bd\u05e8\u05b6\u05e5</td>\n",
        "      <td> PP</td>\n",
        "      <td>     </td>\n",
        "      <td> </td>\n",
        "      <td> </td>\n",
        "    </tr>\n",
        "    <tr>\n",
        "      <th>9 </th>\n",
        "      <td>          n20</td>\n",
        "      <td>      \u05d0\u05b5\u05a5\u05ea</td>\n",
        "      <td>                                 </td>\n",
        "      <td>   </td>\n",
        "      <td> prep</td>\n",
        "      <td> </td>\n",
        "      <td> </td>\n",
        "    </tr>\n",
        "    <tr>\n",
        "      <th>10</th>\n",
        "      <td>          n23</td>\n",
        "      <td>        \u05d4\u05b7</td>\n",
        "      <td>                                 </td>\n",
        "      <td>   </td>\n",
        "      <td>  art</td>\n",
        "      <td> </td>\n",
        "      <td> </td>\n",
        "    </tr>\n",
        "    <tr>\n",
        "      <th>11</th>\n",
        "      <td>          n24</td>\n",
        "      <td> \u05e9\u05b8\u05bc\u05c1\u05de\u05b7\u0596\u05d9\u05b4\u05dd</td>\n",
        "      <td>                                 </td>\n",
        "      <td>   </td>\n",
        "      <td> subs</td>\n",
        "      <td> </td>\n",
        "      <td> </td>\n",
        "    </tr>\n",
        "    <tr>\n",
        "      <th>12</th>\n",
        "      <td>          n26</td>\n",
        "      <td>        \u05d5\u05b0</td>\n",
        "      <td>                                 </td>\n",
        "      <td>   </td>\n",
        "      <td> conj</td>\n",
        "      <td> </td>\n",
        "      <td> </td>\n",
        "    </tr>\n",
        "    <tr>\n",
        "      <th>13</th>\n",
        "      <td>          n27</td>\n",
        "      <td>      \u05d0\u05b5\u05a5\u05ea</td>\n",
        "      <td>                                 </td>\n",
        "      <td>   </td>\n",
        "      <td> prep</td>\n",
        "      <td> </td>\n",
        "      <td> </td>\n",
        "    </tr>\n",
        "    <tr>\n",
        "      <th>14</th>\n",
        "      <td>          n28</td>\n",
        "      <td>        \u05d4\u05b8</td>\n",
        "      <td>                                 </td>\n",
        "      <td>   </td>\n",
        "      <td>  art</td>\n",
        "      <td> </td>\n",
        "      <td> </td>\n",
        "    </tr>\n",
        "  </tbody>\n",
        "</table>\n",
        "<p>15 rows \u00d7 7 columns</p>\n",
        "</div>"
       ],
       "metadata": {},
       "output_type": "pyout",
       "prompt_number": 5,
       "text": [
        "         passage       word                            phrase typ    sp  \\\n",
        "0   #Genesis 1:1                                                          \n",
        "1             n7                                  \u05d1\u05b0\u05bc\u05e8\u05b5\u05d0\u05e9\u05b4\u05c1\u0596\u05d9\u05ea  PP         \n",
        "2             n5        \u05d1\u05b0\u05bc                                        prep   \n",
        "3            n12   \u05e8\u05b5\u05d0\u05e9\u05b4\u05c1\u0596\u05d9\u05ea                                        subs   \n",
        "4            n13    \u05d1\u05b8\u05bc\u05e8\u05b8\u05a3\u05d0                                        verb   \n",
        "5            n15                                      \u05d1\u05b8\u05bc\u05e8\u05b8\u05a3\u05d0  VP         \n",
        "6            n16  \u05d0\u05b1\u05dc\u05b9\u05d4\u05b4\u0591\u05d9\u05dd                                        subs   \n",
        "7            n18                                    \u05d0\u05b1\u05dc\u05b9\u05d4\u05b4\u0591\u05d9\u05dd  NP         \n",
        "8            n22             \u05d0\u05b5\u05a5\u05ea \u05d4\u05b7\u05e9\u05b8\u05bc\u05c1\u05de\u05b7\u0596\u05d9\u05b4\u05dd \u05d5\u05b0\u05d0\u05b5\u05a5\u05ea \u05d4\u05b8\u05d0\u05b8\u05bd\u05e8\u05b6\u05e5  PP         \n",
        "9            n20       \u05d0\u05b5\u05a5\u05ea                                        prep   \n",
        "10           n23         \u05d4\u05b7                                         art   \n",
        "11           n24  \u05e9\u05b8\u05bc\u05c1\u05de\u05b7\u0596\u05d9\u05b4\u05dd                                        subs   \n",
        "12           n26         \u05d5\u05b0                                        conj   \n",
        "13           n27       \u05d0\u05b5\u05a5\u05ea                                        prep   \n",
        "14           n28         \u05d4\u05b8                                         art   \n",
        "\n",
        "   dirk:part.intro dirk:part.role  \n",
        "0                                  \n",
        "1                                  \n",
        "2                                  \n",
        "3                                  \n",
        "4                                  \n",
        "5                                  \n",
        "6                                  \n",
        "7                                  \n",
        "8                                  \n",
        "9                                  \n",
        "10                                 \n",
        "11                                 \n",
        "12                                 \n",
        "13                                 \n",
        "14                                 \n",
        "\n",
        "[15 rows x 7 columns]"
       ]
      }
     ],
     "prompt_number": 5
    },
    {
     "cell_type": "heading",
     "level": 2,
     "metadata": {},
     "source": [
      "Step 2: Fill in the spreadsheet"
     ]
    },
    {
     "cell_type": "markdown",
     "metadata": {},
     "source": [
      "It is time to fill in your form. \n",
      "First we rename it, so that when you create a new blank form, it will not overwrite any data you have already filled in.\n",
      "\n",
      "We replace the ``form`` prefix in your file name by ``data``."
     ]
    },
    {
     "cell_type": "code",
     "collapsed": false,
     "input": [
      "my_form = my_file(\"form_{}.csv\".format(form.name))\n",
      "my_data = my_file(\"data_{}.csv\".format(form.name))\n",
      "shutil.move(my_form, my_data)"
     ],
     "language": "python",
     "metadata": {},
     "outputs": [
      {
       "metadata": {},
       "output_type": "pyout",
       "prompt_number": 6,
       "text": [
        "'/Users/dirk/laf-fabric-output/etcbc4/annox_workflow/data_dirk_intro_role.csv'"
       ]
      }
     ],
     "prompt_number": 6
    },
    {
     "cell_type": "markdown",
     "metadata": {},
     "source": [
      "Open the ``data`` file as a spreadsheet.\n",
      "OpenOffice is recommended for that, because it handles unicode well.\n",
      "\n",
      "Fill any your feature values as desired and save.\n",
      "\n",
      "On *Mac OS X* we can open the spreadsheet straight away:"
     ]
    },
    {
     "cell_type": "code",
     "collapsed": false,
     "input": [
      "!open /Applications/OpenOffice.app --args {my_data}"
     ],
     "language": "python",
     "metadata": {},
     "outputs": [],
     "prompt_number": 7
    },
    {
     "cell_type": "markdown",
     "metadata": {},
     "source": [
      "Here you see the latest content of the form:"
     ]
    },
    {
     "cell_type": "code",
     "collapsed": false,
     "input": [
      "form_data = pandas.read_csv(my_file(\"data_{}.csv\".format(form.name)), sep='\\t', na_filter=False)\n",
      "form_data.head(15)"
     ],
     "language": "python",
     "metadata": {},
     "outputs": [
      {
       "html": [
        "<div style=\"max-height:1000px;max-width:1500px;overflow:auto;\">\n",
        "<table border=\"1\" class=\"dataframe\">\n",
        "  <thead>\n",
        "    <tr style=\"text-align: right;\">\n",
        "      <th></th>\n",
        "      <th>passage</th>\n",
        "      <th>word</th>\n",
        "      <th>phrase</th>\n",
        "      <th>typ</th>\n",
        "      <th>sp</th>\n",
        "      <th>dirk:part.intro</th>\n",
        "      <th>dirk:part.role</th>\n",
        "    </tr>\n",
        "  </thead>\n",
        "  <tbody>\n",
        "    <tr>\n",
        "      <th>0 </th>\n",
        "      <td> #Genesis 1:1</td>\n",
        "      <td>          </td>\n",
        "      <td>                                 </td>\n",
        "      <td>   </td>\n",
        "      <td>     </td>\n",
        "      <td>    </td>\n",
        "      <td>     </td>\n",
        "    </tr>\n",
        "    <tr>\n",
        "      <th>1 </th>\n",
        "      <td>           n7</td>\n",
        "      <td>          </td>\n",
        "      <td>                      \u05d1\u05b0\u05bc\u05e8\u05b5\u05d0\u05e9\u05b4\u05c1\u0596\u05d9\u05ea</td>\n",
        "      <td> PP</td>\n",
        "      <td>     </td>\n",
        "      <td>    </td>\n",
        "      <td>     </td>\n",
        "    </tr>\n",
        "    <tr>\n",
        "      <th>2 </th>\n",
        "      <td>           n5</td>\n",
        "      <td>       \u05d1\u05b0\u05bc</td>\n",
        "      <td>                                 </td>\n",
        "      <td>   </td>\n",
        "      <td> prep</td>\n",
        "      <td>    </td>\n",
        "      <td>     </td>\n",
        "    </tr>\n",
        "    <tr>\n",
        "      <th>3 </th>\n",
        "      <td>          n12</td>\n",
        "      <td>  \u05e8\u05b5\u05d0\u05e9\u05b4\u05c1\u0596\u05d9\u05ea</td>\n",
        "      <td>                                 </td>\n",
        "      <td>   </td>\n",
        "      <td> subs</td>\n",
        "      <td>    </td>\n",
        "      <td>     </td>\n",
        "    </tr>\n",
        "    <tr>\n",
        "      <th>4 </th>\n",
        "      <td>          n13</td>\n",
        "      <td>   \u05d1\u05b8\u05bc\u05e8\u05b8\u05a3\u05d0</td>\n",
        "      <td>                                 </td>\n",
        "      <td>   </td>\n",
        "      <td> verb</td>\n",
        "      <td>    </td>\n",
        "      <td>     </td>\n",
        "    </tr>\n",
        "    <tr>\n",
        "      <th>5 </th>\n",
        "      <td>          n15</td>\n",
        "      <td>          </td>\n",
        "      <td>                          \u05d1\u05b8\u05bc\u05e8\u05b8\u05a3\u05d0</td>\n",
        "      <td> VP</td>\n",
        "      <td>     </td>\n",
        "      <td>    </td>\n",
        "      <td>     </td>\n",
        "    </tr>\n",
        "    <tr>\n",
        "      <th>6 </th>\n",
        "      <td>          n16</td>\n",
        "      <td> \u05d0\u05b1\u05dc\u05b9\u05d4\u05b4\u0591\u05d9\u05dd</td>\n",
        "      <td>                                 </td>\n",
        "      <td>   </td>\n",
        "      <td> subs</td>\n",
        "      <td>    </td>\n",
        "      <td>     </td>\n",
        "    </tr>\n",
        "    <tr>\n",
        "      <th>7 </th>\n",
        "      <td>          n18</td>\n",
        "      <td>          </td>\n",
        "      <td>                        \u05d0\u05b1\u05dc\u05b9\u05d4\u05b4\u0591\u05d9\u05dd</td>\n",
        "      <td> NP</td>\n",
        "      <td>     </td>\n",
        "      <td>    </td>\n",
        "      <td>     </td>\n",
        "    </tr>\n",
        "    <tr>\n",
        "      <th>8 </th>\n",
        "      <td>          n22</td>\n",
        "      <td>          </td>\n",
        "      <td> \u05d0\u05b5\u05a5\u05ea \u05d4\u05b7\u05e9\u05b8\u05bc\u05c1\u05de\u05b7\u0596\u05d9\u05b4\u05dd \u05d5\u05b0\u05d0\u05b5\u05a5\u05ea \u05d4\u05b8\u05d0\u05b8\u05bd\u05e8\u05b6\u05e5</td>\n",
        "      <td> PP</td>\n",
        "      <td>     </td>\n",
        "      <td>    </td>\n",
        "      <td>     </td>\n",
        "    </tr>\n",
        "    <tr>\n",
        "      <th>9 </th>\n",
        "      <td>          n20</td>\n",
        "      <td>      \u05d0\u05b5\u05a5\u05ea</td>\n",
        "      <td>                                 </td>\n",
        "      <td>   </td>\n",
        "      <td> prep</td>\n",
        "      <td> aap</td>\n",
        "      <td>     </td>\n",
        "    </tr>\n",
        "    <tr>\n",
        "      <th>10</th>\n",
        "      <td>          n23</td>\n",
        "      <td>        \u05d4\u05b7</td>\n",
        "      <td>                                 </td>\n",
        "      <td>   </td>\n",
        "      <td>  art</td>\n",
        "      <td>    </td>\n",
        "      <td>     </td>\n",
        "    </tr>\n",
        "    <tr>\n",
        "      <th>11</th>\n",
        "      <td>          n24</td>\n",
        "      <td> \u05e9\u05b8\u05bc\u05c1\u05de\u05b7\u0596\u05d9\u05b4\u05dd</td>\n",
        "      <td>                                 </td>\n",
        "      <td>   </td>\n",
        "      <td> subs</td>\n",
        "      <td>    </td>\n",
        "      <td>     </td>\n",
        "    </tr>\n",
        "    <tr>\n",
        "      <th>12</th>\n",
        "      <td>          n26</td>\n",
        "      <td>        \u05d5\u05b0</td>\n",
        "      <td>                                 </td>\n",
        "      <td>   </td>\n",
        "      <td> conj</td>\n",
        "      <td>    </td>\n",
        "      <td>     </td>\n",
        "    </tr>\n",
        "    <tr>\n",
        "      <th>13</th>\n",
        "      <td>          n27</td>\n",
        "      <td>      \u05d0\u05b5\u05a5\u05ea</td>\n",
        "      <td>                                 </td>\n",
        "      <td>   </td>\n",
        "      <td> prep</td>\n",
        "      <td>    </td>\n",
        "      <td> noot</td>\n",
        "    </tr>\n",
        "    <tr>\n",
        "      <th>14</th>\n",
        "      <td>          n28</td>\n",
        "      <td>        \u05d4\u05b8</td>\n",
        "      <td>                                 </td>\n",
        "      <td>   </td>\n",
        "      <td>  art</td>\n",
        "      <td>    </td>\n",
        "      <td>     </td>\n",
        "    </tr>\n",
        "  </tbody>\n",
        "</table>\n",
        "<p>15 rows \u00d7 7 columns</p>\n",
        "</div>"
       ],
       "metadata": {},
       "output_type": "pyout",
       "prompt_number": 8,
       "text": [
        "         passage       word                            phrase typ    sp  \\\n",
        "0   #Genesis 1:1                                                          \n",
        "1             n7                                  \u05d1\u05b0\u05bc\u05e8\u05b5\u05d0\u05e9\u05b4\u05c1\u0596\u05d9\u05ea  PP         \n",
        "2             n5        \u05d1\u05b0\u05bc                                        prep   \n",
        "3            n12   \u05e8\u05b5\u05d0\u05e9\u05b4\u05c1\u0596\u05d9\u05ea                                        subs   \n",
        "4            n13    \u05d1\u05b8\u05bc\u05e8\u05b8\u05a3\u05d0                                        verb   \n",
        "5            n15                                      \u05d1\u05b8\u05bc\u05e8\u05b8\u05a3\u05d0  VP         \n",
        "6            n16  \u05d0\u05b1\u05dc\u05b9\u05d4\u05b4\u0591\u05d9\u05dd                                        subs   \n",
        "7            n18                                    \u05d0\u05b1\u05dc\u05b9\u05d4\u05b4\u0591\u05d9\u05dd  NP         \n",
        "8            n22             \u05d0\u05b5\u05a5\u05ea \u05d4\u05b7\u05e9\u05b8\u05bc\u05c1\u05de\u05b7\u0596\u05d9\u05b4\u05dd \u05d5\u05b0\u05d0\u05b5\u05a5\u05ea \u05d4\u05b8\u05d0\u05b8\u05bd\u05e8\u05b6\u05e5  PP         \n",
        "9            n20       \u05d0\u05b5\u05a5\u05ea                                        prep   \n",
        "10           n23         \u05d4\u05b7                                         art   \n",
        "11           n24  \u05e9\u05b8\u05bc\u05c1\u05de\u05b7\u0596\u05d9\u05b4\u05dd                                        subs   \n",
        "12           n26         \u05d5\u05b0                                        conj   \n",
        "13           n27       \u05d0\u05b5\u05a5\u05ea                                        prep   \n",
        "14           n28         \u05d4\u05b8                                         art   \n",
        "\n",
        "   dirk:part.intro dirk:part.role  \n",
        "0                                  \n",
        "1                                  \n",
        "2                                  \n",
        "3                                  \n",
        "4                                  \n",
        "5                                  \n",
        "6                                  \n",
        "7                                  \n",
        "8                                  \n",
        "9              aap                 \n",
        "10                                 \n",
        "11                                 \n",
        "12                                 \n",
        "13                           noot  \n",
        "14                                 \n",
        "\n",
        "[15 rows x 7 columns]"
       ]
      }
     ],
     "prompt_number": 8
    },
    {
     "cell_type": "heading",
     "level": 2,
     "metadata": {},
     "source": [
      "Step 3: Turn the spreadsheet into annotations"
     ]
    },
    {
     "cell_type": "markdown",
     "metadata": {},
     "source": [
      "The ``data`` file is going to be turned into an XML file with annotations to the original LAF resource.\n",
      "\n",
      "Here is the function doing that."
     ]
    },
    {
     "cell_type": "code",
     "collapsed": false,
     "input": [
      "form.make_annots()\n",
      "my_annots = my_file(\"annot_{}.xml\".format(form.name))"
     ],
     "language": "python",
     "metadata": {},
     "outputs": [],
     "prompt_number": 9
    },
    {
     "cell_type": "markdown",
     "metadata": {},
     "source": [
      "Look at the freshly created annotations."
     ]
    },
    {
     "cell_type": "code",
     "collapsed": false,
     "input": [
      "!cat {my_annots}"
     ],
     "language": "python",
     "metadata": {},
     "outputs": [
      {
       "output_type": "stream",
       "stream": "stdout",
       "text": [
        "<?xml version=\"1.0\" encoding=\"UTF-8\"?>\r\n",
        "    <graph xmlns=\"http://www.xces.org/ns/GrAF/1.0/\" xmlns:graf=\"http://www.xces.org/ns/GrAF/1.0/\">\r\n",
        "    <graphHeader>\r\n",
        "        <labelsDecl/>\r\n",
        "        <dependencies/>\r\n",
        "        <annotationSpaces/>\r\n",
        "    </graphHeader>\r\n",
        "    <a xml:id=\"a1\" as=\"dirk\" label=\"part\" ref=\"n27\"><fs>\r\n",
        "\t<f name=\"role\" value=\"noot\"/>\r\n",
        "</fs></a>\r\n",
        "<a xml:id=\"a2\" as=\"dirk\" label=\"part\" ref=\"n47\"><fs>\r\n",
        "\t<f name=\"intro\" value=\"mies\"/>\r\n",
        "\t<f name=\"role\" value=\"karel\"/>\r\n",
        "</fs></a>\r\n",
        "<a xml:id=\"a3\" as=\"dirk\" label=\"part\" ref=\"n20\"><fs>\r\n",
        "\t<f name=\"intro\" value=\"aap\"/>\r\n",
        "</fs></a>\r\n",
        "</graph>\r\n"
       ]
      }
     ],
     "prompt_number": 10
    },
    {
     "cell_type": "heading",
     "level": 2,
     "metadata": {},
     "source": [
      "Step 4: Place the new annotation file in the right directory."
     ]
    },
    {
     "cell_type": "markdown",
     "metadata": {},
     "source": [
      "Here is the directory, we call it the *annox* directory."
     ]
    },
    {
     "cell_type": "code",
     "collapsed": false,
     "input": [
      "fabric.lafapi.names.env['a_source_dir'][0:-3]"
     ],
     "language": "python",
     "metadata": {},
     "outputs": [
      {
       "metadata": {},
       "output_type": "pyout",
       "prompt_number": 11,
       "text": [
        "'/Users/dirk/laf-fabric-data/etcbc4/annotations'"
       ]
      }
     ],
     "prompt_number": 11
    },
    {
     "cell_type": "markdown",
     "metadata": {},
     "source": [
      "Extra annotations are organized in packages.\n",
      "You can place multiple new annotation files in a package.\n",
      "\n",
      "Let us add this file to the existing package called ``testannots``.\n",
      "It is the *annox* directory.\n",
      "\n",
      "We put the new file in this directory:"
     ]
    },
    {
     "cell_type": "code",
     "collapsed": false,
     "input": [
      "shutil.copy(\n",
      "    my_annots,\n",
      "    \"{}/testparticipants\".format(fabric.lafapi.names.env['a_source_dir'][0:-3])\n",
      ")"
     ],
     "language": "python",
     "metadata": {},
     "outputs": [
      {
       "metadata": {},
       "output_type": "pyout",
       "prompt_number": 12,
       "text": [
        "'/Users/dirk/laf-fabric-data/etcbc4/annotations/testparticipants/annot_dirk_intro_role.xml'"
       ]
      }
     ],
     "prompt_number": 12
    },
    {
     "cell_type": "markdown",
     "metadata": {},
     "source": [
      "If you have more files, you can place them in the same directory, and for each file you have to add a line to the *header file* in that directory, like the existing line, resulting in:\n",
      "\n",
      "    <annotation f.id=\"f_dirk1\" loc=\"annot_dirk_intro_role.xml\"/>\n",
      "    <annotation f.id=\"f_dirk2\" loc=\"annot_dirk_other.xml\"/>\n",
      "\n",
      "The files in the package must be mentioned in the header file, that's the point."
     ]
    },
    {
     "cell_type": "heading",
     "level": 2,
     "metadata": {},
     "source": [
      "Step 5. Use the new annotations."
     ]
    },
    {
     "cell_type": "markdown",
     "metadata": {},
     "source": [
      "You can invoke an extra annotation package by mentioning it in the statement where you initialize the processor.\n",
      "\n",
      "The processor looks for the package, checks whether it has to be compiled, and if so, compiles it.\n",
      "Then the data corresponding to ``testannots`` is loaded after the main source has been loaded.\n",
      "\n",
      "What ever task you perform, it will have access to the new annotations."
     ]
    },
    {
     "cell_type": "code",
     "collapsed": false,
     "input": [
      "fabric.load('etcbc4', 'testparticipants', 'annox_workflow', {\n",
      "    \"primary\": True,\n",
      "    \"xmlids\": {\n",
      "        \"node\": True,\n",
      "        \"edge\": False,\n",
      "    },\n",
      "    \"features\": {\n",
      "        \"etcbc4\": {\n",
      "            \"node\": [\n",
      "                \"db.otype\",\n",
      "                \"sft.label\",\n",
      "            ],\n",
      "            \"edge\": [\n",
      "            ],\n",
      "        },\n",
      "        \"dirk\": {\n",
      "            \"node\": [\n",
      "                \"part.intro,role\",\n",
      "            ],\n",
      "        }\n",
      "    },\n",
      "})\n",
      "exec(fabric.localnames.format(var='fabric'))"
     ],
     "language": "python",
     "metadata": {},
     "outputs": [
      {
       "output_type": "stream",
       "stream": "stderr",
       "text": [
        "  0.00s LOADING API: please wait ... \n"
       ]
      },
      {
       "output_type": "stream",
       "stream": "stderr",
       "text": [
        "  0.00s DETAIL: COMPILING m: UP TO DATE\n"
       ]
      },
      {
       "output_type": "stream",
       "stream": "stderr",
       "text": [
        "  0.00s INFO: USING DATA COMPILED AT: 2014-07-14T16-45-08\n"
       ]
      },
      {
       "output_type": "stream",
       "stream": "stderr",
       "text": [
        "  0.00s BEGIN COMPILE a: testparticipants\n"
       ]
      },
      {
       "output_type": "stream",
       "stream": "stderr",
       "text": [
        "  0.00s DETAIL: load main: X. [node]  -> \n"
       ]
      },
      {
       "output_type": "stream",
       "stream": "stderr",
       "text": [
        "  1.35s DETAIL: load main: X. [e]  -> \n"
       ]
      },
      {
       "output_type": "stream",
       "stream": "stderr",
       "text": [
        "  3.51s DETAIL: load main: G.node_anchor_min\n"
       ]
      },
      {
       "output_type": "stream",
       "stream": "stderr",
       "text": [
        "  3.57s DETAIL: load main: G.node_anchor_max\n"
       ]
      },
      {
       "output_type": "stream",
       "stream": "stderr",
       "text": [
        "  3.62s DETAIL: load main: G.node_sort\n"
       ]
      },
      {
       "output_type": "stream",
       "stream": "stderr",
       "text": [
        "  3.67s DETAIL: load main: G.node_sort_inv\n"
       ]
      },
      {
       "output_type": "stream",
       "stream": "stderr",
       "text": [
        "  4.21s DETAIL: load main: G.edges_from\n"
       ]
      },
      {
       "output_type": "stream",
       "stream": "stderr",
       "text": [
        "  4.28s DETAIL: load main: G.edges_to\n"
       ]
      },
      {
       "output_type": "stream",
       "stream": "stderr",
       "text": [
        "  4.35s LOGFILE=/Users/dirk/laf-fabric-data/etcbc4/bin/A/testparticipants/__log__compile__.txt\n"
       ]
      },
      {
       "output_type": "stream",
       "stream": "stderr",
       "text": [
        "  4.35s PARSING ANNOTATION FILES\n"
       ]
      },
      {
       "output_type": "stream",
       "stream": "stderr",
       "text": [
        "  4.36s INFO: parsing annot_dirk_intro_role.xml\n"
       ]
      },
      {
       "output_type": "stream",
       "stream": "stderr",
       "text": [
        "  4.36s INFO: END PARSING\n",
        "         0 good   regions  and     0 faulty ones\n",
        "         0 linked nodes    and     0 unlinked ones\n",
        "         0 good   edges    and     0 faulty ones\n",
        "         3 good   annots   and     0 faulty ones\n",
        "         4 good   features and     0 faulty ones\n",
        "         3 distinct xml identifiers\n",
        "\n"
       ]
      },
      {
       "output_type": "stream",
       "stream": "stderr",
       "text": [
        "  4.36s MODELING RESULT FILES\n"
       ]
      },
      {
       "output_type": "stream",
       "stream": "stderr",
       "text": [
        "  4.36s INFO: CONNECTIVITY\n"
       ]
      },
      {
       "output_type": "stream",
       "stream": "stderr",
       "text": [
        "  4.55s WRITING RESULT FILES for a\n"
       ]
      },
      {
       "output_type": "stream",
       "stream": "stderr",
       "text": [
        "  4.56s DETAIL: write annox: F.dirk_part_intro [node] \n"
       ]
      },
      {
       "output_type": "stream",
       "stream": "stderr",
       "text": [
        "  4.56s DETAIL: write annox: F.dirk_part_role [node] \n"
       ]
      },
      {
       "output_type": "stream",
       "stream": "stderr",
       "text": [
        "  4.56s END   COMPILE a: testparticipants\n"
       ]
      },
      {
       "output_type": "stream",
       "stream": "stderr",
       "text": [
        "  4.66s INFO: USING DATA COMPILED AT: 2014-07-15T13-59-19\n"
       ]
      },
      {
       "output_type": "stream",
       "stream": "stderr",
       "text": [
        "  4.66s DETAIL: keep main: P.node_anchor\n"
       ]
      },
      {
       "output_type": "stream",
       "stream": "stderr",
       "text": [
        "  4.66s DETAIL: keep main: P.node_anchor_items\n"
       ]
      },
      {
       "output_type": "stream",
       "stream": "stderr",
       "text": [
        "  4.66s DETAIL: keep main: G.node_anchor_min\n"
       ]
      },
      {
       "output_type": "stream",
       "stream": "stderr",
       "text": [
        "  4.66s DETAIL: keep main: G.node_anchor_max\n"
       ]
      },
      {
       "output_type": "stream",
       "stream": "stderr",
       "text": [
        "  4.67s DETAIL: keep main: P.node_events\n"
       ]
      },
      {
       "output_type": "stream",
       "stream": "stderr",
       "text": [
        "  4.67s DETAIL: keep main: P.node_events_items\n"
       ]
      },
      {
       "output_type": "stream",
       "stream": "stderr",
       "text": [
        "  4.67s DETAIL: keep main: P.node_events_k\n"
       ]
      },
      {
       "output_type": "stream",
       "stream": "stderr",
       "text": [
        "  4.67s DETAIL: keep main: P.node_events_n\n"
       ]
      },
      {
       "output_type": "stream",
       "stream": "stderr",
       "text": [
        "  4.67s DETAIL: keep main: G.node_sort\n"
       ]
      },
      {
       "output_type": "stream",
       "stream": "stderr",
       "text": [
        "  4.67s DETAIL: keep main: G.node_sort_inv\n"
       ]
      },
      {
       "output_type": "stream",
       "stream": "stderr",
       "text": [
        "  4.67s DETAIL: keep main: G.edges_from\n"
       ]
      },
      {
       "output_type": "stream",
       "stream": "stderr",
       "text": [
        "  4.67s DETAIL: keep main: G.edges_to\n"
       ]
      },
      {
       "output_type": "stream",
       "stream": "stderr",
       "text": [
        "  4.67s DETAIL: keep main: P.primary_data\n"
       ]
      },
      {
       "output_type": "stream",
       "stream": "stderr",
       "text": [
        "  4.67s DETAIL: keep main: X. [node]  -> \n"
       ]
      },
      {
       "output_type": "stream",
       "stream": "stderr",
       "text": [
        "  4.67s DETAIL: keep main: X. [node]  <- \n"
       ]
      },
      {
       "output_type": "stream",
       "stream": "stderr",
       "text": [
        "  4.67s DETAIL: keep main: F.etcbc4_db_otype [node] \n"
       ]
      },
      {
       "output_type": "stream",
       "stream": "stderr",
       "text": [
        "  4.67s DETAIL: clear main: F.etcbc4_db_monads [node] \n"
       ]
      },
      {
       "output_type": "stream",
       "stream": "stderr",
       "text": [
        "  4.67s DETAIL: clear main: F.etcbc4_db_oid [node] \n"
       ]
      },
      {
       "output_type": "stream",
       "stream": "stderr",
       "text": [
        "  4.67s DETAIL: clear main: F.etcbc4_ft_sp [node] \n"
       ]
      },
      {
       "output_type": "stream",
       "stream": "stderr",
       "text": [
        "  4.67s DETAIL: clear main: F.etcbc4_ft_typ [node] \n"
       ]
      },
      {
       "output_type": "stream",
       "stream": "stderr",
       "text": [
        "  4.67s DETAIL: clear main: F.etcbc4_sft_book [node] \n"
       ]
      },
      {
       "output_type": "stream",
       "stream": "stderr",
       "text": [
        "  4.67s DETAIL: clear main: F.etcbc4_sft_chapter [node] \n"
       ]
      },
      {
       "output_type": "stream",
       "stream": "stderr",
       "text": [
        "  4.67s DETAIL: clear main: F.etcbc4_sft_verse [node] \n"
       ]
      },
      {
       "output_type": "stream",
       "stream": "stderr",
       "text": [
        "  4.67s DETAIL: load main: F.dirk_part_intro [node] \n"
       ]
      },
      {
       "output_type": "stream",
       "stream": "stderr",
       "text": [
        "  4.68s DETAIL: load main: F.dirk_part_role [node] \n"
       ]
      },
      {
       "output_type": "stream",
       "stream": "stderr",
       "text": [
        "  4.68s DETAIL: load main: F.etcbc4_sft_label [node] \n"
       ]
      },
      {
       "output_type": "stream",
       "stream": "stderr",
       "text": [
        "  4.69s DETAIL: load annox: F.dirk_part_intro [node] \n"
       ]
      },
      {
       "output_type": "stream",
       "stream": "stderr",
       "text": [
        "  4.70s DETAIL: load annox: F.dirk_part_role [node] \n"
       ]
      },
      {
       "output_type": "stream",
       "stream": "stderr",
       "text": [
        "  4.70s DETAIL: load annox: F.etcbc4_db_otype [node] \n"
       ]
      },
      {
       "output_type": "stream",
       "stream": "stderr",
       "text": [
        "  4.70s DETAIL: load annox: F.etcbc4_sft_label [node] \n"
       ]
      },
      {
       "output_type": "stream",
       "stream": "stderr",
       "text": [
        "  4.70s INFO: DATA LOADED FROM SOURCE etcbc4 AND ANNOX testparticipants FOR TASK annox_workflow AT 2014-07-15T13-59-19\n"
       ]
      }
     ],
     "prompt_number": 13
    },
    {
     "cell_type": "markdown",
     "metadata": {},
     "source": [
      "So let us check which objects have got annotations.\n",
      "\n",
      "For every object we show its type, its XML id in the LAF source, its primary data and the two new feature values, if applicable."
     ]
    },
    {
     "cell_type": "code",
     "collapsed": false,
     "input": [
      "msg(\"Looking for fresh annotations ...\")\n",
      "cur_verse = None\n",
      "\n",
      "for node in NN():\n",
      "    otype = F.otype.v(node)\n",
      "    if otype == 'verse':\n",
      "        cur_verse = node\n",
      "        continue\n",
      "    intro = F.dirk_part_intro.v(node)\n",
      "    role = F.dirk_part_role.v(node)\n",
      "    if intro != None or role != None:\n",
      "        verse = F.label.v(cur_verse)\n",
      "        text = \" \".join([txt for (n, txt) in P.data(node)])\n",
      "        xmlid = X.r(node)\n",
      "        print(\"{:<12} {:<6} id={:<8} {:<17}{:<16} {:<20}\".format(\n",
      "            verse,\n",
      "            otype, \n",
      "            xmlid, \n",
      "            \"intro={:<10} \".format(intro) if intro != None else '',\n",
      "            \"role={:<10} \".format(role) if role != None else '',\n",
      "            text,\n",
      "        ))\n",
      "msg(\"Done\")"
     ],
     "language": "python",
     "metadata": {},
     "outputs": [
      {
       "output_type": "stream",
       "stream": "stderr",
       "text": [
        "    10s Looking for fresh annotations ...\n"
       ]
      },
      {
       "output_type": "stream",
       "stream": "stderr",
       "text": [
        "    15s Done\n"
       ]
      },
      {
       "output_type": "stream",
       "stream": "stdout",
       "text": [
        " GEN 01,01   word   id=n20      intro=aap                         \u05d0\u05b5\u05a5\u05ea                \n",
        " GEN 01,01   word   id=n27                       role=noot        \u05d0\u05b5\u05a5\u05ea                \n",
        " GEN 01,02   word   id=n47      intro=mies       role=karel       \u05ea\u05b9\u05a8\u05d4\u05d5\u05bc\u0599             \n"
       ]
      }
     ],
     "prompt_number": 14
    },
    {
     "cell_type": "code",
     "collapsed": false,
     "input": [],
     "language": "python",
     "metadata": {},
     "outputs": []
    }
   ],
   "metadata": {}
  }
 ]
}