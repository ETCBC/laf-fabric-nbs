{
 "metadata": {
  "name": "",
  "signature": "sha256:d5f7eda8c42c6eb2324d891b963cab43ec88fac4269f1354fb68a2d82c33de6d"
 },
 "nbformat": 3,
 "nbformat_minor": 0,
 "worksheets": [
  {
   "cells": [
    {
     "cell_type": "markdown",
     "metadata": {},
     "source": [
      "<a href=\"http://laf-fabric.readthedocs.org/en/latest/\" target=\"_blank\"><img align=\"left\" src=\"images/laf-fabric-xsmall.png\"/></a>\n",
      "<a href=\"http://www.godgeleerdheid.vu.nl/etcbc\" target=\"_blank\"><img align=\"left\" src=\"images/VU-ETCBC-xsmall.png\"/></a>\n",
      "<a href=\"http://www.persistent-identifier.nl/?identifier=urn%3Anbn%3Anl%3Aui%3A13-048i-71\" target=\"_blank\"><img align=\"left\"src=\"images/etcbc4easy-small.png\"/></a>\n",
      "<a href=\"http://tla.mpi.nl\" target=\"_blank\"><img align=\"right\" src=\"images/TLA-xsmall.png\"/></a>\n",
      "<a href=\"http://www.dans.knaw.nl\" target=\"_blank\"><img align=\"right\"src=\"images/DANS-xsmall.png\"/></a>"
     ]
    },
    {
     "cell_type": "code",
     "collapsed": false,
     "input": [
      "import sys\n",
      "import collections\n",
      "import random\n",
      "%load_ext autoreload\n",
      "%autoreload 2\n",
      "import laf\n",
      "from laf.fabric import LafFabric\n",
      "from etcbc.preprocess import prepare\n",
      "from etcbc.lib import Transcription, monad_set\n",
      "from etcbc.trees import Tree\n",
      "fabric = LafFabric()\n",
      "tr = Transcription()"
     ],
     "language": "python",
     "metadata": {},
     "outputs": [
      {
       "output_type": "stream",
       "stream": "stderr",
       "text": [
        "  0.00s This is LAF-Fabric 4.3.3\n",
        "http://laf-fabric.readthedocs.org/en/latest/texts/API-reference.html\n"
       ]
      }
     ],
     "prompt_number": 1
    },
    {
     "cell_type": "code",
     "collapsed": false,
     "input": [
      "API = fabric.load('etcbc4', '--', 'trees', {\n",
      "    \"xmlids\": {\"node\": False, \"edge\": False},\n",
      "    \"features\": ('''\n",
      "        oid otype monads\n",
      "        g_cons_utf8\n",
      "        sp\n",
      "        rela typ\n",
      "        label\n",
      "    ''','''\n",
      "        mother\n",
      "    '''),\n",
      "    \"prepare\": prepare,\n",
      "}, verbose='DETAIL')\n",
      "exec(fabric.localnames.format(var='fabric'))"
     ],
     "language": "python",
     "metadata": {},
     "outputs": [
      {
       "output_type": "stream",
       "stream": "stderr",
       "text": [
        "  0.00s LOADING API: please wait ... \n"
       ]
      },
      {
       "output_type": "stream",
       "stream": "stderr",
       "text": [
        "  0.00s DETAIL: COMPILING m: UP TO DATE\n"
       ]
      },
      {
       "output_type": "stream",
       "stream": "stderr",
       "text": [
        "  0.00s INFO: USING DATA COMPILED AT: 2014-07-14T16-45-08\n"
       ]
      },
      {
       "output_type": "stream",
       "stream": "stderr",
       "text": [
        "  0.00s DETAIL: COMPILING a: UP TO DATE\n"
       ]
      },
      {
       "output_type": "stream",
       "stream": "stderr",
       "text": [
        "  0.01s DETAIL: load main: G.node_anchor_min\n"
       ]
      },
      {
       "output_type": "stream",
       "stream": "stderr",
       "text": [
        "  0.08s DETAIL: load main: G.node_anchor_max\n"
       ]
      },
      {
       "output_type": "stream",
       "stream": "stderr",
       "text": [
        "  0.15s DETAIL: load main: G.node_sort\n"
       ]
      },
      {
       "output_type": "stream",
       "stream": "stderr",
       "text": [
        "  0.20s DETAIL: load main: G.node_sort_inv\n"
       ]
      },
      {
       "output_type": "stream",
       "stream": "stderr",
       "text": [
        "  0.61s DETAIL: load main: G.edges_from\n"
       ]
      },
      {
       "output_type": "stream",
       "stream": "stderr",
       "text": [
        "  0.68s DETAIL: load main: G.edges_to\n"
       ]
      },
      {
       "output_type": "stream",
       "stream": "stderr",
       "text": [
        "  0.75s DETAIL: load main: F.etcbc4_db_monads [node] \n"
       ]
      },
      {
       "output_type": "stream",
       "stream": "stderr",
       "text": [
        "  1.49s DETAIL: load main: F.etcbc4_db_oid [node] \n"
       ]
      },
      {
       "output_type": "stream",
       "stream": "stderr",
       "text": [
        "  2.41s DETAIL: load main: F.etcbc4_db_otype [node] \n"
       ]
      },
      {
       "output_type": "stream",
       "stream": "stderr",
       "text": [
        "  3.27s DETAIL: load main: F.etcbc4_ft_g_cons_utf8 [node] \n"
       ]
      },
      {
       "output_type": "stream",
       "stream": "stderr",
       "text": [
        "  3.64s DETAIL: load main: F.etcbc4_ft_rela [node] \n"
       ]
      },
      {
       "output_type": "stream",
       "stream": "stderr",
       "text": [
        "  4.18s DETAIL: load main: F.etcbc4_ft_sp [node] \n"
       ]
      },
      {
       "output_type": "stream",
       "stream": "stderr",
       "text": [
        "  4.40s DETAIL: load main: F.etcbc4_ft_typ [node] \n"
       ]
      },
      {
       "output_type": "stream",
       "stream": "stderr",
       "text": [
        "  4.78s DETAIL: load main: F.etcbc4_sft_label [node] \n"
       ]
      },
      {
       "output_type": "stream",
       "stream": "stderr",
       "text": [
        "  4.80s DETAIL: load main: F.etcbc4_ft_mother [e] \n"
       ]
      },
      {
       "output_type": "stream",
       "stream": "stderr",
       "text": [
        "  4.86s DETAIL: load main: C.etcbc4_ft_mother -> \n"
       ]
      },
      {
       "output_type": "stream",
       "stream": "stderr",
       "text": [
        "  5.06s DETAIL: load main: C.etcbc4_ft_mother <- \n"
       ]
      },
      {
       "output_type": "stream",
       "stream": "stderr",
       "text": [
        "  5.20s LOGFILE=/Users/dirk/laf-fabric-output/etcbc4/trees/__log__trees.txt\n"
       ]
      },
      {
       "output_type": "stream",
       "stream": "stderr",
       "text": [
        "  5.20s DETAIL: prep prep: G.node_sort\n"
       ]
      },
      {
       "output_type": "stream",
       "stream": "stderr",
       "text": [
        "  5.27s DETAIL: prep prep: G.node_sort_inv\n"
       ]
      },
      {
       "output_type": "stream",
       "stream": "stderr",
       "text": [
        "  5.89s INFO: DATA LOADED FROM SOURCE etcbc4 AND ANNOX -- FOR TASK trees AT 2014-07-15T15-31-03\n"
       ]
      }
     ],
     "prompt_number": 4
    },
    {
     "cell_type": "code",
     "collapsed": false,
     "input": [
      "!tgrep2 -C -p {my_file('trees.txt')} {my_file('trees.t2c')}"
     ],
     "language": "python",
     "metadata": {},
     "outputs": [],
     "prompt_number": 5
    },
    {
     "cell_type": "code",
     "collapsed": false,
     "input": [
      "def tg(corp=None, opts=None, pat=None, res=None):\n",
      "    def_corp = my_file('trees.t2c')\n",
      "    def_opts = ''\n",
      "    def_pat = 'Cresu < (CP < cj) < (PPrP < (U < av))' # only one result\n",
      "    def_res = my_file('tgrep_result.txt')\n",
      "    if corp == None: corp = def_corp\n",
      "    if opts == None: opts = def_opts\n",
      "    if pat == None: pat = def_pat\n",
      "    if res == None: res = ''\n",
      "    elif res == '>': res = ' > ' + def_res\n",
      "    else: res = ' > ' + my_file(res)\n",
      "    cmd = \"tgrep2 -c {} {} '{}' {}\".format(corp, opts, pat, res)\n",
      "#    print(\"cmd =  {}\".format(cmd))\n",
      "    return cmd"
     ],
     "language": "python",
     "metadata": {},
     "outputs": [],
     "prompt_number": 37
    },
    {
     "cell_type": "code",
     "collapsed": false,
     "input": [
      "!{tg()}"
     ],
     "language": "python",
     "metadata": {},
     "outputs": [
      {
       "output_type": "stream",
       "stream": "stdout",
       "text": [
        "(Cresu (CP (cj \"\u05d5\")) (VP (vb \"\u05ea\u05dc\u05d3\")) (PPrP (U (av \"\u05d2\u05dd\")) (U (pr-ps \"\u05d4\u05d5\u05d0\"))) (PP (U (U (U (pp \"\u05d0\u05ea\") (n-pr \"\u05d8\u05d1\u05d7\")) (cj \"\u05d5\") (U (pp \"\u05d0\u05ea\") (n-pr \"\u05d2\u05d7\u05dd\"))) (cj \"\u05d5\") (U (pp \"\u05d0\u05ea\") (n-pr \"\u05ea\u05d7\u05e9\u05c1\"))) (cj \"\u05d5\") (U (pp \"\u05d0\u05ea\") (n-pr \"\u05de\u05e2\u05db\u05d4\"))))\r\n"
       ]
      }
     ],
     "prompt_number": 38
    },
    {
     "cell_type": "code",
     "collapsed": false,
     "input": [
      "!{tg(opts='-l')}"
     ],
     "language": "python",
     "metadata": {},
     "outputs": [
      {
       "output_type": "stream",
       "stream": "stdout",
       "text": [
        "(Cresu (CP (cj \"\u05d5\"))\r\n",
        "       (VP (vb \"\u05ea\u05dc\u05d3\"))\r\n",
        "       (PPrP (U (av \"\u05d2\u05dd\"))\r\n",
        "             (U (pr-ps \"\u05d4\u05d5\u05d0\")))\r\n",
        "       (PP (U (U (U (pp \"\u05d0\u05ea\")\r\n",
        "                    (n-pr \"\u05d8\u05d1\u05d7\"))\r\n",
        "                 (cj \"\u05d5\")\r\n",
        "                 (U (pp \"\u05d0\u05ea\")\r\n",
        "                    (n-pr \"\u05d2\u05d7\u05dd\")))\r\n",
        "              (cj \"\u05d5\")\r\n",
        "              (U (pp \"\u05d0\u05ea\")\r\n",
        "                 (n-pr \"\u05ea\u05d7\u05e9\u05c1\")))\r\n",
        "           (cj \"\u05d5\")\r\n",
        "           (U (pp \"\u05d0\u05ea\")\r\n",
        "              (n-pr \"\u05de\u05e2\u05db\u05d4\"))))\r\n"
       ]
      }
     ],
     "prompt_number": 39
    },
    {
     "cell_type": "code",
     "collapsed": false,
     "input": [
      "!{tg(opts='-t')}"
     ],
     "language": "python",
     "metadata": {},
     "outputs": [
      {
       "output_type": "stream",
       "stream": "stdout",
       "text": [
        "\"\u05d5\" \"\u05ea\u05dc\u05d3\" \"\u05d2\u05dd\" \"\u05d4\u05d5\u05d0\" \"\u05d0\u05ea\" \"\u05d8\u05d1\u05d7\" \"\u05d5\" \"\u05d0\u05ea\" \"\u05d2\u05d7\u05dd\" \"\u05d5\" \"\u05d0\u05ea\" \"\u05ea\u05d7\u05e9\u05c1\" \"\u05d5\" \"\u05d0\u05ea\" \"\u05de\u05e2\u05db\u05d4\"\r\n"
       ]
      }
     ],
     "prompt_number": 40
    },
    {
     "cell_type": "code",
     "collapsed": false,
     "input": [
      "!{tg(opts='-u')}"
     ],
     "language": "python",
     "metadata": {},
     "outputs": [
      {
       "output_type": "stream",
       "stream": "stdout",
       "text": [
        "Cresu\r\n"
       ]
      }
     ],
     "prompt_number": 41
    },
    {
     "cell_type": "code",
     "collapsed": false,
     "input": [
      "!{tg(opts='-x')}"
     ],
     "language": "python",
     "metadata": {},
     "outputs": [
      {
       "output_type": "stream",
       "stream": "stdout",
       "text": [
        "1553:19\r\n"
       ]
      }
     ],
     "prompt_number": 42
    },
    {
     "cell_type": "code",
     "collapsed": false,
     "input": [
      "!{tg(opts='-w')}"
     ],
     "language": "python",
     "metadata": {},
     "outputs": [
      {
       "output_type": "stream",
       "stream": "stdout",
       "text": [
        "(S (C (CP (cj \"\u05d5\")) (NP (n \"\u05e4\u05d9\u05dc\u05d2\u05e9\u05c1\u05d5\"))) (Cresu (CP (cj \"\u05d5\")) (NP (n \"\u05e9\u05c1\u05de\u05d4\")) (PrNP (n-pr \"\u05e8\u05d0\u05d5\u05de\u05d4\"))) (Cresu (CP (cj \"\u05d5\")) (VP (vb \"\u05ea\u05dc\u05d3\")) (PPrP (U (av \"\u05d2\u05dd\")) (U (pr-ps \"\u05d4\u05d5\u05d0\"))) (PP (U (U (U (pp \"\u05d0\u05ea\") (n-pr \"\u05d8\u05d1\u05d7\")) (cj \"\u05d5\") (U (pp \"\u05d0\u05ea\") (n-pr \"\u05d2\u05d7\u05dd\"))) (cj \"\u05d5\") (U (pp \"\u05d0\u05ea\") (n-pr \"\u05ea\u05d7\u05e9\u05c1\"))) (cj \"\u05d5\") (U (pp \"\u05d0\u05ea\") (n-pr \"\u05de\u05e2\u05db\u05d4\")))))\r\n"
       ]
      }
     ],
     "prompt_number": 43
    },
    {
     "cell_type": "code",
     "collapsed": false,
     "input": [
      "!{tg(opts=\"-b '%5s %c\\n'\", res='>')}"
     ],
     "language": "python",
     "metadata": {},
     "outputs": [],
     "prompt_number": 44
    },
    {
     "cell_type": "code",
     "collapsed": false,
     "input": [
      "!{tg(opts=\"-s '%5s %c\\ndepth=%dw\\n'\")}"
     ],
     "language": "python",
     "metadata": {},
     "outputs": [
      {
       "output_type": "stream",
       "stream": "stdout",
       "text": [
        " 1553 # GEN 22,24\tnode=1128858\toid=35394\tbmonad=10715\t0 1 2 3 4 5 6 7 8 9 10 11 12 13 14 15 16 17 18 19\r\n",
        "depth=8\r\n",
        "(Cresu (CP (cj \"\u05d5\")) (VP (vb \"\u05ea\u05dc\u05d3\")) (PPrP (U (av \"\u05d2\u05dd\")) (U (pr-ps \"\u05d4\u05d5\u05d0\"))) (PP (U (U (U (pp \"\u05d0\u05ea\") (n-pr \"\u05d8\u05d1\u05d7\")) (cj \"\u05d5\") (U (pp \"\u05d0\u05ea\") (n-pr \"\u05d2\u05d7\u05dd\"))) (cj \"\u05d5\") (U (pp \"\u05d0\u05ea\") (n-pr \"\u05ea\u05d7\u05e9\u05c1\"))) (cj \"\u05d5\") (U (pp \"\u05d0\u05ea\") (n-pr \"\u05de\u05e2\u05db\u05d4\"))))\r\n"
       ]
      }
     ],
     "prompt_number": 45
    },
    {
     "cell_type": "code",
     "collapsed": false,
     "input": [
      "!{tg(opts=\"-b '%5s D=%dw\\n'\", res='depths.txt')}"
     ],
     "language": "python",
     "metadata": {},
     "outputs": [],
     "prompt_number": 46
    },
    {
     "cell_type": "code",
     "collapsed": false,
     "input": [
      "!{tg(opts=\"-C\", pat='Cadju < Ccoor', res='coor.txt')}"
     ],
     "language": "python",
     "metadata": {},
     "outputs": [],
     "prompt_number": 47
    },
    {
     "cell_type": "code",
     "collapsed": false,
     "input": [],
     "language": "python",
     "metadata": {},
     "outputs": []
    }
   ],
   "metadata": {}
  }
 ]
}